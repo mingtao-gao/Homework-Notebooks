{
 "cells": [
  {
   "cell_type": "markdown",
   "metadata": {},
   "source": [
    "# Week 2 - Counting Words & Phrases\n",
    "\n",
    "This week, we take text corpora that we have developed, spidered, scraped, and encoded, and we find and count words, simple and parsed phrases and explore the statistical properties of those counts (e.g., word frequency distributions). Initially, we model how to search corpora for keywords or phrases. Next, we examine the distributions of terms and phrases across a corpus, and the correlation between different words and phrase counts. In order to do this effectively, we coarsely disambiguate words based of part-of-speech (POS) tagging, and normalize them through stemming and lemmatization. Next we distinguish *important* words and phrase within the corpus, and image them with Wordls! Then we calculate word frequenceis, conditional frequences (the frequency of word *shock* conditional on the presence of word *awe*), and statistically significant collocations of lengths 2 through $n$. Finally, we calculate and visualize Differences (Divergences and Distances) between the word frequency distributions from two corpora. \n",
    "\n",
    "Then we shift to focus not simply on the *ideas* in a corpus, but also extracting precise *claims*. This process involves a sequential pipeline of classifying and structuring tokens from text, each of which generates potentially useful data for the content analyst. Steps in this process, which we examine in this notebook, include: 1) tagging words by their part of speech (POS) to reveal the linguistic role they play in the sentence (e.g., Verb, Noun, Adjective, etc.); 2) tagging words as named entities (NER) such as places or organizations; 3) structuring or \"parsing\" sentences into nested phrases that are local to, describe or depend on one another; and 4) extracting informational claims from those phrases.\n",
    "\n",
    "We will be introducing spaCy as a package for Computational Linguistics, and also walk you through how to use the Davies Corpora. \n",
    "\n",
    "While we wish to avoid using NLTK for heavy corpus analysis, some of its smaller functions can still be useful.\n",
    "\n",
    "Of course, for final projects that draw on these tools, we encourage you to install the software on your own machines or shared servers at the university (RCC, SSRC) in order to perform these operations on much more text. \n",
    "\n",
    "For this notebook we will be using the following packages:\n"
   ]
  },
  {
   "cell_type": "code",
   "execution_count": 1,
   "metadata": {
    "collapsed": true
   },
   "outputs": [],
   "source": [
    "#Special module written for this class\n",
    "#This provides access to data and to helper functions from previous weeks\n",
    "import lucem_illud #just in case, regularly update your lucem_illud with the following code: pip install git+git://github.com/UChicago-Computational-Content-Analysis/lucem_illud.git\n",
    "\n",
    "#All these packages need to be installed from pip\n",
    "import requests #for http requests\n",
    "import pandas #gives us DataFrames\n",
    "import matplotlib.pyplot as plt #For graphics\n",
    "import wordcloud #Makes word clouds\n",
    "import numpy as np #For divergences/distances\n",
    "import scipy #For divergences/distances\n",
    "import seaborn as sns #makes our plots look nicer\n",
    "import sklearn.manifold #For a manifold plot\n",
    "import json #For API responses\n",
    "import urllib.parse #For joining urls\n",
    "\n",
    "# comp-linguistics\n",
    "import spacy\n",
    "\n",
    "#Displays the graphs\n",
    "import graphviz #You also need to install the command line graphviz\n",
    "\n",
    "#These are from the standard library\n",
    "import os.path\n",
    "import zipfile\n",
    "import subprocess\n",
    "import io\n",
    "import tempfile\n",
    "\n",
    "#This 'magic' command makes the plots work better\n",
    "#in the notebook, don't use it outside of a notebook\n",
    "%matplotlib inline"
   ]
  },
  {
   "cell_type": "markdown",
   "metadata": {},
   "source": [
    "## <span style=\"color:red\">*Exercise 1*</span>\n",
    "\n",
    "<span style=\"color:red\">Construct cells immediately below this that input and interrogate a corpus relating to your anticipated final project. This could include one of the Davies corpora or some other you have constructed. Turn your text into an nltk `Text` object, and explore all of the features examined above, and others that relate to better understanding your corpus in relation to your research question. </span>"
   ]
  },
  {
   "cell_type": "markdown",
   "metadata": {},
   "source": [
    "The corpus I used for this assignment is the reddit dataset in our course data folder. Because my final project also involves in analyzing reddit data, I chose this dataset for this assignment. This csv dataset includes all posts extracted from the subreddit page, talesfromtechsupport community. "
   ]
  },
  {
   "cell_type": "code",
   "execution_count": 2,
   "metadata": {},
   "outputs": [
    {
     "data": {
      "text/html": [
       "<div>\n",
       "<style scoped>\n",
       "    .dataframe tbody tr th:only-of-type {\n",
       "        vertical-align: middle;\n",
       "    }\n",
       "\n",
       "    .dataframe tbody tr th {\n",
       "        vertical-align: top;\n",
       "    }\n",
       "\n",
       "    .dataframe thead th {\n",
       "        text-align: right;\n",
       "    }\n",
       "</style>\n",
       "<table border=\"1\" class=\"dataframe\">\n",
       "  <thead>\n",
       "    <tr style=\"text-align: right;\">\n",
       "      <th></th>\n",
       "      <th>Unnamed: 0</th>\n",
       "      <th>author</th>\n",
       "      <th>over_18</th>\n",
       "      <th>score</th>\n",
       "      <th>subreddit</th>\n",
       "      <th>text</th>\n",
       "      <th>title</th>\n",
       "      <th>url</th>\n",
       "    </tr>\n",
       "  </thead>\n",
       "  <tbody>\n",
       "    <tr>\n",
       "      <th>0</th>\n",
       "      <td>0</td>\n",
       "      <td>guitarsdontdance</td>\n",
       "      <td>False</td>\n",
       "      <td>14089</td>\n",
       "      <td>Tales From Tech Support</td>\n",
       "      <td>So my story starts on what was a normal day ta...</td>\n",
       "      <td>\"Don't bother sending a tech, I'll be dead by ...</td>\n",
       "      <td>https://www.reddit.com/r/talesfromtechsupport/...</td>\n",
       "    </tr>\n",
       "    <tr>\n",
       "      <th>1</th>\n",
       "      <td>1</td>\n",
       "      <td>SECGaz</td>\n",
       "      <td>False</td>\n",
       "      <td>13724</td>\n",
       "      <td>Tales From Tech Support</td>\n",
       "      <td>&gt; $Me  - Hello, IT.   &gt; $Usr - Hi, I am still ...</td>\n",
       "      <td>Hi, I am still off sick but I am not.</td>\n",
       "      <td>https://www.reddit.com/r/talesfromtechsupport/...</td>\n",
       "    </tr>\n",
       "    <tr>\n",
       "      <th>2</th>\n",
       "      <td>2</td>\n",
       "      <td>Clickity_clickity</td>\n",
       "      <td>False</td>\n",
       "      <td>13404</td>\n",
       "      <td>Tales From Tech Support</td>\n",
       "      <td>[Part 1](http://www.reddit.com/r/talesfromtech...</td>\n",
       "      <td>Jack, the Worst End User, Part 4</td>\n",
       "      <td>https://www.reddit.com/r/talesfromtechsupport/...</td>\n",
       "    </tr>\n",
       "    <tr>\n",
       "      <th>3</th>\n",
       "      <td>3</td>\n",
       "      <td>TheDroolinFool</td>\n",
       "      <td>False</td>\n",
       "      <td>13152</td>\n",
       "      <td>Tales From Tech Support</td>\n",
       "      <td>Another tale from the out of hours IT desk... ...</td>\n",
       "      <td>\"I need you to fix Google Bing immediately!\"</td>\n",
       "      <td>https://www.reddit.com/r/talesfromtechsupport/...</td>\n",
       "    </tr>\n",
       "    <tr>\n",
       "      <th>4</th>\n",
       "      <td>4</td>\n",
       "      <td>goldie-gold</td>\n",
       "      <td>False</td>\n",
       "      <td>12650</td>\n",
       "      <td>Tales From Tech Support</td>\n",
       "      <td>This just happened...  So, I had a laptop syst...</td>\n",
       "      <td>Engineer is doing drugs!! No. No they aren't.</td>\n",
       "      <td>https://www.reddit.com/r/talesfromtechsupport/...</td>\n",
       "    </tr>\n",
       "  </tbody>\n",
       "</table>\n",
       "</div>"
      ],
      "text/plain": [
       "   Unnamed: 0             author  over_18  score                subreddit  \\\n",
       "0           0   guitarsdontdance    False  14089  Tales From Tech Support   \n",
       "1           1             SECGaz    False  13724  Tales From Tech Support   \n",
       "2           2  Clickity_clickity    False  13404  Tales From Tech Support   \n",
       "3           3     TheDroolinFool    False  13152  Tales From Tech Support   \n",
       "4           4        goldie-gold    False  12650  Tales From Tech Support   \n",
       "\n",
       "                                                text  \\\n",
       "0  So my story starts on what was a normal day ta...   \n",
       "1  > $Me  - Hello, IT.   > $Usr - Hi, I am still ...   \n",
       "2  [Part 1](http://www.reddit.com/r/talesfromtech...   \n",
       "3  Another tale from the out of hours IT desk... ...   \n",
       "4  This just happened...  So, I had a laptop syst...   \n",
       "\n",
       "                                               title  \\\n",
       "0  \"Don't bother sending a tech, I'll be dead by ...   \n",
       "1              Hi, I am still off sick but I am not.   \n",
       "2                   Jack, the Worst End User, Part 4   \n",
       "3       \"I need you to fix Google Bing immediately!\"   \n",
       "4      Engineer is doing drugs!! No. No they aren't.   \n",
       "\n",
       "                                                 url  \n",
       "0  https://www.reddit.com/r/talesfromtechsupport/...  \n",
       "1  https://www.reddit.com/r/talesfromtechsupport/...  \n",
       "2  https://www.reddit.com/r/talesfromtechsupport/...  \n",
       "3  https://www.reddit.com/r/talesfromtechsupport/...  \n",
       "4  https://www.reddit.com/r/talesfromtechsupport/...  "
      ]
     },
     "execution_count": 2,
     "metadata": {},
     "output_type": "execute_result"
    }
   ],
   "source": [
    "# Load dataset\n",
    "reddit_df = pandas.read_csv(\"/Users/gaomingtao/Desktop/MACS 60000/Homework-Notebooks/data/reddit.csv\")\n",
    "reddit_df.head()"
   ]
  },
  {
   "cell_type": "markdown",
   "metadata": {},
   "source": [
    "### 1. Words Tokenization"
   ]
  },
  {
   "cell_type": "code",
   "execution_count": 3,
   "metadata": {
    "collapsed": true
   },
   "outputs": [],
   "source": [
    "nlp = spacy.load(\"en\")\n",
    "def word_tokenize(word_list):\n",
    "    tokenized = []\n",
    "    # pass word list through language model.\n",
    "    doc = nlp(word_list)\n",
    "    for token in doc:\n",
    "        if not token.is_punct and len(token.text.strip()) > 0:\n",
    "            tokenized.append(token.text)\n",
    "    return tokenized"
   ]
  },
  {
   "cell_type": "code",
   "execution_count": 4,
   "metadata": {},
   "outputs": [
    {
     "data": {
      "text/plain": [
       "['So',\n",
       " 'my',\n",
       " 'story',\n",
       " 'starts',\n",
       " 'on',\n",
       " 'what',\n",
       " 'was',\n",
       " 'a',\n",
       " 'normal',\n",
       " 'day',\n",
       " 'taking',\n",
       " 'calls',\n",
       " 'on',\n",
       " 'the',\n",
       " 'front',\n",
       " 'line',\n",
       " 'for',\n",
       " 'a',\n",
       " 'large',\n",
       " 'cable']"
      ]
     },
     "execution_count": 4,
     "metadata": {},
     "output_type": "execute_result"
    }
   ],
   "source": [
    "# Tokenize the text\n",
    "tokens = []\n",
    "for i in reddit_df['text']:\n",
    "    token = word_tokenize(str(i))\n",
    "    tokens += token\n",
    "tokens[:20]"
   ]
  },
  {
   "cell_type": "markdown",
   "metadata": {},
   "source": [
    "### 2. Words Count"
   ]
  },
  {
   "cell_type": "code",
   "execution_count": 5,
   "metadata": {
    "collapsed": true
   },
   "outputs": [],
   "source": [
    "import pandas\n",
    "\n",
    "def wordCounter(wordLst):\n",
    "    wordCounts = {}\n",
    "    for word in wordLst:\n",
    "        wLower = word.lower()\n",
    "        if wLower in wordCounts:\n",
    "            wordCounts[wLower] += 1\n",
    "        else:\n",
    "            wordCounts[wLower] = 1\n",
    "    #convert to DataFrame\n",
    "    countsForFrame = {'word' : [], 'count' : []}\n",
    "    for w, c in wordCounts.items():\n",
    "        countsForFrame['word'].append(w)\n",
    "        countsForFrame['count'].append(c)\n",
    "    return pandas.DataFrame(countsForFrame)"
   ]
  },
  {
   "cell_type": "code",
   "execution_count": 6,
   "metadata": {},
   "outputs": [
    {
     "data": {
      "text/html": [
       "<div>\n",
       "<style scoped>\n",
       "    .dataframe tbody tr th:only-of-type {\n",
       "        vertical-align: middle;\n",
       "    }\n",
       "\n",
       "    .dataframe tbody tr th {\n",
       "        vertical-align: top;\n",
       "    }\n",
       "\n",
       "    .dataframe thead th {\n",
       "        text-align: right;\n",
       "    }\n",
       "</style>\n",
       "<table border=\"1\" class=\"dataframe\">\n",
       "  <thead>\n",
       "    <tr style=\"text-align: right;\">\n",
       "      <th></th>\n",
       "      <th>count</th>\n",
       "      <th>word</th>\n",
       "    </tr>\n",
       "  </thead>\n",
       "  <tbody>\n",
       "    <tr>\n",
       "      <th>26</th>\n",
       "      <td>44309</td>\n",
       "      <td>i</td>\n",
       "    </tr>\n",
       "    <tr>\n",
       "      <th>12</th>\n",
       "      <td>37534</td>\n",
       "      <td>the</td>\n",
       "    </tr>\n",
       "    <tr>\n",
       "      <th>22</th>\n",
       "      <td>34941</td>\n",
       "      <td>and</td>\n",
       "    </tr>\n",
       "    <tr>\n",
       "      <th>32</th>\n",
       "      <td>33738</td>\n",
       "      <td>to</td>\n",
       "    </tr>\n",
       "    <tr>\n",
       "      <th>7</th>\n",
       "      <td>24316</td>\n",
       "      <td>a</td>\n",
       "    </tr>\n",
       "    <tr>\n",
       "      <th>68</th>\n",
       "      <td>17192</td>\n",
       "      <td>of</td>\n",
       "    </tr>\n",
       "    <tr>\n",
       "      <th>6</th>\n",
       "      <td>16822</td>\n",
       "      <td>was</td>\n",
       "    </tr>\n",
       "    <tr>\n",
       "      <th>189</th>\n",
       "      <td>15782</td>\n",
       "      <td>it</td>\n",
       "    </tr>\n",
       "    <tr>\n",
       "      <th>135</th>\n",
       "      <td>15472</td>\n",
       "      <td>that</td>\n",
       "    </tr>\n",
       "    <tr>\n",
       "      <th>1</th>\n",
       "      <td>14263</td>\n",
       "      <td>my</td>\n",
       "    </tr>\n",
       "    <tr>\n",
       "      <th>42</th>\n",
       "      <td>13665</td>\n",
       "      <td>in</td>\n",
       "    </tr>\n",
       "    <tr>\n",
       "      <th>597</th>\n",
       "      <td>13159</td>\n",
       "      <td>she</td>\n",
       "    </tr>\n",
       "    <tr>\n",
       "      <th>144</th>\n",
       "      <td>12679</td>\n",
       "      <td>he</td>\n",
       "    </tr>\n",
       "    <tr>\n",
       "      <th>178</th>\n",
       "      <td>12262</td>\n",
       "      <td>me</td>\n",
       "    </tr>\n",
       "    <tr>\n",
       "      <th>328</th>\n",
       "      <td>10838</td>\n",
       "      <td>her</td>\n",
       "    </tr>\n",
       "    <tr>\n",
       "      <th>15</th>\n",
       "      <td>9689</td>\n",
       "      <td>for</td>\n",
       "    </tr>\n",
       "    <tr>\n",
       "      <th>103</th>\n",
       "      <td>9463</td>\n",
       "      <td>n't</td>\n",
       "    </tr>\n",
       "    <tr>\n",
       "      <th>28</th>\n",
       "      <td>8738</td>\n",
       "      <td>with</td>\n",
       "    </tr>\n",
       "    <tr>\n",
       "      <th>223</th>\n",
       "      <td>8723</td>\n",
       "      <td>you</td>\n",
       "    </tr>\n",
       "    <tr>\n",
       "      <th>96</th>\n",
       "      <td>8256</td>\n",
       "      <td>this</td>\n",
       "    </tr>\n",
       "    <tr>\n",
       "      <th>4</th>\n",
       "      <td>8100</td>\n",
       "      <td>on</td>\n",
       "    </tr>\n",
       "  </tbody>\n",
       "</table>\n",
       "</div>"
      ],
      "text/plain": [
       "     count  word\n",
       "26   44309     i\n",
       "12   37534   the\n",
       "22   34941   and\n",
       "32   33738    to\n",
       "7    24316     a\n",
       "68   17192    of\n",
       "6    16822   was\n",
       "189  15782    it\n",
       "135  15472  that\n",
       "1    14263    my\n",
       "42   13665    in\n",
       "597  13159   she\n",
       "144  12679    he\n",
       "178  12262    me\n",
       "328  10838   her\n",
       "15    9689   for\n",
       "103   9463   n't\n",
       "28    8738  with\n",
       "223   8723   you\n",
       "96    8256  this\n",
       "4     8100    on"
      ]
     },
     "execution_count": 6,
     "metadata": {},
     "output_type": "execute_result"
    }
   ],
   "source": [
    "# Count the words in tokens list \n",
    "wordsCount = wordCounter(tokens)\n",
    "\n",
    "# Sort the word by count\n",
    "wordsCount.sort_values('count', ascending=False, inplace=True)\n",
    "\n",
    "# Display the top 20 words with highest count in the data\n",
    "wordsCount[:21]"
   ]
  },
  {
   "cell_type": "markdown",
   "metadata": {},
   "source": [
    "As we can see, many common words (articles 'a' 'the' and prepositions 'of' and 'to') are on the top of this list, but those words are not very helpful for our analysis. So we may remove these 'function words' by removing them as stopwords. We can also set a frequency threshold, or using a weighting scheme (like tf.idf) to decrease their influence in our analysis."
   ]
  },
  {
   "cell_type": "code",
   "execution_count": 7,
   "metadata": {},
   "outputs": [
    {
     "data": {
      "image/png": "[encoded data removed]",
      "text/plain": [
       "<matplotlib.figure.Figure at 0x7f9b60c5da58>"
      ]
     },
     "metadata": {},
     "output_type": "display_data"
    }
   ],
   "source": [
    "# Plot words frequency distribution\n",
    "fig = plt.figure()\n",
    "ax = fig.add_subplot(111)\n",
    "plt.plot(range(len(wordsCount)), wordsCount['count'])\n",
    "plt.suptitle(\"Frequency Distribution of Reddit posts\")\n",
    "plt.xlabel('Rank of Words')\n",
    "plt.ylabel('Likelihood of a word')\n",
    "plt.show()"
   ]
  },
  {
   "cell_type": "code",
   "execution_count": 8,
   "metadata": {},
   "outputs": [
    {
     "data": {
      "image/png": "[encoded data removed]",
      "text/plain": [
       "<matplotlib.figure.Figure at 0x7f9b82e0de80>"
      ]
     },
     "metadata": {},
     "output_type": "display_data"
    }
   ],
   "source": [
    "# Axis scales in log\n",
    "fig = plt.figure()\n",
    "ax = fig.add_subplot(111)\n",
    "plt.plot(range(len(wordsCount)), wordsCount['count'])\n",
    "ax.set_yscale('log')\n",
    "ax.set_xscale('log')\n",
    "plt.suptitle(\"Frequency Distribution of Reddit posts(log)\")\n",
    "plt.xlabel('Rank of Words')\n",
    "plt.ylabel('Likelihood of a word')\n",
    "plt.show()"
   ]
  },
  {
   "cell_type": "markdown",
   "metadata": {},
   "source": [
    "The results shows that the likelihood of a word occurring in a Reddit post is inversely proportional to its rank in frequence table."
   ]
  },
  {
   "cell_type": "markdown",
   "metadata": {},
   "source": [
    "### 3. Words Concordance"
   ]
  },
  {
   "cell_type": "code",
   "execution_count": 9,
   "metadata": {
    "collapsed": true
   },
   "outputs": [],
   "source": [
    "import nltk\n",
    "# Convert t_data into a Text class of nltk\n",
    "text = nltk.Text(tokens)\n",
    "\n",
    "# Load the text into a ConcordanceIndex\n",
    "CIndex = nltk.text.ConcordanceIndex(text) "
   ]
  },
  {
   "cell_type": "code",
   "execution_count": 10,
   "metadata": {},
   "outputs": [
    {
     "name": "stdout",
     "output_type": "stream",
     "text": [
      "Displaying 25 of 112 matches:\n",
      "re you it wo n't be my last Please enjoy today 's pickings I had a person c\n",
      "icer than I was I just told her to enjoy her holiday weekend and hung up I \n",
      "waiting to be assigned I typically enjoy having coffee in hand before I beg\n",
      " miss out on an activity I greatly enjoy and only do once a week and made m\n",
      "cal keyboard so I 'm gon na really enjoy typing this long one out ^^^^^^^^^\n",
      "^^^^^^^^^^^^^^^^^^^^^^^^^ Hope you enjoy ^^^^^^^^^^^^^^^^^^^^^^^^^^^^^ ^^^^\n",
      "are removal and such but seemed to enjoy being in actual computer job Then \n",
      "iday 5 pm Can not ~~play~~ ~~win~~ enjoy any matches due to higher than ave\n",
      " high pings and it is difficult to enjoy my games at those pings It is only\n",
      " IT I know how to use Google and I enjoy PC gaming This is sufficient for m\n",
      "k all day and when there is none I enjoy playing on < Online Game Page > I \n",
      "e than tech support but I hope you enjoy it nevertheless Preface I come fro\n",
      "you will be leaving but I hope you enjoy the new home and the retirement > \n",
      "d up with arduido and laid back to enjoy my weekend Edit My god this one bl\n",
      "help someone out but I also really enjoy writing code As it is a small team\n",
      " I put on IHMR I figured you would enjoy it Never move in with married peop\n",
      " from my university days you might enjoy I was really excited to be moving \n",
      " n't get the money back I hope you enjoy the burning shame of your parents \n",
      " me she was just trying to help me enjoy the movie and would tell me when m\n",
      "tension every day I also genuinely enjoy taking care of other people a litt\n",
      "st left it festering for us all to enjoy as we showered this morning throwa\n",
      "to clean up the mess they left and enjoy having my own space So one of my r\n",
      "e34837ac and figured you all might enjoy this too If you want to know more \n",
      "en subscribed for a while and I do enjoy reading all of these posts and I c\n",
      "oom mate 1 is awkward and I do n't enjoy his company but otherwise is fine \n"
     ]
    }
   ],
   "source": [
    "# The surrounding words of 'enjoy'\n",
    "CIndex.print_concordance('enjoy')"
   ]
  },
  {
   "cell_type": "code",
   "execution_count": 11,
   "metadata": {},
   "outputs": [
    {
     "name": "stdout",
     "output_type": "stream",
     "text": [
      "not_i on_edit rude_and of_to you_me you_i'm there_i i'm_stop\n",
      "being_enough is_hot until_late damn_i this_company this_computer\n",
      "this_file was_i is_oh 's_> this_store do_stuff\n"
     ]
    }
   ],
   "source": [
    "text.common_contexts(['stupid'])"
   ]
  },
  {
   "cell_type": "code",
   "execution_count": 12,
   "metadata": {},
   "outputs": [
    {
     "data": {
      "text/plain": [
       "18"
      ]
     },
     "execution_count": 12,
     "metadata": {},
     "output_type": "execute_result"
    }
   ],
   "source": [
    "text.count('stressful')"
   ]
  },
  {
   "cell_type": "code",
   "execution_count": null,
   "metadata": {},
   "outputs": [
    {
     "data": {
      "image/png": "[encoded data removed]",
      "text/plain": [
       "<matplotlib.figure.Figure at 0x7f9b5771b5c0>"
      ]
     },
     "metadata": {},
     "output_type": "display_data"
    }
   ],
   "source": [
    "# Make a plot to show each time a set of words occurs\n",
    "sns.reset_orig()\n",
    "text.dispersion_plot(['support','enjoy','hate', 'stressful', 'stupid', 'laugh', 'cry'])\n",
    "sns.set()"
   ]
  },
  {
   "cell_type": "markdown",
   "metadata": {},
   "source": [
    "Negative words such as \"hate\" and \"stupid\" occur quite often in the Reddit posts under Talesfromtechsupport."
   ]
  },
  {
   "cell_type": "markdown",
   "metadata": {},
   "source": [
    "## <span style=\"color:red\">*Exercise 2*</span>\n",
    "\n",
    "<span style=\"color:red\">Construct cells immediately below this that filter, stem and lemmatize the tokens in your corpus, and then creates plots (with titles and labels) that map the word frequency distribution, word probability distribution, and at least two conditional probability distributions that help us better understand the social and cultural game underlying the production of your corpus. Create a wordl of words (or normalized words) and add a few vague comments about what mysteries are revealed through it.</span>"
   ]
  },
  {
   "cell_type": "markdown",
   "metadata": {},
   "source": [
    "### 1. Filter and Normalize Text"
   ]
  },
  {
   "cell_type": "code",
   "execution_count": null,
   "metadata": {},
   "outputs": [
    {
     "data": {
      "text/html": [
       "<div>\n",
       "<style scoped>\n",
       "    .dataframe tbody tr th:only-of-type {\n",
       "        vertical-align: middle;\n",
       "    }\n",
       "\n",
       "    .dataframe tbody tr th {\n",
       "        vertical-align: top;\n",
       "    }\n",
       "\n",
       "    .dataframe thead th {\n",
       "        text-align: right;\n",
       "    }\n",
       "</style>\n",
       "<table border=\"1\" class=\"dataframe\">\n",
       "  <thead>\n",
       "    <tr style=\"text-align: right;\">\n",
       "      <th></th>\n",
       "      <th>Unnamed: 0</th>\n",
       "      <th>author</th>\n",
       "      <th>over_18</th>\n",
       "      <th>score</th>\n",
       "      <th>subreddit</th>\n",
       "      <th>text</th>\n",
       "      <th>title</th>\n",
       "      <th>url</th>\n",
       "      <th>tokenized_text</th>\n",
       "      <th>word_counts</th>\n",
       "    </tr>\n",
       "  </thead>\n",
       "  <tbody>\n",
       "    <tr>\n",
       "      <th>0</th>\n",
       "      <td>0</td>\n",
       "      <td>guitarsdontdance</td>\n",
       "      <td>False</td>\n",
       "      <td>14089</td>\n",
       "      <td>Tales From Tech Support</td>\n",
       "      <td>So my story starts on what was a normal day ta...</td>\n",
       "      <td>\"Don't bother sending a tech, I'll be dead by ...</td>\n",
       "      <td>https://www.reddit.com/r/talesfromtechsupport/...</td>\n",
       "      <td>[So, my, story, starts, on, what, was, a, norm...</td>\n",
       "      <td>869</td>\n",
       "    </tr>\n",
       "    <tr>\n",
       "      <th>1</th>\n",
       "      <td>1</td>\n",
       "      <td>SECGaz</td>\n",
       "      <td>False</td>\n",
       "      <td>13724</td>\n",
       "      <td>Tales From Tech Support</td>\n",
       "      <td>&gt; $Me  - Hello, IT.   &gt; $Usr - Hi, I am still ...</td>\n",
       "      <td>Hi, I am still off sick but I am not.</td>\n",
       "      <td>https://www.reddit.com/r/talesfromtechsupport/...</td>\n",
       "      <td>[&gt;, $, Me, Hello, IT, &gt;, $, Usr, Hi, I, am, st...</td>\n",
       "      <td>1054</td>\n",
       "    </tr>\n",
       "    <tr>\n",
       "      <th>2</th>\n",
       "      <td>2</td>\n",
       "      <td>Clickity_clickity</td>\n",
       "      <td>False</td>\n",
       "      <td>13404</td>\n",
       "      <td>Tales From Tech Support</td>\n",
       "      <td>[Part 1](http://www.reddit.com/r/talesfromtech...</td>\n",
       "      <td>Jack, the Worst End User, Part 4</td>\n",
       "      <td>https://www.reddit.com/r/talesfromtechsupport/...</td>\n",
       "      <td>[Part, 1](http://www.reddit.com, r, talesfromt...</td>\n",
       "      <td>1103</td>\n",
       "    </tr>\n",
       "    <tr>\n",
       "      <th>3</th>\n",
       "      <td>3</td>\n",
       "      <td>TheDroolinFool</td>\n",
       "      <td>False</td>\n",
       "      <td>13152</td>\n",
       "      <td>Tales From Tech Support</td>\n",
       "      <td>Another tale from the out of hours IT desk... ...</td>\n",
       "      <td>\"I need you to fix Google Bing immediately!\"</td>\n",
       "      <td>https://www.reddit.com/r/talesfromtechsupport/...</td>\n",
       "      <td>[Another, tale, from, the, out, of, hours, IT,...</td>\n",
       "      <td>253</td>\n",
       "    </tr>\n",
       "    <tr>\n",
       "      <th>4</th>\n",
       "      <td>4</td>\n",
       "      <td>goldie-gold</td>\n",
       "      <td>False</td>\n",
       "      <td>12650</td>\n",
       "      <td>Tales From Tech Support</td>\n",
       "      <td>This just happened...  So, I had a laptop syst...</td>\n",
       "      <td>Engineer is doing drugs!! No. No they aren't.</td>\n",
       "      <td>https://www.reddit.com/r/talesfromtechsupport/...</td>\n",
       "      <td>[This, just, happened, So, I, had, a, laptop, ...</td>\n",
       "      <td>82</td>\n",
       "    </tr>\n",
       "  </tbody>\n",
       "</table>\n",
       "</div>"
      ],
      "text/plain": [
       "   Unnamed: 0             author  over_18  score                subreddit  \\\n",
       "0           0   guitarsdontdance    False  14089  Tales From Tech Support   \n",
       "1           1             SECGaz    False  13724  Tales From Tech Support   \n",
       "2           2  Clickity_clickity    False  13404  Tales From Tech Support   \n",
       "3           3     TheDroolinFool    False  13152  Tales From Tech Support   \n",
       "4           4        goldie-gold    False  12650  Tales From Tech Support   \n",
       "\n",
       "                                                text  \\\n",
       "0  So my story starts on what was a normal day ta...   \n",
       "1  > $Me  - Hello, IT.   > $Usr - Hi, I am still ...   \n",
       "2  [Part 1](http://www.reddit.com/r/talesfromtech...   \n",
       "3  Another tale from the out of hours IT desk... ...   \n",
       "4  This just happened...  So, I had a laptop syst...   \n",
       "\n",
       "                                               title  \\\n",
       "0  \"Don't bother sending a tech, I'll be dead by ...   \n",
       "1              Hi, I am still off sick but I am not.   \n",
       "2                   Jack, the Worst End User, Part 4   \n",
       "3       \"I need you to fix Google Bing immediately!\"   \n",
       "4      Engineer is doing drugs!! No. No they aren't.   \n",
       "\n",
       "                                                 url  \\\n",
       "0  https://www.reddit.com/r/talesfromtechsupport/...   \n",
       "1  https://www.reddit.com/r/talesfromtechsupport/...   \n",
       "2  https://www.reddit.com/r/talesfromtechsupport/...   \n",
       "3  https://www.reddit.com/r/talesfromtechsupport/...   \n",
       "4  https://www.reddit.com/r/talesfromtechsupport/...   \n",
       "\n",
       "                                      tokenized_text  word_counts  \n",
       "0  [So, my, story, starts, on, what, was, a, norm...          869  \n",
       "1  [>, $, Me, Hello, IT, >, $, Usr, Hi, I, am, st...         1054  \n",
       "2  [Part, 1](http://www.reddit.com, r, talesfromt...         1103  \n",
       "3  [Another, tale, from, the, out, of, hours, IT,...          253  \n",
       "4  [This, just, happened, So, I, had, a, laptop, ...           82  "
      ]
     },
     "execution_count": 14,
     "metadata": {},
     "output_type": "execute_result"
    }
   ],
   "source": [
    "reddit_df['text'] = reddit_df['text'].apply(lambda x: str(x))\n",
    "reddit_df['tokenized_text'] = reddit_df['text'].apply(lambda x: word_tokenize(x))\n",
    "reddit_df['word_counts'] = reddit_df['tokenized_text'].apply(lambda x: len(x))\n",
    "reddit_df.head()"
   ]
  },
  {
   "cell_type": "code",
   "execution_count": null,
   "metadata": {},
   "outputs": [
    {
     "data": {
      "text/plain": [
       "[('I', 43336),\n",
       " (\"n't\", 9463),\n",
       " (\"'s\", 7610),\n",
       " ('>', 4447),\n",
       " ('would', 3801),\n",
       " ('like', 3652),\n",
       " ('She', 3591),\n",
       " (\"'m\", 3481),\n",
       " ('He', 3383),\n",
       " ('get', 3097),\n",
       " ('one', 3056),\n",
       " ('time', 2945),\n",
       " ('said', 2514),\n",
       " ('could', 2462),\n",
       " ('The', 2452),\n",
       " ('know', 2435),\n",
       " ('told', 2320),\n",
       " ('back', 2298),\n",
       " ('got', 2214),\n",
       " ('It', 2184),\n",
       " ('really', 2128),\n",
       " ('We', 2017),\n",
       " ('going', 1959),\n",
       " ('So', 1844),\n",
       " ('go', 1843),\n",
       " ('even', 1800),\n",
       " ('day', 1790),\n",
       " ('room', 1788),\n",
       " ('$', 1694),\n",
       " ('people', 1632)]"
      ]
     },
     "execution_count": 15,
     "metadata": {},
     "output_type": "execute_result"
    }
   ],
   "source": [
    "from nltk.corpus import stopwords\n",
    "stopwords = set(stopwords.words('english'))\n",
    "\n",
    "# Find highly frequent words\n",
    "countsDict = {}\n",
    "for word in reddit_df['tokenized_text'].sum():\n",
    "    if word not in stopwords:\n",
    "        if word in countsDict:\n",
    "            countsDict[word] += 1\n",
    "        else:\n",
    "            countsDict[word] = 1\n",
    "word_counts = sorted(countsDict.items(), key = lambda x : x[1], reverse = True)\n",
    "word_counts[:30]"
   ]
  },
  {
   "cell_type": "code",
   "execution_count": null,
   "metadata": {
    "collapsed": true
   },
   "outputs": [],
   "source": [
    "# Pick the cutoff at count 3000\n",
    "stop_words_freq = []\n",
    "for word, count in word_counts:\n",
    "    if word == 'time':\n",
    "        break\n",
    "    else:\n",
    "        stop_words_freq.append(word)"
   ]
  },
  {
   "cell_type": "code",
   "execution_count": null,
   "metadata": {
    "collapsed": true
   },
   "outputs": [],
   "source": [
    "# Construct a function to filter and normalize the tokens\n",
    "def normalizeTokens(word_list, extra_stop=[]):\n",
    "    #We can use a generator here as we just need to iterate over it\n",
    "    normalized = []\n",
    "    if type(word_list) == list and len(word_list) == 1:\n",
    "        word_list = word_list[0]\n",
    "\n",
    "    if type(word_list) == list:\n",
    "        word_list = ' '.join([str(elem) for elem in word_list]) \n",
    "\n",
    "    doc = nlp(word_list.lower())\n",
    "    \n",
    "    # add the property of stop word to words considered as stop words\n",
    "    if len(extra_stop) > 0:\n",
    "        for stopword in extra_stop:\n",
    "            lexeme = nlp.vocab[stopword]\n",
    "            lexeme.is_stop = True\n",
    "\n",
    "    for w in doc:\n",
    "        # if it's not a stop word or punctuation mark, add it to our article\n",
    "        if w.text != '\\n' and not w.is_stop and not w.is_punct and not w.like_num and len(w.text.strip()) > 0:\n",
    "            # we add the lematized version of the word\n",
    "            normalized.append(str(w.lemma_))\n",
    "\n",
    "    return normalized"
   ]
  },
  {
   "cell_type": "code",
   "execution_count": null,
   "metadata": {},
   "outputs": [
    {
     "data": {
      "text/html": [
       "<div>\n",
       "<style scoped>\n",
       "    .dataframe tbody tr th:only-of-type {\n",
       "        vertical-align: middle;\n",
       "    }\n",
       "\n",
       "    .dataframe tbody tr th {\n",
       "        vertical-align: top;\n",
       "    }\n",
       "\n",
       "    .dataframe thead th {\n",
       "        text-align: right;\n",
       "    }\n",
       "</style>\n",
       "<table border=\"1\" class=\"dataframe\">\n",
       "  <thead>\n",
       "    <tr style=\"text-align: right;\">\n",
       "      <th></th>\n",
       "      <th>Unnamed: 0</th>\n",
       "      <th>author</th>\n",
       "      <th>over_18</th>\n",
       "      <th>score</th>\n",
       "      <th>subreddit</th>\n",
       "      <th>text</th>\n",
       "      <th>title</th>\n",
       "      <th>url</th>\n",
       "      <th>tokenized_text</th>\n",
       "      <th>word_counts</th>\n",
       "      <th>normalized_tokens</th>\n",
       "      <th>normalized_tokens_count</th>\n",
       "    </tr>\n",
       "  </thead>\n",
       "  <tbody>\n",
       "    <tr>\n",
       "      <th>0</th>\n",
       "      <td>0</td>\n",
       "      <td>guitarsdontdance</td>\n",
       "      <td>False</td>\n",
       "      <td>14089</td>\n",
       "      <td>Tales From Tech Support</td>\n",
       "      <td>So my story starts on what was a normal day ta...</td>\n",
       "      <td>\"Don't bother sending a tech, I'll be dead by ...</td>\n",
       "      <td>https://www.reddit.com/r/talesfromtechsupport/...</td>\n",
       "      <td>[So, my, story, starts, on, what, was, a, norm...</td>\n",
       "      <td>869</td>\n",
       "      <td>[story, start, normal, day, take, call, line, ...</td>\n",
       "      <td>333</td>\n",
       "    </tr>\n",
       "    <tr>\n",
       "      <th>1</th>\n",
       "      <td>1</td>\n",
       "      <td>SECGaz</td>\n",
       "      <td>False</td>\n",
       "      <td>13724</td>\n",
       "      <td>Tales From Tech Support</td>\n",
       "      <td>&gt; $Me  - Hello, IT.   &gt; $Usr - Hi, I am still ...</td>\n",
       "      <td>Hi, I am still off sick but I am not.</td>\n",
       "      <td>https://www.reddit.com/r/talesfromtechsupport/...</td>\n",
       "      <td>[&gt;, $, Me, Hello, IT, &gt;, $, Usr, Hi, I, am, st...</td>\n",
       "      <td>1054</td>\n",
       "      <td>[$, hello, $, usr, hi, sick, $, oh, mean, hr, ...</td>\n",
       "      <td>401</td>\n",
       "    </tr>\n",
       "    <tr>\n",
       "      <th>2</th>\n",
       "      <td>2</td>\n",
       "      <td>Clickity_clickity</td>\n",
       "      <td>False</td>\n",
       "      <td>13404</td>\n",
       "      <td>Tales From Tech Support</td>\n",
       "      <td>[Part 1](http://www.reddit.com/r/talesfromtech...</td>\n",
       "      <td>Jack, the Worst End User, Part 4</td>\n",
       "      <td>https://www.reddit.com/r/talesfromtechsupport/...</td>\n",
       "      <td>[Part, 1](http://www.reddit.com, r, talesfromt...</td>\n",
       "      <td>1103</td>\n",
       "      <td>[1](http://www.reddit.com, r, talesfromtechsup...</td>\n",
       "      <td>441</td>\n",
       "    </tr>\n",
       "    <tr>\n",
       "      <th>3</th>\n",
       "      <td>3</td>\n",
       "      <td>TheDroolinFool</td>\n",
       "      <td>False</td>\n",
       "      <td>13152</td>\n",
       "      <td>Tales From Tech Support</td>\n",
       "      <td>Another tale from the out of hours IT desk... ...</td>\n",
       "      <td>\"I need you to fix Google Bing immediately!\"</td>\n",
       "      <td>https://www.reddit.com/r/talesfromtechsupport/...</td>\n",
       "      <td>[Another, tale, from, the, out, of, hours, IT,...</td>\n",
       "      <td>253</td>\n",
       "      <td>[tale, hour, desk, service, desk, caller, goog...</td>\n",
       "      <td>117</td>\n",
       "    </tr>\n",
       "    <tr>\n",
       "      <th>4</th>\n",
       "      <td>4</td>\n",
       "      <td>goldie-gold</td>\n",
       "      <td>False</td>\n",
       "      <td>12650</td>\n",
       "      <td>Tales From Tech Support</td>\n",
       "      <td>This just happened...  So, I had a laptop syst...</td>\n",
       "      <td>Engineer is doing drugs!! No. No they aren't.</td>\n",
       "      <td>https://www.reddit.com/r/talesfromtechsupport/...</td>\n",
       "      <td>[This, just, happened, So, I, had, a, laptop, ...</td>\n",
       "      <td>82</td>\n",
       "      <td>[happen, laptop, system, board, fail, warranty...</td>\n",
       "      <td>34</td>\n",
       "    </tr>\n",
       "  </tbody>\n",
       "</table>\n",
       "</div>"
      ],
      "text/plain": [
       "   Unnamed: 0             author  over_18  score                subreddit  \\\n",
       "0           0   guitarsdontdance    False  14089  Tales From Tech Support   \n",
       "1           1             SECGaz    False  13724  Tales From Tech Support   \n",
       "2           2  Clickity_clickity    False  13404  Tales From Tech Support   \n",
       "3           3     TheDroolinFool    False  13152  Tales From Tech Support   \n",
       "4           4        goldie-gold    False  12650  Tales From Tech Support   \n",
       "\n",
       "                                                text  \\\n",
       "0  So my story starts on what was a normal day ta...   \n",
       "1  > $Me  - Hello, IT.   > $Usr - Hi, I am still ...   \n",
       "2  [Part 1](http://www.reddit.com/r/talesfromtech...   \n",
       "3  Another tale from the out of hours IT desk... ...   \n",
       "4  This just happened...  So, I had a laptop syst...   \n",
       "\n",
       "                                               title  \\\n",
       "0  \"Don't bother sending a tech, I'll be dead by ...   \n",
       "1              Hi, I am still off sick but I am not.   \n",
       "2                   Jack, the Worst End User, Part 4   \n",
       "3       \"I need you to fix Google Bing immediately!\"   \n",
       "4      Engineer is doing drugs!! No. No they aren't.   \n",
       "\n",
       "                                                 url  \\\n",
       "0  https://www.reddit.com/r/talesfromtechsupport/...   \n",
       "1  https://www.reddit.com/r/talesfromtechsupport/...   \n",
       "2  https://www.reddit.com/r/talesfromtechsupport/...   \n",
       "3  https://www.reddit.com/r/talesfromtechsupport/...   \n",
       "4  https://www.reddit.com/r/talesfromtechsupport/...   \n",
       "\n",
       "                                      tokenized_text  word_counts  \\\n",
       "0  [So, my, story, starts, on, what, was, a, norm...          869   \n",
       "1  [>, $, Me, Hello, IT, >, $, Usr, Hi, I, am, st...         1054   \n",
       "2  [Part, 1](http://www.reddit.com, r, talesfromt...         1103   \n",
       "3  [Another, tale, from, the, out, of, hours, IT,...          253   \n",
       "4  [This, just, happened, So, I, had, a, laptop, ...           82   \n",
       "\n",
       "                                   normalized_tokens  normalized_tokens_count  \n",
       "0  [story, start, normal, day, take, call, line, ...                      333  \n",
       "1  [$, hello, $, usr, hi, sick, $, oh, mean, hr, ...                      401  \n",
       "2  [1](http://www.reddit.com, r, talesfromtechsup...                      441  \n",
       "3  [tale, hour, desk, service, desk, caller, goog...                      117  \n",
       "4  [happen, laptop, system, board, fail, warranty...                       34  "
      ]
     },
     "execution_count": 18,
     "metadata": {},
     "output_type": "execute_result"
    }
   ],
   "source": [
    "reddit_df['normalized_tokens'] = reddit_df['tokenized_text'].apply(lambda x: normalizeTokens(x, extra_stop=stop_words_freq))\n",
    "reddit_df['normalized_tokens_count'] = reddit_df['normalized_tokens'].apply(lambda x: len(x))\n",
    "reddit_df.head()"
   ]
  },
  {
   "cell_type": "markdown",
   "metadata": {},
   "source": [
    "### 2. Word Distribution"
   ]
  },
  {
   "cell_type": "markdown",
   "metadata": {},
   "source": [
    "#### (1) word frequency distribution (word lengths)"
   ]
  },
  {
   "cell_type": "code",
   "execution_count": null,
   "metadata": {},
   "outputs": [
    {
     "name": "stdout",
     "output_type": "stream",
     "text": [
      "437240\n"
     ]
    }
   ],
   "source": [
    "# .sum() adds together the lists from each row into a single list\n",
    "whcfdist = nltk.ConditionalFreqDist(((len(w), w) for w in reddit_df['normalized_tokens'].sum()))\n",
    "\n",
    "# Print the number of words\n",
    "print(whcfdist.N())"
   ]
  },
  {
   "cell_type": "code",
   "execution_count": null,
   "metadata": {},
   "outputs": [
    {
     "data": {
      "image/png": "[encoded data removed]",
      "text/plain": [
       "<matplotlib.figure.Figure at 0x7f9b42f4abe0>"
      ]
     },
     "metadata": {},
     "output_type": "display_data"
    }
   ],
   "source": [
    "# Look up the distributions of different word lengths\n",
    "# word of length 3\n",
    "whcfdist[3].plot(20)"
   ]
  },
  {
   "cell_type": "markdown",
   "metadata": {},
   "source": [
    "The plot above shows the frequency distribution of words with length 3. We can see the words \"say\", \"get\", \"ask\", and \"try\" are commonly appeared verbs. The result is consist with our expectation because those words are commonly used to teach users how to report and fix a problem."
   ]
  },
  {
   "cell_type": "code",
   "execution_count": null,
   "metadata": {},
   "outputs": [
    {
     "data": {
      "image/png": "[encoded data removed]",
      "text/plain": [
       "<matplotlib.figure.Figure at 0x7f9b45d26128>"
      ]
     },
     "metadata": {},
     "output_type": "display_data"
    }
   ],
   "source": [
    "# word of length 4\n",
    "whcfdist[4].plot(20)"
   ]
  },
  {
   "cell_type": "markdown",
   "metadata": {},
   "source": [
    "From the figure above, the most common 3-character words is 'say', and the most common 4-character word is \"tell\". We may assume the tech supports always try to get the customers articulate their needs."
   ]
  },
  {
   "cell_type": "markdown",
   "metadata": {},
   "source": [
    "#### (2) word frequency distribution (POS)"
   ]
  },
  {
   "cell_type": "code",
   "execution_count": null,
   "metadata": {},
   "outputs": [
    {
     "data": {
      "text/plain": [
       "[('story', FreqDist({'NN': 1125})),\n",
       " ('start',\n",
       "  FreqDist({'JJ': 301,\n",
       "            'NN': 1176,\n",
       "            'NNS': 10,\n",
       "            'RB': 81,\n",
       "            'RBR': 1,\n",
       "            'VB': 235,\n",
       "            'VBD': 5,\n",
       "            'VBN': 1,\n",
       "            'VBP': 272,\n",
       "            'VBZ': 3})),\n",
       " ('normal', FreqDist({'JJ': 248})),\n",
       " ('day', FreqDist({'NN': 2575})),\n",
       " ('take',\n",
       "  FreqDist({'JJ': 28,\n",
       "            'NN': 133,\n",
       "            'NNS': 1,\n",
       "            'RB': 1,\n",
       "            'VB': 968,\n",
       "            'VBN': 4,\n",
       "            'VBP': 425})),\n",
       " ('call',\n",
       "  FreqDist({'JJ': 157,\n",
       "            'NN': 812,\n",
       "            'NNS': 1,\n",
       "            'RB': 1,\n",
       "            'VB': 93,\n",
       "            'VBN': 1,\n",
       "            'VBP': 25})),\n",
       " ('line', FreqDist({'NN': 348})),\n",
       " ('large', FreqDist({'JJ': 220})),\n",
       " ('cable', FreqDist({'NN': 135})),\n",
       " ('company', FreqDist({'NN': 438})),\n",
       " ('job', FreqDist({'NN': 671})),\n",
       " ('pay',\n",
       "  FreqDist({'IN': 3,\n",
       "            'JJ': 12,\n",
       "            'NN': 712,\n",
       "            'NNS': 2,\n",
       "            'RB': 2,\n",
       "            'VB': 164,\n",
       "            'VBN': 2,\n",
       "            'VBP': 39,\n",
       "            'VBZ': 1})),\n",
       " ('people', FreqDist({'NNS': 1715})),\n",
       " ('deal', FreqDist({'JJ': 12, 'NN': 332, 'RB': 2, 'VB': 23, 'VBP': 3})),\n",
       " ('fairly', FreqDist({'RB': 109})),\n",
       " ('nice',\n",
       "  FreqDist({'FW': 1, 'JJ': 453, 'NN': 8, 'NNS': 2, 'RB': 17, 'VBP': 1})),\n",
       " ('talk',\n",
       "  FreqDist({'IN': 2,\n",
       "            'JJ': 32,\n",
       "            'NN': 1610,\n",
       "            'NNS': 12,\n",
       "            'RB': 3,\n",
       "            'VB': 166,\n",
       "            'VBD': 2,\n",
       "            'VBN': 1,\n",
       "            'VBP': 47,\n",
       "            'VBZ': 4})),\n",
       " ('senior', FreqDist({'JJ': 68})),\n",
       " ('especially', FreqDist({'RB': 192})),\n",
       " ('morning', FreqDist({'NN': 472}))]"
      ]
     },
     "execution_count": 22,
     "metadata": {},
     "output_type": "execute_result"
    }
   ],
   "source": [
    "# To get the frequency fo each word as each part of speech.\n",
    "reddit_df['normalized_tokens_POS'] = [nltk.pos_tag(t) for t in reddit_df['normalized_tokens']]\n",
    "reddit_WordtoPOS = nltk.ConditionalFreqDist(reddit_df['normalized_tokens_POS'].sum())\n",
    "list(reddit_WordtoPOS.items())[:20]"
   ]
  },
  {
   "cell_type": "code",
   "execution_count": null,
   "metadata": {},
   "outputs": [
    {
     "data": {
      "image/png": "[encoded data removed]",
      "text/plain": [
       "<matplotlib.figure.Figure at 0x7f9b45d269b0>"
      ]
     },
     "metadata": {},
     "output_type": "display_data"
    }
   ],
   "source": [
    "# See the POS role of 'pay'\n",
    "reddit_WordtoPOS['pay'].plot()"
   ]
  },
  {
   "cell_type": "markdown",
   "metadata": {},
   "source": [
    "This plot shows the word \"pay\" in fact acts as a noun more often than a verb. This finding is very interesting as \"pay\" often appears to be a verb in daily use. "
   ]
  },
  {
   "cell_type": "code",
   "execution_count": null,
   "metadata": {},
   "outputs": [
    {
     "data": {
      "text/plain": [
       "[('good', 1676),\n",
       " ('new', 950),\n",
       " ('live', 933),\n",
       " ('bad', 920),\n",
       " ('little', 915),\n",
       " ('japanese', 875),\n",
       " ('sure', 817),\n",
       " ('old', 790),\n",
       " ('m', 712),\n",
       " ('right', 662)]"
      ]
     },
     "execution_count": 24,
     "metadata": {},
     "output_type": "execute_result"
    }
   ],
   "source": [
    "reddit_POStoWord = nltk.ConditionalFreqDist((p, w) for w, p in reddit_df['normalized_tokens_POS'].sum())\n",
    "\n",
    "#Identify and collect all of the adjectives\n",
    "reddit_POStoWord['JJ']\n",
    "#See the most common ones\n",
    "reddit_POStoWord['JJ'].most_common(10)"
   ]
  },
  {
   "cell_type": "code",
   "execution_count": null,
   "metadata": {},
   "outputs": [
    {
     "data": {
      "image/png": "[encoded data removed]",
      "text/plain": [
       "<matplotlib.figure.Figure at 0x7f9b45ddcdd8>"
      ]
     },
     "metadata": {},
     "output_type": "display_data"
    }
   ],
   "source": [
    "# Plot the base form verbs against their number of occurrences\n",
    "reddit_POStoWord['VB'].plot(20)"
   ]
  },
  {
   "cell_type": "markdown",
   "metadata": {},
   "source": [
    "From the result above, we can find that the most common VB words are \"get\", \"go\", \"take\", and \"tell\", which are all most commonly used action verbs."
   ]
  },
  {
   "cell_type": "markdown",
   "metadata": {},
   "source": [
    "#### (3) conditional probability distribution (word length)"
   ]
  },
  {
   "cell_type": "code",
   "execution_count": null,
   "metadata": {},
   "outputs": [
    {
     "name": "stdout",
     "output_type": "stream",
     "text": [
      "think\n",
      "0.030072771376591874\n"
     ]
    }
   ],
   "source": [
    "whcpdist = nltk.ConditionalProbDist(whcfdist, nltk.ELEProbDist)\n",
    "\n",
    "# Print the most common 5 letter word\n",
    "print(whcpdist[5].max())\n",
    "\n",
    "# And its probability\n",
    "print(whcpdist[5].prob(whcpdist[5].max()))"
   ]
  },
  {
   "cell_type": "code",
   "execution_count": null,
   "metadata": {},
   "outputs": [
    {
     "name": "stdout",
     "output_type": "stream",
     "text": [
      "friend\n",
      "0.03789951579074565\n"
     ]
    }
   ],
   "source": [
    "# Print the most common 6 letter word\n",
    "print(whcpdist[6].max())\n",
    "print(whcpdist[6].prob(whcpdist[6].max()))"
   ]
  },
  {
   "cell_type": "markdown",
   "metadata": {},
   "source": [
    "So the most common 5-letter word is 'think' with a probability of 0.03. And the most common 6 letter word is 'friend' with a probability of 0.038."
   ]
  },
  {
   "cell_type": "markdown",
   "metadata": {},
   "source": [
    "#### (4) conditional probability distribution (POS)"
   ]
  },
  {
   "cell_type": "code",
   "execution_count": null,
   "metadata": {},
   "outputs": [
    {
     "name": "stdout",
     "output_type": "stream",
     "text": [
      "get\n",
      "0.08786021278094835\n"
     ]
    }
   ],
   "source": [
    "whcpdist_POStoWord = nltk.ConditionalProbDist(reddit_POStoWord, nltk.ELEProbDist)\n",
    "\n",
    "# Print the most common adj\n",
    "print(whcpdist_POStoWord['VB'].max())\n",
    "# And its probability\n",
    "print(whcpdist_POStoWord['VB'].prob(whcpdist_POStoWord['VB'].max()))"
   ]
  },
  {
   "cell_type": "markdown",
   "metadata": {},
   "source": [
    "From the result above, we can see that the most common verb is \"get\" with a probability of 0.08786."
   ]
  },
  {
   "cell_type": "markdown",
   "metadata": {},
   "source": [
    "Alternatively, we can use the method below to plot conditional probability distribution based on words attribute"
   ]
  },
  {
   "cell_type": "code",
   "execution_count": null,
   "metadata": {
    "collapsed": true
   },
   "outputs": [],
   "source": [
    "def spacy_pos(word_list):\n",
    "    tags = []\n",
    "    doc = nlp(word_list.lower())\n",
    "    for w in doc:\n",
    "        tags.append((w.text, w.tag_))\n",
    "    return tags"
   ]
  },
  {
   "cell_type": "code",
   "execution_count": null,
   "metadata": {
    "collapsed": true
   },
   "outputs": [],
   "source": [
    "reddit_df['normalized_tokens_POS'] = [spacy_pos(t) for t in reddit_df['text']]"
   ]
  },
  {
   "cell_type": "code",
   "execution_count": null,
   "metadata": {},
   "outputs": [
    {
     "data": {
      "text/plain": [
       "[('so', FreqDist({'CC': 442, 'IN': 768, 'NN': 1, 'RB': 5704})),\n",
       " ('my', FreqDist({'PRP': 2, 'PRP$': 14198, 'UH': 62})),\n",
       " ('story', FreqDist({'NN': 826, 'NNP': 2})),\n",
       " ('starts', FreqDist({'NNS': 15, 'VBZ': 253})),\n",
       " ('on', FreqDist({'IN': 6937, 'NN': 2, 'RB': 262, 'RP': 899})),\n",
       " ('what', FreqDist({'WDT': 95, 'WP': 3708})),\n",
       " ('was', FreqDist({'VBD': 16824, 'VBN': 1})),\n",
       " ('a',\n",
       "  FreqDist({'DT': 24273, 'FW': 1, 'LS': 8, 'NN': 10, 'NNP': 6, 'RB': 19})),\n",
       " ('normal', FreqDist({'JJ': 248})),\n",
       " ('day', FreqDist({'JJ': 2, 'NN': 1848, 'NNP': 9}))]"
      ]
     },
     "execution_count": 31,
     "metadata": {},
     "output_type": "execute_result"
    }
   ],
   "source": [
    "reddit_WordtoPOS = nltk.ConditionalFreqDist(reddit_df['normalized_tokens_POS'].sum())\n",
    "list(reddit_WordtoPOS.items())[:10]"
   ]
  },
  {
   "cell_type": "markdown",
   "metadata": {},
   "source": [
    "This gives the frequency of each word as each part of speech."
   ]
  },
  {
   "cell_type": "code",
   "execution_count": null,
   "metadata": {
    "collapsed": true
   },
   "outputs": [],
   "source": [
    "reddit_POStoWord = nltk.ConditionalFreqDist((p, w) for w, p in reddit_df['normalized_tokens_POS'].sum())"
   ]
  },
  {
   "cell_type": "code",
   "execution_count": null,
   "metadata": {},
   "outputs": [
    {
     "data": {
      "image/png": "[encoded data removed]",
      "text/plain": [
       "<matplotlib.figure.Figure at 0x7f9b4af0cc88>"
      ]
     },
     "metadata": {},
     "output_type": "display_data"
    }
   ],
   "source": [
    "reddit_POStoWord['VB'].plot(20)"
   ]
  },
  {
   "cell_type": "code",
   "execution_count": null,
   "metadata": {},
   "outputs": [
    {
     "data": {
      "image/png": "[encoded data removed]",
      "text/plain": [
       "<matplotlib.figure.Figure at 0x7f9b4bab6278>"
      ]
     },
     "metadata": {},
     "output_type": "display_data"
    }
   ],
   "source": [
    "reddit_POStoWord['JJ'].plot(20)"
   ]
  },
  {
   "cell_type": "markdown",
   "metadata": {},
   "source": [
    "#### (5) Word Cloud"
   ]
  },
  {
   "cell_type": "code",
   "execution_count": null,
   "metadata": {},
   "outputs": [
    {
     "data": {
      "image/png": "[encoded data removed]",
      "text/plain": [
       "<matplotlib.figure.Figure at 0x7f9b45dd0c88>"
      ]
     },
     "metadata": {},
     "output_type": "display_data"
    }
   ],
   "source": [
    "wc = wordcloud.WordCloud(background_color=\"white\", max_words=500, width= 1000, height = 1000, mode ='RGBA', scale=.5).generate(' '.join(reddit_df['normalized_tokens'].sum()))\n",
    "plt.imshow(wc)\n",
    "plt.axis(\"off\")\n",
    "plt.suptitle(\"Word Cloud for a play of Reddit posts\")\n",
    "plt.savefig(\"reddit_word_cloud.pdf\", format = 'pdf')"
   ]
  },
  {
   "cell_type": "markdown",
   "metadata": {},
   "source": [
    "The word cloud and word frequency distribution give us an exploratory peep into the dataset. After cleaning and normalizing the Reddit posts, the most frequent words are \"go\", \"tell\", \"know\", \"say\", and \"time\". Most high frequent words are verbs, and the most frequent adjectives is \"good\". In general, these words indicate the way a tech-supporter talk in a action-provoking and friendly in general."
   ]
  },
  {
   "cell_type": "markdown",
   "metadata": {},
   "source": [
    "## <span style=\"color:red\">*Your turn*</span>\n",
    "\n",
    "<span style=\"color:red\">In the cells immediately following, perform POS tagging on a meaningful (but modest) subset of a corpus associated with your final project. Examine the list of words associated with at least three different parts of speech. Consider conditional associations (e.g., adjectives associated with nouns or adverbs with verbs of interest). What do these distributions suggest about your corpus?"
   ]
  },
  {
   "cell_type": "code",
   "execution_count": null,
   "metadata": {
    "collapsed": true
   },
   "outputs": [],
   "source": [
    "# Use a subsection of the dataset to shorten the computation time\n",
    "sub_df = reddit_df[:100]"
   ]
  },
  {
   "cell_type": "code",
   "execution_count": null,
   "metadata": {
    "collapsed": true
   },
   "outputs": [],
   "source": [
    "def tag_sents_pos(sentences):\n",
    "    \"\"\"\n",
    "    function which replicates NLTK pos tagging on sentences.\n",
    "    \"\"\"\n",
    "    new_sents = []\n",
    "    new_sent = ' '.join(sentences)\n",
    "    new_sents.append(new_sent)\n",
    "    final_string = ' '.join(new_sents)\n",
    "    doc = nlp(final_string)\n",
    "    \n",
    "    pos_sents = []\n",
    "    for sent in doc.sents:\n",
    "        pos_sent = []\n",
    "        for token in sent:\n",
    "            pos_sent.append((token.text, token.tag_))\n",
    "        pos_sents.append(pos_sent)\n",
    "    \n",
    "    return pos_sents"
   ]
  },
  {
   "cell_type": "code",
   "execution_count": null,
   "metadata": {},
   "outputs": [
    {
     "name": "stderr",
     "output_type": "stream",
     "text": [
      "/Users/gaomingtao/anaconda3/lib/python3.6/site-packages/ipykernel_launcher.py:1: SettingWithCopyWarning: \n",
      "A value is trying to be set on a copy of a slice from a DataFrame.\n",
      "Try using .loc[row_indexer,col_indexer] = value instead\n",
      "\n",
      "See the caveats in the documentation: http://pandas.pydata.org/pandas-docs/stable/indexing.html#indexing-view-versus-copy\n",
      "  \"\"\"Entry point for launching an IPython kernel.\n"
     ]
    }
   ],
   "source": [
    "sub_df['POS_sents'] = sub_df['tokenized_text'].apply(lambda x: tag_sents_pos(x))"
   ]
  },
  {
   "cell_type": "code",
   "execution_count": null,
   "metadata": {},
   "outputs": [
    {
     "data": {
      "text/plain": [
       "0    [[(So, RB), (my, PRP$), (story, NN), (starts, ...\n",
       "1    [[(>, XX)], [($, $), (Me, PRP)], [(Hello, UH)]...\n",
       "2    [[(Part, NN), (1](http://www.reddit.com, CD), ...\n",
       "3    [[(Another, DT), (tale, NN), (from, IN), (the,...\n",
       "4    [[(This, DT), (just, RB), (happened, VBD)], [(...\n",
       "5    [[(I, PRP), (work, VBP), (Helpdesk, NNP), (for...\n",
       "6    [[(I, PRP), (witnessed, VBD), (this, DT), (ast...\n",
       "7    [[(First, JJ), (post, NN), (in, IN), (quite, P...\n",
       "8    [[(Last, JJ), (year, NN), (Help, NNP), (Desk, ...\n",
       "9    [[(A, DT), (call, NN), (comes, VBZ), (in, IN),...\n",
       "Name: POS_sents, dtype: object"
      ]
     },
     "execution_count": 39,
     "metadata": {},
     "output_type": "execute_result"
    }
   ],
   "source": [
    "sub_df['POS_sents'][:10]"
   ]
  },
  {
   "cell_type": "code",
   "execution_count": null,
   "metadata": {},
   "outputs": [
    {
     "data": {
      "text/plain": [
       "[('m', 138),\n",
       " ('time', 119),\n",
       " ('computer', 110),\n",
       " ('phone', 94),\n",
       " ('problem', 82),\n",
       " ('day', 81),\n",
       " ('company', 81),\n",
       " ('call', 80),\n",
       " ('office', 66),\n",
       " ('support', 66),\n",
       " ('desk', 58),\n",
       " ('password', 58),\n",
       " ('email', 57),\n",
       " ('laptop', 57),\n",
       " ('something', 56),\n",
       " ('system', 54),\n",
       " ('work', 52),\n",
       " ('way', 49),\n",
       " ('issue', 48),\n",
       " ('tech', 47)]"
      ]
     },
     "execution_count": 40,
     "metadata": {},
     "output_type": "execute_result"
    }
   ],
   "source": [
    "# Count the number of NN(nouns)\n",
    "countTarget = 'NN'\n",
    "targetCounts = {}\n",
    "for entry in sub_df['POS_sents']:\n",
    "    for sentence in entry:\n",
    "        for ent, kind in sentence:\n",
    "            if kind != countTarget:\n",
    "                continue\n",
    "            elif ent in targetCounts:\n",
    "                targetCounts[ent] += 1\n",
    "            else:\n",
    "                targetCounts[ent] = 1\n",
    "sortedTargets = sorted(targetCounts.items(), key = lambda x: x[1], reverse = True)\n",
    "sortedTargets[:20]"
   ]
  },
  {
   "cell_type": "code",
   "execution_count": null,
   "metadata": {},
   "outputs": [
    {
     "data": {
      "text/plain": [
       "[('be', 217),\n",
       " ('get', 135),\n",
       " ('have', 128),\n",
       " ('do', 112),\n",
       " ('know', 73),\n",
       " ('help', 64),\n",
       " ('see', 63),\n",
       " ('go', 57),\n",
       " ('take', 54),\n",
       " ('work', 54),\n",
       " ('make', 47),\n",
       " ('fix', 47),\n",
       " ('come', 42),\n",
       " ('call', 41),\n",
       " ('tell', 38),\n",
       " ('use', 37),\n",
       " ('say', 31),\n",
       " ('want', 30),\n",
       " ('let', 30),\n",
       " ('need', 29)]"
      ]
     },
     "execution_count": 41,
     "metadata": {},
     "output_type": "execute_result"
    }
   ],
   "source": [
    "# Count the number of VB(verbs)\n",
    "countTarget = 'VB'\n",
    "targetCounts = {}\n",
    "for entry in sub_df['POS_sents']:\n",
    "    for sentence in entry:\n",
    "        for ent, kind in sentence:\n",
    "            if kind != countTarget:\n",
    "                continue\n",
    "            elif ent in targetCounts:\n",
    "                targetCounts[ent] += 1\n",
    "            else:\n",
    "                targetCounts[ent] = 1\n",
    "sortedTargets = sorted(targetCounts.items(), key = lambda x: x[1], reverse = True)\n",
    "sortedTargets[:20]"
   ]
  },
  {
   "cell_type": "code",
   "execution_count": null,
   "metadata": {},
   "outputs": [
    {
     "data": {
      "text/plain": [
       "[('other', 65),\n",
       " ('new', 60),\n",
       " ('few', 56),\n",
       " ('good', 41),\n",
       " ('little', 39),\n",
       " ('last', 39),\n",
       " ('sure', 35),\n",
       " ('old', 34),\n",
       " ('first', 33),\n",
       " ('small', 32),\n",
       " ('next', 31),\n",
       " ('free', 30),\n",
       " ('hard', 27),\n",
       " ('own', 27),\n",
       " ('same', 27),\n",
       " ('happy', 26),\n",
       " ('many', 25),\n",
       " ('wrong', 24),\n",
       " ('big', 24),\n",
       " ('able', 23)]"
      ]
     },
     "execution_count": 42,
     "metadata": {},
     "output_type": "execute_result"
    }
   ],
   "source": [
    "# Count the number of JJ(adjectives)\n",
    "countTarget = 'JJ'\n",
    "targetCounts = {}\n",
    "for entry in sub_df['POS_sents']:\n",
    "    for sentence in entry:\n",
    "        for ent, kind in sentence:\n",
    "            if kind != countTarget:\n",
    "                continue\n",
    "            elif ent in targetCounts:\n",
    "                targetCounts[ent] += 1\n",
    "            else:\n",
    "                targetCounts[ent] = 1\n",
    "sortedTargets = sorted(targetCounts.items(), key = lambda x: x[1], reverse = True)\n",
    "sortedTargets[:20]"
   ]
  },
  {
   "cell_type": "markdown",
   "metadata": {},
   "source": [
    "From the above results, verbs are more frequently used than nouns and adjectives. The most common noun is \"time\", the most common adjective is \"other\" and the most common verb base is \"be\"."
   ]
  },
  {
   "cell_type": "code",
   "execution_count": null,
   "metadata": {},
   "outputs": [
    {
     "name": "stdout",
     "output_type": "stream",
     "text": [
      "{'small', 'current', 'big', 'midsized', 'Same', 'EXTERNAL', 'onsite', 'regional', 'external', 'giant'}\n"
     ]
    }
   ],
   "source": [
    "# Find the adjectives that describe \"company\" \n",
    "NTarget = 'JJ'\n",
    "Word = 'company'\n",
    "NResults = set()\n",
    "for entry in sub_df['POS_sents']:\n",
    "    for sentence in entry:\n",
    "        for (ent1, kind1),(ent2,kind2) in zip(sentence[:-1], sentence[1:]):\n",
    "            if (kind1,ent2.lower())==(NTarget,Word):\n",
    "                NResults.add(ent1)\n",
    "            else:\n",
    "                continue\n",
    "\n",
    "print(NResults)"
   ]
  },
  {
   "cell_type": "code",
   "execution_count": null,
   "metadata": {},
   "outputs": [
    {
     "name": "stdout",
     "output_type": "stream",
     "text": [
      "{'small', 'entire', 'back', 'other', 'main', 'open'}\n"
     ]
    }
   ],
   "source": [
    "# Find the adjectives that describe \"office\" \n",
    "NTarget = 'JJ'\n",
    "Word = 'office'\n",
    "NResults = set()\n",
    "for entry in sub_df['POS_sents']:\n",
    "    for sentence in entry:\n",
    "        for (ent1, kind1),(ent2,kind2) in zip(sentence[:-1], sentence[1:]):\n",
    "            if (kind1,ent2.lower())==(NTarget,Word):\n",
    "                NResults.add(ent1)\n",
    "            else:\n",
    "                continue\n",
    "\n",
    "print(NResults)"
   ]
  },
  {
   "cell_type": "code",
   "execution_count": null,
   "metadata": {},
   "outputs": [
    {
     "name": "stdout",
     "output_type": "stream",
     "text": [
      "{'tiny', 'obvious', 'same', 'REAL', 'real', 'big', 'weird', 'huge', 'simple'}\n"
     ]
    }
   ],
   "source": [
    "# Find the adjectives that describe \"problem\" \n",
    "NTarget = 'JJ'\n",
    "Word = 'problem'\n",
    "NResults = set()\n",
    "for entry in sub_df['POS_sents']:\n",
    "    for sentence in entry:\n",
    "        for (ent1, kind1),(ent2,kind2) in zip(sentence[:-1], sentence[1:]):\n",
    "            if (kind1,ent2.lower())==(NTarget,Word):\n",
    "                NResults.add(ent1)\n",
    "            else:\n",
    "                continue\n",
    "\n",
    "print(NResults)"
   ]
  },
  {
   "cell_type": "markdown",
   "metadata": {},
   "source": [
    "I looked at adjectives associated with high-occurring nouns. The adjectives associated with \"company\" are \"giant\" and \"external\", the adjectives associated with \"office\" are \"open\" and \"main\", and the adjectives associated with \"problem\" are \"simple\" and \"obvious\"."
   ]
  },
  {
   "cell_type": "markdown",
   "metadata": {},
   "source": [
    "## <span style=\"color:red\">*Exercise 3*</span>\n",
    "\n",
    "<span style=\"color:red\">Construct cells immediately below this that identify statistically significant bigrams, trigrams, quadgrams, higher-order *n*grams and skipgrams. Explore whether these collocations are idiomatic and so irreducible to the semantic sum of their component words. You can do this by examination of conditional frequencies (e.g., what else is 'united' besides the 'United States'). If these phrases are idiomatic, what do they suggest about the culture of the world producing them?\n",
    "\n",
    "<span style=\"color:red\">**Stretch**: In Manning and Schütze's textbook, there Section 5.3.2 explores how to use the *t*-test to find words whose co-occurance patterns best distinguish two words. Implement that and use it to explore phrases in your corpus. For instance, you could tell what words come after \"America\" much more often than after \"Iraq\"?</span> "
   ]
  },
  {
   "cell_type": "markdown",
   "metadata": {},
   "source": [
    "### 1. Bigrams"
   ]
  },
  {
   "cell_type": "code",
   "execution_count": null,
   "metadata": {},
   "outputs": [
    {
     "name": "stdout",
     "output_type": "stream",
     "text": [
      "There are 437240 bigrams in the finder\n"
     ]
    }
   ],
   "source": [
    "reddit_bigrams = nltk.collocations.BigramCollocationFinder.from_words(reddit_df['normalized_tokens'].sum())\n",
    "print(\"There are {} bigrams in the finder\".format(reddit_bigrams.N))"
   ]
  },
  {
   "cell_type": "code",
   "execution_count": null,
   "metadata": {},
   "outputs": [
    {
     "name": "stdout",
     "output_type": "stream",
     "text": [
      "[('r', 'badroommate'), ('m', 'go'), ('come', 'home'), ('high', 'school'), ('good', 'friend'), ('year', 'old'), ('m', 'sure'), ('m', 'sorry'), ('living', 'room'), ('year', 'ago')]\n"
     ]
    }
   ],
   "source": [
    "# Find the most significant bigrams\n",
    "def bigramScoring(count, wordsTuple, total):\n",
    "    return count\n",
    "\n",
    "print(reddit_bigrams.nbest(bigramScoring, 10))"
   ]
  },
  {
   "cell_type": "code",
   "execution_count": null,
   "metadata": {},
   "outputs": [
    {
     "data": {
      "text/plain": [
       "[(('r', 'badroommate'), 17.291981368432925),\n",
       " (('high', 'school'), 15.193581553183177),\n",
       " (('come', 'home'), 15.002662403628442),\n",
       " (('year', 'old'), 14.686361625027262),\n",
       " (('good', 'friend'), 14.673554684334205),\n",
       " (('m', 'go'), 14.655616902105095),\n",
       " (('m', 'sure'), 14.23750776170833),\n",
       " (('m', 'sorry'), 13.631883110942667),\n",
       " (('living', 'room'), 12.92876487477393),\n",
       " (('gon', 'na'), 12.604818928246042),\n",
       " (('year', 'ago'), 12.560402967116),\n",
       " (('let', 'know'), 11.900139806313216),\n",
       " (('r', 'weeabootale'), 11.469112772508185),\n",
       " (('anime', 'club'), 11.001747082316834),\n",
       " (('original', 'post'), 10.904647865195907),\n",
       " (('tech', 'support'), 10.866022863613189),\n",
       " (('r', 'relationship'), 10.733888380751962),\n",
       " (('pay', 'rent'), 10.456123022034458),\n",
       " (('week', 'ago'), 9.944078223943901),\n",
       " (('ve', 'get'), 9.708659857235226),\n",
       " (('month', 'ago'), 9.66855367468948),\n",
       " (('fast', 'forward'), 9.632176085574915),\n",
       " (('watch', 'anime'), 9.461626884432176),\n",
       " (('long', 'time'), 9.439360738363531),\n",
       " (('video', 'game'), 9.251126617085326),\n",
       " (('spend', 'time'), 9.231963578184963),\n",
       " (('open', 'door'), 9.1943134198826),\n",
       " (('feel', 'bad'), 9.05223403828183),\n",
       " (('little', 'bit'), 8.910938408741202),\n",
       " (('hour', 'later'), 8.875949567296566)]"
      ]
     },
     "execution_count": 48,
     "metadata": {},
     "output_type": "execute_result"
    }
   ],
   "source": [
    "bigram_measures = nltk.collocations.BigramAssocMeasures()\n",
    "reddit_bigrams.score_ngrams(bigram_measures.student_t)[:30]"
   ]
  },
  {
   "cell_type": "markdown",
   "metadata": {},
   "source": [
    "From above results, we can find some common used bigrams such as \"high school\", \"come home\" are statistically significant. The top bigrams fall into two categories: 1) words related to time --- \"year old\", \"year ago\", \"high school\", \"week ago\", \"long time\" \"month ago\" --- these words often appears when the user is recalling a story from before; 2) verbs - \"m go\", \"gon na\", \"ve get\", \"m sure\" - also an indication of story telling. There are also some interesting noun phrase, like \"video game\", \"watch anime\", \"anime club\", which may indicate the general users/consumers of technology appliances. "
   ]
  },
  {
   "cell_type": "markdown",
   "metadata": {},
   "source": [
    "### 2. Trigrams"
   ]
  },
  {
   "cell_type": "code",
   "execution_count": null,
   "metadata": {},
   "outputs": [
    {
     "data": {
      "text/plain": [
       "[(('m', 'gon', 'na'), 7.211025238972156),\n",
       " (('m', 'pretty', 'sure'), 6.554855046912969),\n",
       " (('post](https://www.reddit.com', 'r', 'relationship'), 5.999986350056807),\n",
       " (('male', 'roommate', 'rob'), 5.83093947921106),\n",
       " (('roommate', 'rob', 'coworker'), 5.830938340162048),\n",
       " (('badroommate', 'comments/512d33', 'roommate_vent/?st'), 5.656853962594179),\n",
       " (('comments/512d33', 'roommate_vent/?st', '='), 5.6568539360821335),\n",
       " (('r', 'badroommate', 'comments/512d33'), 5.656847857041843),\n",
       " (('long', 'story', 'short'), 5.65658115471676),\n",
       " (('year', 'high', 'school'), 5.65608615967098),\n",
       " (('issgtqi8&sh', '=', 'cb588ccf'), 5.291502365606796),\n",
       " (('roommate_vent/?st', '=', 'issgtqi8&sh'), 5.291502328960741),\n",
       " (('=', 'issgtqi8&sh', '='), 5.291499589668127),\n",
       " (('original', 'post](https://www.reddit.com', 'r'), 5.291494953819589),\n",
       " (('play', 'video', 'game'), 5.196102112773108),\n",
       " (('come', 'home', 'work'), 5.18768208969462),\n",
       " (('spend', 'lot', 'time'), 4.998298395907644),\n",
       " (('blah', 'blah', 'blah'), 4.795830432635329),\n",
       " (('rob', 'coworker', 'air'), 4.690413636501562),\n",
       " (('coworker', 'air', 'force'), 4.690413006140383),\n",
       " (('air', 'force', 'bedroom'), 4.690407637615452),\n",
       " (('pathological', 'liar', 'jobless'), 4.123105587157803),\n",
       " (('mooch', 'molly**-moocher', 'female'), 4.123105520371924),\n",
       " (('small', 'snippet', 'infraction'), 4.123105351410398),\n",
       " (('bedroom', 'mooch', 'molly**-moocher'), 4.123105322820501),\n",
       " (('liar', 'jobless', 'literally'), 4.123105276520496),\n",
       " (('master', 'bedroom', 'curry**-'), 4.123104514173968),\n",
       " (('master', 'bedroom', 'rob**-'), 4.123104467863815),\n",
       " (('bedroom', 'curry**-', 'male'), 4.123104460739175),\n",
       " (('tourist', 'city', 'inside'), 4.123104188835749)]"
      ]
     },
     "execution_count": 49,
     "metadata": {},
     "output_type": "execute_result"
    }
   ],
   "source": [
    "trigram_measures = nltk.collocations.TrigramAssocMeasures()\n",
    "reddit_trigrams = nltk.collocations.TrigramCollocationFinder.from_words(reddit_df['normalized_tokens'].sum())\n",
    "reddit_trigrams.score_ngrams(trigram_measures.student_t)[:30]"
   ]
  },
  {
   "cell_type": "markdown",
   "metadata": {},
   "source": [
    "Compared to bigrams, the words in trigrams did not produce meaningful combinations. Top trigrams include \"m gon na\", \"m pretty sure\" are extended from common bigram verbs. There are also some commonly used three-word phrases, like \"long story short\", \"play video game\", \"spend a lot of time\". "
   ]
  },
  {
   "cell_type": "markdown",
   "metadata": {},
   "source": [
    "Because I found ngrams longer than 3 words do not produce meaningful combinations, and have much lower statistical significance than bigrams and trigrams, I only explored these two measures here."
   ]
  },
  {
   "cell_type": "markdown",
   "metadata": {},
   "source": [
    "### 3. Skip-grams"
   ]
  },
  {
   "cell_type": "code",
   "execution_count": null,
   "metadata": {},
   "outputs": [
    {
     "data": {
      "text/plain": [
       "[(('r', 'badroommate'), 9.950590293660232),\n",
       " (('$', '$'), 9.895946224183625),\n",
       " (('m', 'sure'), 8.93192227532879),\n",
       " (('high', 'school'), 8.804613724785872),\n",
       " (('come', 'home'), 8.47890111320144),\n",
       " (('year', 'old'), 8.412781703616442),\n",
       " (('good', 'friend'), 8.396546394907242),\n",
       " (('m', 'sorry'), 7.814525652369884),\n",
       " (('m', 'go'), 7.520090335681019),\n",
       " (('living', 'room'), 7.516376884107005),\n",
       " (('badroommate', '='), 7.294442551346669),\n",
       " (('gon', 'na'), 7.271967025366993),\n",
       " (('year', 'ago'), 7.26742162296606),\n",
       " (('pay', 'rent'), 7.047779361641141),\n",
       " (('let', 'know'), 6.892612255826031),\n",
       " (('r', 'weeabootale'), 6.5985868782997255),\n",
       " (('anime', 'club'), 6.510434783732359),\n",
       " (('original', 'post'), 6.396557782129941),\n",
       " (('tech', 'support'), 6.382828672457605),\n",
       " (('spend', 'time'), 6.3811529988402595)]"
      ]
     },
     "execution_count": 50,
     "metadata": {},
     "output_type": "execute_result"
    }
   ],
   "source": [
    "reddit_Skipgram = nltk.collocations.BigramCollocationFinder.from_words(reddit_df['normalized_tokens'].sum(), window_size = 4)\n",
    "reddit_Skipgram.score_ngrams(bigram_measures.student_t)[:20]"
   ]
  },
  {
   "cell_type": "markdown",
   "metadata": {},
   "source": [
    "From above results, we can find that the result of skipgram is very similar to the result of bigram. The reason is that searching for skip-gram is inclusive so we will also get continuous bigrams."
   ]
  },
  {
   "cell_type": "markdown",
   "metadata": {},
   "source": [
    "### 4. Conditional Frequencies "
   ]
  },
  {
   "cell_type": "code",
   "execution_count": null,
   "metadata": {},
   "outputs": [
    {
     "name": "stdout",
     "output_type": "stream",
     "text": [
      "('r', 'badroommate') 300\n",
      "('m', 'go') 287\n",
      "('come', 'home') 241\n",
      "('high', 'school') 233\n",
      "('good', 'friend') 232\n",
      "('year', 'old') 222\n",
      "('m', 'sure') 219\n",
      "('m', 'sorry') 196\n",
      "('living', 'room') 169\n",
      "('year', 'ago') 162\n",
      "('let', 'know') 161\n",
      "('gon', 'na') 159\n",
      "('r', 'weeabootale') 132\n",
      "('anime', 'club') 123\n",
      "('original', 'post') 120\n",
      "('tech', 'support') 119\n",
      "('ve', 'get') 118\n",
      "('r', 'relationship') 117\n",
      "('pay', 'rent') 111\n",
      "('long', 'time') 103\n",
      "('week', 'ago') 102\n",
      "('say', 'want') 102\n",
      "('month', 'ago') 96\n",
      "('get', 'home') 95\n",
      "('know', 'go') 94\n",
      "('watch', 'anime') 94\n",
      "('spend', 'time') 93\n",
      "('fast', 'forward') 93\n",
      "('feel', 'bad') 88\n",
      "('know', 'm') 87\n"
     ]
    }
   ],
   "source": [
    "# Frequency distribution of bigrams\n",
    "Ngrams = nltk.ngrams(reddit_df['normalized_tokens'].sum(), 2)\n",
    "Counts = {}\n",
    "for ngram in list(Ngrams):\n",
    "    if ngram in Counts.keys():\n",
    "        Counts[ngram] += 1\n",
    "    else:\n",
    "        Counts[ngram] = 1\n",
    "Filtered = {}\n",
    "for key in Counts.keys():\n",
    "    if Counts[key] < 2:\n",
    "        pass\n",
    "    else:\n",
    "        Filtered[key] = Counts[key]\n",
    "\n",
    "# Transform the filtered dictionary into a list and sort it based on the collocation frequency\n",
    "sortFilter = [(k,Filtered[k])for k in sorted(Filtered, key=Filtered.get, reverse=True)]\n",
    "for k,v in sortFilter[:30]: \n",
    "    print (k,v)"
   ]
  },
  {
   "cell_type": "markdown",
   "metadata": {},
   "source": [
    "As we can see, most of the statistically significant bigrams are the most frequent bigrams in this corpus. Thus we tend to consider them as idiomatic collocations."
   ]
  },
  {
   "cell_type": "code",
   "execution_count": null,
   "metadata": {},
   "outputs": [
    {
     "name": "stdout",
     "output_type": "stream",
     "text": [
      "('m', 'gon', 'na') 52\n",
      "('m', 'pretty', 'sure') 43\n",
      "('post](https://www.reddit.com', 'r', 'relationship') 36\n",
      "('male', 'roommate', 'rob') 34\n",
      "('roommate', 'rob', 'coworker') 34\n",
      "('long', 'story', 'short') 32\n",
      "('r', 'badroommate', 'comments/512d33') 32\n",
      "('badroommate', 'comments/512d33', 'roommate_vent/?st') 32\n",
      "('comments/512d33', 'roommate_vent/?st', '=') 32\n",
      "('year', 'high', 'school') 32\n",
      "('roommate_vent/?st', '=', 'issgtqi8&sh') 28\n",
      "('=', 'issgtqi8&sh', '=') 28\n",
      "('issgtqi8&sh', '=', 'cb588ccf') 28\n",
      "('original', 'post](https://www.reddit.com', 'r') 28\n",
      "('come', 'home', 'work') 27\n",
      "('play', 'video', 'game') 27\n",
      "('spend', 'lot', 'time') 25\n",
      "('blah', 'blah', 'blah') 23\n",
      "('rob', 'coworker', 'air') 22\n",
      "('coworker', 'air', 'force') 22\n",
      "('air', 'force', 'bedroom') 22\n",
      "('throw', 'away', 'vent') 17\n",
      "('away', 'vent', 'roommate') 17\n",
      "('vent', 'roommate', 'small') 17\n",
      "('roommate', 'small', 'snippet') 17\n",
      "('small', 'snippet', 'infraction') 17\n",
      "('live', 'tourist', 'city') 17\n",
      "('tourist', 'city', 'inside') 17\n",
      "('city', 'inside', 'large') 17\n",
      "('inside', 'large', 'story') 17\n"
     ]
    }
   ],
   "source": [
    "# Frequency distribution of trigrams.\n",
    "Ngrams = nltk.ngrams(reddit_df['normalized_tokens'].sum(), 3)\n",
    "Counts = {}\n",
    "for ngram in list(Ngrams):\n",
    "    if ngram in Counts.keys():\n",
    "        Counts[ngram] += 1\n",
    "    else:\n",
    "        Counts[ngram] = 1\n",
    "Filtered = {}\n",
    "for key in Counts.keys():\n",
    "    if Counts[key] < 2:\n",
    "        pass\n",
    "    else:\n",
    "        Filtered[key] = Counts[key]\n",
    "sortFilter = [(k,Filtered[k])for k in sorted(Filtered, key=Filtered.get, reverse=True)]\n",
    "for k,v in sortFilter[:30]: \n",
    "    print (k,v)"
   ]
  },
  {
   "cell_type": "markdown",
   "metadata": {},
   "source": [
    "Through examination of conditional frequencies, the result shows that the most of statistically significant trigrams have high frequency. Therefore, these highly-frenquent bigrams and trigrams are idiomatic and irreducible. This result indicates that the Reddit culture is very similar to our daily life and people often talk like how they daily would talk. "
   ]
  },
  {
   "cell_type": "markdown",
   "metadata": {},
   "source": [
    "## <span style=\"color:red\">*Exercise 4*</span>\n",
    "\n",
    "<span style=\"color:red\">In the cells immediately following, perform NER on a (modest) subset of your corpus of interest. List all of the different kinds of entities tagged? What does their distribution suggest about the focus of your corpus? For a subset of your corpus, tally at least one type of named entity and calculate the Precision, Recall and F-score for the NER classification just performed."
   ]
  },
  {
   "cell_type": "code",
   "execution_count": null,
   "metadata": {
    "collapsed": true
   },
   "outputs": [],
   "source": [
    "def tag_sents_ner(sentences):\n",
    "    \"\"\"\n",
    "    function which replicates NLTK ner tagging on sentences.\n",
    "    \"\"\"\n",
    "    new_sents = []\n",
    "    new_sent = ' '.join(sentences)\n",
    "    new_sents.append(new_sent)\n",
    "    final_string = ' '.join(new_sents)\n",
    "    doc = nlp(final_string)\n",
    "    \n",
    "    pos_sents = []\n",
    "    for sent in doc.sents:\n",
    "        pos_sent = []\n",
    "        for ent in sent.ents:\n",
    "            pos_sent.append((ent.text, ent.label_))\n",
    "        pos_sents.append(pos_sent)\n",
    "    \n",
    "    return pos_sents"
   ]
  },
  {
   "cell_type": "code",
   "execution_count": null,
   "metadata": {},
   "outputs": [
    {
     "data": {
      "text/plain": [
       "0     [[], [(the morning, TIME)], [(recently past fe...\n",
       "1     [[], [], [], [], [], [], [], [], [], [], [], [...\n",
       "2     [[(1](http://www.reddit.com, DATE)], [(2](http...\n",
       "3     [[(the out of hours, TIME)], [], [], [], [], [...\n",
       "4     [[], [], [(Engineer, PRODUCT), (10 minutes, TI...\n",
       "5     [[(Helpdesk, PERSON), (UK, GPE)], [], [], [], ...\n",
       "6     [[(2004, DATE)], [], [], [(30,000, CARDINAL)],...\n",
       "7     [[(First, ORDINAL), (Social, ORG)], [], [(toda...\n",
       "8     [[(Last year, DATE), (Desk, PERSON)], [(one, C...\n",
       "9     [[], [], [], [], [], [], [(Everything, ORG)], ...\n",
       "10    [[(the summer, DATE), (80, CARDINAL), (the fir...\n",
       "11    [[(Cx Customer Wf Customer 's, PERSON)], [], [...\n",
       "12    [[(5:45am, CARDINAL)], [], [], [], [], [], [],...\n",
       "13    [[(a couple of weeks ago, DATE), (an out of ho...\n",
       "14    [[], [], [], [], [(hours, TIME)], [], [], [], ...\n",
       "15    [[], [], [], [], [], [(monthly, DATE)], [], []...\n",
       "16    [[(about six years ago, DATE)], [], [(one, CAR...\n",
       "17    [[], [(last week, DATE)], [], [], [], [], [], ...\n",
       "18    [[(yesterday, DATE)], [], [], [], [], [], [], ...\n",
       "19    [[], [(a few thousand, CARDINAL), ($ 200, MONE...\n",
       "Name: classified_sents, dtype: object"
      ]
     },
     "execution_count": 54,
     "metadata": {},
     "output_type": "execute_result"
    }
   ],
   "source": [
    "reddit_df['classified_sents'] = reddit_df['tokenized_text'].apply(lambda x: tag_sents_ner(x))\n",
    "reddit_df['classified_sents'][:20]"
   ]
  },
  {
   "cell_type": "code",
   "execution_count": null,
   "metadata": {},
   "outputs": [
    {
     "data": {
      "text/plain": [
       "[('one', 1264),\n",
       " ('first', 1180),\n",
       " ('Japanese', 788),\n",
       " ('two', 685),\n",
       " ('2', 300),\n",
       " ('Japan', 267),\n",
       " ('today', 264),\n",
       " ('second', 246),\n",
       " ('3', 242),\n",
       " ('three', 223),\n",
       " ('One', 223),\n",
       " ('half', 197),\n",
       " ('the day', 195),\n",
       " ('Katsuni', 162),\n",
       " ('Sakura', 153),\n",
       " ('1', 151),\n",
       " ('4', 147),\n",
       " ('Molly', 147),\n",
       " ('Lisa', 140),\n",
       " ('Nathan', 136)]"
      ]
     },
     "execution_count": 55,
     "metadata": {},
     "output_type": "execute_result"
    }
   ],
   "source": [
    "# Find the most common entities\n",
    "entityCounts = {}\n",
    "for entry in reddit_df['classified_sents']:\n",
    "    for sentence in entry:\n",
    "        for ent, kind in sentence:\n",
    "            if ent in entityCounts:\n",
    "                entityCounts[ent] += 1\n",
    "            else:\n",
    "                entityCounts[ent] = 1\n",
    "sortedEntities = sorted(entityCounts.items(), key = lambda x: x[1], reverse = True)\n",
    "sortedEntities[:20]"
   ]
  },
  {
   "cell_type": "code",
   "execution_count": null,
   "metadata": {},
   "outputs": [
    {
     "data": {
      "text/plain": [
       "[('Weebette', 106),\n",
       " ('FuckFace', 60),\n",
       " ('ME', 54),\n",
       " ('Facebook', 54),\n",
       " ('Molly', 50),\n",
       " ('Molly ’s', 46),\n",
       " ('Anime', 45),\n",
       " ('MC', 42),\n",
       " ('RA', 39),\n",
       " ('SIL', 30),\n",
       " ('Rida', 29),\n",
       " ('Shrieky', 29),\n",
       " ('BC', 28),\n",
       " ('Disney', 26),\n",
       " ('Nathan', 26),\n",
       " ('VP', 24),\n",
       " ('Fast', 24),\n",
       " ('Fuckwit', 24),\n",
       " ('Next', 23),\n",
       " ('Weeb', 23)]"
      ]
     },
     "execution_count": 56,
     "metadata": {},
     "output_type": "execute_result"
    }
   ],
   "source": [
    "# Find the organizations\n",
    "OrgCounts = {}\n",
    "for entry in reddit_df['classified_sents']:\n",
    "    for sentence in entry:\n",
    "        for ent, kind in sentence:\n",
    "            if kind != 'ORG':\n",
    "                continue\n",
    "            elif ent in OrgCounts:\n",
    "                OrgCounts[ent] += 1\n",
    "            else:\n",
    "                OrgCounts[ent] = 1\n",
    "sortedOrgs = sorted(OrgCounts.items(), key = lambda x: x[1], reverse = True)\n",
    "sortedOrgs[:20]"
   ]
  },
  {
   "cell_type": "code",
   "execution_count": null,
   "metadata": {},
   "outputs": [
    {
     "name": "stdout",
     "output_type": "stream",
     "text": [
      "Precision score:  0.4\n",
      "Recall score:  1.0\n",
      "F1 score:  0.5714285714285715\n"
     ]
    }
   ],
   "source": [
    "# calculate the precision, recall and F-score for the NER classification of location\n",
    "from sklearn.metrics import precision_score, recall_score, f1_score\n",
    "loc_true = [0, 0, 0, 1, 0, 1, 0, 1, 0, 0, 1, 0, 1, 1, 1, 0, 0, 0, 0, 1]\n",
    "loc_pred = [1, 1, 1, 1, 1, 1, 1, 1, 1, 1, 1, 1, 1, 1, 1, 1, 1, 1, 1, 1]\n",
    "\n",
    "loc_precision = precision_score(loc_true, loc_pred)\n",
    "print('Precision score: ', loc_precision)\n",
    "loc_recall = recall_score(loc_true, loc_pred)\n",
    "print('Recall score: ', loc_recall)\n",
    "loc_f1 = f1_score(loc_true, loc_pred)\n",
    "print('F1 score: ', loc_f1)"
   ]
  },
  {
   "cell_type": "markdown",
   "metadata": {},
   "source": [
    "We can see that NER classification did not perform very well on my corpus."
   ]
  },
  {
   "cell_type": "markdown",
   "metadata": {},
   "source": [
    "## <span style=\"color:red\">*Your turn*</span>\n",
    "\n",
    "<span style=\"color:red\">In the cells immediately following, parse a (modest) subset of your corpus of interest. How deep are the phrase structure and dependency parse trees nested? How does parse depth relate to perceived sentence complexity? What are five things you can extract from these parses for subsequent analysis? (e.g., nouns collocated in a noun phrase; adjectives that modify a noun; etc.) Capture these sets of things for a focal set of words (e.g., \"Bush\", \"Obama\", \"Trump\"). What do they reveal about the roles that these entities are perceive to play in the social world inscribed by your texts?"
   ]
  },
  {
   "cell_type": "code",
   "execution_count": null,
   "metadata": {
    "collapsed": true
   },
   "outputs": [],
   "source": [
    "from spacy import displacy\n",
    "from spacy.symbols import nsubj, VERB, ADJ, NOUN, poss, amod, prep"
   ]
  },
  {
   "cell_type": "code",
   "execution_count": null,
   "metadata": {},
   "outputs": [
    {
     "data": {
      "text/plain": [
       "10 minutes later, I'm called down to where he was working by a member of management saying that he must have been doing drugs in there because there's a syringe in the bin. "
      ]
     },
     "execution_count": 59,
     "metadata": {},
     "output_type": "execute_result"
    }
   ],
   "source": [
    "# Select a sentence from one post in the dataset\n",
    "doc = nlp(reddit_df.iloc[4]['text'][140:313])\n",
    "doc"
   ]
  },
  {
   "cell_type": "code",
   "execution_count": null,
   "metadata": {},
   "outputs": [
    {
     "data": {
      "text/html": [
       "<svg xmlns=\"http://www.w3.org/2000/svg\" xmlns:xlink=\"http://www.w3.org/1999/xlink\" xml:lang=\"en\" id=\"3d0bc97dfe3041da86dfcb311e88773f-0\" class=\"displacy\" width=\"6175\" height=\"749.5\" direction=\"ltr\" style=\"max-width: none; height: 749.5px; color: #000000; background: #ffffff; font-family: Arial; direction: ltr\">\n",
       "<text class=\"displacy-token\" fill=\"currentColor\" text-anchor=\"middle\" y=\"659.5\">\n",
       "    <tspan class=\"displacy-word\" fill=\"currentColor\" x=\"50\">10</tspan>\n",
       "    <tspan class=\"displacy-tag\" dy=\"2em\" fill=\"currentColor\" x=\"50\">NUM</tspan>\n",
       "</text>\n",
       "\n",
       "<text class=\"displacy-token\" fill=\"currentColor\" text-anchor=\"middle\" y=\"659.5\">\n",
       "    <tspan class=\"displacy-word\" fill=\"currentColor\" x=\"225\">minutes</tspan>\n",
       "    <tspan class=\"displacy-tag\" dy=\"2em\" fill=\"currentColor\" x=\"225\">NOUN</tspan>\n",
       "</text>\n",
       "\n",
       "<text class=\"displacy-token\" fill=\"currentColor\" text-anchor=\"middle\" y=\"659.5\">\n",
       "    <tspan class=\"displacy-word\" fill=\"currentColor\" x=\"400\">later,</tspan>\n",
       "    <tspan class=\"displacy-tag\" dy=\"2em\" fill=\"currentColor\" x=\"400\">ADV</tspan>\n",
       "</text>\n",
       "\n",
       "<text class=\"displacy-token\" fill=\"currentColor\" text-anchor=\"middle\" y=\"659.5\">\n",
       "    <tspan class=\"displacy-word\" fill=\"currentColor\" x=\"575\">I</tspan>\n",
       "    <tspan class=\"displacy-tag\" dy=\"2em\" fill=\"currentColor\" x=\"575\">PRON</tspan>\n",
       "</text>\n",
       "\n",
       "<text class=\"displacy-token\" fill=\"currentColor\" text-anchor=\"middle\" y=\"659.5\">\n",
       "    <tspan class=\"displacy-word\" fill=\"currentColor\" x=\"750\">'m</tspan>\n",
       "    <tspan class=\"displacy-tag\" dy=\"2em\" fill=\"currentColor\" x=\"750\">AUX</tspan>\n",
       "</text>\n",
       "\n",
       "<text class=\"displacy-token\" fill=\"currentColor\" text-anchor=\"middle\" y=\"659.5\">\n",
       "    <tspan class=\"displacy-word\" fill=\"currentColor\" x=\"925\">called</tspan>\n",
       "    <tspan class=\"displacy-tag\" dy=\"2em\" fill=\"currentColor\" x=\"925\">VERB</tspan>\n",
       "</text>\n",
       "\n",
       "<text class=\"displacy-token\" fill=\"currentColor\" text-anchor=\"middle\" y=\"659.5\">\n",
       "    <tspan class=\"displacy-word\" fill=\"currentColor\" x=\"1100\">down</tspan>\n",
       "    <tspan class=\"displacy-tag\" dy=\"2em\" fill=\"currentColor\" x=\"1100\">ADP</tspan>\n",
       "</text>\n",
       "\n",
       "<text class=\"displacy-token\" fill=\"currentColor\" text-anchor=\"middle\" y=\"659.5\">\n",
       "    <tspan class=\"displacy-word\" fill=\"currentColor\" x=\"1275\">to</tspan>\n",
       "    <tspan class=\"displacy-tag\" dy=\"2em\" fill=\"currentColor\" x=\"1275\">ADP</tspan>\n",
       "</text>\n",
       "\n",
       "<text class=\"displacy-token\" fill=\"currentColor\" text-anchor=\"middle\" y=\"659.5\">\n",
       "    <tspan class=\"displacy-word\" fill=\"currentColor\" x=\"1450\">where</tspan>\n",
       "    <tspan class=\"displacy-tag\" dy=\"2em\" fill=\"currentColor\" x=\"1450\">ADV</tspan>\n",
       "</text>\n",
       "\n",
       "<text class=\"displacy-token\" fill=\"currentColor\" text-anchor=\"middle\" y=\"659.5\">\n",
       "    <tspan class=\"displacy-word\" fill=\"currentColor\" x=\"1625\">he</tspan>\n",
       "    <tspan class=\"displacy-tag\" dy=\"2em\" fill=\"currentColor\" x=\"1625\">PRON</tspan>\n",
       "</text>\n",
       "\n",
       "<text class=\"displacy-token\" fill=\"currentColor\" text-anchor=\"middle\" y=\"659.5\">\n",
       "    <tspan class=\"displacy-word\" fill=\"currentColor\" x=\"1800\">was</tspan>\n",
       "    <tspan class=\"displacy-tag\" dy=\"2em\" fill=\"currentColor\" x=\"1800\">AUX</tspan>\n",
       "</text>\n",
       "\n",
       "<text class=\"displacy-token\" fill=\"currentColor\" text-anchor=\"middle\" y=\"659.5\">\n",
       "    <tspan class=\"displacy-word\" fill=\"currentColor\" x=\"1975\">working</tspan>\n",
       "    <tspan class=\"displacy-tag\" dy=\"2em\" fill=\"currentColor\" x=\"1975\">VERB</tspan>\n",
       "</text>\n",
       "\n",
       "<text class=\"displacy-token\" fill=\"currentColor\" text-anchor=\"middle\" y=\"659.5\">\n",
       "    <tspan class=\"displacy-word\" fill=\"currentColor\" x=\"2150\">by</tspan>\n",
       "    <tspan class=\"displacy-tag\" dy=\"2em\" fill=\"currentColor\" x=\"2150\">ADP</tspan>\n",
       "</text>\n",
       "\n",
       "<text class=\"displacy-token\" fill=\"currentColor\" text-anchor=\"middle\" y=\"659.5\">\n",
       "    <tspan class=\"displacy-word\" fill=\"currentColor\" x=\"2325\">a</tspan>\n",
       "    <tspan class=\"displacy-tag\" dy=\"2em\" fill=\"currentColor\" x=\"2325\">DET</tspan>\n",
       "</text>\n",
       "\n",
       "<text class=\"displacy-token\" fill=\"currentColor\" text-anchor=\"middle\" y=\"659.5\">\n",
       "    <tspan class=\"displacy-word\" fill=\"currentColor\" x=\"2500\">member</tspan>\n",
       "    <tspan class=\"displacy-tag\" dy=\"2em\" fill=\"currentColor\" x=\"2500\">NOUN</tspan>\n",
       "</text>\n",
       "\n",
       "<text class=\"displacy-token\" fill=\"currentColor\" text-anchor=\"middle\" y=\"659.5\">\n",
       "    <tspan class=\"displacy-word\" fill=\"currentColor\" x=\"2675\">of</tspan>\n",
       "    <tspan class=\"displacy-tag\" dy=\"2em\" fill=\"currentColor\" x=\"2675\">ADP</tspan>\n",
       "</text>\n",
       "\n",
       "<text class=\"displacy-token\" fill=\"currentColor\" text-anchor=\"middle\" y=\"659.5\">\n",
       "    <tspan class=\"displacy-word\" fill=\"currentColor\" x=\"2850\">management</tspan>\n",
       "    <tspan class=\"displacy-tag\" dy=\"2em\" fill=\"currentColor\" x=\"2850\">NOUN</tspan>\n",
       "</text>\n",
       "\n",
       "<text class=\"displacy-token\" fill=\"currentColor\" text-anchor=\"middle\" y=\"659.5\">\n",
       "    <tspan class=\"displacy-word\" fill=\"currentColor\" x=\"3025\">saying</tspan>\n",
       "    <tspan class=\"displacy-tag\" dy=\"2em\" fill=\"currentColor\" x=\"3025\">VERB</tspan>\n",
       "</text>\n",
       "\n",
       "<text class=\"displacy-token\" fill=\"currentColor\" text-anchor=\"middle\" y=\"659.5\">\n",
       "    <tspan class=\"displacy-word\" fill=\"currentColor\" x=\"3200\">that</tspan>\n",
       "    <tspan class=\"displacy-tag\" dy=\"2em\" fill=\"currentColor\" x=\"3200\">SCONJ</tspan>\n",
       "</text>\n",
       "\n",
       "<text class=\"displacy-token\" fill=\"currentColor\" text-anchor=\"middle\" y=\"659.5\">\n",
       "    <tspan class=\"displacy-word\" fill=\"currentColor\" x=\"3375\">he</tspan>\n",
       "    <tspan class=\"displacy-tag\" dy=\"2em\" fill=\"currentColor\" x=\"3375\">PRON</tspan>\n",
       "</text>\n",
       "\n",
       "<text class=\"displacy-token\" fill=\"currentColor\" text-anchor=\"middle\" y=\"659.5\">\n",
       "    <tspan class=\"displacy-word\" fill=\"currentColor\" x=\"3550\">must</tspan>\n",
       "    <tspan class=\"displacy-tag\" dy=\"2em\" fill=\"currentColor\" x=\"3550\">AUX</tspan>\n",
       "</text>\n",
       "\n",
       "<text class=\"displacy-token\" fill=\"currentColor\" text-anchor=\"middle\" y=\"659.5\">\n",
       "    <tspan class=\"displacy-word\" fill=\"currentColor\" x=\"3725\">have</tspan>\n",
       "    <tspan class=\"displacy-tag\" dy=\"2em\" fill=\"currentColor\" x=\"3725\">AUX</tspan>\n",
       "</text>\n",
       "\n",
       "<text class=\"displacy-token\" fill=\"currentColor\" text-anchor=\"middle\" y=\"659.5\">\n",
       "    <tspan class=\"displacy-word\" fill=\"currentColor\" x=\"3900\">been</tspan>\n",
       "    <tspan class=\"displacy-tag\" dy=\"2em\" fill=\"currentColor\" x=\"3900\">AUX</tspan>\n",
       "</text>\n",
       "\n",
       "<text class=\"displacy-token\" fill=\"currentColor\" text-anchor=\"middle\" y=\"659.5\">\n",
       "    <tspan class=\"displacy-word\" fill=\"currentColor\" x=\"4075\">doing</tspan>\n",
       "    <tspan class=\"displacy-tag\" dy=\"2em\" fill=\"currentColor\" x=\"4075\">VERB</tspan>\n",
       "</text>\n",
       "\n",
       "<text class=\"displacy-token\" fill=\"currentColor\" text-anchor=\"middle\" y=\"659.5\">\n",
       "    <tspan class=\"displacy-word\" fill=\"currentColor\" x=\"4250\">drugs</tspan>\n",
       "    <tspan class=\"displacy-tag\" dy=\"2em\" fill=\"currentColor\" x=\"4250\">NOUN</tspan>\n",
       "</text>\n",
       "\n",
       "<text class=\"displacy-token\" fill=\"currentColor\" text-anchor=\"middle\" y=\"659.5\">\n",
       "    <tspan class=\"displacy-word\" fill=\"currentColor\" x=\"4425\">in</tspan>\n",
       "    <tspan class=\"displacy-tag\" dy=\"2em\" fill=\"currentColor\" x=\"4425\">ADV</tspan>\n",
       "</text>\n",
       "\n",
       "<text class=\"displacy-token\" fill=\"currentColor\" text-anchor=\"middle\" y=\"659.5\">\n",
       "    <tspan class=\"displacy-word\" fill=\"currentColor\" x=\"4600\">there</tspan>\n",
       "    <tspan class=\"displacy-tag\" dy=\"2em\" fill=\"currentColor\" x=\"4600\">ADV</tspan>\n",
       "</text>\n",
       "\n",
       "<text class=\"displacy-token\" fill=\"currentColor\" text-anchor=\"middle\" y=\"659.5\">\n",
       "    <tspan class=\"displacy-word\" fill=\"currentColor\" x=\"4775\">because</tspan>\n",
       "    <tspan class=\"displacy-tag\" dy=\"2em\" fill=\"currentColor\" x=\"4775\">SCONJ</tspan>\n",
       "</text>\n",
       "\n",
       "<text class=\"displacy-token\" fill=\"currentColor\" text-anchor=\"middle\" y=\"659.5\">\n",
       "    <tspan class=\"displacy-word\" fill=\"currentColor\" x=\"4950\">there</tspan>\n",
       "    <tspan class=\"displacy-tag\" dy=\"2em\" fill=\"currentColor\" x=\"4950\">PRON</tspan>\n",
       "</text>\n",
       "\n",
       "<text class=\"displacy-token\" fill=\"currentColor\" text-anchor=\"middle\" y=\"659.5\">\n",
       "    <tspan class=\"displacy-word\" fill=\"currentColor\" x=\"5125\">'s</tspan>\n",
       "    <tspan class=\"displacy-tag\" dy=\"2em\" fill=\"currentColor\" x=\"5125\">AUX</tspan>\n",
       "</text>\n",
       "\n",
       "<text class=\"displacy-token\" fill=\"currentColor\" text-anchor=\"middle\" y=\"659.5\">\n",
       "    <tspan class=\"displacy-word\" fill=\"currentColor\" x=\"5300\">a</tspan>\n",
       "    <tspan class=\"displacy-tag\" dy=\"2em\" fill=\"currentColor\" x=\"5300\">DET</tspan>\n",
       "</text>\n",
       "\n",
       "<text class=\"displacy-token\" fill=\"currentColor\" text-anchor=\"middle\" y=\"659.5\">\n",
       "    <tspan class=\"displacy-word\" fill=\"currentColor\" x=\"5475\">syringe</tspan>\n",
       "    <tspan class=\"displacy-tag\" dy=\"2em\" fill=\"currentColor\" x=\"5475\">NOUN</tspan>\n",
       "</text>\n",
       "\n",
       "<text class=\"displacy-token\" fill=\"currentColor\" text-anchor=\"middle\" y=\"659.5\">\n",
       "    <tspan class=\"displacy-word\" fill=\"currentColor\" x=\"5650\">in</tspan>\n",
       "    <tspan class=\"displacy-tag\" dy=\"2em\" fill=\"currentColor\" x=\"5650\">ADP</tspan>\n",
       "</text>\n",
       "\n",
       "<text class=\"displacy-token\" fill=\"currentColor\" text-anchor=\"middle\" y=\"659.5\">\n",
       "    <tspan class=\"displacy-word\" fill=\"currentColor\" x=\"5825\">the</tspan>\n",
       "    <tspan class=\"displacy-tag\" dy=\"2em\" fill=\"currentColor\" x=\"5825\">DET</tspan>\n",
       "</text>\n",
       "\n",
       "<text class=\"displacy-token\" fill=\"currentColor\" text-anchor=\"middle\" y=\"659.5\">\n",
       "    <tspan class=\"displacy-word\" fill=\"currentColor\" x=\"6000\">bin.</tspan>\n",
       "    <tspan class=\"displacy-tag\" dy=\"2em\" fill=\"currentColor\" x=\"6000\">PROPN</tspan>\n",
       "</text>\n",
       "\n",
       "<g class=\"displacy-arrow\">\n",
       "    <path class=\"displacy-arc\" id=\"arrow-3d0bc97dfe3041da86dfcb311e88773f-0-0\" stroke-width=\"2px\" d=\"M70,614.5 C70,527.0 195.0,527.0 195.0,614.5\" fill=\"none\" stroke=\"currentColor\"/>\n",
       "    <text dy=\"1.25em\" style=\"font-size: 0.8em; letter-spacing: 1px\">\n",
       "        <textPath xlink:href=\"#arrow-3d0bc97dfe3041da86dfcb311e88773f-0-0\" class=\"displacy-label\" startOffset=\"50%\" side=\"left\" fill=\"currentColor\" text-anchor=\"middle\">nummod</textPath>\n",
       "    </text>\n",
       "    <path class=\"displacy-arrowhead\" d=\"M70,616.5 L62,604.5 78,604.5\" fill=\"currentColor\"/>\n",
       "</g>\n",
       "\n",
       "<g class=\"displacy-arrow\">\n",
       "    <path class=\"displacy-arc\" id=\"arrow-3d0bc97dfe3041da86dfcb311e88773f-0-1\" stroke-width=\"2px\" d=\"M245,614.5 C245,527.0 370.0,527.0 370.0,614.5\" fill=\"none\" stroke=\"currentColor\"/>\n",
       "    <text dy=\"1.25em\" style=\"font-size: 0.8em; letter-spacing: 1px\">\n",
       "        <textPath xlink:href=\"#arrow-3d0bc97dfe3041da86dfcb311e88773f-0-1\" class=\"displacy-label\" startOffset=\"50%\" side=\"left\" fill=\"currentColor\" text-anchor=\"middle\">npadvmod</textPath>\n",
       "    </text>\n",
       "    <path class=\"displacy-arrowhead\" d=\"M245,616.5 L237,604.5 253,604.5\" fill=\"currentColor\"/>\n",
       "</g>\n",
       "\n",
       "<g class=\"displacy-arrow\">\n",
       "    <path class=\"displacy-arc\" id=\"arrow-3d0bc97dfe3041da86dfcb311e88773f-0-2\" stroke-width=\"2px\" d=\"M420,614.5 C420,352.0 905.0,352.0 905.0,614.5\" fill=\"none\" stroke=\"currentColor\"/>\n",
       "    <text dy=\"1.25em\" style=\"font-size: 0.8em; letter-spacing: 1px\">\n",
       "        <textPath xlink:href=\"#arrow-3d0bc97dfe3041da86dfcb311e88773f-0-2\" class=\"displacy-label\" startOffset=\"50%\" side=\"left\" fill=\"currentColor\" text-anchor=\"middle\">advmod</textPath>\n",
       "    </text>\n",
       "    <path class=\"displacy-arrowhead\" d=\"M420,616.5 L412,604.5 428,604.5\" fill=\"currentColor\"/>\n",
       "</g>\n",
       "\n",
       "<g class=\"displacy-arrow\">\n",
       "    <path class=\"displacy-arc\" id=\"arrow-3d0bc97dfe3041da86dfcb311e88773f-0-3\" stroke-width=\"2px\" d=\"M595,614.5 C595,439.5 900.0,439.5 900.0,614.5\" fill=\"none\" stroke=\"currentColor\"/>\n",
       "    <text dy=\"1.25em\" style=\"font-size: 0.8em; letter-spacing: 1px\">\n",
       "        <textPath xlink:href=\"#arrow-3d0bc97dfe3041da86dfcb311e88773f-0-3\" class=\"displacy-label\" startOffset=\"50%\" side=\"left\" fill=\"currentColor\" text-anchor=\"middle\">nsubjpass</textPath>\n",
       "    </text>\n",
       "    <path class=\"displacy-arrowhead\" d=\"M595,616.5 L587,604.5 603,604.5\" fill=\"currentColor\"/>\n",
       "</g>\n",
       "\n",
       "<g class=\"displacy-arrow\">\n",
       "    <path class=\"displacy-arc\" id=\"arrow-3d0bc97dfe3041da86dfcb311e88773f-0-4\" stroke-width=\"2px\" d=\"M770,614.5 C770,527.0 895.0,527.0 895.0,614.5\" fill=\"none\" stroke=\"currentColor\"/>\n",
       "    <text dy=\"1.25em\" style=\"font-size: 0.8em; letter-spacing: 1px\">\n",
       "        <textPath xlink:href=\"#arrow-3d0bc97dfe3041da86dfcb311e88773f-0-4\" class=\"displacy-label\" startOffset=\"50%\" side=\"left\" fill=\"currentColor\" text-anchor=\"middle\">auxpass</textPath>\n",
       "    </text>\n",
       "    <path class=\"displacy-arrowhead\" d=\"M770,616.5 L762,604.5 778,604.5\" fill=\"currentColor\"/>\n",
       "</g>\n",
       "\n",
       "<g class=\"displacy-arrow\">\n",
       "    <path class=\"displacy-arc\" id=\"arrow-3d0bc97dfe3041da86dfcb311e88773f-0-5\" stroke-width=\"2px\" d=\"M945,614.5 C945,527.0 1070.0,527.0 1070.0,614.5\" fill=\"none\" stroke=\"currentColor\"/>\n",
       "    <text dy=\"1.25em\" style=\"font-size: 0.8em; letter-spacing: 1px\">\n",
       "        <textPath xlink:href=\"#arrow-3d0bc97dfe3041da86dfcb311e88773f-0-5\" class=\"displacy-label\" startOffset=\"50%\" side=\"left\" fill=\"currentColor\" text-anchor=\"middle\">prt</textPath>\n",
       "    </text>\n",
       "    <path class=\"displacy-arrowhead\" d=\"M1070.0,616.5 L1078.0,604.5 1062.0,604.5\" fill=\"currentColor\"/>\n",
       "</g>\n",
       "\n",
       "<g class=\"displacy-arrow\">\n",
       "    <path class=\"displacy-arc\" id=\"arrow-3d0bc97dfe3041da86dfcb311e88773f-0-6\" stroke-width=\"2px\" d=\"M945,614.5 C945,439.5 1250.0,439.5 1250.0,614.5\" fill=\"none\" stroke=\"currentColor\"/>\n",
       "    <text dy=\"1.25em\" style=\"font-size: 0.8em; letter-spacing: 1px\">\n",
       "        <textPath xlink:href=\"#arrow-3d0bc97dfe3041da86dfcb311e88773f-0-6\" class=\"displacy-label\" startOffset=\"50%\" side=\"left\" fill=\"currentColor\" text-anchor=\"middle\">prep</textPath>\n",
       "    </text>\n",
       "    <path class=\"displacy-arrowhead\" d=\"M1250.0,616.5 L1258.0,604.5 1242.0,604.5\" fill=\"currentColor\"/>\n",
       "</g>\n",
       "\n",
       "<g class=\"displacy-arrow\">\n",
       "    <path class=\"displacy-arc\" id=\"arrow-3d0bc97dfe3041da86dfcb311e88773f-0-7\" stroke-width=\"2px\" d=\"M1470,614.5 C1470,352.0 1955.0,352.0 1955.0,614.5\" fill=\"none\" stroke=\"currentColor\"/>\n",
       "    <text dy=\"1.25em\" style=\"font-size: 0.8em; letter-spacing: 1px\">\n",
       "        <textPath xlink:href=\"#arrow-3d0bc97dfe3041da86dfcb311e88773f-0-7\" class=\"displacy-label\" startOffset=\"50%\" side=\"left\" fill=\"currentColor\" text-anchor=\"middle\">advmod</textPath>\n",
       "    </text>\n",
       "    <path class=\"displacy-arrowhead\" d=\"M1470,616.5 L1462,604.5 1478,604.5\" fill=\"currentColor\"/>\n",
       "</g>\n",
       "\n",
       "<g class=\"displacy-arrow\">\n",
       "    <path class=\"displacy-arc\" id=\"arrow-3d0bc97dfe3041da86dfcb311e88773f-0-8\" stroke-width=\"2px\" d=\"M1645,614.5 C1645,439.5 1950.0,439.5 1950.0,614.5\" fill=\"none\" stroke=\"currentColor\"/>\n",
       "    <text dy=\"1.25em\" style=\"font-size: 0.8em; letter-spacing: 1px\">\n",
       "        <textPath xlink:href=\"#arrow-3d0bc97dfe3041da86dfcb311e88773f-0-8\" class=\"displacy-label\" startOffset=\"50%\" side=\"left\" fill=\"currentColor\" text-anchor=\"middle\">nsubj</textPath>\n",
       "    </text>\n",
       "    <path class=\"displacy-arrowhead\" d=\"M1645,616.5 L1637,604.5 1653,604.5\" fill=\"currentColor\"/>\n",
       "</g>\n",
       "\n",
       "<g class=\"displacy-arrow\">\n",
       "    <path class=\"displacy-arc\" id=\"arrow-3d0bc97dfe3041da86dfcb311e88773f-0-9\" stroke-width=\"2px\" d=\"M1820,614.5 C1820,527.0 1945.0,527.0 1945.0,614.5\" fill=\"none\" stroke=\"currentColor\"/>\n",
       "    <text dy=\"1.25em\" style=\"font-size: 0.8em; letter-spacing: 1px\">\n",
       "        <textPath xlink:href=\"#arrow-3d0bc97dfe3041da86dfcb311e88773f-0-9\" class=\"displacy-label\" startOffset=\"50%\" side=\"left\" fill=\"currentColor\" text-anchor=\"middle\">aux</textPath>\n",
       "    </text>\n",
       "    <path class=\"displacy-arrowhead\" d=\"M1820,616.5 L1812,604.5 1828,604.5\" fill=\"currentColor\"/>\n",
       "</g>\n",
       "\n",
       "<g class=\"displacy-arrow\">\n",
       "    <path class=\"displacy-arc\" id=\"arrow-3d0bc97dfe3041da86dfcb311e88773f-0-10\" stroke-width=\"2px\" d=\"M1295,614.5 C1295,264.5 1960.0,264.5 1960.0,614.5\" fill=\"none\" stroke=\"currentColor\"/>\n",
       "    <text dy=\"1.25em\" style=\"font-size: 0.8em; letter-spacing: 1px\">\n",
       "        <textPath xlink:href=\"#arrow-3d0bc97dfe3041da86dfcb311e88773f-0-10\" class=\"displacy-label\" startOffset=\"50%\" side=\"left\" fill=\"currentColor\" text-anchor=\"middle\">pcomp</textPath>\n",
       "    </text>\n",
       "    <path class=\"displacy-arrowhead\" d=\"M1960.0,616.5 L1968.0,604.5 1952.0,604.5\" fill=\"currentColor\"/>\n",
       "</g>\n",
       "\n",
       "<g class=\"displacy-arrow\">\n",
       "    <path class=\"displacy-arc\" id=\"arrow-3d0bc97dfe3041da86dfcb311e88773f-0-11\" stroke-width=\"2px\" d=\"M1995,614.5 C1995,527.0 2120.0,527.0 2120.0,614.5\" fill=\"none\" stroke=\"currentColor\"/>\n",
       "    <text dy=\"1.25em\" style=\"font-size: 0.8em; letter-spacing: 1px\">\n",
       "        <textPath xlink:href=\"#arrow-3d0bc97dfe3041da86dfcb311e88773f-0-11\" class=\"displacy-label\" startOffset=\"50%\" side=\"left\" fill=\"currentColor\" text-anchor=\"middle\">prep</textPath>\n",
       "    </text>\n",
       "    <path class=\"displacy-arrowhead\" d=\"M2120.0,616.5 L2128.0,604.5 2112.0,604.5\" fill=\"currentColor\"/>\n",
       "</g>\n",
       "\n",
       "<g class=\"displacy-arrow\">\n",
       "    <path class=\"displacy-arc\" id=\"arrow-3d0bc97dfe3041da86dfcb311e88773f-0-12\" stroke-width=\"2px\" d=\"M2345,614.5 C2345,527.0 2470.0,527.0 2470.0,614.5\" fill=\"none\" stroke=\"currentColor\"/>\n",
       "    <text dy=\"1.25em\" style=\"font-size: 0.8em; letter-spacing: 1px\">\n",
       "        <textPath xlink:href=\"#arrow-3d0bc97dfe3041da86dfcb311e88773f-0-12\" class=\"displacy-label\" startOffset=\"50%\" side=\"left\" fill=\"currentColor\" text-anchor=\"middle\">det</textPath>\n",
       "    </text>\n",
       "    <path class=\"displacy-arrowhead\" d=\"M2345,616.5 L2337,604.5 2353,604.5\" fill=\"currentColor\"/>\n",
       "</g>\n",
       "\n",
       "<g class=\"displacy-arrow\">\n",
       "    <path class=\"displacy-arc\" id=\"arrow-3d0bc97dfe3041da86dfcb311e88773f-0-13\" stroke-width=\"2px\" d=\"M2170,614.5 C2170,439.5 2475.0,439.5 2475.0,614.5\" fill=\"none\" stroke=\"currentColor\"/>\n",
       "    <text dy=\"1.25em\" style=\"font-size: 0.8em; letter-spacing: 1px\">\n",
       "        <textPath xlink:href=\"#arrow-3d0bc97dfe3041da86dfcb311e88773f-0-13\" class=\"displacy-label\" startOffset=\"50%\" side=\"left\" fill=\"currentColor\" text-anchor=\"middle\">pobj</textPath>\n",
       "    </text>\n",
       "    <path class=\"displacy-arrowhead\" d=\"M2475.0,616.5 L2483.0,604.5 2467.0,604.5\" fill=\"currentColor\"/>\n",
       "</g>\n",
       "\n",
       "<g class=\"displacy-arrow\">\n",
       "    <path class=\"displacy-arc\" id=\"arrow-3d0bc97dfe3041da86dfcb311e88773f-0-14\" stroke-width=\"2px\" d=\"M2520,614.5 C2520,527.0 2645.0,527.0 2645.0,614.5\" fill=\"none\" stroke=\"currentColor\"/>\n",
       "    <text dy=\"1.25em\" style=\"font-size: 0.8em; letter-spacing: 1px\">\n",
       "        <textPath xlink:href=\"#arrow-3d0bc97dfe3041da86dfcb311e88773f-0-14\" class=\"displacy-label\" startOffset=\"50%\" side=\"left\" fill=\"currentColor\" text-anchor=\"middle\">prep</textPath>\n",
       "    </text>\n",
       "    <path class=\"displacy-arrowhead\" d=\"M2645.0,616.5 L2653.0,604.5 2637.0,604.5\" fill=\"currentColor\"/>\n",
       "</g>\n",
       "\n",
       "<g class=\"displacy-arrow\">\n",
       "    <path class=\"displacy-arc\" id=\"arrow-3d0bc97dfe3041da86dfcb311e88773f-0-15\" stroke-width=\"2px\" d=\"M2695,614.5 C2695,527.0 2820.0,527.0 2820.0,614.5\" fill=\"none\" stroke=\"currentColor\"/>\n",
       "    <text dy=\"1.25em\" style=\"font-size: 0.8em; letter-spacing: 1px\">\n",
       "        <textPath xlink:href=\"#arrow-3d0bc97dfe3041da86dfcb311e88773f-0-15\" class=\"displacy-label\" startOffset=\"50%\" side=\"left\" fill=\"currentColor\" text-anchor=\"middle\">pobj</textPath>\n",
       "    </text>\n",
       "    <path class=\"displacy-arrowhead\" d=\"M2820.0,616.5 L2828.0,604.5 2812.0,604.5\" fill=\"currentColor\"/>\n",
       "</g>\n",
       "\n",
       "<g class=\"displacy-arrow\">\n",
       "    <path class=\"displacy-arc\" id=\"arrow-3d0bc97dfe3041da86dfcb311e88773f-0-16\" stroke-width=\"2px\" d=\"M945,614.5 C945,2.0 3025.0,2.0 3025.0,614.5\" fill=\"none\" stroke=\"currentColor\"/>\n",
       "    <text dy=\"1.25em\" style=\"font-size: 0.8em; letter-spacing: 1px\">\n",
       "        <textPath xlink:href=\"#arrow-3d0bc97dfe3041da86dfcb311e88773f-0-16\" class=\"displacy-label\" startOffset=\"50%\" side=\"left\" fill=\"currentColor\" text-anchor=\"middle\">advcl</textPath>\n",
       "    </text>\n",
       "    <path class=\"displacy-arrowhead\" d=\"M3025.0,616.5 L3033.0,604.5 3017.0,604.5\" fill=\"currentColor\"/>\n",
       "</g>\n",
       "\n",
       "<g class=\"displacy-arrow\">\n",
       "    <path class=\"displacy-arc\" id=\"arrow-3d0bc97dfe3041da86dfcb311e88773f-0-17\" stroke-width=\"2px\" d=\"M3220,614.5 C3220,177.0 4065.0,177.0 4065.0,614.5\" fill=\"none\" stroke=\"currentColor\"/>\n",
       "    <text dy=\"1.25em\" style=\"font-size: 0.8em; letter-spacing: 1px\">\n",
       "        <textPath xlink:href=\"#arrow-3d0bc97dfe3041da86dfcb311e88773f-0-17\" class=\"displacy-label\" startOffset=\"50%\" side=\"left\" fill=\"currentColor\" text-anchor=\"middle\">mark</textPath>\n",
       "    </text>\n",
       "    <path class=\"displacy-arrowhead\" d=\"M3220,616.5 L3212,604.5 3228,604.5\" fill=\"currentColor\"/>\n",
       "</g>\n",
       "\n",
       "<g class=\"displacy-arrow\">\n",
       "    <path class=\"displacy-arc\" id=\"arrow-3d0bc97dfe3041da86dfcb311e88773f-0-18\" stroke-width=\"2px\" d=\"M3395,614.5 C3395,264.5 4060.0,264.5 4060.0,614.5\" fill=\"none\" stroke=\"currentColor\"/>\n",
       "    <text dy=\"1.25em\" style=\"font-size: 0.8em; letter-spacing: 1px\">\n",
       "        <textPath xlink:href=\"#arrow-3d0bc97dfe3041da86dfcb311e88773f-0-18\" class=\"displacy-label\" startOffset=\"50%\" side=\"left\" fill=\"currentColor\" text-anchor=\"middle\">nsubj</textPath>\n",
       "    </text>\n",
       "    <path class=\"displacy-arrowhead\" d=\"M3395,616.5 L3387,604.5 3403,604.5\" fill=\"currentColor\"/>\n",
       "</g>\n",
       "\n",
       "<g class=\"displacy-arrow\">\n",
       "    <path class=\"displacy-arc\" id=\"arrow-3d0bc97dfe3041da86dfcb311e88773f-0-19\" stroke-width=\"2px\" d=\"M3570,614.5 C3570,352.0 4055.0,352.0 4055.0,614.5\" fill=\"none\" stroke=\"currentColor\"/>\n",
       "    <text dy=\"1.25em\" style=\"font-size: 0.8em; letter-spacing: 1px\">\n",
       "        <textPath xlink:href=\"#arrow-3d0bc97dfe3041da86dfcb311e88773f-0-19\" class=\"displacy-label\" startOffset=\"50%\" side=\"left\" fill=\"currentColor\" text-anchor=\"middle\">aux</textPath>\n",
       "    </text>\n",
       "    <path class=\"displacy-arrowhead\" d=\"M3570,616.5 L3562,604.5 3578,604.5\" fill=\"currentColor\"/>\n",
       "</g>\n",
       "\n",
       "<g class=\"displacy-arrow\">\n",
       "    <path class=\"displacy-arc\" id=\"arrow-3d0bc97dfe3041da86dfcb311e88773f-0-20\" stroke-width=\"2px\" d=\"M3745,614.5 C3745,439.5 4050.0,439.5 4050.0,614.5\" fill=\"none\" stroke=\"currentColor\"/>\n",
       "    <text dy=\"1.25em\" style=\"font-size: 0.8em; letter-spacing: 1px\">\n",
       "        <textPath xlink:href=\"#arrow-3d0bc97dfe3041da86dfcb311e88773f-0-20\" class=\"displacy-label\" startOffset=\"50%\" side=\"left\" fill=\"currentColor\" text-anchor=\"middle\">aux</textPath>\n",
       "    </text>\n",
       "    <path class=\"displacy-arrowhead\" d=\"M3745,616.5 L3737,604.5 3753,604.5\" fill=\"currentColor\"/>\n",
       "</g>\n",
       "\n",
       "<g class=\"displacy-arrow\">\n",
       "    <path class=\"displacy-arc\" id=\"arrow-3d0bc97dfe3041da86dfcb311e88773f-0-21\" stroke-width=\"2px\" d=\"M3920,614.5 C3920,527.0 4045.0,527.0 4045.0,614.5\" fill=\"none\" stroke=\"currentColor\"/>\n",
       "    <text dy=\"1.25em\" style=\"font-size: 0.8em; letter-spacing: 1px\">\n",
       "        <textPath xlink:href=\"#arrow-3d0bc97dfe3041da86dfcb311e88773f-0-21\" class=\"displacy-label\" startOffset=\"50%\" side=\"left\" fill=\"currentColor\" text-anchor=\"middle\">aux</textPath>\n",
       "    </text>\n",
       "    <path class=\"displacy-arrowhead\" d=\"M3920,616.5 L3912,604.5 3928,604.5\" fill=\"currentColor\"/>\n",
       "</g>\n",
       "\n",
       "<g class=\"displacy-arrow\">\n",
       "    <path class=\"displacy-arc\" id=\"arrow-3d0bc97dfe3041da86dfcb311e88773f-0-22\" stroke-width=\"2px\" d=\"M3045,614.5 C3045,89.5 4070.0,89.5 4070.0,614.5\" fill=\"none\" stroke=\"currentColor\"/>\n",
       "    <text dy=\"1.25em\" style=\"font-size: 0.8em; letter-spacing: 1px\">\n",
       "        <textPath xlink:href=\"#arrow-3d0bc97dfe3041da86dfcb311e88773f-0-22\" class=\"displacy-label\" startOffset=\"50%\" side=\"left\" fill=\"currentColor\" text-anchor=\"middle\">ccomp</textPath>\n",
       "    </text>\n",
       "    <path class=\"displacy-arrowhead\" d=\"M4070.0,616.5 L4078.0,604.5 4062.0,604.5\" fill=\"currentColor\"/>\n",
       "</g>\n",
       "\n",
       "<g class=\"displacy-arrow\">\n",
       "    <path class=\"displacy-arc\" id=\"arrow-3d0bc97dfe3041da86dfcb311e88773f-0-23\" stroke-width=\"2px\" d=\"M4095,614.5 C4095,527.0 4220.0,527.0 4220.0,614.5\" fill=\"none\" stroke=\"currentColor\"/>\n",
       "    <text dy=\"1.25em\" style=\"font-size: 0.8em; letter-spacing: 1px\">\n",
       "        <textPath xlink:href=\"#arrow-3d0bc97dfe3041da86dfcb311e88773f-0-23\" class=\"displacy-label\" startOffset=\"50%\" side=\"left\" fill=\"currentColor\" text-anchor=\"middle\">dobj</textPath>\n",
       "    </text>\n",
       "    <path class=\"displacy-arrowhead\" d=\"M4220.0,616.5 L4228.0,604.5 4212.0,604.5\" fill=\"currentColor\"/>\n",
       "</g>\n",
       "\n",
       "<g class=\"displacy-arrow\">\n",
       "    <path class=\"displacy-arc\" id=\"arrow-3d0bc97dfe3041da86dfcb311e88773f-0-24\" stroke-width=\"2px\" d=\"M4095,614.5 C4095,439.5 4400.0,439.5 4400.0,614.5\" fill=\"none\" stroke=\"currentColor\"/>\n",
       "    <text dy=\"1.25em\" style=\"font-size: 0.8em; letter-spacing: 1px\">\n",
       "        <textPath xlink:href=\"#arrow-3d0bc97dfe3041da86dfcb311e88773f-0-24\" class=\"displacy-label\" startOffset=\"50%\" side=\"left\" fill=\"currentColor\" text-anchor=\"middle\">prep</textPath>\n",
       "    </text>\n",
       "    <path class=\"displacy-arrowhead\" d=\"M4400.0,616.5 L4408.0,604.5 4392.0,604.5\" fill=\"currentColor\"/>\n",
       "</g>\n",
       "\n",
       "<g class=\"displacy-arrow\">\n",
       "    <path class=\"displacy-arc\" id=\"arrow-3d0bc97dfe3041da86dfcb311e88773f-0-25\" stroke-width=\"2px\" d=\"M4445,614.5 C4445,527.0 4570.0,527.0 4570.0,614.5\" fill=\"none\" stroke=\"currentColor\"/>\n",
       "    <text dy=\"1.25em\" style=\"font-size: 0.8em; letter-spacing: 1px\">\n",
       "        <textPath xlink:href=\"#arrow-3d0bc97dfe3041da86dfcb311e88773f-0-25\" class=\"displacy-label\" startOffset=\"50%\" side=\"left\" fill=\"currentColor\" text-anchor=\"middle\">pcomp</textPath>\n",
       "    </text>\n",
       "    <path class=\"displacy-arrowhead\" d=\"M4570.0,616.5 L4578.0,604.5 4562.0,604.5\" fill=\"currentColor\"/>\n",
       "</g>\n",
       "\n",
       "<g class=\"displacy-arrow\">\n",
       "    <path class=\"displacy-arc\" id=\"arrow-3d0bc97dfe3041da86dfcb311e88773f-0-26\" stroke-width=\"2px\" d=\"M4795,614.5 C4795,439.5 5100.0,439.5 5100.0,614.5\" fill=\"none\" stroke=\"currentColor\"/>\n",
       "    <text dy=\"1.25em\" style=\"font-size: 0.8em; letter-spacing: 1px\">\n",
       "        <textPath xlink:href=\"#arrow-3d0bc97dfe3041da86dfcb311e88773f-0-26\" class=\"displacy-label\" startOffset=\"50%\" side=\"left\" fill=\"currentColor\" text-anchor=\"middle\">mark</textPath>\n",
       "    </text>\n",
       "    <path class=\"displacy-arrowhead\" d=\"M4795,616.5 L4787,604.5 4803,604.5\" fill=\"currentColor\"/>\n",
       "</g>\n",
       "\n",
       "<g class=\"displacy-arrow\">\n",
       "    <path class=\"displacy-arc\" id=\"arrow-3d0bc97dfe3041da86dfcb311e88773f-0-27\" stroke-width=\"2px\" d=\"M4970,614.5 C4970,527.0 5095.0,527.0 5095.0,614.5\" fill=\"none\" stroke=\"currentColor\"/>\n",
       "    <text dy=\"1.25em\" style=\"font-size: 0.8em; letter-spacing: 1px\">\n",
       "        <textPath xlink:href=\"#arrow-3d0bc97dfe3041da86dfcb311e88773f-0-27\" class=\"displacy-label\" startOffset=\"50%\" side=\"left\" fill=\"currentColor\" text-anchor=\"middle\">expl</textPath>\n",
       "    </text>\n",
       "    <path class=\"displacy-arrowhead\" d=\"M4970,616.5 L4962,604.5 4978,604.5\" fill=\"currentColor\"/>\n",
       "</g>\n",
       "\n",
       "<g class=\"displacy-arrow\">\n",
       "    <path class=\"displacy-arc\" id=\"arrow-3d0bc97dfe3041da86dfcb311e88773f-0-28\" stroke-width=\"2px\" d=\"M4095,614.5 C4095,89.5 5120.0,89.5 5120.0,614.5\" fill=\"none\" stroke=\"currentColor\"/>\n",
       "    <text dy=\"1.25em\" style=\"font-size: 0.8em; letter-spacing: 1px\">\n",
       "        <textPath xlink:href=\"#arrow-3d0bc97dfe3041da86dfcb311e88773f-0-28\" class=\"displacy-label\" startOffset=\"50%\" side=\"left\" fill=\"currentColor\" text-anchor=\"middle\">advcl</textPath>\n",
       "    </text>\n",
       "    <path class=\"displacy-arrowhead\" d=\"M5120.0,616.5 L5128.0,604.5 5112.0,604.5\" fill=\"currentColor\"/>\n",
       "</g>\n",
       "\n",
       "<g class=\"displacy-arrow\">\n",
       "    <path class=\"displacy-arc\" id=\"arrow-3d0bc97dfe3041da86dfcb311e88773f-0-29\" stroke-width=\"2px\" d=\"M5320,614.5 C5320,527.0 5445.0,527.0 5445.0,614.5\" fill=\"none\" stroke=\"currentColor\"/>\n",
       "    <text dy=\"1.25em\" style=\"font-size: 0.8em; letter-spacing: 1px\">\n",
       "        <textPath xlink:href=\"#arrow-3d0bc97dfe3041da86dfcb311e88773f-0-29\" class=\"displacy-label\" startOffset=\"50%\" side=\"left\" fill=\"currentColor\" text-anchor=\"middle\">det</textPath>\n",
       "    </text>\n",
       "    <path class=\"displacy-arrowhead\" d=\"M5320,616.5 L5312,604.5 5328,604.5\" fill=\"currentColor\"/>\n",
       "</g>\n",
       "\n",
       "<g class=\"displacy-arrow\">\n",
       "    <path class=\"displacy-arc\" id=\"arrow-3d0bc97dfe3041da86dfcb311e88773f-0-30\" stroke-width=\"2px\" d=\"M5145,614.5 C5145,439.5 5450.0,439.5 5450.0,614.5\" fill=\"none\" stroke=\"currentColor\"/>\n",
       "    <text dy=\"1.25em\" style=\"font-size: 0.8em; letter-spacing: 1px\">\n",
       "        <textPath xlink:href=\"#arrow-3d0bc97dfe3041da86dfcb311e88773f-0-30\" class=\"displacy-label\" startOffset=\"50%\" side=\"left\" fill=\"currentColor\" text-anchor=\"middle\">attr</textPath>\n",
       "    </text>\n",
       "    <path class=\"displacy-arrowhead\" d=\"M5450.0,616.5 L5458.0,604.5 5442.0,604.5\" fill=\"currentColor\"/>\n",
       "</g>\n",
       "\n",
       "<g class=\"displacy-arrow\">\n",
       "    <path class=\"displacy-arc\" id=\"arrow-3d0bc97dfe3041da86dfcb311e88773f-0-31\" stroke-width=\"2px\" d=\"M5495,614.5 C5495,527.0 5620.0,527.0 5620.0,614.5\" fill=\"none\" stroke=\"currentColor\"/>\n",
       "    <text dy=\"1.25em\" style=\"font-size: 0.8em; letter-spacing: 1px\">\n",
       "        <textPath xlink:href=\"#arrow-3d0bc97dfe3041da86dfcb311e88773f-0-31\" class=\"displacy-label\" startOffset=\"50%\" side=\"left\" fill=\"currentColor\" text-anchor=\"middle\">prep</textPath>\n",
       "    </text>\n",
       "    <path class=\"displacy-arrowhead\" d=\"M5620.0,616.5 L5628.0,604.5 5612.0,604.5\" fill=\"currentColor\"/>\n",
       "</g>\n",
       "\n",
       "<g class=\"displacy-arrow\">\n",
       "    <path class=\"displacy-arc\" id=\"arrow-3d0bc97dfe3041da86dfcb311e88773f-0-32\" stroke-width=\"2px\" d=\"M5845,614.5 C5845,527.0 5970.0,527.0 5970.0,614.5\" fill=\"none\" stroke=\"currentColor\"/>\n",
       "    <text dy=\"1.25em\" style=\"font-size: 0.8em; letter-spacing: 1px\">\n",
       "        <textPath xlink:href=\"#arrow-3d0bc97dfe3041da86dfcb311e88773f-0-32\" class=\"displacy-label\" startOffset=\"50%\" side=\"left\" fill=\"currentColor\" text-anchor=\"middle\">det</textPath>\n",
       "    </text>\n",
       "    <path class=\"displacy-arrowhead\" d=\"M5845,616.5 L5837,604.5 5853,604.5\" fill=\"currentColor\"/>\n",
       "</g>\n",
       "\n",
       "<g class=\"displacy-arrow\">\n",
       "    <path class=\"displacy-arc\" id=\"arrow-3d0bc97dfe3041da86dfcb311e88773f-0-33\" stroke-width=\"2px\" d=\"M5670,614.5 C5670,439.5 5975.0,439.5 5975.0,614.5\" fill=\"none\" stroke=\"currentColor\"/>\n",
       "    <text dy=\"1.25em\" style=\"font-size: 0.8em; letter-spacing: 1px\">\n",
       "        <textPath xlink:href=\"#arrow-3d0bc97dfe3041da86dfcb311e88773f-0-33\" class=\"displacy-label\" startOffset=\"50%\" side=\"left\" fill=\"currentColor\" text-anchor=\"middle\">pobj</textPath>\n",
       "    </text>\n",
       "    <path class=\"displacy-arrowhead\" d=\"M5975.0,616.5 L5983.0,604.5 5967.0,604.5\" fill=\"currentColor\"/>\n",
       "</g>\n",
       "</svg>"
      ],
      "text/plain": [
       "<IPython.core.display.HTML object>"
      ]
     },
     "metadata": {},
     "output_type": "display_data"
    }
   ],
   "source": [
    "svg = displacy.render(doc, style='dep')"
   ]
  },
  {
   "cell_type": "code",
   "execution_count": null,
   "metadata": {},
   "outputs": [
    {
     "name": "stdout",
     "output_type": "stream",
     "text": [
      "I I nsubjpass called\n",
      "he he nsubj working\n",
      "a member member pobj by\n",
      "management management pobj of\n",
      "he he nsubj doing\n",
      "drugs drugs dobj doing\n",
      "a syringe syringe attr 's\n",
      "the bin bin pobj in\n"
     ]
    }
   ],
   "source": [
    "for chunk in doc.noun_chunks:\n",
    "    print(chunk.text, chunk.root.text, chunk.root.dep_, chunk.root.head.text)"
   ]
  },
  {
   "cell_type": "code",
   "execution_count": null,
   "metadata": {},
   "outputs": [
    {
     "name": "stdout",
     "output_type": "stream",
     "text": [
      "10 nummod minutes NOUN []\n",
      "minutes npadvmod later ADV [10]\n",
      "later advmod called VERB [minutes]\n",
      ", punct called VERB []\n",
      "I nsubjpass called VERB []\n",
      "'m auxpass called VERB []\n",
      "called ROOT called VERB [later, ,, I, 'm, down, to, saying, .]\n",
      "down prt called VERB []\n",
      "to prep called VERB [working]\n",
      "where advmod working VERB []\n",
      "he nsubj working VERB []\n",
      "was aux working VERB []\n",
      "working pcomp to ADP [where, he, was, by]\n",
      "by prep working VERB [member]\n",
      "a det member NOUN []\n",
      "member pobj by ADP [a, of]\n",
      "of prep member NOUN [management]\n",
      "management pobj of ADP []\n",
      "saying advcl called VERB [doing]\n",
      "that mark doing VERB []\n",
      "he nsubj doing VERB []\n",
      "must aux doing VERB []\n",
      "have aux doing VERB []\n",
      "been aux doing VERB []\n",
      "doing ccomp saying VERB [that, he, must, have, been, drugs, in, 's]\n",
      "drugs dobj doing VERB []\n",
      "in prep doing VERB [there]\n",
      "there pcomp in ADV []\n",
      "because mark 's AUX []\n",
      "there expl 's AUX []\n",
      "'s advcl doing VERB [because, there, syringe]\n",
      "a det syringe NOUN []\n",
      "syringe attr 's AUX [a, in]\n",
      "in prep syringe NOUN [bin]\n",
      "the det bin PROPN []\n",
      "bin pobj in ADP [the]\n",
      ". punct called VERB []\n"
     ]
    }
   ],
   "source": [
    "for token in doc:\n",
    "    print(token.text, token.dep_, token.head.text, token.head.pos_,\n",
    "            [child for child in token.children])"
   ]
  },
  {
   "cell_type": "code",
   "execution_count": null,
   "metadata": {},
   "outputs": [
    {
     "name": "stdout",
     "output_type": "stream",
     "text": [
      "{doing, working}\n"
     ]
    }
   ],
   "source": [
    "# Iterate over the arcs in the tree by iterating over the words in the sentence\n",
    "verbs = set()\n",
    "for possible_subject in doc:\n",
    "    if possible_subject.dep == nsubj and possible_subject.head.pos == VERB:\n",
    "        verbs.add(possible_subject.head)\n",
    "print(verbs)"
   ]
  },
  {
   "cell_type": "markdown",
   "metadata": {},
   "source": [
    "### Iterate around the Local Tree"
   ]
  },
  {
   "cell_type": "code",
   "execution_count": null,
   "metadata": {},
   "outputs": [
    {
     "name": "stdout",
     "output_type": "stream",
     "text": [
      "10 nummod 0 0 ['minutes', 'later', 'called']\n",
      "minutes npadvmod 1 0 ['later', 'called']\n",
      "later advmod 1 0 ['called']\n"
     ]
    }
   ],
   "source": [
    "root = [token for token in doc if token.head == token][0]\n",
    "subject = list(root.lefts)[0]\n",
    "for descendant in subject.subtree:\n",
    "    assert subject is descendant or subject.is_ancestor(descendant)\n",
    "    print(descendant.text, descendant.dep_, descendant.n_lefts,\n",
    "            descendant.n_rights,\n",
    "            [ancestor.text for ancestor in descendant.ancestors])"
   ]
  },
  {
   "cell_type": "code",
   "execution_count": null,
   "metadata": {},
   "outputs": [
    {
     "name": "stdout",
     "output_type": "stream",
     "text": [
      "10 NUM nummod minutes\n",
      "minutes NOUN npadvmod later\n",
      "later ADV advmod called\n",
      ", PUNCT punct called\n",
      "I PRON nsubjpass called\n",
      "'m AUX auxpass called\n",
      "called VERB ROOT called\n",
      "down ADP prt called\n",
      "to ADP prep called\n",
      "where ADV advmod working\n",
      "he PRON nsubj working\n",
      "was AUX aux working\n",
      "working VERB pcomp to\n",
      "by ADP prep working\n",
      "a DET det member\n",
      "member NOUN pobj by\n",
      "of ADP prep member\n",
      "management NOUN pobj of\n",
      "saying VERB advcl called\n",
      "that SCONJ mark doing\n",
      "he PRON nsubj doing\n",
      "must AUX aux doing\n",
      "have AUX aux doing\n",
      "been AUX aux doing\n",
      "doing VERB ccomp saying\n",
      "drugs NOUN dobj doing\n",
      "in ADV prep doing\n",
      "there ADV pcomp in\n",
      "because SCONJ mark 's\n",
      "there PRON expl 's\n",
      "'s AUX advcl doing\n",
      "a DET det syringe\n",
      "syringe NOUN attr 's\n",
      "in ADP prep syringe\n",
      "the DET det bin\n",
      "bin PROPN pobj in\n",
      ". PUNCT punct called\n"
     ]
    }
   ],
   "source": [
    "span = doc[doc[4].left_edge.i : doc[4].right_edge.i+1]\n",
    "with doc.retokenize() as retokenizer:\n",
    "    retokenizer.merge(span)\n",
    "for token in doc:\n",
    "    print(token.text, token.pos_, token.dep_, token.head.text)"
   ]
  },
  {
   "cell_type": "markdown",
   "metadata": {},
   "source": [
    "### Information Extraction"
   ]
  },
  {
   "cell_type": "code",
   "execution_count": null,
   "metadata": {},
   "outputs": [
    {
     "name": "stdout",
     "output_type": "stream",
     "text": [
      "my best\n",
      "my best\n",
      "our worth\n",
      "our own\n",
      "our best\n",
      "her polite\n",
      "my own\n",
      "my supreme\n",
      "I willing\n",
      "my last\n",
      "its own\n",
      "my flat\n",
      "her username\n",
      "our own\n",
      "her quick\n",
      "our own\n",
      "their own\n",
      "her gabble\n",
      "Its obvious\n"
     ]
    }
   ],
   "source": [
    "# Conbination of possession and adjective \n",
    "for index, row in sub_df.iterrows():\n",
    "    text = ' '.join(row['tokenized_text'])\n",
    "    doc = nlp(text)\n",
    "    for chunk in doc:\n",
    "        if chunk.dep == poss and chunk.head.pos == ADJ:\n",
    "            print(chunk.text, chunk.head.text)"
   ]
  },
  {
   "cell_type": "code",
   "execution_count": null,
   "metadata": {},
   "outputs": [
    {
     "name": "stdout",
     "output_type": "stream",
     "text": [
      "14089 ['nasty', 'customers']\n",
      "13724 ['last', 'week']\n",
      "13404 ['evil', 'plan']\n",
      "13152 ['next', 'time']\n",
      "12650 ['biggest', 'post']\n",
      "12372 ['till', 'drawer']\n",
      "11295 ['first', 'order']\n",
      "10528 ['lower', 'case']\n",
      "9448 ['kinda', 'guys']\n",
      "9359 ['wireless', 'keyboard']\n",
      "9293 ['own', 'time']\n",
      "8772 ['blue', 'screen']\n",
      "8702 ['other', 'people']\n",
      "8568 ['next', 'hour']\n",
      "8557 ['Last', 'time']\n",
      "8167 ['last', 'month']\n",
      "7851 ['particular', 'reminder']\n",
      "7746 ['broken', 'mom']\n",
      "7719 ['several', 'calls']\n",
      "7703 ['weird', 'problem']\n"
     ]
    }
   ],
   "source": [
    "# Combination of adjectival modifier and noun appeared in top-20 scored posts\n",
    "amod_noun = {}\n",
    "for index, row in sub_df[:20].iterrows():\n",
    "    text = ' '.join(row['tokenized_text'])\n",
    "    amod_noun[row['score']] = []\n",
    "    doc = nlp(text)\n",
    "    for chunk in doc:\n",
    "        if chunk.dep == amod and chunk.head.pos == NOUN:\n",
    "            amod_noun[row['score']] = [chunk.text, chunk.head.text]\n",
    "\n",
    "for key, value in amod_noun.items():\n",
    "    if value != []:\n",
    "        print(key, value)"
   ]
  },
  {
   "cell_type": "code",
   "execution_count": null,
   "metadata": {},
   "outputs": [
    {
     "name": "stdout",
     "output_type": "stream",
     "text": [
      "14089 ['on', 'outlook']\n",
      "13724 ['on', 'details']\n",
      "13404 ['of', 'total']\n",
      "13152 ['for', 'thanks']\n",
      "12650 ['of', 'members']\n",
      "12372 ['of', 'back']\n",
      "11295 ['of', 'cause']\n",
      "10528 ['at', 'd']\n",
      "9448 ['over', 'steps']\n",
      "9359 ['of', 'stack']\n",
      "9293 ['off', 'time']\n",
      "8772 ['of', 'piece']\n",
      "8702 ['of', 'middle']\n",
      "8568 ['about', 'email']\n",
      "8557 ['for', 'thanks']\n",
      "8167 ['for', 'check']\n",
      "7851 ['on', 'chugs']\n",
      "7746 ['of', 'nice']\n",
      "7719 ['for', 'Thanks']\n",
      "7703 ['on', 'pm']\n"
     ]
    }
   ],
   "source": [
    "# Combination of noun and prepositions appeared in top-20 scored posts\n",
    "prep_noun = {}\n",
    "for index, row in sub_df[:20].iterrows():\n",
    "    text = ' '.join(row['tokenized_text'])\n",
    "    prep_noun[row['score']] = []\n",
    "    doc = nlp(text)\n",
    "    for chunk in doc:\n",
    "        if chunk.dep == prep and chunk.head.pos == NOUN:\n",
    "            prep_noun[row['score']] = [chunk.text, chunk.head.text]\n",
    "            \n",
    "for key, value in prep_noun.items():\n",
    "    if value != []:\n",
    "        print(key, value)"
   ]
  },
  {
   "cell_type": "markdown",
   "metadata": {},
   "source": [
    "Although the posts in the dataset are mostly comprised of colloquial expressions, sometimes people express in more conplicated way when typing out a story and the above sentence shows a deep phrase structure and deeply nested dependency parse tree. However, most sentences found in the data are short and concise. \n",
    "\n",
    "I extracted combinations of words that involve the use of nouns and verbs. Adjective-noun pairs occur the most in our dataset. We found that \"year\", \"month\" are very likely to follow \"last\", indicating the time of a story. However, the combination of phrases does not reveal much about the topics discussed in each post. For future analysis, We need to take into account of the context of these words and try to find the associations between the use of phrases and the original post."
   ]
  },
  {
   "cell_type": "markdown",
   "metadata": {},
   "source": [
    "## <span style=\"color:red\">*Exercise 6*</span>\n",
    "\n",
    "<span style=\"color:red\">Construct cells immediately below this that calculate the KL and $\\chi^2$ divergences, and the KS and Wasserstein distances between four separate corpora, plot these with heatmaps, and then array them in two dimensions with multidimensional scaling as above. What does this reveal about relations between the corpora? Which analysis (and divergence or distribution) distinguishes the authors or documents better? \n",
    "\n",
    "<span style=\"color:red\">**Stretch**: Calculate the <a \"href=https://en.wikipedia.org/wiki/Jensen–Shannon_divergence\" target=\"_blank\">Jensen-Shannon Divergence</a> between your four corpora. What is the relationship between the KL and JS divergences?</span> "
   ]
  },
  {
   "cell_type": "code",
   "execution_count": null,
   "metadata": {
    "collapsed": true
   },
   "outputs": [],
   "source": [
    "# Because the dataset is sorted based on the score each post received, \n",
    "# I will divide the dataset into two: high and low scored posts\n",
    "# The other two corpora will be two Shakespeare's play texts for this analysis\n",
    "reddit_high = reddit_df[:800]\n",
    "reddit_low = reddit_df[-800:]"
   ]
  },
  {
   "cell_type": "code",
   "execution_count": null,
   "metadata": {
    "collapsed": true
   },
   "outputs": [],
   "source": [
    "with open('../data/Shakespeare/hamlet.txt', 'r') as file:\n",
    "    shakespeare1 = file.read().replace('\\n', '')\n",
    "    \n",
    "with open('../data/Shakespeare/as_you_like_it.txt', 'r') as file:\n",
    "    shakespeare2 = file.read().replace('\\n', '')"
   ]
  },
  {
   "cell_type": "code",
   "execution_count": null,
   "metadata": {
    "collapsed": true
   },
   "outputs": [],
   "source": [
    "# Prepare corpora for analysis\n",
    "ss1_sentences = shakespeare1.replace('\\n','').split('.')\n",
    "ss1_df = pandas.DataFrame(ss1_sentences, columns=['text'])\n",
    "ss1_df['tokenized_text'] = ss1_df['text'].apply(lambda x: word_tokenize(x))\n",
    "ss1_df['normalized_tokens'] = ss1_df['tokenized_text'].apply(lambda x: normalizeTokens(x))\n",
    "\n",
    "ss2_sentences = shakespeare2.replace('\\n','').split('.')\n",
    "ss2_df = pandas.DataFrame(ss2_sentences,columns=['text'])\n",
    "ss2_df['tokenized_text'] = ss2_df['text'].apply(lambda x: word_tokenize(x))\n",
    "ss2_df['normalized_tokens'] = ss2_df['tokenized_text'].apply(lambda x: normalizeTokens(x))"
   ]
  },
  {
   "cell_type": "code",
   "execution_count": null,
   "metadata": {},
   "outputs": [
    {
     "data": {
      "text/plain": [
       "628"
      ]
     },
     "execution_count": 72,
     "metadata": {},
     "output_type": "execute_result"
    }
   ],
   "source": [
    "# Count the occurences of \"leave\"\n",
    "high_words = set(reddit_high['normalized_tokens'].sum())\n",
    "low_words = set(reddit_low['normalized_tokens'].sum())\n",
    "ss1_words = set(ss1_df['normalized_tokens'].sum())\n",
    "ss2_words = set(ss2_df['normalized_tokens'].sum())\n",
    "\n",
    "overlapWords = ss1_words & ss2_words & high_words & low_words\n",
    "\n",
    "overlapWordsDict = {word: index for index, word in enumerate(overlapWords)}\n",
    "overlapWordsDict['leave']"
   ]
  },
  {
   "cell_type": "code",
   "execution_count": null,
   "metadata": {},
   "outputs": [
    {
     "data": {
      "text/plain": [
       "1.0"
      ]
     },
     "execution_count": 73,
     "metadata": {},
     "output_type": "execute_result"
    }
   ],
   "source": [
    "def makeProbsArray(dfColumn, overlapDict):\n",
    "    words = dfColumn.sum()\n",
    "    countList = [0] * len(overlapDict)\n",
    "    for word in words:\n",
    "        try:\n",
    "            countList[overlapDict[word]] += 1\n",
    "        except KeyError:\n",
    "            #The word is not common so we skip it\n",
    "            pass\n",
    "    countArray = np.array(countList)\n",
    "    return countArray / countArray.sum()\n",
    "\n",
    "highProbArray = makeProbsArray(reddit_high['normalized_tokens'], overlapWordsDict)\n",
    "lowProbArray = makeProbsArray(reddit_low['normalized_tokens'], overlapWordsDict)\n",
    "ss1ProbArray = makeProbsArray(ss1_df['normalized_tokens'], overlapWordsDict)\n",
    "ss2ProbArray = makeProbsArray(ss2_df['normalized_tokens'], overlapWordsDict)\n",
    "\n",
    "ss2ProbArray.sum()"
   ]
  },
  {
   "cell_type": "markdown",
   "metadata": {},
   "source": [
    "### 1. KL Divergence"
   ]
  },
  {
   "cell_type": "code",
   "execution_count": 75,
   "metadata": {},
   "outputs": [
    {
     "name": "stdout",
     "output_type": "stream",
     "text": [
      "0.16387212088793476\n",
      "1.1275947933531523\n",
      "0.6135403968549211\n",
      "0.940847101970449\n"
     ]
    }
   ],
   "source": [
    "# Calculate divergences\n",
    "high_low_divergence = scipy.stats.entropy(highProbArray, lowProbArray)\n",
    "print(high_low_divergence)\n",
    "low_ss1_divergence = scipy.stats.entropy(lowProbArray, ss1ProbArray)\n",
    "print(low_ss1_divergence)\n",
    "ss1_ss2_divergence = scipy.stats.entropy(ss1ProbArray, ss2ProbArray)\n",
    "print(ss1_ss2_divergence)\n",
    "high_ss2_divergence = scipy.stats.entropy(highProbArray, ss2ProbArray)\n",
    "print(high_ss2_divergence)"
   ]
  },
  {
   "cell_type": "code",
   "execution_count": 76,
   "metadata": {},
   "outputs": [
    {
     "data": {
      "text/html": [
       "<div>\n",
       "<style scoped>\n",
       "    .dataframe tbody tr th:only-of-type {\n",
       "        vertical-align: middle;\n",
       "    }\n",
       "\n",
       "    .dataframe tbody tr th {\n",
       "        vertical-align: top;\n",
       "    }\n",
       "\n",
       "    .dataframe thead th {\n",
       "        text-align: right;\n",
       "    }\n",
       "</style>\n",
       "<table border=\"1\" class=\"dataframe\">\n",
       "  <thead>\n",
       "    <tr style=\"text-align: right;\">\n",
       "      <th></th>\n",
       "      <th>word</th>\n",
       "      <th>elementwise divergence</th>\n",
       "    </tr>\n",
       "  </thead>\n",
       "  <tbody>\n",
       "    <tr>\n",
       "      <th>187</th>\n",
       "      <td>get</td>\n",
       "      <td>0.075764</td>\n",
       "    </tr>\n",
       "    <tr>\n",
       "      <th>478</th>\n",
       "      <td>want</td>\n",
       "      <td>0.031899</td>\n",
       "    </tr>\n",
       "    <tr>\n",
       "      <th>4</th>\n",
       "      <td>go</td>\n",
       "      <td>0.027833</td>\n",
       "    </tr>\n",
       "    <tr>\n",
       "      <th>45</th>\n",
       "      <td>month</td>\n",
       "      <td>0.025415</td>\n",
       "    </tr>\n",
       "    <tr>\n",
       "      <th>405</th>\n",
       "      <td>start</td>\n",
       "      <td>0.024535</td>\n",
       "    </tr>\n",
       "    <tr>\n",
       "      <th>725</th>\n",
       "      <td>need</td>\n",
       "      <td>0.023702</td>\n",
       "    </tr>\n",
       "    <tr>\n",
       "      <th>392</th>\n",
       "      <td>ask</td>\n",
       "      <td>0.016433</td>\n",
       "    </tr>\n",
       "    <tr>\n",
       "      <th>683</th>\n",
       "      <td>man</td>\n",
       "      <td>0.014774</td>\n",
       "    </tr>\n",
       "    <tr>\n",
       "      <th>487</th>\n",
       "      <td>shall</td>\n",
       "      <td>0.013264</td>\n",
       "    </tr>\n",
       "    <tr>\n",
       "      <th>153</th>\n",
       "      <td>try</td>\n",
       "      <td>0.012973</td>\n",
       "    </tr>\n",
       "  </tbody>\n",
       "</table>\n",
       "</div>"
      ],
      "text/plain": [
       "      word  elementwise divergence\n",
       "187    get                0.075764\n",
       "478   want                0.031899\n",
       "4       go                0.027833\n",
       "45   month                0.025415\n",
       "405  start                0.024535\n",
       "725   need                0.023702\n",
       "392    ask                0.016433\n",
       "683    man                0.014774\n",
       "487  shall                0.013264\n",
       "153    try                0.012973"
      ]
     },
     "execution_count": 76,
     "metadata": {},
     "output_type": "execute_result"
    }
   ],
   "source": [
    "# Elementwise calculation and see which words best distinguish the two corpora\n",
    "# between high and low scoring\n",
    "high_ss2_divergence_ew = scipy.special.kl_div(highProbArray, ss2ProbArray)\n",
    "kl_df = pandas.DataFrame(list(overlapWordsDict.keys()), columns = ['word'], index = list(overlapWordsDict.values()))\n",
    "kl_df = kl_df.sort_index()\n",
    "kl_df['elementwise divergence'] = high_ss2_divergence_ew\n",
    "kl_df.sort_values(by='elementwise divergence', ascending=False)[:10]"
   ]
  },
  {
   "cell_type": "code",
   "execution_count": 77,
   "metadata": {
    "collapsed": true
   },
   "outputs": [],
   "source": [
    "# Functions to calculate divergence and distances.\n",
    "def kl_divergence(X, Y):\n",
    "    P = X.copy()\n",
    "    Q = Y.copy()\n",
    "    P.columns = ['P']\n",
    "    Q.columns = ['Q']\n",
    "    df = Q.join(P).fillna(0)\n",
    "    p = df.iloc[:,1]\n",
    "    q = df.iloc[:,0]\n",
    "    D_kl = scipy.stats.entropy(p, q)\n",
    "    return D_kl\n",
    "\n",
    "def chi2_divergence(X,Y):\n",
    "    P = X.copy()\n",
    "    Q = Y.copy()\n",
    "    P.columns = ['P']\n",
    "    Q.columns = ['Q']\n",
    "    df = Q.join(P).fillna(0)\n",
    "    p = df.iloc[:,1]\n",
    "    q = df.iloc[:,0]\n",
    "    return scipy.stats.chisquare(p, q).statistic\n",
    "\n",
    "def Divergence(corpus1, corpus2, difference=\"KL\"):\n",
    "    \"\"\"Difference parameter can equal KL, Chi2, or Wass\"\"\"\n",
    "    freqP = nltk.FreqDist(corpus1)\n",
    "    P = pandas.DataFrame(list(freqP.values()), columns = ['frequency'], index = list(freqP.keys()))\n",
    "    freqQ = nltk.FreqDist(corpus2)\n",
    "    Q = pandas.DataFrame(list(freqQ.values()), columns = ['frequency'], index = list(freqQ.keys()))\n",
    "    if difference == \"KL\":\n",
    "        return kl_divergence(P, Q)\n",
    "    elif difference == \"Chi2\":\n",
    "        return chi2_divergence(P, Q)\n",
    "    elif difference == \"KS\":\n",
    "        try:\n",
    "            return scipy.stats.ks_2samp(P['frequency'], Q['frequency']).statistic\n",
    "        except:\n",
    "            return scipy.stats.ks_2samp(P['frequency'], Q['frequency'])\n",
    "    elif difference == \"Wasserstein\":\n",
    "        try:\n",
    "            return scipy.stats.wasserstein_distance(P['frequency'], Q['frequency'], u_weights=None, v_weights=None).statistic\n",
    "        except:\n",
    "            return scipy.stats.wasserstein_distance(P['frequency'], Q['frequency'], u_weights=None, v_weights=None)"
   ]
  },
  {
   "cell_type": "code",
   "execution_count": 78,
   "metadata": {},
   "outputs": [
    {
     "data": {
      "text/plain": [
       "0.3136862184072485"
      ]
     },
     "execution_count": 78,
     "metadata": {},
     "output_type": "execute_result"
    }
   ],
   "source": [
    "# Example of calculating KS distance.\n",
    "Divergence(highProbArray, ss1ProbArray, difference=\"KS\")"
   ]
  },
  {
   "cell_type": "code",
   "execution_count": 79,
   "metadata": {},
   "outputs": [
    {
     "data": {
      "text/plain": [
       "12.722195817490498"
      ]
     },
     "execution_count": 79,
     "metadata": {},
     "output_type": "execute_result"
    }
   ],
   "source": [
    "# Example of calculating Wasserstein distance.\n",
    "Divergence(ss2ProbArray, lowProbArray, difference=\"Wasserstein\")"
   ]
  },
  {
   "cell_type": "code",
   "execution_count": 80,
   "metadata": {},
   "outputs": [
    {
     "name": "stderr",
     "output_type": "stream",
     "text": [
      "/Users/gaomingtao/anaconda3/lib/python3.6/site-packages/scipy/stats/_distn_infrastructure.py:2686: RuntimeWarning: invalid value encountered in true_divide\n",
      "  pk = 1.0*pk / np.sum(pk, axis=axis, keepdims=True)\n"
     ]
    },
    {
     "data": {
      "image/png": "[encoded data removed]",
      "text/plain": [
       "<matplotlib.figure.Figure at 0x7f9b16f73780>"
      ]
     },
     "metadata": {},
     "output_type": "display_data"
    }
   ],
   "source": [
    "# Plot KL distances heatmap\n",
    "corpora = [reddit_high, reddit_low, ss1_df, ss2_df]\n",
    "fields = ['High Score Reddit Posts', 'Low Score Reddit Posts', 'Shakespeare - Hamlet', 'Shakespeare - AYLI']\n",
    "\n",
    "L = []\n",
    "for p in corpora:\n",
    "    l = []\n",
    "    for q in corpora:\n",
    "        l.append(Divergence(p['text'],q['text'], difference = 'KL'))\n",
    "    L.append(l)\n",
    "M = np.array(L)\n",
    "fig = plt.figure()\n",
    "div = pandas.DataFrame(M, columns = fields, index = fields)\n",
    "ax = sns.heatmap(div)\n",
    "plt.show()"
   ]
  },
  {
   "cell_type": "markdown",
   "metadata": {},
   "source": [
    "### 2. $\\chi^2$ Divergence"
   ]
  },
  {
   "cell_type": "code",
   "execution_count": 81,
   "metadata": {},
   "outputs": [
    {
     "data": {
      "image/png": "[encoded data removed]",
      "text/plain": [
       "<matplotlib.figure.Figure at 0x7f9b16f73ac8>"
      ]
     },
     "metadata": {},
     "output_type": "display_data"
    }
   ],
   "source": [
    "L = []\n",
    "for p in corpora:\n",
    "    l = []\n",
    "    for q in corpora:\n",
    "        l.append(Divergence(p['text'],q['text'], difference='Chi2'))\n",
    "    L.append(l)\n",
    "M = np.array(L)\n",
    "fig = plt.figure()\n",
    "div = pandas.DataFrame(M, columns = fields, index = fields)\n",
    "ax = sns.heatmap(div)\n",
    "plt.show()"
   ]
  },
  {
   "cell_type": "markdown",
   "metadata": {},
   "source": [
    "### 3. KS Distance"
   ]
  },
  {
   "cell_type": "code",
   "execution_count": 82,
   "metadata": {},
   "outputs": [
    {
     "data": {
      "image/png": "[encoded data removed]",
      "text/plain": [
       "<matplotlib.figure.Figure at 0x7f9b1710ac50>"
      ]
     },
     "metadata": {},
     "output_type": "display_data"
    }
   ],
   "source": [
    "L = []\n",
    "for p in corpora:\n",
    "    l = []\n",
    "    for q in corpora:\n",
    "        l.append(Divergence(p['text'],q['text'], difference='KS'))\n",
    "    L.append(l)\n",
    "M = np.array(L)\n",
    "fig = plt.figure()\n",
    "div = pandas.DataFrame(M, columns = fields, index = fields)\n",
    "ax = sns.heatmap(div)\n",
    "plt.show()"
   ]
  },
  {
   "cell_type": "markdown",
   "metadata": {},
   "source": [
    "### 4. Wasserstein Distance"
   ]
  },
  {
   "cell_type": "code",
   "execution_count": 83,
   "metadata": {},
   "outputs": [
    {
     "data": {
      "image/png": "[encoded data removed]",
      "text/plain": [
       "<matplotlib.figure.Figure at 0x7f9b16166630>"
      ]
     },
     "metadata": {},
     "output_type": "display_data"
    }
   ],
   "source": [
    "L = []\n",
    "for p in corpora:\n",
    "    l = []\n",
    "    for q in corpora:\n",
    "        l.append(Divergence(p['text'],q['text'], difference='Wasserstein'))\n",
    "    L.append(l)\n",
    "M = np.array(L)\n",
    "fig = plt.figure()\n",
    "div = pandas.DataFrame(M, columns = fields, index = fields)\n",
    "ax = sns.heatmap(div)\n",
    "plt.show()"
   ]
  },
  {
   "cell_type": "markdown",
   "metadata": {},
   "source": [
    "### 5. Multidimensional Scaling"
   ]
  },
  {
   "cell_type": "code",
   "execution_count": 84,
   "metadata": {},
   "outputs": [
    {
     "name": "stderr",
     "output_type": "stream",
     "text": [
      "/Users/gaomingtao/anaconda3/lib/python3.6/site-packages/sklearn/manifold/_mds.py:441: UserWarning: The MDS API has changed. ``fit`` now constructs an dissimilarity matrix from data. To use a custom dissimilarity matrix, set ``dissimilarity='precomputed'``.\n",
      "  warnings.warn(\"The MDS API has changed. ``fit`` now constructs an\"\n"
     ]
    },
    {
     "data": {
      "image/png": "[encoded data removed]",
      "text/plain": [
       "<matplotlib.figure.Figure at 0x7f9b169c0b00>"
      ]
     },
     "metadata": {},
     "output_type": "display_data"
    }
   ],
   "source": [
    "mds = sklearn.manifold.MDS()\n",
    "pos = mds.fit(M).embedding_\n",
    "x = pos[:,0]\n",
    "y = pos[:,1]\n",
    "fig, ax = plt.subplots(figsize = (6,6))\n",
    "plt.plot(x, y, ' ')\n",
    "for i, txt in enumerate(fields):\n",
    "    ax.annotate(txt, (x[i],y[i]))"
   ]
  },
  {
   "cell_type": "markdown",
   "metadata": {},
   "source": [
    "### 6. Jensen-Shannon Divergence"
   ]
  },
  {
   "cell_type": "code",
   "execution_count": 85,
   "metadata": {},
   "outputs": [
    {
     "name": "stdout",
     "output_type": "stream",
     "text": [
      "0.3370871369386724\n",
      "0.18993260768868578\n",
      "0.4987313375579076\n",
      "0.4364858229697729\n"
     ]
    }
   ],
   "source": [
    "ssJSD = scipy.spatial.distance.jensenshannon(ss1ProbArray, ss2ProbArray)\n",
    "print(ssJSD)\n",
    "redJSD = scipy.spatial.distance.jensenshannon(highProbArray, lowProbArray)\n",
    "print(redJSD)\n",
    "ss_highJSD = scipy.spatial.distance.jensenshannon(ss1ProbArray, highProbArray)\n",
    "print(ss_highJSD)\n",
    "ss_lowJSD = scipy.spatial.distance.jensenshannon(lowProbArray, ss2ProbArray)\n",
    "print(ss_lowJSD)"
   ]
  },
  {
   "cell_type": "markdown",
   "metadata": {},
   "source": [
    "JS Divergence computes the average KL divergence between each distribution and the average of both distribution, producing a symmetric matrix. KL divergence captures the differences between documents better than $\\chi^2$ divergences. KS and Wasserstein distances produce similar results, and both methods distinguish the reddit posts with high scores and low scores as the similar corpora. \n",
    "\n",
    "Because both corpora are from the same subreddit page, although the scores received are different, but the language used in the posts are considerd very similar. On the other hand, although I chose two plays written by Shakespeare, the two texts are distinguishablely different. The heatmaps of both \n",
    "\n",
    "In general, the most upvoted comments and the least upvoted comments are quite similar to each other, so do the most downvoted and the least downvoted comments. However, the most downvoted comments and the most upvoted comments differ a lot more in their text, and the difference is successfully captured by the analysis."
   ]
  },
  {
   "cell_type": "code",
   "execution_count": null,
   "metadata": {
    "collapsed": true
   },
   "outputs": [],
   "source": []
  }
 ],
 "metadata": {
  "anaconda-cloud": {},
  "kernelspec": {
   "display_name": "Python 3",
   "language": "python",
   "name": "python3"
  },
  "language_info": {
   "codemirror_mode": {
    "name": "ipython",
    "version": 3
   },
   "file_extension": ".py",
   "mimetype": "text/x-python",
   "name": "python",
   "nbconvert_exporter": "python",
   "pygments_lexer": "ipython3",
   "version": "3.6.10"
  }
 },
 "nbformat": 4,
 "nbformat_minor": 1
}
