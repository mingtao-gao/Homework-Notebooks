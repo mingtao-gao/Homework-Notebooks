{
  "nbformat": 4,
  "nbformat_minor": 0,
  "metadata": {
    "colab": {
      "name": "8-Deep-Neural-Nets-and-Text-MingtaoGao.ipynb",
      "provenance": [],
      "collapsed_sections": []
    },
    "kernelspec": {
      "name": "python3",
      "display_name": "Python 3"
    },
    "accelerator": "GPU",
    "widgets": {
      "application/vnd.jupyter.widget-state+json": {
        "7e66adc025324939a333b8793c3aae4a": {
          "model_module": "@jupyter-widgets/controls",
          "model_name": "HBoxModel",
          "state": {
            "_view_name": "HBoxView",
            "_dom_classes": [],
            "_model_name": "HBoxModel",
            "_view_module": "@jupyter-widgets/controls",
            "_model_module_version": "1.5.0",
            "_view_count": null,
            "_view_module_version": "1.5.0",
            "box_style": "",
            "layout": "IPY_MODEL_37c1d03df1b244ca8c75b20873c50dab",
            "_model_module": "@jupyter-widgets/controls",
            "children": [
              "IPY_MODEL_ace3cc1ce7c34a5295156ce31c007c3a",
              "IPY_MODEL_1f20ff19e80c4594a21931ff3f5c1a83"
            ]
          }
        },
        "37c1d03df1b244ca8c75b20873c50dab": {
          "model_module": "@jupyter-widgets/base",
          "model_name": "LayoutModel",
          "state": {
            "_view_name": "LayoutView",
            "grid_template_rows": null,
            "right": null,
            "justify_content": null,
            "_view_module": "@jupyter-widgets/base",
            "overflow": null,
            "_model_module_version": "1.2.0",
            "_view_count": null,
            "flex_flow": null,
            "width": null,
            "min_width": null,
            "border": null,
            "align_items": null,
            "bottom": null,
            "_model_module": "@jupyter-widgets/base",
            "top": null,
            "grid_column": null,
            "overflow_y": null,
            "overflow_x": null,
            "grid_auto_flow": null,
            "grid_area": null,
            "grid_template_columns": null,
            "flex": null,
            "_model_name": "LayoutModel",
            "justify_items": null,
            "grid_row": null,
            "max_height": null,
            "align_content": null,
            "visibility": null,
            "align_self": null,
            "height": null,
            "min_height": null,
            "padding": null,
            "grid_auto_rows": null,
            "grid_gap": null,
            "max_width": null,
            "order": null,
            "_view_module_version": "1.2.0",
            "grid_template_areas": null,
            "object_position": null,
            "object_fit": null,
            "grid_auto_columns": null,
            "margin": null,
            "display": null,
            "left": null
          }
        },
        "ace3cc1ce7c34a5295156ce31c007c3a": {
          "model_module": "@jupyter-widgets/controls",
          "model_name": "FloatProgressModel",
          "state": {
            "_view_name": "ProgressView",
            "style": "IPY_MODEL_55a3d2d8ae8b4c4aaaebccbf15bc0b70",
            "_dom_classes": [],
            "description": "Downloading: 100%",
            "_model_name": "FloatProgressModel",
            "bar_style": "success",
            "max": 231508,
            "_view_module": "@jupyter-widgets/controls",
            "_model_module_version": "1.5.0",
            "value": 231508,
            "_view_count": null,
            "_view_module_version": "1.5.0",
            "orientation": "horizontal",
            "min": 0,
            "description_tooltip": null,
            "_model_module": "@jupyter-widgets/controls",
            "layout": "IPY_MODEL_79fd7dbbbc62421582778f88104800fb"
          }
        },
        "1f20ff19e80c4594a21931ff3f5c1a83": {
          "model_module": "@jupyter-widgets/controls",
          "model_name": "HTMLModel",
          "state": {
            "_view_name": "HTMLView",
            "style": "IPY_MODEL_c87f18d57d6c4fcaa5a42d8020f33e37",
            "_dom_classes": [],
            "description": "",
            "_model_name": "HTMLModel",
            "placeholder": "​",
            "_view_module": "@jupyter-widgets/controls",
            "_model_module_version": "1.5.0",
            "value": " 232k/232k [00:00&lt;00:00, 3.11MB/s]",
            "_view_count": null,
            "_view_module_version": "1.5.0",
            "description_tooltip": null,
            "_model_module": "@jupyter-widgets/controls",
            "layout": "IPY_MODEL_8de3523f96de4abbad347d28bce2dff2"
          }
        },
        "55a3d2d8ae8b4c4aaaebccbf15bc0b70": {
          "model_module": "@jupyter-widgets/controls",
          "model_name": "ProgressStyleModel",
          "state": {
            "_view_name": "StyleView",
            "_model_name": "ProgressStyleModel",
            "description_width": "initial",
            "_view_module": "@jupyter-widgets/base",
            "_model_module_version": "1.5.0",
            "_view_count": null,
            "_view_module_version": "1.2.0",
            "bar_color": null,
            "_model_module": "@jupyter-widgets/controls"
          }
        },
        "79fd7dbbbc62421582778f88104800fb": {
          "model_module": "@jupyter-widgets/base",
          "model_name": "LayoutModel",
          "state": {
            "_view_name": "LayoutView",
            "grid_template_rows": null,
            "right": null,
            "justify_content": null,
            "_view_module": "@jupyter-widgets/base",
            "overflow": null,
            "_model_module_version": "1.2.0",
            "_view_count": null,
            "flex_flow": null,
            "width": null,
            "min_width": null,
            "border": null,
            "align_items": null,
            "bottom": null,
            "_model_module": "@jupyter-widgets/base",
            "top": null,
            "grid_column": null,
            "overflow_y": null,
            "overflow_x": null,
            "grid_auto_flow": null,
            "grid_area": null,
            "grid_template_columns": null,
            "flex": null,
            "_model_name": "LayoutModel",
            "justify_items": null,
            "grid_row": null,
            "max_height": null,
            "align_content": null,
            "visibility": null,
            "align_self": null,
            "height": null,
            "min_height": null,
            "padding": null,
            "grid_auto_rows": null,
            "grid_gap": null,
            "max_width": null,
            "order": null,
            "_view_module_version": "1.2.0",
            "grid_template_areas": null,
            "object_position": null,
            "object_fit": null,
            "grid_auto_columns": null,
            "margin": null,
            "display": null,
            "left": null
          }
        },
        "c87f18d57d6c4fcaa5a42d8020f33e37": {
          "model_module": "@jupyter-widgets/controls",
          "model_name": "DescriptionStyleModel",
          "state": {
            "_view_name": "StyleView",
            "_model_name": "DescriptionStyleModel",
            "description_width": "",
            "_view_module": "@jupyter-widgets/base",
            "_model_module_version": "1.5.0",
            "_view_count": null,
            "_view_module_version": "1.2.0",
            "_model_module": "@jupyter-widgets/controls"
          }
        },
        "8de3523f96de4abbad347d28bce2dff2": {
          "model_module": "@jupyter-widgets/base",
          "model_name": "LayoutModel",
          "state": {
            "_view_name": "LayoutView",
            "grid_template_rows": null,
            "right": null,
            "justify_content": null,
            "_view_module": "@jupyter-widgets/base",
            "overflow": null,
            "_model_module_version": "1.2.0",
            "_view_count": null,
            "flex_flow": null,
            "width": null,
            "min_width": null,
            "border": null,
            "align_items": null,
            "bottom": null,
            "_model_module": "@jupyter-widgets/base",
            "top": null,
            "grid_column": null,
            "overflow_y": null,
            "overflow_x": null,
            "grid_auto_flow": null,
            "grid_area": null,
            "grid_template_columns": null,
            "flex": null,
            "_model_name": "LayoutModel",
            "justify_items": null,
            "grid_row": null,
            "max_height": null,
            "align_content": null,
            "visibility": null,
            "align_self": null,
            "height": null,
            "min_height": null,
            "padding": null,
            "grid_auto_rows": null,
            "grid_gap": null,
            "max_width": null,
            "order": null,
            "_view_module_version": "1.2.0",
            "grid_template_areas": null,
            "object_position": null,
            "object_fit": null,
            "grid_auto_columns": null,
            "margin": null,
            "display": null,
            "left": null
          }
        },
        "0f7b471ba0c54abfaef92cc20c6b2702": {
          "model_module": "@jupyter-widgets/controls",
          "model_name": "HBoxModel",
          "state": {
            "_view_name": "HBoxView",
            "_dom_classes": [],
            "_model_name": "HBoxModel",
            "_view_module": "@jupyter-widgets/controls",
            "_model_module_version": "1.5.0",
            "_view_count": null,
            "_view_module_version": "1.5.0",
            "box_style": "",
            "layout": "IPY_MODEL_38d7906e698e46f8816f214bab0f5241",
            "_model_module": "@jupyter-widgets/controls",
            "children": [
              "IPY_MODEL_92c7990aa1bc495fa67b7a674ca2e9b6",
              "IPY_MODEL_467a393fe2c849f6b20da1eb12592184"
            ]
          }
        },
        "38d7906e698e46f8816f214bab0f5241": {
          "model_module": "@jupyter-widgets/base",
          "model_name": "LayoutModel",
          "state": {
            "_view_name": "LayoutView",
            "grid_template_rows": null,
            "right": null,
            "justify_content": null,
            "_view_module": "@jupyter-widgets/base",
            "overflow": null,
            "_model_module_version": "1.2.0",
            "_view_count": null,
            "flex_flow": null,
            "width": null,
            "min_width": null,
            "border": null,
            "align_items": null,
            "bottom": null,
            "_model_module": "@jupyter-widgets/base",
            "top": null,
            "grid_column": null,
            "overflow_y": null,
            "overflow_x": null,
            "grid_auto_flow": null,
            "grid_area": null,
            "grid_template_columns": null,
            "flex": null,
            "_model_name": "LayoutModel",
            "justify_items": null,
            "grid_row": null,
            "max_height": null,
            "align_content": null,
            "visibility": null,
            "align_self": null,
            "height": null,
            "min_height": null,
            "padding": null,
            "grid_auto_rows": null,
            "grid_gap": null,
            "max_width": null,
            "order": null,
            "_view_module_version": "1.2.0",
            "grid_template_areas": null,
            "object_position": null,
            "object_fit": null,
            "grid_auto_columns": null,
            "margin": null,
            "display": null,
            "left": null
          }
        },
        "92c7990aa1bc495fa67b7a674ca2e9b6": {
          "model_module": "@jupyter-widgets/controls",
          "model_name": "FloatProgressModel",
          "state": {
            "_view_name": "ProgressView",
            "style": "IPY_MODEL_acec228e17fc4414a6e6860df39a1ae4",
            "_dom_classes": [],
            "description": "Downloading: 100%",
            "_model_name": "FloatProgressModel",
            "bar_style": "success",
            "max": 433,
            "_view_module": "@jupyter-widgets/controls",
            "_model_module_version": "1.5.0",
            "value": 433,
            "_view_count": null,
            "_view_module_version": "1.5.0",
            "orientation": "horizontal",
            "min": 0,
            "description_tooltip": null,
            "_model_module": "@jupyter-widgets/controls",
            "layout": "IPY_MODEL_69a1b4c40d7142b1a0847532d68b9695"
          }
        },
        "467a393fe2c849f6b20da1eb12592184": {
          "model_module": "@jupyter-widgets/controls",
          "model_name": "HTMLModel",
          "state": {
            "_view_name": "HTMLView",
            "style": "IPY_MODEL_a63fc1c8916b4334a8630ba82354c73a",
            "_dom_classes": [],
            "description": "",
            "_model_name": "HTMLModel",
            "placeholder": "​",
            "_view_module": "@jupyter-widgets/controls",
            "_model_module_version": "1.5.0",
            "value": " 433/433 [01:19&lt;00:00, 5.44B/s]",
            "_view_count": null,
            "_view_module_version": "1.5.0",
            "description_tooltip": null,
            "_model_module": "@jupyter-widgets/controls",
            "layout": "IPY_MODEL_66a287048bb84d449113733641aeb08f"
          }
        },
        "acec228e17fc4414a6e6860df39a1ae4": {
          "model_module": "@jupyter-widgets/controls",
          "model_name": "ProgressStyleModel",
          "state": {
            "_view_name": "StyleView",
            "_model_name": "ProgressStyleModel",
            "description_width": "initial",
            "_view_module": "@jupyter-widgets/base",
            "_model_module_version": "1.5.0",
            "_view_count": null,
            "_view_module_version": "1.2.0",
            "bar_color": null,
            "_model_module": "@jupyter-widgets/controls"
          }
        },
        "69a1b4c40d7142b1a0847532d68b9695": {
          "model_module": "@jupyter-widgets/base",
          "model_name": "LayoutModel",
          "state": {
            "_view_name": "LayoutView",
            "grid_template_rows": null,
            "right": null,
            "justify_content": null,
            "_view_module": "@jupyter-widgets/base",
            "overflow": null,
            "_model_module_version": "1.2.0",
            "_view_count": null,
            "flex_flow": null,
            "width": null,
            "min_width": null,
            "border": null,
            "align_items": null,
            "bottom": null,
            "_model_module": "@jupyter-widgets/base",
            "top": null,
            "grid_column": null,
            "overflow_y": null,
            "overflow_x": null,
            "grid_auto_flow": null,
            "grid_area": null,
            "grid_template_columns": null,
            "flex": null,
            "_model_name": "LayoutModel",
            "justify_items": null,
            "grid_row": null,
            "max_height": null,
            "align_content": null,
            "visibility": null,
            "align_self": null,
            "height": null,
            "min_height": null,
            "padding": null,
            "grid_auto_rows": null,
            "grid_gap": null,
            "max_width": null,
            "order": null,
            "_view_module_version": "1.2.0",
            "grid_template_areas": null,
            "object_position": null,
            "object_fit": null,
            "grid_auto_columns": null,
            "margin": null,
            "display": null,
            "left": null
          }
        },
        "a63fc1c8916b4334a8630ba82354c73a": {
          "model_module": "@jupyter-widgets/controls",
          "model_name": "DescriptionStyleModel",
          "state": {
            "_view_name": "StyleView",
            "_model_name": "DescriptionStyleModel",
            "description_width": "",
            "_view_module": "@jupyter-widgets/base",
            "_model_module_version": "1.5.0",
            "_view_count": null,
            "_view_module_version": "1.2.0",
            "_model_module": "@jupyter-widgets/controls"
          }
        },
        "66a287048bb84d449113733641aeb08f": {
          "model_module": "@jupyter-widgets/base",
          "model_name": "LayoutModel",
          "state": {
            "_view_name": "LayoutView",
            "grid_template_rows": null,
            "right": null,
            "justify_content": null,
            "_view_module": "@jupyter-widgets/base",
            "overflow": null,
            "_model_module_version": "1.2.0",
            "_view_count": null,
            "flex_flow": null,
            "width": null,
            "min_width": null,
            "border": null,
            "align_items": null,
            "bottom": null,
            "_model_module": "@jupyter-widgets/base",
            "top": null,
            "grid_column": null,
            "overflow_y": null,
            "overflow_x": null,
            "grid_auto_flow": null,
            "grid_area": null,
            "grid_template_columns": null,
            "flex": null,
            "_model_name": "LayoutModel",
            "justify_items": null,
            "grid_row": null,
            "max_height": null,
            "align_content": null,
            "visibility": null,
            "align_self": null,
            "height": null,
            "min_height": null,
            "padding": null,
            "grid_auto_rows": null,
            "grid_gap": null,
            "max_width": null,
            "order": null,
            "_view_module_version": "1.2.0",
            "grid_template_areas": null,
            "object_position": null,
            "object_fit": null,
            "grid_auto_columns": null,
            "margin": null,
            "display": null,
            "left": null
          }
        },
        "21fc60c4c0fa41c7a45295ccb5f68101": {
          "model_module": "@jupyter-widgets/controls",
          "model_name": "HBoxModel",
          "state": {
            "_view_name": "HBoxView",
            "_dom_classes": [],
            "_model_name": "HBoxModel",
            "_view_module": "@jupyter-widgets/controls",
            "_model_module_version": "1.5.0",
            "_view_count": null,
            "_view_module_version": "1.5.0",
            "box_style": "",
            "layout": "IPY_MODEL_cffb1b7a15f5401682ed904e4b9ca394",
            "_model_module": "@jupyter-widgets/controls",
            "children": [
              "IPY_MODEL_8af342e115174879ac2b97cfb5333d8c",
              "IPY_MODEL_a0b9813e32ba45c595e60e0b99d86482"
            ]
          }
        },
        "cffb1b7a15f5401682ed904e4b9ca394": {
          "model_module": "@jupyter-widgets/base",
          "model_name": "LayoutModel",
          "state": {
            "_view_name": "LayoutView",
            "grid_template_rows": null,
            "right": null,
            "justify_content": null,
            "_view_module": "@jupyter-widgets/base",
            "overflow": null,
            "_model_module_version": "1.2.0",
            "_view_count": null,
            "flex_flow": null,
            "width": null,
            "min_width": null,
            "border": null,
            "align_items": null,
            "bottom": null,
            "_model_module": "@jupyter-widgets/base",
            "top": null,
            "grid_column": null,
            "overflow_y": null,
            "overflow_x": null,
            "grid_auto_flow": null,
            "grid_area": null,
            "grid_template_columns": null,
            "flex": null,
            "_model_name": "LayoutModel",
            "justify_items": null,
            "grid_row": null,
            "max_height": null,
            "align_content": null,
            "visibility": null,
            "align_self": null,
            "height": null,
            "min_height": null,
            "padding": null,
            "grid_auto_rows": null,
            "grid_gap": null,
            "max_width": null,
            "order": null,
            "_view_module_version": "1.2.0",
            "grid_template_areas": null,
            "object_position": null,
            "object_fit": null,
            "grid_auto_columns": null,
            "margin": null,
            "display": null,
            "left": null
          }
        },
        "8af342e115174879ac2b97cfb5333d8c": {
          "model_module": "@jupyter-widgets/controls",
          "model_name": "FloatProgressModel",
          "state": {
            "_view_name": "ProgressView",
            "style": "IPY_MODEL_73789ade319d418fb1725f8d1fa5c91d",
            "_dom_classes": [],
            "description": "Downloading: 100%",
            "_model_name": "FloatProgressModel",
            "bar_style": "success",
            "max": 440473133,
            "_view_module": "@jupyter-widgets/controls",
            "_model_module_version": "1.5.0",
            "value": 440473133,
            "_view_count": null,
            "_view_module_version": "1.5.0",
            "orientation": "horizontal",
            "min": 0,
            "description_tooltip": null,
            "_model_module": "@jupyter-widgets/controls",
            "layout": "IPY_MODEL_67c8ec339956444b802bb1cfb2862642"
          }
        },
        "a0b9813e32ba45c595e60e0b99d86482": {
          "model_module": "@jupyter-widgets/controls",
          "model_name": "HTMLModel",
          "state": {
            "_view_name": "HTMLView",
            "style": "IPY_MODEL_7f80016336684e32b4e0b3c8eeef13ca",
            "_dom_classes": [],
            "description": "",
            "_model_name": "HTMLModel",
            "placeholder": "​",
            "_view_module": "@jupyter-widgets/controls",
            "_model_module_version": "1.5.0",
            "value": " 440M/440M [00:07&lt;00:00, 56.7MB/s]",
            "_view_count": null,
            "_view_module_version": "1.5.0",
            "description_tooltip": null,
            "_model_module": "@jupyter-widgets/controls",
            "layout": "IPY_MODEL_150fcfa97c2941888bd23c579e0baad7"
          }
        },
        "73789ade319d418fb1725f8d1fa5c91d": {
          "model_module": "@jupyter-widgets/controls",
          "model_name": "ProgressStyleModel",
          "state": {
            "_view_name": "StyleView",
            "_model_name": "ProgressStyleModel",
            "description_width": "initial",
            "_view_module": "@jupyter-widgets/base",
            "_model_module_version": "1.5.0",
            "_view_count": null,
            "_view_module_version": "1.2.0",
            "bar_color": null,
            "_model_module": "@jupyter-widgets/controls"
          }
        },
        "67c8ec339956444b802bb1cfb2862642": {
          "model_module": "@jupyter-widgets/base",
          "model_name": "LayoutModel",
          "state": {
            "_view_name": "LayoutView",
            "grid_template_rows": null,
            "right": null,
            "justify_content": null,
            "_view_module": "@jupyter-widgets/base",
            "overflow": null,
            "_model_module_version": "1.2.0",
            "_view_count": null,
            "flex_flow": null,
            "width": null,
            "min_width": null,
            "border": null,
            "align_items": null,
            "bottom": null,
            "_model_module": "@jupyter-widgets/base",
            "top": null,
            "grid_column": null,
            "overflow_y": null,
            "overflow_x": null,
            "grid_auto_flow": null,
            "grid_area": null,
            "grid_template_columns": null,
            "flex": null,
            "_model_name": "LayoutModel",
            "justify_items": null,
            "grid_row": null,
            "max_height": null,
            "align_content": null,
            "visibility": null,
            "align_self": null,
            "height": null,
            "min_height": null,
            "padding": null,
            "grid_auto_rows": null,
            "grid_gap": null,
            "max_width": null,
            "order": null,
            "_view_module_version": "1.2.0",
            "grid_template_areas": null,
            "object_position": null,
            "object_fit": null,
            "grid_auto_columns": null,
            "margin": null,
            "display": null,
            "left": null
          }
        },
        "7f80016336684e32b4e0b3c8eeef13ca": {
          "model_module": "@jupyter-widgets/controls",
          "model_name": "DescriptionStyleModel",
          "state": {
            "_view_name": "StyleView",
            "_model_name": "DescriptionStyleModel",
            "description_width": "",
            "_view_module": "@jupyter-widgets/base",
            "_model_module_version": "1.5.0",
            "_view_count": null,
            "_view_module_version": "1.2.0",
            "_model_module": "@jupyter-widgets/controls"
          }
        },
        "150fcfa97c2941888bd23c579e0baad7": {
          "model_module": "@jupyter-widgets/base",
          "model_name": "LayoutModel",
          "state": {
            "_view_name": "LayoutView",
            "grid_template_rows": null,
            "right": null,
            "justify_content": null,
            "_view_module": "@jupyter-widgets/base",
            "overflow": null,
            "_model_module_version": "1.2.0",
            "_view_count": null,
            "flex_flow": null,
            "width": null,
            "min_width": null,
            "border": null,
            "align_items": null,
            "bottom": null,
            "_model_module": "@jupyter-widgets/base",
            "top": null,
            "grid_column": null,
            "overflow_y": null,
            "overflow_x": null,
            "grid_auto_flow": null,
            "grid_area": null,
            "grid_template_columns": null,
            "flex": null,
            "_model_name": "LayoutModel",
            "justify_items": null,
            "grid_row": null,
            "max_height": null,
            "align_content": null,
            "visibility": null,
            "align_self": null,
            "height": null,
            "min_height": null,
            "padding": null,
            "grid_auto_rows": null,
            "grid_gap": null,
            "max_width": null,
            "order": null,
            "_view_module_version": "1.2.0",
            "grid_template_areas": null,
            "object_position": null,
            "object_fit": null,
            "grid_auto_columns": null,
            "margin": null,
            "display": null,
            "left": null
          }
        },
        "a24bc2d036ee42c9bbe95fba88ad9219": {
          "model_module": "@jupyter-widgets/controls",
          "model_name": "HBoxModel",
          "state": {
            "_view_name": "HBoxView",
            "_dom_classes": [],
            "_model_name": "HBoxModel",
            "_view_module": "@jupyter-widgets/controls",
            "_model_module_version": "1.5.0",
            "_view_count": null,
            "_view_module_version": "1.5.0",
            "box_style": "",
            "layout": "IPY_MODEL_d5ac856518b9489e8497f0c57859d2ed",
            "_model_module": "@jupyter-widgets/controls",
            "children": [
              "IPY_MODEL_487ef27b25564a92b941da2ce553c3e3",
              "IPY_MODEL_6d1f5d6a646d46ae83685f8c06f73e70"
            ]
          }
        },
        "d5ac856518b9489e8497f0c57859d2ed": {
          "model_module": "@jupyter-widgets/base",
          "model_name": "LayoutModel",
          "state": {
            "_view_name": "LayoutView",
            "grid_template_rows": null,
            "right": null,
            "justify_content": null,
            "_view_module": "@jupyter-widgets/base",
            "overflow": null,
            "_model_module_version": "1.2.0",
            "_view_count": null,
            "flex_flow": null,
            "width": null,
            "min_width": null,
            "border": null,
            "align_items": null,
            "bottom": null,
            "_model_module": "@jupyter-widgets/base",
            "top": null,
            "grid_column": null,
            "overflow_y": null,
            "overflow_x": null,
            "grid_auto_flow": null,
            "grid_area": null,
            "grid_template_columns": null,
            "flex": null,
            "_model_name": "LayoutModel",
            "justify_items": null,
            "grid_row": null,
            "max_height": null,
            "align_content": null,
            "visibility": null,
            "align_self": null,
            "height": null,
            "min_height": null,
            "padding": null,
            "grid_auto_rows": null,
            "grid_gap": null,
            "max_width": null,
            "order": null,
            "_view_module_version": "1.2.0",
            "grid_template_areas": null,
            "object_position": null,
            "object_fit": null,
            "grid_auto_columns": null,
            "margin": null,
            "display": null,
            "left": null
          }
        },
        "487ef27b25564a92b941da2ce553c3e3": {
          "model_module": "@jupyter-widgets/controls",
          "model_name": "FloatProgressModel",
          "state": {
            "_view_name": "ProgressView",
            "style": "IPY_MODEL_de1196bded3c47bea5084008bd45206b",
            "_dom_classes": [],
            "description": "Downloading: 100%",
            "_model_name": "FloatProgressModel",
            "bar_style": "success",
            "max": 1355256,
            "_view_module": "@jupyter-widgets/controls",
            "_model_module_version": "1.5.0",
            "value": 1355256,
            "_view_count": null,
            "_view_module_version": "1.5.0",
            "orientation": "horizontal",
            "min": 0,
            "description_tooltip": null,
            "_model_module": "@jupyter-widgets/controls",
            "layout": "IPY_MODEL_71ee1e108bc64e4cafaba5960b26cf67"
          }
        },
        "6d1f5d6a646d46ae83685f8c06f73e70": {
          "model_module": "@jupyter-widgets/controls",
          "model_name": "HTMLModel",
          "state": {
            "_view_name": "HTMLView",
            "style": "IPY_MODEL_e680fada2715462f86ac75ab4220014e",
            "_dom_classes": [],
            "description": "",
            "_model_name": "HTMLModel",
            "placeholder": "​",
            "_view_module": "@jupyter-widgets/controls",
            "_model_module_version": "1.5.0",
            "value": " 1.36M/1.36M [00:00&lt;00:00, 1.74MB/s]",
            "_view_count": null,
            "_view_module_version": "1.5.0",
            "description_tooltip": null,
            "_model_module": "@jupyter-widgets/controls",
            "layout": "IPY_MODEL_209d1e5620ee4e38b0daae0e7e1bdf5b"
          }
        },
        "de1196bded3c47bea5084008bd45206b": {
          "model_module": "@jupyter-widgets/controls",
          "model_name": "ProgressStyleModel",
          "state": {
            "_view_name": "StyleView",
            "_model_name": "ProgressStyleModel",
            "description_width": "initial",
            "_view_module": "@jupyter-widgets/base",
            "_model_module_version": "1.5.0",
            "_view_count": null,
            "_view_module_version": "1.2.0",
            "bar_color": null,
            "_model_module": "@jupyter-widgets/controls"
          }
        },
        "71ee1e108bc64e4cafaba5960b26cf67": {
          "model_module": "@jupyter-widgets/base",
          "model_name": "LayoutModel",
          "state": {
            "_view_name": "LayoutView",
            "grid_template_rows": null,
            "right": null,
            "justify_content": null,
            "_view_module": "@jupyter-widgets/base",
            "overflow": null,
            "_model_module_version": "1.2.0",
            "_view_count": null,
            "flex_flow": null,
            "width": null,
            "min_width": null,
            "border": null,
            "align_items": null,
            "bottom": null,
            "_model_module": "@jupyter-widgets/base",
            "top": null,
            "grid_column": null,
            "overflow_y": null,
            "overflow_x": null,
            "grid_auto_flow": null,
            "grid_area": null,
            "grid_template_columns": null,
            "flex": null,
            "_model_name": "LayoutModel",
            "justify_items": null,
            "grid_row": null,
            "max_height": null,
            "align_content": null,
            "visibility": null,
            "align_self": null,
            "height": null,
            "min_height": null,
            "padding": null,
            "grid_auto_rows": null,
            "grid_gap": null,
            "max_width": null,
            "order": null,
            "_view_module_version": "1.2.0",
            "grid_template_areas": null,
            "object_position": null,
            "object_fit": null,
            "grid_auto_columns": null,
            "margin": null,
            "display": null,
            "left": null
          }
        },
        "e680fada2715462f86ac75ab4220014e": {
          "model_module": "@jupyter-widgets/controls",
          "model_name": "DescriptionStyleModel",
          "state": {
            "_view_name": "StyleView",
            "_model_name": "DescriptionStyleModel",
            "description_width": "",
            "_view_module": "@jupyter-widgets/base",
            "_model_module_version": "1.5.0",
            "_view_count": null,
            "_view_module_version": "1.2.0",
            "_model_module": "@jupyter-widgets/controls"
          }
        },
        "209d1e5620ee4e38b0daae0e7e1bdf5b": {
          "model_module": "@jupyter-widgets/base",
          "model_name": "LayoutModel",
          "state": {
            "_view_name": "LayoutView",
            "grid_template_rows": null,
            "right": null,
            "justify_content": null,
            "_view_module": "@jupyter-widgets/base",
            "overflow": null,
            "_model_module_version": "1.2.0",
            "_view_count": null,
            "flex_flow": null,
            "width": null,
            "min_width": null,
            "border": null,
            "align_items": null,
            "bottom": null,
            "_model_module": "@jupyter-widgets/base",
            "top": null,
            "grid_column": null,
            "overflow_y": null,
            "overflow_x": null,
            "grid_auto_flow": null,
            "grid_area": null,
            "grid_template_columns": null,
            "flex": null,
            "_model_name": "LayoutModel",
            "justify_items": null,
            "grid_row": null,
            "max_height": null,
            "align_content": null,
            "visibility": null,
            "align_self": null,
            "height": null,
            "min_height": null,
            "padding": null,
            "grid_auto_rows": null,
            "grid_gap": null,
            "max_width": null,
            "order": null,
            "_view_module_version": "1.2.0",
            "grid_template_areas": null,
            "object_position": null,
            "object_fit": null,
            "grid_auto_columns": null,
            "margin": null,
            "display": null,
            "left": null
          }
        }
      }
    }
  },
  "cells": [
    {
      "cell_type": "markdown",
      "metadata": {
        "id": "9nFkME77f1Zh"
      },
      "source": [
        "## Week - 8 - Deep Neural Nets and Text - Training Models\n",
        "\n",
        "In this week we will be introduced to using Deep Neural Networks to work with text. We have already seen some uses of neural networks for text in our classification HW, where we used a simple neural network to classify text - it performs quite well, but they can come up short in more sophisticated classification tasks, such as in predicting intent. We have also seen neural nets in the form of word embeddings such as Word2Vec - and while they certainly work well, they have some drawbacks, such as dealing with words with multiple meanings. \n",
        "\n",
        "BERT, which is a language model built using bidirectional encoders, allows us to have a powerful pre-trained model which we can then use to perform our own tasks based on the data we are analysing. \n",
        "\n",
        "In this notebook we will use ```huggingface/transformers```, which is a python package which allows for an easy interface to use pre-trained BERT models. It is built using Tensorflow and PyTorch, two computational graph packages which are built specifically for creating powerful neural networks. We will also be introducing Keras, which allows us to easily build Neural Networks in an abstracted way. Keras is a popular way to understand how we can stack layers to create such Neural Networks, though to reach state-of-the-art results we will stick with using BERT and similar models.\n",
        "\n",
        "To demonstrate this, we will use the [Corpus of Linguistic Acceptability](https://nyu-mll.github.io/CoLA/). We will also be using BERT by learning how to extract embeddings from such a model and use it to semantically probe sentences.\n",
        "There are a bunch of new packages and methods we will be using so be sure to update lucem_illud_2020.\n",
        "\n",
        "Note that this notebook is different to take advantage of the GPU here. We only run the GPU heavy tasks here, where we need models to be fine-tuned.\n",
        "\n",
        "The first section contains the CoLA classification task, the second contains training a model on Trump tweets, and the last bit has us training a model on US and UK blog posts.\n",
        "\n",
        "To switch on your GPU, go to edit -> notebook settings -> hardware accelerator -> enable GPU.\n"
      ]
    },
    {
      "cell_type": "code",
      "metadata": {
        "id": "eTCP80HqWCZs",
        "colab": {
          "base_uri": "https://localhost:8080/"
        },
        "outputId": "1deae5f6-1ff7-4bca-effe-b716843ced06"
      },
      "source": [
        "import tensorflow as tf\n",
        "\n",
        "# Get the GPU device name.\n",
        "device_name = tf.test.gpu_device_name()\n",
        "\n",
        "# The device name should look like the following:\n",
        "if device_name == '/device:GPU:0':\n",
        "    print('Found GPU at: {}'.format(device_name))\n",
        "else:\n",
        "    raise SystemError('GPU device not found')"
      ],
      "execution_count": 1,
      "outputs": [
        {
          "output_type": "stream",
          "text": [
            "Found GPU at: /device:GPU:0\n"
          ],
          "name": "stdout"
        }
      ]
    },
    {
      "cell_type": "code",
      "metadata": {
        "id": "6DkVY2HIWRPC",
        "colab": {
          "base_uri": "https://localhost:8080/"
        },
        "outputId": "e917f2eb-fb43-4f15-e1fb-b308efdccc68"
      },
      "source": [
        "import torch\n",
        "\n",
        "# If there's a GPU available...\n",
        "if torch.cuda.is_available():    \n",
        "\n",
        "    # Tell PyTorch to use the GPU.    \n",
        "    device = torch.device(\"cuda\")\n",
        "\n",
        "    print('There are %d GPU(s) available.' % torch.cuda.device_count())\n",
        "\n",
        "    print('We will use the GPU:', torch.cuda.get_device_name(0))\n",
        "\n",
        "# If not...\n",
        "else:\n",
        "    print('No GPU available, using the CPU instead.')\n",
        "    device = torch.device(\"cpu\")"
      ],
      "execution_count": 2,
      "outputs": [
        {
          "output_type": "stream",
          "text": [
            "There are 1 GPU(s) available.\n",
            "We will use the GPU: Tesla T4\n"
          ],
          "name": "stdout"
        }
      ]
    },
    {
      "cell_type": "code",
      "metadata": {
        "id": "Vzt0EKCqWVsN",
        "colab": {
          "base_uri": "https://localhost:8080/"
        },
        "outputId": "30885ed3-2e2e-4cdf-ea08-d10f7c2e68e0"
      },
      "source": [
        "!pip install transformers"
      ],
      "execution_count": 3,
      "outputs": [
        {
          "output_type": "stream",
          "text": [
            "Collecting transformers\n",
            "\u001b[?25l  Downloading https://files.pythonhosted.org/packages/f9/54/5ca07ec9569d2f232f3166de5457b63943882f7950ddfcc887732fc7fb23/transformers-4.3.3-py3-none-any.whl (1.9MB)\n",
            "\u001b[K     |████████████████████████████████| 1.9MB 17.5MB/s \n",
            "\u001b[?25hRequirement already satisfied: tqdm>=4.27 in /usr/local/lib/python3.7/dist-packages (from transformers) (4.41.1)\n",
            "Requirement already satisfied: numpy>=1.17 in /usr/local/lib/python3.7/dist-packages (from transformers) (1.19.5)\n",
            "Requirement already satisfied: packaging in /usr/local/lib/python3.7/dist-packages (from transformers) (20.9)\n",
            "Requirement already satisfied: regex!=2019.12.17 in /usr/local/lib/python3.7/dist-packages (from transformers) (2019.12.20)\n",
            "Collecting tokenizers<0.11,>=0.10.1\n",
            "\u001b[?25l  Downloading https://files.pythonhosted.org/packages/71/23/2ddc317b2121117bf34dd00f5b0de194158f2a44ee2bf5e47c7166878a97/tokenizers-0.10.1-cp37-cp37m-manylinux2010_x86_64.whl (3.2MB)\n",
            "\u001b[K     |████████████████████████████████| 3.2MB 49.5MB/s \n",
            "\u001b[?25hRequirement already satisfied: filelock in /usr/local/lib/python3.7/dist-packages (from transformers) (3.0.12)\n",
            "Requirement already satisfied: requests in /usr/local/lib/python3.7/dist-packages (from transformers) (2.23.0)\n",
            "Requirement already satisfied: importlib-metadata; python_version < \"3.8\" in /usr/local/lib/python3.7/dist-packages (from transformers) (3.7.0)\n",
            "Collecting sacremoses\n",
            "\u001b[?25l  Downloading https://files.pythonhosted.org/packages/7d/34/09d19aff26edcc8eb2a01bed8e98f13a1537005d31e95233fd48216eed10/sacremoses-0.0.43.tar.gz (883kB)\n",
            "\u001b[K     |████████████████████████████████| 890kB 49.1MB/s \n",
            "\u001b[?25hRequirement already satisfied: pyparsing>=2.0.2 in /usr/local/lib/python3.7/dist-packages (from packaging->transformers) (2.4.7)\n",
            "Requirement already satisfied: certifi>=2017.4.17 in /usr/local/lib/python3.7/dist-packages (from requests->transformers) (2020.12.5)\n",
            "Requirement already satisfied: chardet<4,>=3.0.2 in /usr/local/lib/python3.7/dist-packages (from requests->transformers) (3.0.4)\n",
            "Requirement already satisfied: urllib3!=1.25.0,!=1.25.1,<1.26,>=1.21.1 in /usr/local/lib/python3.7/dist-packages (from requests->transformers) (1.24.3)\n",
            "Requirement already satisfied: idna<3,>=2.5 in /usr/local/lib/python3.7/dist-packages (from requests->transformers) (2.10)\n",
            "Requirement already satisfied: zipp>=0.5 in /usr/local/lib/python3.7/dist-packages (from importlib-metadata; python_version < \"3.8\"->transformers) (3.4.1)\n",
            "Requirement already satisfied: typing-extensions>=3.6.4; python_version < \"3.8\" in /usr/local/lib/python3.7/dist-packages (from importlib-metadata; python_version < \"3.8\"->transformers) (3.7.4.3)\n",
            "Requirement already satisfied: six in /usr/local/lib/python3.7/dist-packages (from sacremoses->transformers) (1.15.0)\n",
            "Requirement already satisfied: click in /usr/local/lib/python3.7/dist-packages (from sacremoses->transformers) (7.1.2)\n",
            "Requirement already satisfied: joblib in /usr/local/lib/python3.7/dist-packages (from sacremoses->transformers) (1.0.1)\n",
            "Building wheels for collected packages: sacremoses\n",
            "  Building wheel for sacremoses (setup.py) ... \u001b[?25l\u001b[?25hdone\n",
            "  Created wheel for sacremoses: filename=sacremoses-0.0.43-cp37-none-any.whl size=893262 sha256=c986784a4444d05a67993301bf0b3a6390b55bd6d4f371da1f3262fce3232469\n",
            "  Stored in directory: /root/.cache/pip/wheels/29/3c/fd/7ce5c3f0666dab31a50123635e6fb5e19ceb42ce38d4e58f45\n",
            "Successfully built sacremoses\n",
            "Installing collected packages: tokenizers, sacremoses, transformers\n",
            "Successfully installed sacremoses-0.0.43 tokenizers-0.10.1 transformers-4.3.3\n"
          ],
          "name": "stdout"
        }
      ]
    },
    {
      "cell_type": "code",
      "metadata": {
        "id": "Pwp7W3BWWERu"
      },
      "source": [
        "from torch.utils.data import TensorDataset, DataLoader, RandomSampler, SequentialSampler\n",
        "from sklearn.model_selection import train_test_split\n",
        "from transformers import BertTokenizer, BertConfig\n",
        "from transformers import AdamW, BertForSequenceClassification\n",
        "from tqdm import tqdm, trange\n",
        "import pandas as pd\n",
        "import io\n",
        "import numpy as np\n",
        "import matplotlib.pyplot as plt"
      ],
      "execution_count": 4,
      "outputs": []
    },
    {
      "cell_type": "code",
      "metadata": {
        "id": "GA8cN_uo51Rf"
      },
      "source": [
        "import warnings\n",
        "warnings.filterwarnings('ignore')"
      ],
      "execution_count": 5,
      "outputs": []
    },
    {
      "cell_type": "markdown",
      "metadata": {
        "id": "BzJIgUKsgW0X"
      },
      "source": [
        "## <span style=\"color:red\">*Exercise 1*</span>\n",
        "\n",
        "<span style=\"color:red\">Construct cells immediately below this that estimate a deep classification model with Keras (and LSTM) and also BERT in order to predict pre-established data labels relevant to your final project (as for week 3's homework). Which works better? Are the errors the same or different?\n",
        "\n",
        "<span style=\"color:red\">***Stretch***</span>: <span style=\"color:red\">Now alter the neural network by stacking network layers, adjusting the embedding dimension, compare its performance with your model above, and interpret why it might be different."
      ]
    },
    {
      "cell_type": "code",
      "metadata": {
        "colab": {
          "base_uri": "https://localhost:8080/",
          "height": 391
        },
        "id": "7O3M7Q6D6A-E",
        "outputId": "1e071cc5-d870-445d-eca1-d0b1d9d67681"
      },
      "source": [
        "review_raw = pd.read_csv(\"e-commerce_reviews.csv\")\n",
        "review_raw.head()"
      ],
      "execution_count": 7,
      "outputs": [
        {
          "output_type": "execute_result",
          "data": {
            "text/html": [
              "<div>\n",
              "<style scoped>\n",
              "    .dataframe tbody tr th:only-of-type {\n",
              "        vertical-align: middle;\n",
              "    }\n",
              "\n",
              "    .dataframe tbody tr th {\n",
              "        vertical-align: top;\n",
              "    }\n",
              "\n",
              "    .dataframe thead th {\n",
              "        text-align: right;\n",
              "    }\n",
              "</style>\n",
              "<table border=\"1\" class=\"dataframe\">\n",
              "  <thead>\n",
              "    <tr style=\"text-align: right;\">\n",
              "      <th></th>\n",
              "      <th>Unnamed: 0</th>\n",
              "      <th>Clothing ID</th>\n",
              "      <th>Age</th>\n",
              "      <th>Title</th>\n",
              "      <th>Review Text</th>\n",
              "      <th>Rating</th>\n",
              "      <th>Recommended IND</th>\n",
              "      <th>Positive Feedback Count</th>\n",
              "      <th>Division Name</th>\n",
              "      <th>Department Name</th>\n",
              "      <th>Class Name</th>\n",
              "    </tr>\n",
              "  </thead>\n",
              "  <tbody>\n",
              "    <tr>\n",
              "      <th>0</th>\n",
              "      <td>0</td>\n",
              "      <td>767</td>\n",
              "      <td>33</td>\n",
              "      <td>NaN</td>\n",
              "      <td>Absolutely wonderful - silky and sexy and comf...</td>\n",
              "      <td>4</td>\n",
              "      <td>1</td>\n",
              "      <td>0</td>\n",
              "      <td>Initmates</td>\n",
              "      <td>Intimate</td>\n",
              "      <td>Intimates</td>\n",
              "    </tr>\n",
              "    <tr>\n",
              "      <th>1</th>\n",
              "      <td>1</td>\n",
              "      <td>1080</td>\n",
              "      <td>34</td>\n",
              "      <td>NaN</td>\n",
              "      <td>Love this dress!  it's sooo pretty.  i happene...</td>\n",
              "      <td>5</td>\n",
              "      <td>1</td>\n",
              "      <td>4</td>\n",
              "      <td>General</td>\n",
              "      <td>Dresses</td>\n",
              "      <td>Dresses</td>\n",
              "    </tr>\n",
              "    <tr>\n",
              "      <th>2</th>\n",
              "      <td>2</td>\n",
              "      <td>1077</td>\n",
              "      <td>60</td>\n",
              "      <td>Some major design flaws</td>\n",
              "      <td>I had such high hopes for this dress and reall...</td>\n",
              "      <td>3</td>\n",
              "      <td>0</td>\n",
              "      <td>0</td>\n",
              "      <td>General</td>\n",
              "      <td>Dresses</td>\n",
              "      <td>Dresses</td>\n",
              "    </tr>\n",
              "    <tr>\n",
              "      <th>3</th>\n",
              "      <td>3</td>\n",
              "      <td>1049</td>\n",
              "      <td>50</td>\n",
              "      <td>My favorite buy!</td>\n",
              "      <td>I love, love, love this jumpsuit. it's fun, fl...</td>\n",
              "      <td>5</td>\n",
              "      <td>1</td>\n",
              "      <td>0</td>\n",
              "      <td>General Petite</td>\n",
              "      <td>Bottoms</td>\n",
              "      <td>Pants</td>\n",
              "    </tr>\n",
              "    <tr>\n",
              "      <th>4</th>\n",
              "      <td>4</td>\n",
              "      <td>847</td>\n",
              "      <td>47</td>\n",
              "      <td>Flattering shirt</td>\n",
              "      <td>This shirt is very flattering to all due to th...</td>\n",
              "      <td>5</td>\n",
              "      <td>1</td>\n",
              "      <td>6</td>\n",
              "      <td>General</td>\n",
              "      <td>Tops</td>\n",
              "      <td>Blouses</td>\n",
              "    </tr>\n",
              "  </tbody>\n",
              "</table>\n",
              "</div>"
            ],
            "text/plain": [
              "   Unnamed: 0  Clothing ID  Age  ...   Division Name Department Name  Class Name\n",
              "0           0          767   33  ...       Initmates        Intimate   Intimates\n",
              "1           1         1080   34  ...         General         Dresses     Dresses\n",
              "2           2         1077   60  ...         General         Dresses     Dresses\n",
              "3           3         1049   50  ...  General Petite         Bottoms       Pants\n",
              "4           4          847   47  ...         General            Tops     Blouses\n",
              "\n",
              "[5 rows x 11 columns]"
            ]
          },
          "metadata": {
            "tags": []
          },
          "execution_count": 7
        }
      ]
    },
    {
      "cell_type": "code",
      "metadata": {
        "colab": {
          "base_uri": "https://localhost:8080/",
          "height": 204
        },
        "id": "AuMyQDwpck4Q",
        "outputId": "1d616aa3-46ff-4378-8deb-a704b2e1f984"
      },
      "source": [
        "# Extract data for analysis\n",
        "review = review_raw[['Review Text','Rating','Class Name','Age']]\n",
        "review.head()"
      ],
      "execution_count": 8,
      "outputs": [
        {
          "output_type": "execute_result",
          "data": {
            "text/html": [
              "<div>\n",
              "<style scoped>\n",
              "    .dataframe tbody tr th:only-of-type {\n",
              "        vertical-align: middle;\n",
              "    }\n",
              "\n",
              "    .dataframe tbody tr th {\n",
              "        vertical-align: top;\n",
              "    }\n",
              "\n",
              "    .dataframe thead th {\n",
              "        text-align: right;\n",
              "    }\n",
              "</style>\n",
              "<table border=\"1\" class=\"dataframe\">\n",
              "  <thead>\n",
              "    <tr style=\"text-align: right;\">\n",
              "      <th></th>\n",
              "      <th>Review Text</th>\n",
              "      <th>Rating</th>\n",
              "      <th>Class Name</th>\n",
              "      <th>Age</th>\n",
              "    </tr>\n",
              "  </thead>\n",
              "  <tbody>\n",
              "    <tr>\n",
              "      <th>0</th>\n",
              "      <td>Absolutely wonderful - silky and sexy and comf...</td>\n",
              "      <td>4</td>\n",
              "      <td>Intimates</td>\n",
              "      <td>33</td>\n",
              "    </tr>\n",
              "    <tr>\n",
              "      <th>1</th>\n",
              "      <td>Love this dress!  it's sooo pretty.  i happene...</td>\n",
              "      <td>5</td>\n",
              "      <td>Dresses</td>\n",
              "      <td>34</td>\n",
              "    </tr>\n",
              "    <tr>\n",
              "      <th>2</th>\n",
              "      <td>I had such high hopes for this dress and reall...</td>\n",
              "      <td>3</td>\n",
              "      <td>Dresses</td>\n",
              "      <td>60</td>\n",
              "    </tr>\n",
              "    <tr>\n",
              "      <th>3</th>\n",
              "      <td>I love, love, love this jumpsuit. it's fun, fl...</td>\n",
              "      <td>5</td>\n",
              "      <td>Pants</td>\n",
              "      <td>50</td>\n",
              "    </tr>\n",
              "    <tr>\n",
              "      <th>4</th>\n",
              "      <td>This shirt is very flattering to all due to th...</td>\n",
              "      <td>5</td>\n",
              "      <td>Blouses</td>\n",
              "      <td>47</td>\n",
              "    </tr>\n",
              "  </tbody>\n",
              "</table>\n",
              "</div>"
            ],
            "text/plain": [
              "                                         Review Text  Rating Class Name  Age\n",
              "0  Absolutely wonderful - silky and sexy and comf...       4  Intimates   33\n",
              "1  Love this dress!  it's sooo pretty.  i happene...       5    Dresses   34\n",
              "2  I had such high hopes for this dress and reall...       3    Dresses   60\n",
              "3  I love, love, love this jumpsuit. it's fun, fl...       5      Pants   50\n",
              "4  This shirt is very flattering to all due to th...       5    Blouses   47"
            ]
          },
          "metadata": {
            "tags": []
          },
          "execution_count": 8
        }
      ]
    },
    {
      "cell_type": "code",
      "metadata": {
        "colab": {
          "base_uri": "https://localhost:8080/",
          "height": 204
        },
        "id": "LJdxVYyhcmIS",
        "outputId": "84ea51fa-6165-4b40-c577-5785cc9d746c"
      },
      "source": [
        "review['Review Text'] = review['Review Text'].fillna('') #Fill NA values by space\n",
        "#Create a label based on ratings: 1 for 4 and higher, 0 for 2 and lower.\n",
        "review_df = review[review['Rating'] != 3]\n",
        "review_df['label'] = np.where(review_df['Rating']>=4, 1, 0) \n",
        "review_df.head()"
      ],
      "execution_count": 10,
      "outputs": [
        {
          "output_type": "execute_result",
          "data": {
            "text/html": [
              "<div>\n",
              "<style scoped>\n",
              "    .dataframe tbody tr th:only-of-type {\n",
              "        vertical-align: middle;\n",
              "    }\n",
              "\n",
              "    .dataframe tbody tr th {\n",
              "        vertical-align: top;\n",
              "    }\n",
              "\n",
              "    .dataframe thead th {\n",
              "        text-align: right;\n",
              "    }\n",
              "</style>\n",
              "<table border=\"1\" class=\"dataframe\">\n",
              "  <thead>\n",
              "    <tr style=\"text-align: right;\">\n",
              "      <th></th>\n",
              "      <th>Review Text</th>\n",
              "      <th>Rating</th>\n",
              "      <th>Class Name</th>\n",
              "      <th>Age</th>\n",
              "      <th>label</th>\n",
              "    </tr>\n",
              "  </thead>\n",
              "  <tbody>\n",
              "    <tr>\n",
              "      <th>0</th>\n",
              "      <td>Absolutely wonderful - silky and sexy and comf...</td>\n",
              "      <td>4</td>\n",
              "      <td>Intimates</td>\n",
              "      <td>33</td>\n",
              "      <td>1</td>\n",
              "    </tr>\n",
              "    <tr>\n",
              "      <th>1</th>\n",
              "      <td>Love this dress!  it's sooo pretty.  i happene...</td>\n",
              "      <td>5</td>\n",
              "      <td>Dresses</td>\n",
              "      <td>34</td>\n",
              "      <td>1</td>\n",
              "    </tr>\n",
              "    <tr>\n",
              "      <th>3</th>\n",
              "      <td>I love, love, love this jumpsuit. it's fun, fl...</td>\n",
              "      <td>5</td>\n",
              "      <td>Pants</td>\n",
              "      <td>50</td>\n",
              "      <td>1</td>\n",
              "    </tr>\n",
              "    <tr>\n",
              "      <th>4</th>\n",
              "      <td>This shirt is very flattering to all due to th...</td>\n",
              "      <td>5</td>\n",
              "      <td>Blouses</td>\n",
              "      <td>47</td>\n",
              "      <td>1</td>\n",
              "    </tr>\n",
              "    <tr>\n",
              "      <th>5</th>\n",
              "      <td>I love tracy reese dresses, but this one is no...</td>\n",
              "      <td>2</td>\n",
              "      <td>Dresses</td>\n",
              "      <td>49</td>\n",
              "      <td>0</td>\n",
              "    </tr>\n",
              "  </tbody>\n",
              "</table>\n",
              "</div>"
            ],
            "text/plain": [
              "                                         Review Text  Rating  ... Age  label\n",
              "0  Absolutely wonderful - silky and sexy and comf...       4  ...  33      1\n",
              "1  Love this dress!  it's sooo pretty.  i happene...       5  ...  34      1\n",
              "3  I love, love, love this jumpsuit. it's fun, fl...       5  ...  50      1\n",
              "4  This shirt is very flattering to all due to th...       5  ...  47      1\n",
              "5  I love tracy reese dresses, but this one is no...       2  ...  49      0\n",
              "\n",
              "[5 rows x 5 columns]"
            ]
          },
          "metadata": {
            "tags": []
          },
          "execution_count": 10
        }
      ]
    },
    {
      "cell_type": "code",
      "metadata": {
        "id": "saNk183jgjVP"
      },
      "source": [
        "# Training model with 80% of the data and 20% for testing\n",
        "train_df = review_df[:int(review_df.shape[0]*0.8)]"
      ],
      "execution_count": 11,
      "outputs": []
    },
    {
      "cell_type": "code",
      "metadata": {
        "id": "VOLRljp3gr9T"
      },
      "source": [
        "# Create sentence and label lists\n",
        "sentences = train_df['Review Text'].values\n",
        "\n",
        "# We need to add special tokens at the beginning and end of each sentence for BERT to work properly\n",
        "sentences = [\"[CLS] \" + sentence + \" [SEP]\" for sentence in sentences]\n",
        "labels = train_df.label.values"
      ],
      "execution_count": 12,
      "outputs": []
    },
    {
      "cell_type": "code",
      "metadata": {
        "colab": {
          "base_uri": "https://localhost:8080/",
          "height": 103,
          "referenced_widgets": [
            "7e66adc025324939a333b8793c3aae4a",
            "37c1d03df1b244ca8c75b20873c50dab",
            "ace3cc1ce7c34a5295156ce31c007c3a",
            "1f20ff19e80c4594a21931ff3f5c1a83",
            "55a3d2d8ae8b4c4aaaebccbf15bc0b70",
            "79fd7dbbbc62421582778f88104800fb",
            "c87f18d57d6c4fcaa5a42d8020f33e37",
            "8de3523f96de4abbad347d28bce2dff2"
          ]
        },
        "id": "IwosbhUMc1aG",
        "outputId": "0bc9be06-22c9-452c-c40b-bb98a4f07ab2"
      },
      "source": [
        "tokenizer = BertTokenizer.from_pretrained('bert-base-uncased', do_lower_case=True)\n",
        "\n",
        "tokenized_texts = [tokenizer.tokenize(sent) for sent in sentences]\n",
        "print (\"Tokenize the first sentence:\")\n",
        "print (tokenized_texts[0])"
      ],
      "execution_count": 13,
      "outputs": [
        {
          "output_type": "display_data",
          "data": {
            "application/vnd.jupyter.widget-view+json": {
              "model_id": "7e66adc025324939a333b8793c3aae4a",
              "version_minor": 0,
              "version_major": 2
            },
            "text/plain": [
              "HBox(children=(FloatProgress(value=0.0, description='Downloading', max=231508.0, style=ProgressStyle(descripti…"
            ]
          },
          "metadata": {
            "tags": []
          }
        },
        {
          "output_type": "stream",
          "text": [
            "\n",
            "Tokenize the first sentence:\n",
            "['[CLS]', 'absolutely', 'wonderful', '-', 'silky', 'and', 'sexy', 'and', 'comfortable', '[SEP]']\n"
          ],
          "name": "stdout"
        }
      ]
    },
    {
      "cell_type": "code",
      "metadata": {
        "id": "wywdbBISguFj"
      },
      "source": [
        "MAX_LEN = 128\n",
        "\n",
        "# Use the BERT tokenizer to convert the tokens to their index numbers in the BERT vocabulary\n",
        "input_ids = [tokenizer.convert_tokens_to_ids(x) for x in tokenized_texts]"
      ],
      "execution_count": 14,
      "outputs": []
    },
    {
      "cell_type": "code",
      "metadata": {
        "id": "ko6fHIlAiHm7"
      },
      "source": [
        "import os\n",
        "os.environ['KERAS_BACKEND'] = 'tensorflow'\n",
        "from keras.preprocessing.sequence import pad_sequences"
      ],
      "execution_count": 15,
      "outputs": []
    },
    {
      "cell_type": "code",
      "metadata": {
        "id": "VSaU7DbkgzWh"
      },
      "source": [
        "# Pad our input tokens\n",
        "input_ids = pad_sequences(input_ids, maxlen=MAX_LEN, dtype=\"long\", truncating=\"post\", padding=\"post\")"
      ],
      "execution_count": 16,
      "outputs": []
    },
    {
      "cell_type": "code",
      "metadata": {
        "id": "FEUBxUm8g0ov"
      },
      "source": [
        "# Create attention masks\n",
        "attention_masks = []\n",
        "\n",
        "# Create a mask of 1s for each token followed by 0s for padding\n",
        "for seq in input_ids:\n",
        "    seq_mask = [float(i>0) for i in seq]\n",
        "    attention_masks.append(seq_mask)"
      ],
      "execution_count": 17,
      "outputs": []
    },
    {
      "cell_type": "code",
      "metadata": {
        "id": "A4QPyBRDiIx1"
      },
      "source": [
        "# Use train_test_split to split our data into train and validation sets for training\n",
        "train_inputs, validation_inputs, train_labels, validation_labels = train_test_split(input_ids, labels, \n",
        "                                                            random_state=2020, test_size=0.1)\n",
        "train_masks, validation_masks, _, _ = train_test_split(attention_masks, input_ids,\n",
        "                                             random_state=2020, test_size=0.1)"
      ],
      "execution_count": 18,
      "outputs": []
    },
    {
      "cell_type": "markdown",
      "metadata": {
        "id": "ozNT0i94dK3y"
      },
      "source": [
        "### Deep Neural Nets"
      ]
    },
    {
      "cell_type": "code",
      "metadata": {
        "id": "XWLfSUPjiLJA"
      },
      "source": [
        "from keras.models import Sequential\n",
        "from keras.layers import Dense, LSTM, Embedding"
      ],
      "execution_count": 19,
      "outputs": []
    },
    {
      "cell_type": "code",
      "metadata": {
        "id": "hQ0A0HbAiMpc"
      },
      "source": [
        "vocab_in_size = tokenizer.vocab_size\n",
        "embedding_dim = 32\n",
        "unit = 100\n",
        "no_labels = len(np.unique(train_labels))\n",
        "batch_size = 32"
      ],
      "execution_count": 20,
      "outputs": []
    },
    {
      "cell_type": "code",
      "metadata": {
        "id": "POlslC2AiPAI",
        "colab": {
          "base_uri": "https://localhost:8080/"
        },
        "outputId": "14d13797-1cf5-496f-8251-55ad8c498ce2"
      },
      "source": [
        "model_lstm = Sequential()\n",
        "model_lstm.add(Embedding(vocab_in_size, embedding_dim, input_length=MAX_LEN))\n",
        "model_lstm.add(LSTM(unit))\n",
        "model_lstm.add(Dense(no_labels, activation='softmax'))\n",
        "model_lstm.compile(loss='sparse_categorical_crossentropy', optimizer='adam', metrics=['accuracy'])\n",
        "model_lstm.summary()"
      ],
      "execution_count": 21,
      "outputs": [
        {
          "output_type": "stream",
          "text": [
            "Model: \"sequential\"\n",
            "_________________________________________________________________\n",
            "Layer (type)                 Output Shape              Param #   \n",
            "=================================================================\n",
            "embedding (Embedding)        (None, 128, 32)           976704    \n",
            "_________________________________________________________________\n",
            "lstm (LSTM)                  (None, 100)               53200     \n",
            "_________________________________________________________________\n",
            "dense (Dense)                (None, 2)                 202       \n",
            "=================================================================\n",
            "Total params: 1,030,106\n",
            "Trainable params: 1,030,106\n",
            "Non-trainable params: 0\n",
            "_________________________________________________________________\n"
          ],
          "name": "stdout"
        }
      ]
    },
    {
      "cell_type": "code",
      "metadata": {
        "id": "gu2c6CWSiP3D",
        "colab": {
          "base_uri": "https://localhost:8080/"
        },
        "outputId": "5e31a4c2-3512-4f1d-bfb2-7dc30876701b"
      },
      "source": [
        "history_lstm = model_lstm.fit(train_inputs, train_labels, \n",
        "                              epochs=10,batch_size=batch_size)"
      ],
      "execution_count": 22,
      "outputs": [
        {
          "output_type": "stream",
          "text": [
            "Epoch 1/10\n",
            "464/464 [==============================] - 40s 17ms/step - loss: 0.3992 - accuracy: 0.8731\n",
            "Epoch 2/10\n",
            "464/464 [==============================] - 8s 17ms/step - loss: 0.3645 - accuracy: 0.8805\n",
            "Epoch 3/10\n",
            "464/464 [==============================] - 8s 17ms/step - loss: 0.3477 - accuracy: 0.8831\n",
            "Epoch 4/10\n",
            "464/464 [==============================] - 8s 17ms/step - loss: 0.3586 - accuracy: 0.8843\n",
            "Epoch 5/10\n",
            "464/464 [==============================] - 8s 17ms/step - loss: 0.3510 - accuracy: 0.8859\n",
            "Epoch 6/10\n",
            "464/464 [==============================] - 8s 17ms/step - loss: 0.3524 - accuracy: 0.8835\n",
            "Epoch 7/10\n",
            "464/464 [==============================] - 8s 17ms/step - loss: 0.3511 - accuracy: 0.8858\n",
            "Epoch 8/10\n",
            "464/464 [==============================] - 8s 17ms/step - loss: 0.3074 - accuracy: 0.8803\n",
            "Epoch 9/10\n",
            "464/464 [==============================] - 8s 17ms/step - loss: 0.2558 - accuracy: 0.9105\n",
            "Epoch 10/10\n",
            "464/464 [==============================] - 8s 17ms/step - loss: 0.2145 - accuracy: 0.9144\n"
          ],
          "name": "stdout"
        }
      ]
    },
    {
      "cell_type": "markdown",
      "metadata": {
        "id": "PDG4Yp_gdasp"
      },
      "source": [
        "From the above results, we can see that the accuracy of this model performs well, it hovers around 94%. Then we can implement BERT to see the performance."
      ]
    },
    {
      "cell_type": "markdown",
      "metadata": {
        "id": "h6muAlDeiac7"
      },
      "source": [
        "### On with BERT!"
      ]
    },
    {
      "cell_type": "code",
      "metadata": {
        "id": "UJDljt39iddQ"
      },
      "source": [
        "# Convert all of our data into torch tensors, the required datatype for our model\n",
        "\n",
        "train_inputs = torch.tensor(train_inputs)\n",
        "validation_inputs = torch.tensor(validation_inputs)\n",
        "train_labels = torch.tensor(train_labels)\n",
        "validation_labels = torch.tensor(validation_labels)\n",
        "train_masks = torch.tensor(train_masks)\n",
        "validation_masks = torch.tensor(validation_masks)"
      ],
      "execution_count": 23,
      "outputs": []
    },
    {
      "cell_type": "code",
      "metadata": {
        "id": "CgmJ-E_VigTt"
      },
      "source": [
        "# Select a batch size for training. For fine-tuning BERT on a specific task, the authors recommend a batch size of 16 or 32\n",
        "batch_size = 32\n",
        "\n",
        "# Create an iterator of our data with torch DataLoader. This helps save on memory during training because, unlike a for loop, \n",
        "# with an iterator the entire dataset does not need to be loaded into memory\n",
        "\n",
        "train_data = TensorDataset(train_inputs, train_masks, train_labels)\n",
        "train_sampler = RandomSampler(train_data)\n",
        "train_dataloader = DataLoader(train_data, sampler=train_sampler, batch_size=batch_size)\n",
        "\n",
        "validation_data = TensorDataset(validation_inputs, validation_masks, validation_labels)\n",
        "validation_sampler = SequentialSampler(validation_data)\n",
        "validation_dataloader = DataLoader(validation_data, sampler=validation_sampler, batch_size=batch_size)"
      ],
      "execution_count": 24,
      "outputs": []
    },
    {
      "cell_type": "code",
      "metadata": {
        "id": "IYkR2tJxiiJk",
        "colab": {
          "base_uri": "https://localhost:8080/",
          "height": 1000,
          "referenced_widgets": [
            "0f7b471ba0c54abfaef92cc20c6b2702",
            "38d7906e698e46f8816f214bab0f5241",
            "92c7990aa1bc495fa67b7a674ca2e9b6",
            "467a393fe2c849f6b20da1eb12592184",
            "acec228e17fc4414a6e6860df39a1ae4",
            "69a1b4c40d7142b1a0847532d68b9695",
            "a63fc1c8916b4334a8630ba82354c73a",
            "66a287048bb84d449113733641aeb08f",
            "21fc60c4c0fa41c7a45295ccb5f68101",
            "cffb1b7a15f5401682ed904e4b9ca394",
            "8af342e115174879ac2b97cfb5333d8c",
            "a0b9813e32ba45c595e60e0b99d86482",
            "73789ade319d418fb1725f8d1fa5c91d",
            "67c8ec339956444b802bb1cfb2862642",
            "7f80016336684e32b4e0b3c8eeef13ca",
            "150fcfa97c2941888bd23c579e0baad7"
          ]
        },
        "outputId": "eceda2ed-0e59-4d83-d822-8680d2d3799c"
      },
      "source": [
        "model = BertForSequenceClassification.from_pretrained(\"bert-base-uncased\", num_labels=2)\n",
        "model.cuda()"
      ],
      "execution_count": 25,
      "outputs": [
        {
          "output_type": "display_data",
          "data": {
            "application/vnd.jupyter.widget-view+json": {
              "model_id": "0f7b471ba0c54abfaef92cc20c6b2702",
              "version_minor": 0,
              "version_major": 2
            },
            "text/plain": [
              "HBox(children=(FloatProgress(value=0.0, description='Downloading', max=433.0, style=ProgressStyle(description_…"
            ]
          },
          "metadata": {
            "tags": []
          }
        },
        {
          "output_type": "stream",
          "text": [
            "\n"
          ],
          "name": "stdout"
        },
        {
          "output_type": "display_data",
          "data": {
            "application/vnd.jupyter.widget-view+json": {
              "model_id": "21fc60c4c0fa41c7a45295ccb5f68101",
              "version_minor": 0,
              "version_major": 2
            },
            "text/plain": [
              "HBox(children=(FloatProgress(value=0.0, description='Downloading', max=440473133.0, style=ProgressStyle(descri…"
            ]
          },
          "metadata": {
            "tags": []
          }
        },
        {
          "output_type": "stream",
          "text": [
            "\n"
          ],
          "name": "stdout"
        },
        {
          "output_type": "stream",
          "text": [
            "Some weights of the model checkpoint at bert-base-uncased were not used when initializing BertForSequenceClassification: ['cls.predictions.bias', 'cls.predictions.transform.dense.weight', 'cls.predictions.transform.dense.bias', 'cls.predictions.decoder.weight', 'cls.seq_relationship.weight', 'cls.seq_relationship.bias', 'cls.predictions.transform.LayerNorm.weight', 'cls.predictions.transform.LayerNorm.bias']\n",
            "- This IS expected if you are initializing BertForSequenceClassification from the checkpoint of a model trained on another task or with another architecture (e.g. initializing a BertForSequenceClassification model from a BertForPreTraining model).\n",
            "- This IS NOT expected if you are initializing BertForSequenceClassification from the checkpoint of a model that you expect to be exactly identical (initializing a BertForSequenceClassification model from a BertForSequenceClassification model).\n",
            "Some weights of BertForSequenceClassification were not initialized from the model checkpoint at bert-base-uncased and are newly initialized: ['classifier.weight', 'classifier.bias']\n",
            "You should probably TRAIN this model on a down-stream task to be able to use it for predictions and inference.\n"
          ],
          "name": "stderr"
        },
        {
          "output_type": "execute_result",
          "data": {
            "text/plain": [
              "BertForSequenceClassification(\n",
              "  (bert): BertModel(\n",
              "    (embeddings): BertEmbeddings(\n",
              "      (word_embeddings): Embedding(30522, 768, padding_idx=0)\n",
              "      (position_embeddings): Embedding(512, 768)\n",
              "      (token_type_embeddings): Embedding(2, 768)\n",
              "      (LayerNorm): LayerNorm((768,), eps=1e-12, elementwise_affine=True)\n",
              "      (dropout): Dropout(p=0.1, inplace=False)\n",
              "    )\n",
              "    (encoder): BertEncoder(\n",
              "      (layer): ModuleList(\n",
              "        (0): BertLayer(\n",
              "          (attention): BertAttention(\n",
              "            (self): BertSelfAttention(\n",
              "              (query): Linear(in_features=768, out_features=768, bias=True)\n",
              "              (key): Linear(in_features=768, out_features=768, bias=True)\n",
              "              (value): Linear(in_features=768, out_features=768, bias=True)\n",
              "              (dropout): Dropout(p=0.1, inplace=False)\n",
              "            )\n",
              "            (output): BertSelfOutput(\n",
              "              (dense): Linear(in_features=768, out_features=768, bias=True)\n",
              "              (LayerNorm): LayerNorm((768,), eps=1e-12, elementwise_affine=True)\n",
              "              (dropout): Dropout(p=0.1, inplace=False)\n",
              "            )\n",
              "          )\n",
              "          (intermediate): BertIntermediate(\n",
              "            (dense): Linear(in_features=768, out_features=3072, bias=True)\n",
              "          )\n",
              "          (output): BertOutput(\n",
              "            (dense): Linear(in_features=3072, out_features=768, bias=True)\n",
              "            (LayerNorm): LayerNorm((768,), eps=1e-12, elementwise_affine=True)\n",
              "            (dropout): Dropout(p=0.1, inplace=False)\n",
              "          )\n",
              "        )\n",
              "        (1): BertLayer(\n",
              "          (attention): BertAttention(\n",
              "            (self): BertSelfAttention(\n",
              "              (query): Linear(in_features=768, out_features=768, bias=True)\n",
              "              (key): Linear(in_features=768, out_features=768, bias=True)\n",
              "              (value): Linear(in_features=768, out_features=768, bias=True)\n",
              "              (dropout): Dropout(p=0.1, inplace=False)\n",
              "            )\n",
              "            (output): BertSelfOutput(\n",
              "              (dense): Linear(in_features=768, out_features=768, bias=True)\n",
              "              (LayerNorm): LayerNorm((768,), eps=1e-12, elementwise_affine=True)\n",
              "              (dropout): Dropout(p=0.1, inplace=False)\n",
              "            )\n",
              "          )\n",
              "          (intermediate): BertIntermediate(\n",
              "            (dense): Linear(in_features=768, out_features=3072, bias=True)\n",
              "          )\n",
              "          (output): BertOutput(\n",
              "            (dense): Linear(in_features=3072, out_features=768, bias=True)\n",
              "            (LayerNorm): LayerNorm((768,), eps=1e-12, elementwise_affine=True)\n",
              "            (dropout): Dropout(p=0.1, inplace=False)\n",
              "          )\n",
              "        )\n",
              "        (2): BertLayer(\n",
              "          (attention): BertAttention(\n",
              "            (self): BertSelfAttention(\n",
              "              (query): Linear(in_features=768, out_features=768, bias=True)\n",
              "              (key): Linear(in_features=768, out_features=768, bias=True)\n",
              "              (value): Linear(in_features=768, out_features=768, bias=True)\n",
              "              (dropout): Dropout(p=0.1, inplace=False)\n",
              "            )\n",
              "            (output): BertSelfOutput(\n",
              "              (dense): Linear(in_features=768, out_features=768, bias=True)\n",
              "              (LayerNorm): LayerNorm((768,), eps=1e-12, elementwise_affine=True)\n",
              "              (dropout): Dropout(p=0.1, inplace=False)\n",
              "            )\n",
              "          )\n",
              "          (intermediate): BertIntermediate(\n",
              "            (dense): Linear(in_features=768, out_features=3072, bias=True)\n",
              "          )\n",
              "          (output): BertOutput(\n",
              "            (dense): Linear(in_features=3072, out_features=768, bias=True)\n",
              "            (LayerNorm): LayerNorm((768,), eps=1e-12, elementwise_affine=True)\n",
              "            (dropout): Dropout(p=0.1, inplace=False)\n",
              "          )\n",
              "        )\n",
              "        (3): BertLayer(\n",
              "          (attention): BertAttention(\n",
              "            (self): BertSelfAttention(\n",
              "              (query): Linear(in_features=768, out_features=768, bias=True)\n",
              "              (key): Linear(in_features=768, out_features=768, bias=True)\n",
              "              (value): Linear(in_features=768, out_features=768, bias=True)\n",
              "              (dropout): Dropout(p=0.1, inplace=False)\n",
              "            )\n",
              "            (output): BertSelfOutput(\n",
              "              (dense): Linear(in_features=768, out_features=768, bias=True)\n",
              "              (LayerNorm): LayerNorm((768,), eps=1e-12, elementwise_affine=True)\n",
              "              (dropout): Dropout(p=0.1, inplace=False)\n",
              "            )\n",
              "          )\n",
              "          (intermediate): BertIntermediate(\n",
              "            (dense): Linear(in_features=768, out_features=3072, bias=True)\n",
              "          )\n",
              "          (output): BertOutput(\n",
              "            (dense): Linear(in_features=3072, out_features=768, bias=True)\n",
              "            (LayerNorm): LayerNorm((768,), eps=1e-12, elementwise_affine=True)\n",
              "            (dropout): Dropout(p=0.1, inplace=False)\n",
              "          )\n",
              "        )\n",
              "        (4): BertLayer(\n",
              "          (attention): BertAttention(\n",
              "            (self): BertSelfAttention(\n",
              "              (query): Linear(in_features=768, out_features=768, bias=True)\n",
              "              (key): Linear(in_features=768, out_features=768, bias=True)\n",
              "              (value): Linear(in_features=768, out_features=768, bias=True)\n",
              "              (dropout): Dropout(p=0.1, inplace=False)\n",
              "            )\n",
              "            (output): BertSelfOutput(\n",
              "              (dense): Linear(in_features=768, out_features=768, bias=True)\n",
              "              (LayerNorm): LayerNorm((768,), eps=1e-12, elementwise_affine=True)\n",
              "              (dropout): Dropout(p=0.1, inplace=False)\n",
              "            )\n",
              "          )\n",
              "          (intermediate): BertIntermediate(\n",
              "            (dense): Linear(in_features=768, out_features=3072, bias=True)\n",
              "          )\n",
              "          (output): BertOutput(\n",
              "            (dense): Linear(in_features=3072, out_features=768, bias=True)\n",
              "            (LayerNorm): LayerNorm((768,), eps=1e-12, elementwise_affine=True)\n",
              "            (dropout): Dropout(p=0.1, inplace=False)\n",
              "          )\n",
              "        )\n",
              "        (5): BertLayer(\n",
              "          (attention): BertAttention(\n",
              "            (self): BertSelfAttention(\n",
              "              (query): Linear(in_features=768, out_features=768, bias=True)\n",
              "              (key): Linear(in_features=768, out_features=768, bias=True)\n",
              "              (value): Linear(in_features=768, out_features=768, bias=True)\n",
              "              (dropout): Dropout(p=0.1, inplace=False)\n",
              "            )\n",
              "            (output): BertSelfOutput(\n",
              "              (dense): Linear(in_features=768, out_features=768, bias=True)\n",
              "              (LayerNorm): LayerNorm((768,), eps=1e-12, elementwise_affine=True)\n",
              "              (dropout): Dropout(p=0.1, inplace=False)\n",
              "            )\n",
              "          )\n",
              "          (intermediate): BertIntermediate(\n",
              "            (dense): Linear(in_features=768, out_features=3072, bias=True)\n",
              "          )\n",
              "          (output): BertOutput(\n",
              "            (dense): Linear(in_features=3072, out_features=768, bias=True)\n",
              "            (LayerNorm): LayerNorm((768,), eps=1e-12, elementwise_affine=True)\n",
              "            (dropout): Dropout(p=0.1, inplace=False)\n",
              "          )\n",
              "        )\n",
              "        (6): BertLayer(\n",
              "          (attention): BertAttention(\n",
              "            (self): BertSelfAttention(\n",
              "              (query): Linear(in_features=768, out_features=768, bias=True)\n",
              "              (key): Linear(in_features=768, out_features=768, bias=True)\n",
              "              (value): Linear(in_features=768, out_features=768, bias=True)\n",
              "              (dropout): Dropout(p=0.1, inplace=False)\n",
              "            )\n",
              "            (output): BertSelfOutput(\n",
              "              (dense): Linear(in_features=768, out_features=768, bias=True)\n",
              "              (LayerNorm): LayerNorm((768,), eps=1e-12, elementwise_affine=True)\n",
              "              (dropout): Dropout(p=0.1, inplace=False)\n",
              "            )\n",
              "          )\n",
              "          (intermediate): BertIntermediate(\n",
              "            (dense): Linear(in_features=768, out_features=3072, bias=True)\n",
              "          )\n",
              "          (output): BertOutput(\n",
              "            (dense): Linear(in_features=3072, out_features=768, bias=True)\n",
              "            (LayerNorm): LayerNorm((768,), eps=1e-12, elementwise_affine=True)\n",
              "            (dropout): Dropout(p=0.1, inplace=False)\n",
              "          )\n",
              "        )\n",
              "        (7): BertLayer(\n",
              "          (attention): BertAttention(\n",
              "            (self): BertSelfAttention(\n",
              "              (query): Linear(in_features=768, out_features=768, bias=True)\n",
              "              (key): Linear(in_features=768, out_features=768, bias=True)\n",
              "              (value): Linear(in_features=768, out_features=768, bias=True)\n",
              "              (dropout): Dropout(p=0.1, inplace=False)\n",
              "            )\n",
              "            (output): BertSelfOutput(\n",
              "              (dense): Linear(in_features=768, out_features=768, bias=True)\n",
              "              (LayerNorm): LayerNorm((768,), eps=1e-12, elementwise_affine=True)\n",
              "              (dropout): Dropout(p=0.1, inplace=False)\n",
              "            )\n",
              "          )\n",
              "          (intermediate): BertIntermediate(\n",
              "            (dense): Linear(in_features=768, out_features=3072, bias=True)\n",
              "          )\n",
              "          (output): BertOutput(\n",
              "            (dense): Linear(in_features=3072, out_features=768, bias=True)\n",
              "            (LayerNorm): LayerNorm((768,), eps=1e-12, elementwise_affine=True)\n",
              "            (dropout): Dropout(p=0.1, inplace=False)\n",
              "          )\n",
              "        )\n",
              "        (8): BertLayer(\n",
              "          (attention): BertAttention(\n",
              "            (self): BertSelfAttention(\n",
              "              (query): Linear(in_features=768, out_features=768, bias=True)\n",
              "              (key): Linear(in_features=768, out_features=768, bias=True)\n",
              "              (value): Linear(in_features=768, out_features=768, bias=True)\n",
              "              (dropout): Dropout(p=0.1, inplace=False)\n",
              "            )\n",
              "            (output): BertSelfOutput(\n",
              "              (dense): Linear(in_features=768, out_features=768, bias=True)\n",
              "              (LayerNorm): LayerNorm((768,), eps=1e-12, elementwise_affine=True)\n",
              "              (dropout): Dropout(p=0.1, inplace=False)\n",
              "            )\n",
              "          )\n",
              "          (intermediate): BertIntermediate(\n",
              "            (dense): Linear(in_features=768, out_features=3072, bias=True)\n",
              "          )\n",
              "          (output): BertOutput(\n",
              "            (dense): Linear(in_features=3072, out_features=768, bias=True)\n",
              "            (LayerNorm): LayerNorm((768,), eps=1e-12, elementwise_affine=True)\n",
              "            (dropout): Dropout(p=0.1, inplace=False)\n",
              "          )\n",
              "        )\n",
              "        (9): BertLayer(\n",
              "          (attention): BertAttention(\n",
              "            (self): BertSelfAttention(\n",
              "              (query): Linear(in_features=768, out_features=768, bias=True)\n",
              "              (key): Linear(in_features=768, out_features=768, bias=True)\n",
              "              (value): Linear(in_features=768, out_features=768, bias=True)\n",
              "              (dropout): Dropout(p=0.1, inplace=False)\n",
              "            )\n",
              "            (output): BertSelfOutput(\n",
              "              (dense): Linear(in_features=768, out_features=768, bias=True)\n",
              "              (LayerNorm): LayerNorm((768,), eps=1e-12, elementwise_affine=True)\n",
              "              (dropout): Dropout(p=0.1, inplace=False)\n",
              "            )\n",
              "          )\n",
              "          (intermediate): BertIntermediate(\n",
              "            (dense): Linear(in_features=768, out_features=3072, bias=True)\n",
              "          )\n",
              "          (output): BertOutput(\n",
              "            (dense): Linear(in_features=3072, out_features=768, bias=True)\n",
              "            (LayerNorm): LayerNorm((768,), eps=1e-12, elementwise_affine=True)\n",
              "            (dropout): Dropout(p=0.1, inplace=False)\n",
              "          )\n",
              "        )\n",
              "        (10): BertLayer(\n",
              "          (attention): BertAttention(\n",
              "            (self): BertSelfAttention(\n",
              "              (query): Linear(in_features=768, out_features=768, bias=True)\n",
              "              (key): Linear(in_features=768, out_features=768, bias=True)\n",
              "              (value): Linear(in_features=768, out_features=768, bias=True)\n",
              "              (dropout): Dropout(p=0.1, inplace=False)\n",
              "            )\n",
              "            (output): BertSelfOutput(\n",
              "              (dense): Linear(in_features=768, out_features=768, bias=True)\n",
              "              (LayerNorm): LayerNorm((768,), eps=1e-12, elementwise_affine=True)\n",
              "              (dropout): Dropout(p=0.1, inplace=False)\n",
              "            )\n",
              "          )\n",
              "          (intermediate): BertIntermediate(\n",
              "            (dense): Linear(in_features=768, out_features=3072, bias=True)\n",
              "          )\n",
              "          (output): BertOutput(\n",
              "            (dense): Linear(in_features=3072, out_features=768, bias=True)\n",
              "            (LayerNorm): LayerNorm((768,), eps=1e-12, elementwise_affine=True)\n",
              "            (dropout): Dropout(p=0.1, inplace=False)\n",
              "          )\n",
              "        )\n",
              "        (11): BertLayer(\n",
              "          (attention): BertAttention(\n",
              "            (self): BertSelfAttention(\n",
              "              (query): Linear(in_features=768, out_features=768, bias=True)\n",
              "              (key): Linear(in_features=768, out_features=768, bias=True)\n",
              "              (value): Linear(in_features=768, out_features=768, bias=True)\n",
              "              (dropout): Dropout(p=0.1, inplace=False)\n",
              "            )\n",
              "            (output): BertSelfOutput(\n",
              "              (dense): Linear(in_features=768, out_features=768, bias=True)\n",
              "              (LayerNorm): LayerNorm((768,), eps=1e-12, elementwise_affine=True)\n",
              "              (dropout): Dropout(p=0.1, inplace=False)\n",
              "            )\n",
              "          )\n",
              "          (intermediate): BertIntermediate(\n",
              "            (dense): Linear(in_features=768, out_features=3072, bias=True)\n",
              "          )\n",
              "          (output): BertOutput(\n",
              "            (dense): Linear(in_features=3072, out_features=768, bias=True)\n",
              "            (LayerNorm): LayerNorm((768,), eps=1e-12, elementwise_affine=True)\n",
              "            (dropout): Dropout(p=0.1, inplace=False)\n",
              "          )\n",
              "        )\n",
              "      )\n",
              "    )\n",
              "    (pooler): BertPooler(\n",
              "      (dense): Linear(in_features=768, out_features=768, bias=True)\n",
              "      (activation): Tanh()\n",
              "    )\n",
              "  )\n",
              "  (dropout): Dropout(p=0.1, inplace=False)\n",
              "  (classifier): Linear(in_features=768, out_features=2, bias=True)\n",
              ")"
            ]
          },
          "metadata": {
            "tags": []
          },
          "execution_count": 25
        }
      ]
    },
    {
      "cell_type": "code",
      "metadata": {
        "id": "mfwPyoh9ii0x"
      },
      "source": [
        "param_optimizer = list(model.named_parameters())\n",
        "no_decay = ['bias', 'gamma', 'beta']\n",
        "optimizer_grouped_parameters = [\n",
        "    {'params': [p for n, p in param_optimizer if not any(nd in n for nd in no_decay)],\n",
        "     'weight_decay_rate': 0.01},\n",
        "    {'params': [p for n, p in param_optimizer if any(nd in n for nd in no_decay)],\n",
        "     'weight_decay_rate': 0.0}\n",
        "]\n"
      ],
      "execution_count": 27,
      "outputs": []
    },
    {
      "cell_type": "code",
      "metadata": {
        "id": "likqi1-FimRZ"
      },
      "source": [
        "# This variable contains all of the hyperparemeter information our training loop needs\n",
        "optimizer = AdamW(model.parameters(),\n",
        "                  lr = 2e-5, # args.learning_rate - default is 5e-5, our notebook had 2e-5\n",
        "                  eps = 1e-8 # args.adam_epsilon  - default is 1e-8.\n",
        "                )"
      ],
      "execution_count": 28,
      "outputs": []
    },
    {
      "cell_type": "code",
      "metadata": {
        "id": "JJcXKErgioEE"
      },
      "source": [
        "from transformers import get_linear_schedule_with_warmup\n",
        "\n",
        "# Number of training epochs (authors recommend between 2 and 4)\n",
        "epochs = 4\n",
        "\n",
        "# Total number of training steps is number of batches * number of epochs.\n",
        "total_steps = len(train_dataloader) * epochs\n",
        "\n",
        "# Create the learning rate scheduler.\n",
        "scheduler = get_linear_schedule_with_warmup(optimizer, \n",
        "                                            num_warmup_steps = 0, # Default value in run_glue.py\n",
        "                                            num_training_steps = total_steps)"
      ],
      "execution_count": 29,
      "outputs": []
    },
    {
      "cell_type": "code",
      "metadata": {
        "id": "j-fvXJW_ip1k"
      },
      "source": [
        "# Function to calculate the accuracy of our predictions vs labels\n",
        "def flat_accuracy(preds, labels):\n",
        "    pred_flat = np.argmax(preds, axis=1).flatten()\n",
        "    labels_flat = labels.flatten()\n",
        "    return np.sum(pred_flat == labels_flat) / len(labels_flat)"
      ],
      "execution_count": 30,
      "outputs": []
    },
    {
      "cell_type": "code",
      "metadata": {
        "id": "LtCJt0A0irEL"
      },
      "source": [
        "import time\n",
        "import datetime\n",
        "\n",
        "def format_time(elapsed):\n",
        "    '''\n",
        "    Takes a time in seconds and returns a string hh:mm:ss\n",
        "    '''\n",
        "    # Round to the nearest second.\n",
        "    elapsed_rounded = int(round((elapsed)))\n",
        "    \n",
        "    # Format as hh:mm:ss\n",
        "    return str(datetime.timedelta(seconds=elapsed_rounded))"
      ],
      "execution_count": 31,
      "outputs": []
    },
    {
      "cell_type": "code",
      "metadata": {
        "id": "wnwi-bj1itbL",
        "colab": {
          "base_uri": "https://localhost:8080/"
        },
        "outputId": "8e33a3d4-ed38-4732-af4d-ead907ee6637"
      },
      "source": [
        "import random\n",
        "\n",
        "# This training code is based on the `run_glue.py` script here:\n",
        "# https://github.com/huggingface/transformers/blob/5bfcd0485ece086ebcbed2d008813037968a9e58/examples/run_glue.py#L128\n",
        "\n",
        "# Set the seed value all over the place to make this reproducible.\n",
        "seed_val = 42\n",
        "\n",
        "random.seed(seed_val)\n",
        "np.random.seed(seed_val)\n",
        "torch.manual_seed(seed_val)\n",
        "torch.cuda.manual_seed_all(seed_val)\n",
        "\n",
        "# Store the average loss after each epoch so we can plot them.\n",
        "loss_values = []\n",
        "\n",
        "# For each epoch...\n",
        "for epoch_i in range(0, epochs):\n",
        "    \n",
        "    # ========================================\n",
        "    #               Training\n",
        "    # ========================================\n",
        "    \n",
        "    # Perform one full pass over the training set.\n",
        "\n",
        "    print(\"\")\n",
        "    print('======== Epoch {:} / {:} ========'.format(epoch_i + 1, epochs))\n",
        "    print('Training...')\n",
        "\n",
        "    # Measure how long the training epoch takes.\n",
        "    t0 = time.time()\n",
        "\n",
        "    # Reset the total loss for this epoch.\n",
        "    total_loss = 0\n",
        "\n",
        "    # Put the model into training mode. Don't be mislead--the call to \n",
        "    # `train` just changes the *mode*, it doesn't *perform* the training.\n",
        "    # `dropout` and `batchnorm` layers behave differently during training\n",
        "    # vs. test (source: https://stackoverflow.com/questions/51433378/what-does-model-train-do-in-pytorch)\n",
        "    model.train()\n",
        "\n",
        "    # For each batch of training data...\n",
        "    for step, batch in enumerate(train_dataloader):\n",
        "\n",
        "        # Progress update every 40 batches.\n",
        "        if step % 40 == 0 and not step == 0:\n",
        "            # Calculate elapsed time in minutes.\n",
        "            elapsed = format_time(time.time() - t0)\n",
        "            \n",
        "            # Report progress.\n",
        "            print('  Batch {:>5,}  of  {:>5,}.    Elapsed: {:}.'.format(step, len(train_dataloader), elapsed))\n",
        "\n",
        "        # Unpack this training batch from our dataloader. \n",
        "        #\n",
        "        # As we unpack the batch, we'll also copy each tensor to the GPU using the \n",
        "        # `to` method.\n",
        "        #\n",
        "        # `batch` contains three pytorch tensors:\n",
        "        #   [0]: input ids \n",
        "        #   [1]: attention masks\n",
        "        #   [2]: labels \n",
        "        b_input_ids = batch[0].to(device)\n",
        "        b_input_mask = batch[1].to(device)\n",
        "        b_labels = batch[2].to(device)\n",
        "\n",
        "        # Always clear any previously calculated gradients before performing a\n",
        "        # backward pass. PyTorch doesn't do this automatically because \n",
        "        # accumulating the gradients is \"convenient while training RNNs\". \n",
        "        # (source: https://stackoverflow.com/questions/48001598/why-do-we-need-to-call-zero-grad-in-pytorch)\n",
        "        model.zero_grad()        \n",
        "\n",
        "        # Perform a forward pass (evaluate the model on this training batch).\n",
        "        # This will return the loss (rather than the model output) because we\n",
        "        # have provided the `labels`.\n",
        "        # The documentation for this `model` function is here: \n",
        "        # https://huggingface.co/transformers/v2.2.0/model_doc/bert.html#transformers.BertForSequenceClassification\n",
        "        outputs = model(b_input_ids, \n",
        "                    token_type_ids=None, \n",
        "                    attention_mask=b_input_mask, \n",
        "                    labels=b_labels)\n",
        "        \n",
        "        # The call to `model` always returns a tuple, so we need to pull the \n",
        "        # loss value out of the tuple.\n",
        "        loss = outputs[0]\n",
        "\n",
        "        # Accumulate the training loss over all of the batches so that we can\n",
        "        # calculate the average loss at the end. `loss` is a Tensor containing a\n",
        "        # single value; the `.item()` function just returns the Python value \n",
        "        # from the tensor.\n",
        "        total_loss += loss.item()\n",
        "\n",
        "        # Perform a backward pass to calculate the gradients.\n",
        "        loss.backward()\n",
        "\n",
        "        # Clip the norm of the gradients to 1.0.\n",
        "        # This is to help prevent the \"exploding gradients\" problem.\n",
        "        torch.nn.utils.clip_grad_norm_(model.parameters(), 1.0)\n",
        "\n",
        "        # Update parameters and take a step using the computed gradient.\n",
        "        # The optimizer dictates the \"update rule\"--how the parameters are\n",
        "        # modified based on their gradients, the learning rate, etc.\n",
        "        optimizer.step()\n",
        "\n",
        "        # Update the learning rate.\n",
        "        scheduler.step()\n",
        "\n",
        "    # Calculate the average loss over the training data.\n",
        "    avg_train_loss = total_loss / len(train_dataloader)            \n",
        "    \n",
        "    # Store the loss value for plotting the learning curve.\n",
        "    loss_values.append(avg_train_loss)\n",
        "\n",
        "    print(\"\")\n",
        "    print(\"  Average training loss: {0:.2f}\".format(avg_train_loss))\n",
        "    print(\"  Training epcoh took: {:}\".format(format_time(time.time() - t0)))\n",
        "        \n",
        "    # ========================================\n",
        "    #               Validation\n",
        "    # ========================================\n",
        "    # After the completion of each training epoch, measure our performance on\n",
        "    # our validation set.\n",
        "\n",
        "    print(\"\")\n",
        "    print(\"Running Validation...\")\n",
        "\n",
        "    t0 = time.time()\n",
        "\n",
        "    # Put the model in evaluation mode--the dropout layers behave differently\n",
        "    # during evaluation.\n",
        "    model.eval()\n",
        "\n",
        "    # Tracking variables \n",
        "    eval_loss, eval_accuracy = 0, 0\n",
        "    nb_eval_steps, nb_eval_examples = 0, 0\n",
        "\n",
        "    # Evaluate data for one epoch\n",
        "    for batch in validation_dataloader:\n",
        "        \n",
        "        # Add batch to GPU\n",
        "        batch = tuple(t.to(device) for t in batch)\n",
        "        \n",
        "        # Unpack the inputs from our dataloader\n",
        "        b_input_ids, b_input_mask, b_labels = batch\n",
        "        \n",
        "        # Telling the model not to compute or store gradients, saving memory and\n",
        "        # speeding up validation\n",
        "        with torch.no_grad():        \n",
        "\n",
        "            # Forward pass, calculate logit predictions.\n",
        "            # This will return the logits rather than the loss because we have\n",
        "            # not provided labels.\n",
        "            # token_type_ids is the same as the \"segment ids\", which \n",
        "            # differentiates sentence 1 and 2 in 2-sentence tasks.\n",
        "            # The documentation for this `model` function is here: \n",
        "            # https://huggingface.co/transformers/v2.2.0/model_doc/bert.html#transformers.BertForSequenceClassification\n",
        "            outputs = model(b_input_ids, \n",
        "                            token_type_ids=None, \n",
        "                            attention_mask=b_input_mask)\n",
        "        \n",
        "        # Get the \"logits\" output by the model. The \"logits\" are the output\n",
        "        # values prior to applying an activation function like the softmax.\n",
        "        logits = outputs[0]\n",
        "\n",
        "        # Move logits and labels to CPU\n",
        "        logits = logits.detach().cpu().numpy()\n",
        "        label_ids = b_labels.to('cpu').numpy()\n",
        "        \n",
        "        # Calculate the accuracy for this batch of test sentences.\n",
        "        tmp_eval_accuracy = flat_accuracy(logits, label_ids)\n",
        "        \n",
        "        # Accumulate the total accuracy.\n",
        "        eval_accuracy += tmp_eval_accuracy\n",
        "\n",
        "        # Track the number of batches\n",
        "        nb_eval_steps += 1\n",
        "\n",
        "    # Report the final accuracy for this validation run.\n",
        "    print(\"  Accuracy: {0:.2f}\".format(eval_accuracy/nb_eval_steps))\n",
        "    print(\"  Validation took: {:}\".format(format_time(time.time() - t0)))\n",
        "\n",
        "print(\"\")\n",
        "print(\"Training complete!\")"
      ],
      "execution_count": 32,
      "outputs": [
        {
          "output_type": "stream",
          "text": [
            "\n",
            "======== Epoch 1 / 4 ========\n",
            "Training...\n",
            "  Batch    40  of    464.    Elapsed: 0:00:29.\n",
            "  Batch    80  of    464.    Elapsed: 0:00:57.\n",
            "  Batch   120  of    464.    Elapsed: 0:01:25.\n",
            "  Batch   160  of    464.    Elapsed: 0:01:53.\n",
            "  Batch   200  of    464.    Elapsed: 0:02:22.\n",
            "  Batch   240  of    464.    Elapsed: 0:02:50.\n",
            "  Batch   280  of    464.    Elapsed: 0:03:18.\n",
            "  Batch   320  of    464.    Elapsed: 0:03:46.\n",
            "  Batch   360  of    464.    Elapsed: 0:04:14.\n",
            "  Batch   400  of    464.    Elapsed: 0:04:42.\n",
            "  Batch   440  of    464.    Elapsed: 0:05:10.\n",
            "\n",
            "  Average training loss: 0.17\n",
            "  Training epcoh took: 0:05:27\n",
            "\n",
            "Running Validation...\n",
            "  Accuracy: 0.95\n",
            "  Validation took: 0:00:13\n",
            "\n",
            "======== Epoch 2 / 4 ========\n",
            "Training...\n",
            "  Batch    40  of    464.    Elapsed: 0:00:28.\n",
            "  Batch    80  of    464.    Elapsed: 0:00:56.\n",
            "  Batch   120  of    464.    Elapsed: 0:01:24.\n",
            "  Batch   160  of    464.    Elapsed: 0:01:52.\n",
            "  Batch   200  of    464.    Elapsed: 0:02:20.\n",
            "  Batch   240  of    464.    Elapsed: 0:02:48.\n",
            "  Batch   280  of    464.    Elapsed: 0:03:16.\n",
            "  Batch   320  of    464.    Elapsed: 0:03:44.\n",
            "  Batch   360  of    464.    Elapsed: 0:04:12.\n",
            "  Batch   400  of    464.    Elapsed: 0:04:41.\n",
            "  Batch   440  of    464.    Elapsed: 0:05:09.\n",
            "\n",
            "  Average training loss: 0.09\n",
            "  Training epcoh took: 0:05:25\n",
            "\n",
            "Running Validation...\n",
            "  Accuracy: 0.96\n",
            "  Validation took: 0:00:13\n",
            "\n",
            "======== Epoch 3 / 4 ========\n",
            "Training...\n",
            "  Batch    40  of    464.    Elapsed: 0:00:28.\n",
            "  Batch    80  of    464.    Elapsed: 0:00:56.\n",
            "  Batch   120  of    464.    Elapsed: 0:01:24.\n",
            "  Batch   160  of    464.    Elapsed: 0:01:52.\n",
            "  Batch   200  of    464.    Elapsed: 0:02:20.\n",
            "  Batch   240  of    464.    Elapsed: 0:02:48.\n",
            "  Batch   280  of    464.    Elapsed: 0:03:16.\n",
            "  Batch   320  of    464.    Elapsed: 0:03:44.\n",
            "  Batch   360  of    464.    Elapsed: 0:04:12.\n",
            "  Batch   400  of    464.    Elapsed: 0:04:40.\n",
            "  Batch   440  of    464.    Elapsed: 0:05:08.\n",
            "\n",
            "  Average training loss: 0.05\n",
            "  Training epcoh took: 0:05:25\n",
            "\n",
            "Running Validation...\n",
            "  Accuracy: 0.96\n",
            "  Validation took: 0:00:13\n",
            "\n",
            "======== Epoch 4 / 4 ========\n",
            "Training...\n",
            "  Batch    40  of    464.    Elapsed: 0:00:28.\n",
            "  Batch    80  of    464.    Elapsed: 0:00:56.\n",
            "  Batch   120  of    464.    Elapsed: 0:01:24.\n",
            "  Batch   160  of    464.    Elapsed: 0:01:52.\n",
            "  Batch   200  of    464.    Elapsed: 0:02:20.\n",
            "  Batch   240  of    464.    Elapsed: 0:02:48.\n",
            "  Batch   280  of    464.    Elapsed: 0:03:16.\n",
            "  Batch   320  of    464.    Elapsed: 0:03:44.\n",
            "  Batch   360  of    464.    Elapsed: 0:04:12.\n",
            "  Batch   400  of    464.    Elapsed: 0:04:40.\n",
            "  Batch   440  of    464.    Elapsed: 0:05:08.\n",
            "\n",
            "  Average training loss: 0.03\n",
            "  Training epcoh took: 0:05:24\n",
            "\n",
            "Running Validation...\n",
            "  Accuracy: 0.96\n",
            "  Validation took: 0:00:13\n",
            "\n",
            "Training complete!\n"
          ],
          "name": "stdout"
        }
      ]
    },
    {
      "cell_type": "markdown",
      "metadata": {
        "id": "dWk8chzDek71"
      },
      "source": [
        "### Training Evaluation"
      ]
    },
    {
      "cell_type": "code",
      "metadata": {
        "colab": {
          "base_uri": "https://localhost:8080/",
          "height": 360
        },
        "id": "q1H_XIvGe2CC",
        "outputId": "4be11cd9-721d-42a1-f2ae-d7c96deeceff"
      },
      "source": [
        "import matplotlib.pyplot as plt\n",
        "%matplotlib inline\n",
        "\n",
        "import seaborn as sns\n",
        "\n",
        "# Use plot styling from seaborn.\n",
        "sns.set(style='darkgrid')\n",
        "\n",
        "# Increase the plot size and font size.\n",
        "sns.set(font_scale=1.5)\n",
        "plt.rcParams[\"figure.figsize\"] = (12,6)\n",
        "\n",
        "# Plot the learning curve.\n",
        "plt.plot(loss_values, 'b-o')\n",
        "\n",
        "# Label the plot.\n",
        "plt.title(\"Training loss\")\n",
        "plt.xlabel(\"Epoch\")\n",
        "plt.ylabel(\"Loss\")\n",
        "\n",
        "plt.show()"
      ],
      "execution_count": 33,
      "outputs": [
        {
          "output_type": "display_data",
          "data": {
            "image/png": "[encoded data removed]",
            "text/plain": [
              "<Figure size 864x432 with 1 Axes>"
            ]
          },
          "metadata": {
            "tags": []
          }
        }
      ]
    },
    {
      "cell_type": "markdown",
      "metadata": {
        "id": "L3Uc1BAke6CX"
      },
      "source": [
        "The BERT model performs the same as LSTM, with an accuracy rate at 96%. From the graph above, we can see that as epoch number increases, average training loss decreases."
      ]
    },
    {
      "cell_type": "markdown",
      "metadata": {
        "id": "wo89wyEbfKtA"
      },
      "source": [
        "### Holdout Set"
      ]
    },
    {
      "cell_type": "code",
      "metadata": {
        "colab": {
          "base_uri": "https://localhost:8080/",
          "height": 204
        },
        "id": "PbIcTYarfJr7",
        "outputId": "d7b4ba98-3b5f-45fc-f7ff-86fd097a7e40"
      },
      "source": [
        "test_df = review_df[int(review_df.shape[0]*0.8):]\n",
        "test_df.head()"
      ],
      "execution_count": 34,
      "outputs": [
        {
          "output_type": "execute_result",
          "data": {
            "text/html": [
              "<div>\n",
              "<style scoped>\n",
              "    .dataframe tbody tr th:only-of-type {\n",
              "        vertical-align: middle;\n",
              "    }\n",
              "\n",
              "    .dataframe tbody tr th {\n",
              "        vertical-align: top;\n",
              "    }\n",
              "\n",
              "    .dataframe thead th {\n",
              "        text-align: right;\n",
              "    }\n",
              "</style>\n",
              "<table border=\"1\" class=\"dataframe\">\n",
              "  <thead>\n",
              "    <tr style=\"text-align: right;\">\n",
              "      <th></th>\n",
              "      <th>Review Text</th>\n",
              "      <th>Rating</th>\n",
              "      <th>Class Name</th>\n",
              "      <th>Age</th>\n",
              "      <th>label</th>\n",
              "    </tr>\n",
              "  </thead>\n",
              "  <tbody>\n",
              "    <tr>\n",
              "      <th>18811</th>\n",
              "      <td>Really like the cut - it's tough for petites t...</td>\n",
              "      <td>5</td>\n",
              "      <td>Pants</td>\n",
              "      <td>35</td>\n",
              "      <td>1</td>\n",
              "    </tr>\n",
              "    <tr>\n",
              "      <th>18812</th>\n",
              "      <td>Absolutely love this sweater! it is a tad bit ...</td>\n",
              "      <td>5</td>\n",
              "      <td>Knits</td>\n",
              "      <td>35</td>\n",
              "      <td>1</td>\n",
              "    </tr>\n",
              "    <tr>\n",
              "      <th>18813</th>\n",
              "      <td>This top is very nice, very pretty. i thought ...</td>\n",
              "      <td>4</td>\n",
              "      <td>Blouses</td>\n",
              "      <td>26</td>\n",
              "      <td>1</td>\n",
              "    </tr>\n",
              "    <tr>\n",
              "      <th>18814</th>\n",
              "      <td>I like the color blocking of this top, but it ...</td>\n",
              "      <td>2</td>\n",
              "      <td>Knits</td>\n",
              "      <td>37</td>\n",
              "      <td>0</td>\n",
              "    </tr>\n",
              "    <tr>\n",
              "      <th>18815</th>\n",
              "      <td>I love these! i adore tracy reese, and these a...</td>\n",
              "      <td>5</td>\n",
              "      <td>Pants</td>\n",
              "      <td>38</td>\n",
              "      <td>1</td>\n",
              "    </tr>\n",
              "  </tbody>\n",
              "</table>\n",
              "</div>"
            ],
            "text/plain": [
              "                                             Review Text  Rating  ... Age  label\n",
              "18811  Really like the cut - it's tough for petites t...       5  ...  35      1\n",
              "18812  Absolutely love this sweater! it is a tad bit ...       5  ...  35      1\n",
              "18813  This top is very nice, very pretty. i thought ...       4  ...  26      1\n",
              "18814  I like the color blocking of this top, but it ...       2  ...  37      0\n",
              "18815  I love these! i adore tracy reese, and these a...       5  ...  38      1\n",
              "\n",
              "[5 rows x 5 columns]"
            ]
          },
          "metadata": {
            "tags": []
          },
          "execution_count": 34
        }
      ]
    },
    {
      "cell_type": "code",
      "metadata": {
        "colab": {
          "base_uri": "https://localhost:8080/"
        },
        "id": "JIRuU2S2faVx",
        "outputId": "feb7842f-b95a-43f8-8980-d91be0cc4869"
      },
      "source": [
        "print('Number of test sentences: {:,}\\n'.format(test_df.shape[0]))\n",
        "\n",
        "# Create sentence and label lists\n",
        "sentences = test_df['Review Text'].values\n",
        "labels = test_df.label.values\n",
        "\n",
        "# Tokenize all of the sentences and map the tokens to thier word IDs.\n",
        "input_ids = []\n",
        "\n",
        "# For every sentence...\n",
        "for sent in sentences:\n",
        "    # `encode` will:\n",
        "    #   (1) Tokenize the sentence.\n",
        "    #   (2) Prepend the `[CLS]` token to the start.\n",
        "    #   (3) Append the `[SEP]` token to the end.\n",
        "    #   (4) Map tokens to their IDs.\n",
        "    encoded_sent = tokenizer.encode(\n",
        "                        sent,                      # Sentence to encode.\n",
        "                        add_special_tokens = True, # Add '[CLS]' and '[SEP]'\n",
        "                   )\n",
        "    \n",
        "    input_ids.append(encoded_sent)\n",
        "\n",
        "# Pad our input tokens\n",
        "input_ids = pad_sequences(input_ids, maxlen=MAX_LEN, \n",
        "                          dtype=\"long\", truncating=\"post\", padding=\"post\")\n",
        "\n",
        "# Create attention masks\n",
        "attention_masks = []\n",
        "\n",
        "# Create a mask of 1s for each token followed by 0s for padding\n",
        "for seq in input_ids:\n",
        "    seq_mask = [float(i>0) for i in seq]\n",
        "    attention_masks.append(seq_mask) \n",
        "\n",
        "# Convert to tensors.\n",
        "prediction_inputs = torch.tensor(input_ids)\n",
        "prediction_masks = torch.tensor(attention_masks)\n",
        "prediction_labels = torch.tensor(labels)\n",
        "\n",
        "# Set the batch size.  \n",
        "batch_size = 32  \n",
        "\n",
        "# Create the DataLoader.\n",
        "prediction_data = TensorDataset(prediction_inputs, prediction_masks, prediction_labels)\n",
        "prediction_sampler = SequentialSampler(prediction_data)\n",
        "prediction_dataloader = DataLoader(prediction_data, sampler=prediction_sampler, batch_size=batch_size)"
      ],
      "execution_count": 36,
      "outputs": [
        {
          "output_type": "stream",
          "text": [
            "Number of test sentences: 4,123\n",
            "\n"
          ],
          "name": "stdout"
        }
      ]
    },
    {
      "cell_type": "code",
      "metadata": {
        "colab": {
          "base_uri": "https://localhost:8080/"
        },
        "id": "8HOjUmbUfhJy",
        "outputId": "dc9ad205-59fe-478d-f045-a449d87432e7"
      },
      "source": [
        "# Prediction on test set\n",
        "\n",
        "print('Predicting labels for {:,} test sentences...'.format(len(prediction_inputs)))\n",
        "\n",
        "# Put model in evaluation mode\n",
        "model.eval()\n",
        "\n",
        "# Tracking variables \n",
        "predictions , true_labels = [], []\n",
        "\n",
        "# Predict \n",
        "for batch in prediction_dataloader:\n",
        "    # Add batch to GPU\n",
        "    batch = tuple(t.to(device) for t in batch)\n",
        "\n",
        "    # Unpack the inputs from our dataloader\n",
        "    b_input_ids, b_input_mask, b_labels = batch\n",
        "\n",
        "    # Telling the model not to compute or store gradients, saving memory and \n",
        "    # speeding up prediction\n",
        "    with torch.no_grad():\n",
        "      # Forward pass, calculate logit predictions\n",
        "      outputs = model(b_input_ids, token_type_ids=None, \n",
        "                      attention_mask=b_input_mask)\n",
        "\n",
        "    logits = outputs[0]\n",
        "\n",
        "    # Move logits and labels to CPU\n",
        "    logits = logits.detach().cpu().numpy()\n",
        "    label_ids = b_labels.to('cpu').numpy()\n",
        "\n",
        "    # Store predictions and true labels\n",
        "    predictions.append(logits)\n",
        "    true_labels.append(label_ids)\n",
        "\n",
        "print('    DONE.')"
      ],
      "execution_count": 37,
      "outputs": [
        {
          "output_type": "stream",
          "text": [
            "Predicting labels for 4,123 test sentences...\n",
            "    DONE.\n"
          ],
          "name": "stdout"
        }
      ]
    },
    {
      "cell_type": "code",
      "metadata": {
        "colab": {
          "base_uri": "https://localhost:8080/"
        },
        "id": "UribHw30fmxH",
        "outputId": "94dd8717-dc7b-4a2e-897d-fe1c2f4eab45"
      },
      "source": [
        "print('Positive samples: %d of %d (%.2f%%)' % (test_df.label.sum(), len(test_df.label), (test_df.label.sum() / len(test_df.label) * 100.0)))"
      ],
      "execution_count": 38,
      "outputs": [
        {
          "output_type": "stream",
          "text": [
            "Positive samples: 3644 of 4123 (88.38%)\n"
          ],
          "name": "stdout"
        }
      ]
    },
    {
      "cell_type": "code",
      "metadata": {
        "colab": {
          "base_uri": "https://localhost:8080/"
        },
        "id": "k-1ka7s-fnZS",
        "outputId": "07692dbb-27c3-4cde-ea4c-1215cd014785"
      },
      "source": [
        "from sklearn.metrics import matthews_corrcoef\n",
        "\n",
        "matthews_set = []\n",
        "\n",
        "# Evaluate each test batch using Matthew's correlation coefficient\n",
        "print('Calculating Matthews Corr. Coef. for each batch...')\n",
        "\n",
        "# For each input batch...\n",
        "for i in range(len(true_labels)):\n",
        "\n",
        "    # The predictions for this batch are a 2-column ndarray (one column for \"0\" \n",
        "    # and one column for \"1\"). Pick the label with the highest value and turn this\n",
        "    # in to a list of 0s and 1s.\n",
        "    pred_labels_i = np.argmax(predictions[i], axis=1).flatten()\n",
        "\n",
        "    # Calculate and store the coef for this batch.  \n",
        "    matthews = matthews_corrcoef(true_labels[i], pred_labels_i)                \n",
        "    matthews_set.append(matthews)"
      ],
      "execution_count": 40,
      "outputs": [
        {
          "output_type": "stream",
          "text": [
            "Calculating Matthews Corr. Coef. for each batch...\n"
          ],
          "name": "stdout"
        }
      ]
    },
    {
      "cell_type": "code",
      "metadata": {
        "colab": {
          "base_uri": "https://localhost:8080/"
        },
        "id": "kYy2McXxiUPD",
        "outputId": "604bdf90-9992-4437-c6fb-eb39eddb6c93"
      },
      "source": [
        "matthews_set"
      ],
      "execution_count": 41,
      "outputs": [
        {
          "output_type": "execute_result",
          "data": {
            "text/plain": [
              "[0.7948717948717948,\n",
              " 0.6831300510639733,\n",
              " 1.0,\n",
              " 0.8027729719194864,\n",
              " 0.0,\n",
              " 1.0,\n",
              " 0.8027729719194864,\n",
              " 0.7141684885491869,\n",
              " 0.6753002216523571,\n",
              " 0.6050580452280905,\n",
              " 0.8509629433967631,\n",
              " 1.0,\n",
              " 0.6050580452280905,\n",
              " 1.0,\n",
              " 0.7867957924694432,\n",
              " 0.7474093186836597,\n",
              " 1.0,\n",
              " 0.8027729719194864,\n",
              " 0.8509629433967631,\n",
              " 0.6180700462007377,\n",
              " 0.8783100656536799,\n",
              " 0.8027729719194864,\n",
              " 0.8132500607904443,\n",
              " 0.6180700462007377,\n",
              " 0.8783100656536799,\n",
              " 1.0,\n",
              " 0.762962962962963,\n",
              " 1.0,\n",
              " 1.0,\n",
              " 0.7867957924694432,\n",
              " 0.6180700462007377,\n",
              " -0.03225806451612903,\n",
              " 0.7474093186836597,\n",
              " 0.52678658400752,\n",
              " 0.6180700462007377,\n",
              " 0.7948717948717948,\n",
              " 1.0,\n",
              " 0.7419408268023742,\n",
              " 1.0,\n",
              " 1.0,\n",
              " 0.8958064164776167,\n",
              " 1.0,\n",
              " 0.0,\n",
              " 0.38461538461538464,\n",
              " 0.4547940268270977,\n",
              " 0.8132500607904443,\n",
              " 0.9278305692406299,\n",
              " 0.8171428571428572,\n",
              " 0.762962962962963,\n",
              " 0.8783100656536799,\n",
              " 0.6050580452280905,\n",
              " 0.8783100656536799,\n",
              " 0.0,\n",
              " 0.5584155773160767,\n",
              " 0.0,\n",
              " 0.8958064164776167,\n",
              " 0.6956083436402525,\n",
              " 1.0,\n",
              " 0.6831300510639733,\n",
              " 0.8783100656536799,\n",
              " 0.47519096331149147,\n",
              " 0.632183908045977,\n",
              " 0.0,\n",
              " 0.6956083436402525,\n",
              " 0.8509629433967631,\n",
              " 0.6180700462007377,\n",
              " 1.0,\n",
              " 1.0,\n",
              " 1.0,\n",
              " 1.0,\n",
              " 0.8027729719194864,\n",
              " 0.7474093186836597,\n",
              " 0.0,\n",
              " 0.6956083436402525,\n",
              " 0.0,\n",
              " 0.0,\n",
              " 0.8509629433967631,\n",
              " 0.6180700462007377,\n",
              " 1.0,\n",
              " 1.0,\n",
              " -0.03225806451612903,\n",
              " 0.6956083436402525,\n",
              " 0.7867957924694432,\n",
              " 0.6,\n",
              " 1.0,\n",
              " 0.5584155773160767,\n",
              " 0.8027729719194864,\n",
              " 0.8509629433967631,\n",
              " 0.7948717948717948,\n",
              " 1.0,\n",
              " 0.8509629433967631,\n",
              " 0.6180700462007377,\n",
              " 0.762962962962963,\n",
              " 0.8132500607904443,\n",
              " 0.8783100656536799,\n",
              " 0.8027729719194864,\n",
              " 1.0,\n",
              " 0.8509629433967631,\n",
              " 1.0,\n",
              " 0.5719694409972929,\n",
              " 1.0,\n",
              " 0.6078306738548308,\n",
              " 0.8783100656536799,\n",
              " 0.9078412990032037,\n",
              " 0.6695340634119862,\n",
              " 0.8958064164776167,\n",
              " 0.8509629433967631,\n",
              " 0.9278305692406299,\n",
              " 0.9165151389911681,\n",
              " 0.0,\n",
              " 0.632183908045977,\n",
              " 0.5584155773160767,\n",
              " 1.0,\n",
              " 1.0,\n",
              " 0.8459051693633014,\n",
              " 0.9078412990032037,\n",
              " 1.0,\n",
              " 1.0,\n",
              " 0.8132500607904443,\n",
              " 0.8509629433967631,\n",
              " 1.0,\n",
              " 0.7867957924694432,\n",
              " 1.0,\n",
              " 0.5584155773160767,\n",
              " 0.6956083436402525,\n",
              " 0.35986374603287324,\n",
              " 0.8132500607904443,\n",
              " 1.0,\n",
              " 1.0]"
            ]
          },
          "metadata": {
            "tags": []
          },
          "execution_count": 41
        }
      ]
    },
    {
      "cell_type": "code",
      "metadata": {
        "colab": {
          "base_uri": "https://localhost:8080/"
        },
        "id": "yOj-tZg5fsgr",
        "outputId": "a96afdc8-d530-47cd-8d84-3d407eb3a930"
      },
      "source": [
        "# Combine the predictions for each batch into a single list of 0s and 1s.\n",
        "flat_predictions = [item for sublist in predictions for item in sublist]\n",
        "flat_predictions = np.argmax(flat_predictions, axis=1).flatten()\n",
        "\n",
        "# Combine the correct labels for each batch into a single list.\n",
        "flat_true_labels = [item for sublist in true_labels for item in sublist]\n",
        "\n",
        "# Calculate the MCC\n",
        "mcc = matthews_corrcoef(flat_true_labels, flat_predictions)\n",
        "\n",
        "print('MCC: %.3f' % mcc)"
      ],
      "execution_count": 42,
      "outputs": [
        {
          "output_type": "stream",
          "text": [
            "MCC: 0.785\n"
          ],
          "name": "stdout"
        }
      ]
    },
    {
      "cell_type": "code",
      "metadata": {
        "id": "pJ1Y-b7-90S9",
        "colab": {
          "base_uri": "https://localhost:8080/"
        },
        "outputId": "2a237924-5bca-4e67-97f4-90b15633d7b4"
      },
      "source": [
        "import os\n",
        "\n",
        "# Saving best-practices: if you use defaults names for the model, you can reload it using from_pretrained()\n",
        "\n",
        "output_dir = './model_save/'\n",
        "\n",
        "# Create output directory if needed\n",
        "if not os.path.exists(output_dir):\n",
        "    os.makedirs(output_dir)\n",
        "\n",
        "print(\"Saving model to %s\" % output_dir)\n",
        "\n",
        "# Save a trained model, configuration and tokenizer using `save_pretrained()`.\n",
        "# They can then be reloaded using `from_pretrained()`\n",
        "model_to_save = model.module if hasattr(model, 'module') else model  # Take care of distributed/parallel training\n",
        "model_to_save.save_pretrained(output_dir)\n",
        "tokenizer.save_pretrained(output_dir)\n",
        "\n",
        "# Good practice: save your training arguments together with the trained model\n",
        "# torch.save(args, os.path.join(output_dir, 'training_args.bin'))"
      ],
      "execution_count": 43,
      "outputs": [
        {
          "output_type": "stream",
          "text": [
            "Saving model to ./model_save/\n"
          ],
          "name": "stdout"
        },
        {
          "output_type": "execute_result",
          "data": {
            "text/plain": [
              "('./model_save/tokenizer_config.json',\n",
              " './model_save/special_tokens_map.json',\n",
              " './model_save/vocab.txt',\n",
              " './model_save/added_tokens.json')"
            ]
          },
          "metadata": {
            "tags": []
          },
          "execution_count": 43
        }
      ]
    },
    {
      "cell_type": "markdown",
      "metadata": {
        "id": "dMCYp8C7gAfD"
      },
      "source": [
        "From the result above, we can see the model performed well with our dataset."
      ]
    },
    {
      "cell_type": "markdown",
      "metadata": {
        "id": "s-LeOsMYghAF"
      },
      "source": [
        "## <span style=\"color:red\">*Exercise 2*</span>\n",
        "\n",
        "<span style=\"color:red\">In the cells immediately following, use the pipeline functions or the word or sentence vector functions (e.g., similarity) to explore the social game underlying the production and meaning of texts associated with your final project. You have used similar, but often weaker versions in previous weeks. How does BERT help you gain insight regarding your research question that is similar and different from prior methods?"
      ]
    },
    {
      "cell_type": "markdown",
      "metadata": {
        "id": "h5JqN7l4hkJg"
      },
      "source": [
        "### Segment ID"
      ]
    },
    {
      "cell_type": "code",
      "metadata": {
        "colab": {
          "base_uri": "https://localhost:8080/",
          "height": 204
        },
        "id": "Lc_liJACglsE",
        "outputId": "f1495775-35fa-427b-fbaf-0d5f14368005"
      },
      "source": [
        "review_df.head()"
      ],
      "execution_count": 44,
      "outputs": [
        {
          "output_type": "execute_result",
          "data": {
            "text/html": [
              "<div>\n",
              "<style scoped>\n",
              "    .dataframe tbody tr th:only-of-type {\n",
              "        vertical-align: middle;\n",
              "    }\n",
              "\n",
              "    .dataframe tbody tr th {\n",
              "        vertical-align: top;\n",
              "    }\n",
              "\n",
              "    .dataframe thead th {\n",
              "        text-align: right;\n",
              "    }\n",
              "</style>\n",
              "<table border=\"1\" class=\"dataframe\">\n",
              "  <thead>\n",
              "    <tr style=\"text-align: right;\">\n",
              "      <th></th>\n",
              "      <th>Review Text</th>\n",
              "      <th>Rating</th>\n",
              "      <th>Class Name</th>\n",
              "      <th>Age</th>\n",
              "      <th>label</th>\n",
              "    </tr>\n",
              "  </thead>\n",
              "  <tbody>\n",
              "    <tr>\n",
              "      <th>0</th>\n",
              "      <td>Absolutely wonderful - silky and sexy and comf...</td>\n",
              "      <td>4</td>\n",
              "      <td>Intimates</td>\n",
              "      <td>33</td>\n",
              "      <td>1</td>\n",
              "    </tr>\n",
              "    <tr>\n",
              "      <th>1</th>\n",
              "      <td>Love this dress!  it's sooo pretty.  i happene...</td>\n",
              "      <td>5</td>\n",
              "      <td>Dresses</td>\n",
              "      <td>34</td>\n",
              "      <td>1</td>\n",
              "    </tr>\n",
              "    <tr>\n",
              "      <th>3</th>\n",
              "      <td>I love, love, love this jumpsuit. it's fun, fl...</td>\n",
              "      <td>5</td>\n",
              "      <td>Pants</td>\n",
              "      <td>50</td>\n",
              "      <td>1</td>\n",
              "    </tr>\n",
              "    <tr>\n",
              "      <th>4</th>\n",
              "      <td>This shirt is very flattering to all due to th...</td>\n",
              "      <td>5</td>\n",
              "      <td>Blouses</td>\n",
              "      <td>47</td>\n",
              "      <td>1</td>\n",
              "    </tr>\n",
              "    <tr>\n",
              "      <th>5</th>\n",
              "      <td>I love tracy reese dresses, but this one is no...</td>\n",
              "      <td>2</td>\n",
              "      <td>Dresses</td>\n",
              "      <td>49</td>\n",
              "      <td>0</td>\n",
              "    </tr>\n",
              "  </tbody>\n",
              "</table>\n",
              "</div>"
            ],
            "text/plain": [
              "                                         Review Text  Rating  ... Age  label\n",
              "0  Absolutely wonderful - silky and sexy and comf...       4  ...  33      1\n",
              "1  Love this dress!  it's sooo pretty.  i happene...       5  ...  34      1\n",
              "3  I love, love, love this jumpsuit. it's fun, fl...       5  ...  50      1\n",
              "4  This shirt is very flattering to all due to th...       5  ...  47      1\n",
              "5  I love tracy reese dresses, but this one is no...       2  ...  49      0\n",
              "\n",
              "[5 rows x 5 columns]"
            ]
          },
          "metadata": {
            "tags": []
          },
          "execution_count": 44
        }
      ]
    },
    {
      "cell_type": "code",
      "metadata": {
        "colab": {
          "base_uri": "https://localhost:8080/",
          "height": 35
        },
        "id": "OkMb1t8MhSny",
        "outputId": "e8792719-94c2-469d-d3d7-f7a6550e5375"
      },
      "source": [
        "text = review_df['Review Text'][0]\n",
        "text"
      ],
      "execution_count": 45,
      "outputs": [
        {
          "output_type": "execute_result",
          "data": {
            "application/vnd.google.colaboratory.intrinsic+json": {
              "type": "string"
            },
            "text/plain": [
              "'Absolutely wonderful - silky and sexy and comfortable'"
            ]
          },
          "metadata": {
            "tags": []
          },
          "execution_count": 45
        }
      ]
    },
    {
      "cell_type": "code",
      "metadata": {
        "colab": {
          "base_uri": "https://localhost:8080/"
        },
        "id": "CGKUruZ5heDj",
        "outputId": "9042d074-7f1f-457b-ca86-05f858ce4b69"
      },
      "source": [
        "from transformers import BertModel\n",
        "tokenizer = BertTokenizer.from_pretrained('bert-base-uncased')\n",
        "\n",
        "marked_text = \"[CLS] \" + text + \" [SEP]\"\n",
        "\n",
        "# Tokenize our sentence with the BERT tokenizer.\n",
        "tokenized_text = tokenizer.tokenize(marked_text)\n",
        "print (tokenized_text)"
      ],
      "execution_count": 46,
      "outputs": [
        {
          "output_type": "stream",
          "text": [
            "['[CLS]', 'absolutely', 'wonderful', '-', 'silky', 'and', 'sexy', 'and', 'comfortable', '[SEP]']\n"
          ],
          "name": "stdout"
        }
      ]
    },
    {
      "cell_type": "code",
      "metadata": {
        "colab": {
          "base_uri": "https://localhost:8080/"
        },
        "id": "iaTOfFR6nd6P",
        "outputId": "9807a381-f37d-4862-a1be-11f9c38b1570"
      },
      "source": [
        "# see the vocabulary looks like\n",
        "list(tokenizer.vocab.keys())[5000:5030]"
      ],
      "execution_count": 51,
      "outputs": [
        {
          "output_type": "execute_result",
          "data": {
            "text/plain": [
              "['knight',\n",
              " 'lap',\n",
              " 'survey',\n",
              " 'ma',\n",
              " '##ow',\n",
              " 'noise',\n",
              " 'billy',\n",
              " '##ium',\n",
              " 'shooting',\n",
              " 'guide',\n",
              " 'bedroom',\n",
              " 'priest',\n",
              " 'resistance',\n",
              " 'motor',\n",
              " 'homes',\n",
              " 'sounded',\n",
              " 'giant',\n",
              " '##mer',\n",
              " '150',\n",
              " 'scenes',\n",
              " 'equal',\n",
              " 'comic',\n",
              " 'patients',\n",
              " 'hidden',\n",
              " 'solid',\n",
              " 'actual',\n",
              " 'bringing',\n",
              " 'afternoon',\n",
              " 'touched',\n",
              " 'funds']"
            ]
          },
          "metadata": {
            "tags": []
          },
          "execution_count": 51
        }
      ]
    },
    {
      "cell_type": "code",
      "metadata": {
        "id": "UG5n0PguhfBf"
      },
      "source": [
        "indexed_tokens = tokenizer.convert_tokens_to_ids(tokenized_text)"
      ],
      "execution_count": 52,
      "outputs": []
    },
    {
      "cell_type": "code",
      "metadata": {
        "colab": {
          "base_uri": "https://localhost:8080/"
        },
        "id": "EqO_hysmh41m",
        "outputId": "f28213a2-c840-4803-e8bf-668129953d16"
      },
      "source": [
        "# Segment id\n",
        "segments_ids = [1] * len(tokenized_text)\n",
        "print (segments_ids)"
      ],
      "execution_count": 53,
      "outputs": [
        {
          "output_type": "stream",
          "text": [
            "[1, 1, 1, 1, 1, 1, 1, 1, 1, 1]\n"
          ],
          "name": "stdout"
        }
      ]
    },
    {
      "cell_type": "code",
      "metadata": {
        "id": "BaXulot8h_GI"
      },
      "source": [
        "# Convert inputs to PyTorch tensors\n",
        "tokens_tensor = torch.tensor([indexed_tokens])\n",
        "segments_tensors = torch.tensor([segments_ids])"
      ],
      "execution_count": 54,
      "outputs": []
    },
    {
      "cell_type": "code",
      "metadata": {
        "colab": {
          "base_uri": "https://localhost:8080/"
        },
        "id": "RVBDwOyYiETO",
        "outputId": "5e5334a6-c51e-49ba-b467-9fbdcfe42f35"
      },
      "source": [
        "# Load pre-trained model (weights)\n",
        "model_embedding = BertModel.from_pretrained('bert-base-uncased')\n",
        "\n",
        "# Put the model in \"evaluation\" mode, meaning feed-forward operation.\n",
        "model_embedding.eval()"
      ],
      "execution_count": 55,
      "outputs": [
        {
          "output_type": "execute_result",
          "data": {
            "text/plain": [
              "BertModel(\n",
              "  (embeddings): BertEmbeddings(\n",
              "    (word_embeddings): Embedding(30522, 768, padding_idx=0)\n",
              "    (position_embeddings): Embedding(512, 768)\n",
              "    (token_type_embeddings): Embedding(2, 768)\n",
              "    (LayerNorm): LayerNorm((768,), eps=1e-12, elementwise_affine=True)\n",
              "    (dropout): Dropout(p=0.1, inplace=False)\n",
              "  )\n",
              "  (encoder): BertEncoder(\n",
              "    (layer): ModuleList(\n",
              "      (0): BertLayer(\n",
              "        (attention): BertAttention(\n",
              "          (self): BertSelfAttention(\n",
              "            (query): Linear(in_features=768, out_features=768, bias=True)\n",
              "            (key): Linear(in_features=768, out_features=768, bias=True)\n",
              "            (value): Linear(in_features=768, out_features=768, bias=True)\n",
              "            (dropout): Dropout(p=0.1, inplace=False)\n",
              "          )\n",
              "          (output): BertSelfOutput(\n",
              "            (dense): Linear(in_features=768, out_features=768, bias=True)\n",
              "            (LayerNorm): LayerNorm((768,), eps=1e-12, elementwise_affine=True)\n",
              "            (dropout): Dropout(p=0.1, inplace=False)\n",
              "          )\n",
              "        )\n",
              "        (intermediate): BertIntermediate(\n",
              "          (dense): Linear(in_features=768, out_features=3072, bias=True)\n",
              "        )\n",
              "        (output): BertOutput(\n",
              "          (dense): Linear(in_features=3072, out_features=768, bias=True)\n",
              "          (LayerNorm): LayerNorm((768,), eps=1e-12, elementwise_affine=True)\n",
              "          (dropout): Dropout(p=0.1, inplace=False)\n",
              "        )\n",
              "      )\n",
              "      (1): BertLayer(\n",
              "        (attention): BertAttention(\n",
              "          (self): BertSelfAttention(\n",
              "            (query): Linear(in_features=768, out_features=768, bias=True)\n",
              "            (key): Linear(in_features=768, out_features=768, bias=True)\n",
              "            (value): Linear(in_features=768, out_features=768, bias=True)\n",
              "            (dropout): Dropout(p=0.1, inplace=False)\n",
              "          )\n",
              "          (output): BertSelfOutput(\n",
              "            (dense): Linear(in_features=768, out_features=768, bias=True)\n",
              "            (LayerNorm): LayerNorm((768,), eps=1e-12, elementwise_affine=True)\n",
              "            (dropout): Dropout(p=0.1, inplace=False)\n",
              "          )\n",
              "        )\n",
              "        (intermediate): BertIntermediate(\n",
              "          (dense): Linear(in_features=768, out_features=3072, bias=True)\n",
              "        )\n",
              "        (output): BertOutput(\n",
              "          (dense): Linear(in_features=3072, out_features=768, bias=True)\n",
              "          (LayerNorm): LayerNorm((768,), eps=1e-12, elementwise_affine=True)\n",
              "          (dropout): Dropout(p=0.1, inplace=False)\n",
              "        )\n",
              "      )\n",
              "      (2): BertLayer(\n",
              "        (attention): BertAttention(\n",
              "          (self): BertSelfAttention(\n",
              "            (query): Linear(in_features=768, out_features=768, bias=True)\n",
              "            (key): Linear(in_features=768, out_features=768, bias=True)\n",
              "            (value): Linear(in_features=768, out_features=768, bias=True)\n",
              "            (dropout): Dropout(p=0.1, inplace=False)\n",
              "          )\n",
              "          (output): BertSelfOutput(\n",
              "            (dense): Linear(in_features=768, out_features=768, bias=True)\n",
              "            (LayerNorm): LayerNorm((768,), eps=1e-12, elementwise_affine=True)\n",
              "            (dropout): Dropout(p=0.1, inplace=False)\n",
              "          )\n",
              "        )\n",
              "        (intermediate): BertIntermediate(\n",
              "          (dense): Linear(in_features=768, out_features=3072, bias=True)\n",
              "        )\n",
              "        (output): BertOutput(\n",
              "          (dense): Linear(in_features=3072, out_features=768, bias=True)\n",
              "          (LayerNorm): LayerNorm((768,), eps=1e-12, elementwise_affine=True)\n",
              "          (dropout): Dropout(p=0.1, inplace=False)\n",
              "        )\n",
              "      )\n",
              "      (3): BertLayer(\n",
              "        (attention): BertAttention(\n",
              "          (self): BertSelfAttention(\n",
              "            (query): Linear(in_features=768, out_features=768, bias=True)\n",
              "            (key): Linear(in_features=768, out_features=768, bias=True)\n",
              "            (value): Linear(in_features=768, out_features=768, bias=True)\n",
              "            (dropout): Dropout(p=0.1, inplace=False)\n",
              "          )\n",
              "          (output): BertSelfOutput(\n",
              "            (dense): Linear(in_features=768, out_features=768, bias=True)\n",
              "            (LayerNorm): LayerNorm((768,), eps=1e-12, elementwise_affine=True)\n",
              "            (dropout): Dropout(p=0.1, inplace=False)\n",
              "          )\n",
              "        )\n",
              "        (intermediate): BertIntermediate(\n",
              "          (dense): Linear(in_features=768, out_features=3072, bias=True)\n",
              "        )\n",
              "        (output): BertOutput(\n",
              "          (dense): Linear(in_features=3072, out_features=768, bias=True)\n",
              "          (LayerNorm): LayerNorm((768,), eps=1e-12, elementwise_affine=True)\n",
              "          (dropout): Dropout(p=0.1, inplace=False)\n",
              "        )\n",
              "      )\n",
              "      (4): BertLayer(\n",
              "        (attention): BertAttention(\n",
              "          (self): BertSelfAttention(\n",
              "            (query): Linear(in_features=768, out_features=768, bias=True)\n",
              "            (key): Linear(in_features=768, out_features=768, bias=True)\n",
              "            (value): Linear(in_features=768, out_features=768, bias=True)\n",
              "            (dropout): Dropout(p=0.1, inplace=False)\n",
              "          )\n",
              "          (output): BertSelfOutput(\n",
              "            (dense): Linear(in_features=768, out_features=768, bias=True)\n",
              "            (LayerNorm): LayerNorm((768,), eps=1e-12, elementwise_affine=True)\n",
              "            (dropout): Dropout(p=0.1, inplace=False)\n",
              "          )\n",
              "        )\n",
              "        (intermediate): BertIntermediate(\n",
              "          (dense): Linear(in_features=768, out_features=3072, bias=True)\n",
              "        )\n",
              "        (output): BertOutput(\n",
              "          (dense): Linear(in_features=3072, out_features=768, bias=True)\n",
              "          (LayerNorm): LayerNorm((768,), eps=1e-12, elementwise_affine=True)\n",
              "          (dropout): Dropout(p=0.1, inplace=False)\n",
              "        )\n",
              "      )\n",
              "      (5): BertLayer(\n",
              "        (attention): BertAttention(\n",
              "          (self): BertSelfAttention(\n",
              "            (query): Linear(in_features=768, out_features=768, bias=True)\n",
              "            (key): Linear(in_features=768, out_features=768, bias=True)\n",
              "            (value): Linear(in_features=768, out_features=768, bias=True)\n",
              "            (dropout): Dropout(p=0.1, inplace=False)\n",
              "          )\n",
              "          (output): BertSelfOutput(\n",
              "            (dense): Linear(in_features=768, out_features=768, bias=True)\n",
              "            (LayerNorm): LayerNorm((768,), eps=1e-12, elementwise_affine=True)\n",
              "            (dropout): Dropout(p=0.1, inplace=False)\n",
              "          )\n",
              "        )\n",
              "        (intermediate): BertIntermediate(\n",
              "          (dense): Linear(in_features=768, out_features=3072, bias=True)\n",
              "        )\n",
              "        (output): BertOutput(\n",
              "          (dense): Linear(in_features=3072, out_features=768, bias=True)\n",
              "          (LayerNorm): LayerNorm((768,), eps=1e-12, elementwise_affine=True)\n",
              "          (dropout): Dropout(p=0.1, inplace=False)\n",
              "        )\n",
              "      )\n",
              "      (6): BertLayer(\n",
              "        (attention): BertAttention(\n",
              "          (self): BertSelfAttention(\n",
              "            (query): Linear(in_features=768, out_features=768, bias=True)\n",
              "            (key): Linear(in_features=768, out_features=768, bias=True)\n",
              "            (value): Linear(in_features=768, out_features=768, bias=True)\n",
              "            (dropout): Dropout(p=0.1, inplace=False)\n",
              "          )\n",
              "          (output): BertSelfOutput(\n",
              "            (dense): Linear(in_features=768, out_features=768, bias=True)\n",
              "            (LayerNorm): LayerNorm((768,), eps=1e-12, elementwise_affine=True)\n",
              "            (dropout): Dropout(p=0.1, inplace=False)\n",
              "          )\n",
              "        )\n",
              "        (intermediate): BertIntermediate(\n",
              "          (dense): Linear(in_features=768, out_features=3072, bias=True)\n",
              "        )\n",
              "        (output): BertOutput(\n",
              "          (dense): Linear(in_features=3072, out_features=768, bias=True)\n",
              "          (LayerNorm): LayerNorm((768,), eps=1e-12, elementwise_affine=True)\n",
              "          (dropout): Dropout(p=0.1, inplace=False)\n",
              "        )\n",
              "      )\n",
              "      (7): BertLayer(\n",
              "        (attention): BertAttention(\n",
              "          (self): BertSelfAttention(\n",
              "            (query): Linear(in_features=768, out_features=768, bias=True)\n",
              "            (key): Linear(in_features=768, out_features=768, bias=True)\n",
              "            (value): Linear(in_features=768, out_features=768, bias=True)\n",
              "            (dropout): Dropout(p=0.1, inplace=False)\n",
              "          )\n",
              "          (output): BertSelfOutput(\n",
              "            (dense): Linear(in_features=768, out_features=768, bias=True)\n",
              "            (LayerNorm): LayerNorm((768,), eps=1e-12, elementwise_affine=True)\n",
              "            (dropout): Dropout(p=0.1, inplace=False)\n",
              "          )\n",
              "        )\n",
              "        (intermediate): BertIntermediate(\n",
              "          (dense): Linear(in_features=768, out_features=3072, bias=True)\n",
              "        )\n",
              "        (output): BertOutput(\n",
              "          (dense): Linear(in_features=3072, out_features=768, bias=True)\n",
              "          (LayerNorm): LayerNorm((768,), eps=1e-12, elementwise_affine=True)\n",
              "          (dropout): Dropout(p=0.1, inplace=False)\n",
              "        )\n",
              "      )\n",
              "      (8): BertLayer(\n",
              "        (attention): BertAttention(\n",
              "          (self): BertSelfAttention(\n",
              "            (query): Linear(in_features=768, out_features=768, bias=True)\n",
              "            (key): Linear(in_features=768, out_features=768, bias=True)\n",
              "            (value): Linear(in_features=768, out_features=768, bias=True)\n",
              "            (dropout): Dropout(p=0.1, inplace=False)\n",
              "          )\n",
              "          (output): BertSelfOutput(\n",
              "            (dense): Linear(in_features=768, out_features=768, bias=True)\n",
              "            (LayerNorm): LayerNorm((768,), eps=1e-12, elementwise_affine=True)\n",
              "            (dropout): Dropout(p=0.1, inplace=False)\n",
              "          )\n",
              "        )\n",
              "        (intermediate): BertIntermediate(\n",
              "          (dense): Linear(in_features=768, out_features=3072, bias=True)\n",
              "        )\n",
              "        (output): BertOutput(\n",
              "          (dense): Linear(in_features=3072, out_features=768, bias=True)\n",
              "          (LayerNorm): LayerNorm((768,), eps=1e-12, elementwise_affine=True)\n",
              "          (dropout): Dropout(p=0.1, inplace=False)\n",
              "        )\n",
              "      )\n",
              "      (9): BertLayer(\n",
              "        (attention): BertAttention(\n",
              "          (self): BertSelfAttention(\n",
              "            (query): Linear(in_features=768, out_features=768, bias=True)\n",
              "            (key): Linear(in_features=768, out_features=768, bias=True)\n",
              "            (value): Linear(in_features=768, out_features=768, bias=True)\n",
              "            (dropout): Dropout(p=0.1, inplace=False)\n",
              "          )\n",
              "          (output): BertSelfOutput(\n",
              "            (dense): Linear(in_features=768, out_features=768, bias=True)\n",
              "            (LayerNorm): LayerNorm((768,), eps=1e-12, elementwise_affine=True)\n",
              "            (dropout): Dropout(p=0.1, inplace=False)\n",
              "          )\n",
              "        )\n",
              "        (intermediate): BertIntermediate(\n",
              "          (dense): Linear(in_features=768, out_features=3072, bias=True)\n",
              "        )\n",
              "        (output): BertOutput(\n",
              "          (dense): Linear(in_features=3072, out_features=768, bias=True)\n",
              "          (LayerNorm): LayerNorm((768,), eps=1e-12, elementwise_affine=True)\n",
              "          (dropout): Dropout(p=0.1, inplace=False)\n",
              "        )\n",
              "      )\n",
              "      (10): BertLayer(\n",
              "        (attention): BertAttention(\n",
              "          (self): BertSelfAttention(\n",
              "            (query): Linear(in_features=768, out_features=768, bias=True)\n",
              "            (key): Linear(in_features=768, out_features=768, bias=True)\n",
              "            (value): Linear(in_features=768, out_features=768, bias=True)\n",
              "            (dropout): Dropout(p=0.1, inplace=False)\n",
              "          )\n",
              "          (output): BertSelfOutput(\n",
              "            (dense): Linear(in_features=768, out_features=768, bias=True)\n",
              "            (LayerNorm): LayerNorm((768,), eps=1e-12, elementwise_affine=True)\n",
              "            (dropout): Dropout(p=0.1, inplace=False)\n",
              "          )\n",
              "        )\n",
              "        (intermediate): BertIntermediate(\n",
              "          (dense): Linear(in_features=768, out_features=3072, bias=True)\n",
              "        )\n",
              "        (output): BertOutput(\n",
              "          (dense): Linear(in_features=3072, out_features=768, bias=True)\n",
              "          (LayerNorm): LayerNorm((768,), eps=1e-12, elementwise_affine=True)\n",
              "          (dropout): Dropout(p=0.1, inplace=False)\n",
              "        )\n",
              "      )\n",
              "      (11): BertLayer(\n",
              "        (attention): BertAttention(\n",
              "          (self): BertSelfAttention(\n",
              "            (query): Linear(in_features=768, out_features=768, bias=True)\n",
              "            (key): Linear(in_features=768, out_features=768, bias=True)\n",
              "            (value): Linear(in_features=768, out_features=768, bias=True)\n",
              "            (dropout): Dropout(p=0.1, inplace=False)\n",
              "          )\n",
              "          (output): BertSelfOutput(\n",
              "            (dense): Linear(in_features=768, out_features=768, bias=True)\n",
              "            (LayerNorm): LayerNorm((768,), eps=1e-12, elementwise_affine=True)\n",
              "            (dropout): Dropout(p=0.1, inplace=False)\n",
              "          )\n",
              "        )\n",
              "        (intermediate): BertIntermediate(\n",
              "          (dense): Linear(in_features=768, out_features=3072, bias=True)\n",
              "        )\n",
              "        (output): BertOutput(\n",
              "          (dense): Linear(in_features=3072, out_features=768, bias=True)\n",
              "          (LayerNorm): LayerNorm((768,), eps=1e-12, elementwise_affine=True)\n",
              "          (dropout): Dropout(p=0.1, inplace=False)\n",
              "        )\n",
              "      )\n",
              "    )\n",
              "  )\n",
              "  (pooler): BertPooler(\n",
              "    (dense): Linear(in_features=768, out_features=768, bias=True)\n",
              "    (activation): Tanh()\n",
              "  )\n",
              ")"
            ]
          },
          "metadata": {
            "tags": []
          },
          "execution_count": 55
        }
      ]
    },
    {
      "cell_type": "code",
      "metadata": {
        "colab": {
          "base_uri": "https://localhost:8080/"
        },
        "id": "8L9x65KgiNIn",
        "outputId": "94cdf195-78dc-4dd7-b394-bae570bca8a6"
      },
      "source": [
        "output = model_embedding(tokens_tensor, segments_tensors)\n",
        "len(output[0][0][0]), len(output[1][0])"
      ],
      "execution_count": 56,
      "outputs": [
        {
          "output_type": "execute_result",
          "data": {
            "text/plain": [
              "(768, 768)"
            ]
          },
          "metadata": {
            "tags": []
          },
          "execution_count": 56
        }
      ]
    },
    {
      "cell_type": "markdown",
      "metadata": {
        "id": "8x_dt3eYiaGK"
      },
      "source": [
        "### Understanding Output"
      ]
    },
    {
      "cell_type": "code",
      "metadata": {
        "id": "hH6_RY8XiVs-"
      },
      "source": [
        "word_embeddings = output[0]\n",
        "sentence_embedding = output[1]"
      ],
      "execution_count": 61,
      "outputs": []
    },
    {
      "cell_type": "code",
      "metadata": {
        "colab": {
          "base_uri": "https://localhost:8080/"
        },
        "id": "pR-LJ_tYilmS",
        "outputId": "1d831015-0a4d-4c10-a98e-abf91fe35308"
      },
      "source": [
        "len(word_embeddings[0])"
      ],
      "execution_count": 62,
      "outputs": [
        {
          "output_type": "execute_result",
          "data": {
            "text/plain": [
              "10"
            ]
          },
          "metadata": {
            "tags": []
          },
          "execution_count": 62
        }
      ]
    },
    {
      "cell_type": "code",
      "metadata": {
        "colab": {
          "base_uri": "https://localhost:8080/"
        },
        "id": "6j0RFkzun7wa",
        "outputId": "7c0a67a6-af14-4d1a-b59c-0b0a1d7b9d16"
      },
      "source": [
        "word_embeddings[0]"
      ],
      "execution_count": 63,
      "outputs": [
        {
          "output_type": "execute_result",
          "data": {
            "text/plain": [
              "tensor([[-0.4399, -0.0191, -0.0617,  ..., -0.3785,  0.1435,  0.4821],\n",
              "        [ 0.6304,  0.1536,  0.2274,  ..., -0.3958,  0.9708,  0.6290],\n",
              "        [ 0.6038,  0.5120,  0.3658,  ..., -0.7298,  0.4188, -0.3061],\n",
              "        ...,\n",
              "        [-0.9268, -0.4823,  0.4026,  ..., -0.2851,  0.4595,  0.5096],\n",
              "        [-0.7741, -0.5284,  0.2177,  ..., -0.5207,  0.3757, -0.3708],\n",
              "        [ 0.7537,  0.0132, -0.3186,  ..., -0.1667, -0.6352, -0.1745]],\n",
              "       grad_fn=<SelectBackward>)"
            ]
          },
          "metadata": {
            "tags": []
          },
          "execution_count": 63
        }
      ]
    },
    {
      "cell_type": "code",
      "metadata": {
        "colab": {
          "base_uri": "https://localhost:8080/",
          "height": 602
        },
        "id": "bUATbflFi50t",
        "outputId": "2a5c5cef-e310-4ff5-d69c-914d0d8ee200"
      },
      "source": [
        "vec = word_embeddings[0][0]\n",
        "vec = vec.detach().numpy()\n",
        "# Plot the values as a histogram to show their distribution.\n",
        "plt.figure(figsize=(10,10))\n",
        "plt.hist(vec, bins=200)\n",
        "plt.show()"
      ],
      "execution_count": 64,
      "outputs": [
        {
          "output_type": "display_data",
          "data": {
            "image/png": "[encoded data removed]",
            "text/plain": [
              "<Figure size 720x720 with 1 Axes>"
            ]
          },
          "metadata": {
            "tags": []
          }
        }
      ]
    },
    {
      "cell_type": "markdown",
      "metadata": {
        "id": "jc2PHdPMiyEA"
      },
      "source": [
        "The range is fairly similar for all layers and tokens, with the majority of values falling between [-1, 1]."
      ]
    },
    {
      "cell_type": "markdown",
      "metadata": {
        "id": "6vjY-P9wi02l"
      },
      "source": [
        "### Word Vector"
      ]
    },
    {
      "cell_type": "code",
      "metadata": {
        "id": "MTo2dIvxi2R8"
      },
      "source": [
        "token_vecs = []\n",
        "# For each token in the sentence...\n",
        "for embedding in word_embeddings[0]:\n",
        "    cat_vec = embedding.detach().numpy()\n",
        "    # Use `cat_vec` to represent `token`.\n",
        "    token_vecs.append(cat_vec)"
      ],
      "execution_count": 65,
      "outputs": []
    },
    {
      "cell_type": "code",
      "metadata": {
        "colab": {
          "base_uri": "https://localhost:8080/"
        },
        "id": "FGJc1tDpjHwr",
        "outputId": "e430bead-eb2f-4070-ebd0-b7f8b3cbb7ab"
      },
      "source": [
        "len(token_vecs)"
      ],
      "execution_count": 66,
      "outputs": [
        {
          "output_type": "execute_result",
          "data": {
            "text/plain": [
              "10"
            ]
          },
          "metadata": {
            "tags": []
          },
          "execution_count": 66
        }
      ]
    },
    {
      "cell_type": "markdown",
      "metadata": {
        "id": "txI3o4arjFyn"
      },
      "source": [
        "### Sentence Vector"
      ]
    },
    {
      "cell_type": "code",
      "metadata": {
        "colab": {
          "base_uri": "https://localhost:8080/"
        },
        "id": "Jr1fWd54jE50",
        "outputId": "ef291595-fccf-44b6-e734-95be664afabb"
      },
      "source": [
        "sentence_embedding_0 = sentence_embedding.detach().numpy()[0]\n",
        "sentence_embedding_1 = np.mean(token_vecs, axis=0)\n",
        "len(sentence_embedding_0), len(sentence_embedding_1)"
      ],
      "execution_count": 67,
      "outputs": [
        {
          "output_type": "execute_result",
          "data": {
            "text/plain": [
              "(768, 768)"
            ]
          },
          "metadata": {
            "tags": []
          },
          "execution_count": 67
        }
      ]
    },
    {
      "cell_type": "code",
      "metadata": {
        "colab": {
          "base_uri": "https://localhost:8080/"
        },
        "id": "gzC4oAm0oJTI",
        "outputId": "8599b189-f00c-4039-8679-1770a4094840"
      },
      "source": [
        "for i, token_str in enumerate(tokenized_text):\n",
        "    print(i, token_str)"
      ],
      "execution_count": 69,
      "outputs": [
        {
          "output_type": "stream",
          "text": [
            "0 [CLS]\n",
            "1 absolutely\n",
            "2 wonderful\n",
            "3 -\n",
            "4 silky\n",
            "5 and\n",
            "6 sexy\n",
            "7 and\n",
            "8 comfortable\n",
            "9 [SEP]\n"
          ],
          "name": "stdout"
        }
      ]
    },
    {
      "cell_type": "code",
      "metadata": {
        "colab": {
          "base_uri": "https://localhost:8080/"
        },
        "id": "hDYJTybcjO0k",
        "outputId": "19a65479-4052-45f1-b7e7-bd3ff1ea8bfd"
      },
      "source": [
        "from scipy.spatial.distance import cosine\n",
        "1 - cosine(sentence_embedding_0, sentence_embedding_1)"
      ],
      "execution_count": 70,
      "outputs": [
        {
          "output_type": "execute_result",
          "data": {
            "text/plain": [
              "0.031909238547086716"
            ]
          },
          "metadata": {
            "tags": []
          },
          "execution_count": 70
        }
      ]
    },
    {
      "cell_type": "code",
      "metadata": {
        "id": "ne37qU71pObW"
      },
      "source": [
        "def word_vector(text, word_id, model, tokenizer):\n",
        "    marked_text = \"[CLS] \" + text + \" [SEP]\"\n",
        "    tokenized_text = tokenizer.tokenize(marked_text)\n",
        "    indexed_tokens = tokenizer.convert_tokens_to_ids(tokenized_text)\n",
        "    tokens_tensor = torch.tensor([indexed_tokens])\n",
        "    output = model(tokens_tensor)\n",
        "    word_embeddings = output[0]\n",
        "    sentence_embeddings = output[1]   \n",
        "    vector = word_embeddings[0][word_id].detach().numpy()\n",
        "    return vector"
      ],
      "execution_count": 76,
      "outputs": []
    },
    {
      "cell_type": "code",
      "metadata": {
        "id": "97XZxMHPukWj"
      },
      "source": [
        "word_4 = word_vector(text, 4, model_embedding, tokenizer)\n",
        "word_5 = word_vector(text, 5, model_embedding, tokenizer)\n",
        "word_6 = word_vector(text, 6, model_embedding, tokenizer)"
      ],
      "execution_count": 77,
      "outputs": []
    },
    {
      "cell_type": "code",
      "metadata": {
        "id": "Xh4U-IQhjQlD"
      },
      "source": [
        "def sentence_vector(text, model, tokenizer, method=\"average\"):\n",
        "    marked_text = \"[CLS] \" + text + \" [SEP]\"\n",
        "    tokenized_text = tokenizer.tokenize(marked_text)\n",
        "    indexed_tokens = tokenizer.convert_tokens_to_ids(tokenized_text)\n",
        "    tokens_tensor = torch.tensor([indexed_tokens])\n",
        "    output = model(tokens_tensor)\n",
        "    word_embeddings = output[0]\n",
        "    sentence_embeddings = output[1]\n",
        "    token_vecs = []\n",
        "    \n",
        "    for embedding in word_embeddings[0]:\n",
        "        cat_vec = embedding.detach().numpy()\n",
        "        token_vecs.append(cat_vec)\n",
        "        \n",
        "    if method == \"average\":\n",
        "        sentence_embedding = np.mean(token_vecs, axis=0)\n",
        "    if method == \"model\":\n",
        "        sentence_embedding = sentence_embeddings\n",
        "    # do something\n",
        "    return sentence_embedding"
      ],
      "execution_count": 80,
      "outputs": []
    },
    {
      "cell_type": "code",
      "metadata": {
        "id": "u4fpmI8QjTY1"
      },
      "source": [
        "sen_vec_0 = sentence_vector(text, model_embedding, tokenizer)\n",
        "sen_vec_1 = sentence_vector(text, model_embedding, tokenizer, method=\"model\")"
      ],
      "execution_count": 81,
      "outputs": []
    },
    {
      "cell_type": "code",
      "metadata": {
        "colab": {
          "base_uri": "https://localhost:8080/"
        },
        "id": "GVabYU8njX89",
        "outputId": "f11c7c04-cc66-435d-eae6-bdb53550b66b"
      },
      "source": [
        "(len(sen_vec_0), len(sen_vec_1))"
      ],
      "execution_count": 83,
      "outputs": [
        {
          "output_type": "execute_result",
          "data": {
            "text/plain": [
              "(768, 1)"
            ]
          },
          "metadata": {
            "tags": []
          },
          "execution_count": 83
        }
      ]
    },
    {
      "cell_type": "markdown",
      "metadata": {
        "id": "BH7pHXCkgnzW"
      },
      "source": [
        "## <span style=\"color:red\">*Exercise 3*</span>\n",
        "\n",
        "<span style=\"color:red\">Construct cells immediately below this that generate a BERT-powered chatbot tuned on text related to your final project. What is interesting about this model, and how to does it compare to an untrained model? What does it reveal about the social game involved with your dataset?"
      ]
    },
    {
      "cell_type": "code",
      "metadata": {
        "colab": {
          "base_uri": "https://localhost:8080/",
          "height": 632
        },
        "id": "sABXyAFegqB3",
        "outputId": "b8116f34-68e3-45ce-8659-2ed1c061cba2"
      },
      "source": [
        "twitter_df = pd.read_csv(\"trump_twitter.csv\")\n",
        "twitter_df.head()"
      ],
      "execution_count": 87,
      "outputs": [
        {
          "output_type": "execute_result",
          "data": {
            "text/html": [
              "<div>\n",
              "<style scoped>\n",
              "    .dataframe tbody tr th:only-of-type {\n",
              "        vertical-align: middle;\n",
              "    }\n",
              "\n",
              "    .dataframe tbody tr th {\n",
              "        vertical-align: top;\n",
              "    }\n",
              "\n",
              "    .dataframe thead th {\n",
              "        text-align: right;\n",
              "    }\n",
              "</style>\n",
              "<table border=\"1\" class=\"dataframe\">\n",
              "  <thead>\n",
              "    <tr style=\"text-align: right;\">\n",
              "      <th></th>\n",
              "      <th>id</th>\n",
              "      <th>link</th>\n",
              "      <th>content</th>\n",
              "      <th>date</th>\n",
              "      <th>retweets</th>\n",
              "      <th>favorites</th>\n",
              "      <th>mentions</th>\n",
              "      <th>hashtags</th>\n",
              "    </tr>\n",
              "  </thead>\n",
              "  <tbody>\n",
              "    <tr>\n",
              "      <th>0</th>\n",
              "      <td>1698308935</td>\n",
              "      <td>https://twitter.com/realDonaldTrump/status/169...</td>\n",
              "      <td>Be sure to tune in and watch Donald Trump on L...</td>\n",
              "      <td>2009-05-04 13:54:25</td>\n",
              "      <td>510</td>\n",
              "      <td>917</td>\n",
              "      <td>NaN</td>\n",
              "      <td>NaN</td>\n",
              "    </tr>\n",
              "    <tr>\n",
              "      <th>1</th>\n",
              "      <td>1701461182</td>\n",
              "      <td>https://twitter.com/realDonaldTrump/status/170...</td>\n",
              "      <td>Donald Trump will be appearing on The View tom...</td>\n",
              "      <td>2009-05-04 20:00:10</td>\n",
              "      <td>34</td>\n",
              "      <td>267</td>\n",
              "      <td>NaN</td>\n",
              "      <td>NaN</td>\n",
              "    </tr>\n",
              "    <tr>\n",
              "      <th>2</th>\n",
              "      <td>1737479987</td>\n",
              "      <td>https://twitter.com/realDonaldTrump/status/173...</td>\n",
              "      <td>Donald Trump reads Top Ten Financial Tips on L...</td>\n",
              "      <td>2009-05-08 08:38:08</td>\n",
              "      <td>13</td>\n",
              "      <td>19</td>\n",
              "      <td>NaN</td>\n",
              "      <td>NaN</td>\n",
              "    </tr>\n",
              "    <tr>\n",
              "      <th>3</th>\n",
              "      <td>1741160716</td>\n",
              "      <td>https://twitter.com/realDonaldTrump/status/174...</td>\n",
              "      <td>New Blog Post: Celebrity Apprentice Finale and...</td>\n",
              "      <td>2009-05-08 15:40:15</td>\n",
              "      <td>11</td>\n",
              "      <td>26</td>\n",
              "      <td>NaN</td>\n",
              "      <td>NaN</td>\n",
              "    </tr>\n",
              "    <tr>\n",
              "      <th>4</th>\n",
              "      <td>1773561338</td>\n",
              "      <td>https://twitter.com/realDonaldTrump/status/177...</td>\n",
              "      <td>\"My persona will never be that of a wallflower...</td>\n",
              "      <td>2009-05-12 09:07:28</td>\n",
              "      <td>1375</td>\n",
              "      <td>1945</td>\n",
              "      <td>NaN</td>\n",
              "      <td>NaN</td>\n",
              "    </tr>\n",
              "  </tbody>\n",
              "</table>\n",
              "</div>"
            ],
            "text/plain": [
              "           id  ... hashtags\n",
              "0  1698308935  ...      NaN\n",
              "1  1701461182  ...      NaN\n",
              "2  1737479987  ...      NaN\n",
              "3  1741160716  ...      NaN\n",
              "4  1773561338  ...      NaN\n",
              "\n",
              "[5 rows x 8 columns]"
            ]
          },
          "metadata": {
            "tags": []
          },
          "execution_count": 87
        }
      ]
    },
    {
      "cell_type": "code",
      "metadata": {
        "id": "JD13ETyHqDOJ"
      },
      "source": [
        "# Keep the first 5000 tweets for simplicity\n",
        "twitter_df = twitter_df[:5000]"
      ],
      "execution_count": 88,
      "outputs": []
    },
    {
      "cell_type": "code",
      "metadata": {
        "colab": {
          "base_uri": "https://localhost:8080/"
        },
        "id": "wNIjgGk4qL0p",
        "outputId": "63464c57-e590-4134-df6a-4753e575a568"
      },
      "source": [
        "from sklearn.model_selection import train_test_split\n",
        "train_text, test_text = train_test_split(twitter_df['content'], test_size=0.2)\n",
        "train_text.head()"
      ],
      "execution_count": 92,
      "outputs": [
        {
          "output_type": "execute_result",
          "data": {
            "text/plain": [
              "3100    OPEC is better off than they were 4 years ago....\n",
              "389     I appreciate the kind words of Mike Huckabee, ...\n",
              "4672    Pres. Obama’s steady support of @ Israel throu...\n",
              "133     and yet another ...all of them are spectacular...\n",
              "1100    I know that Diane Brady is a great writer--she...\n",
              "Name: content, dtype: object"
            ]
          },
          "metadata": {
            "tags": []
          },
          "execution_count": 92
        }
      ]
    },
    {
      "cell_type": "code",
      "metadata": {
        "id": "AgLpXchDqOku"
      },
      "source": [
        "train_text.to_frame().to_csv(r'train_text_trump', header=None, index=None, sep=' ', mode='a')"
      ],
      "execution_count": 93,
      "outputs": []
    },
    {
      "cell_type": "code",
      "metadata": {
        "id": "wwOz0-1qqbdH"
      },
      "source": [
        "test_text.to_frame().to_csv(r'test_text_trump', header=None, index=None, sep=' ', mode='a')"
      ],
      "execution_count": 94,
      "outputs": []
    },
    {
      "cell_type": "code",
      "metadata": {
        "id": "JKbVl_9sqeyT"
      },
      "source": [
        "torch.cuda.empty_cache()"
      ],
      "execution_count": 95,
      "outputs": []
    },
    {
      "cell_type": "code",
      "metadata": {
        "colab": {
          "base_uri": "https://localhost:8080/"
        },
        "id": "ZdJ9JGn2qhc0",
        "outputId": "2776d3a3-5a51-4bdd-8677-168f9e69136c"
      },
      "source": [
        "!python /content/run_language_modelling.py --output_dir=output_gpt_trump --model_type=gpt2 --model_name_or_path=gpt2 --do_train --train_data_file=/content/train_text_trump --do_eval --eval_data_file=/content/test_text_trump --per_gpu_train_batch_size=1 --per_gpu_eval_batch_size=1"
      ],
      "execution_count": 97,
      "outputs": [
        {
          "output_type": "stream",
          "text": [
            "03/08/2021 21:07:47 - WARNING - __main__ -   Process rank: -1, device: cuda, n_gpu: 1, distributed training: False, 16-bits training: False\n",
            "03/08/2021 21:07:47 - INFO - filelock -   Lock 140243839812624 acquired on /root/.cache/huggingface/transformers/fc674cd6907b4c9e933cb42d67662436b89fa9540a1f40d7c919d0109289ad01.7d2e0efa5ca20cef4fb199382111e9d3ad96fd77b849e1d4bed13a66e1336f51.lock\n",
            "\rDownloading:   0% 0.00/665 [00:00<?, ?B/s]\rDownloading: 100% 665/665 [00:00<00:00, 1.06MB/s]\n",
            "03/08/2021 21:07:47 - INFO - filelock -   Lock 140243839812624 released on /root/.cache/huggingface/transformers/fc674cd6907b4c9e933cb42d67662436b89fa9540a1f40d7c919d0109289ad01.7d2e0efa5ca20cef4fb199382111e9d3ad96fd77b849e1d4bed13a66e1336f51.lock\n",
            "03/08/2021 21:07:47 - INFO - filelock -   Lock 140243714811856 acquired on /root/.cache/huggingface/transformers/684fe667923972fb57f6b4dcb61a3c92763ad89882f3da5da9866baf14f2d60f.c7ed1f96aac49e745788faa77ba0a26a392643a50bb388b9c04ff469e555241f.lock\n",
            "Downloading: 100% 1.04M/1.04M [00:00<00:00, 25.2MB/s]\n",
            "03/08/2021 21:07:47 - INFO - filelock -   Lock 140243714811856 released on /root/.cache/huggingface/transformers/684fe667923972fb57f6b4dcb61a3c92763ad89882f3da5da9866baf14f2d60f.c7ed1f96aac49e745788faa77ba0a26a392643a50bb388b9c04ff469e555241f.lock\n",
            "03/08/2021 21:07:47 - INFO - filelock -   Lock 140243839757136 acquired on /root/.cache/huggingface/transformers/c0c761a63004025aeadd530c4c27b860ec4ecbe8a00531233de21d865a402598.5d12962c5ee615a4c803841266e9c3be9a691a924f72d395d3a6c6c81157788b.lock\n",
            "Downloading: 100% 456k/456k [00:00<00:00, 25.1MB/s]\n",
            "03/08/2021 21:07:47 - INFO - filelock -   Lock 140243839757136 released on /root/.cache/huggingface/transformers/c0c761a63004025aeadd530c4c27b860ec4ecbe8a00531233de21d865a402598.5d12962c5ee615a4c803841266e9c3be9a691a924f72d395d3a6c6c81157788b.lock\n",
            "03/08/2021 21:07:47 - INFO - filelock -   Lock 140243689440912 acquired on /root/.cache/huggingface/transformers/752929ace039baa8ef70fe21cdf9ab9445773d20e733cf693d667982e210837e.323c769945a351daa25546176f8208b3004b6f563438a7603e7932bae9025925.lock\n",
            "Downloading: 100% 548M/548M [00:08<00:00, 66.5MB/s]\n",
            "03/08/2021 21:07:56 - INFO - filelock -   Lock 140243689440912 released on /root/.cache/huggingface/transformers/752929ace039baa8ef70fe21cdf9ab9445773d20e733cf693d667982e210837e.323c769945a351daa25546176f8208b3004b6f563438a7603e7932bae9025925.lock\n",
            "03/08/2021 21:08:04 - INFO - __main__ -   Training/evaluation parameters Namespace(adam_epsilon=1e-08, block_size=1024, cache_dir=None, config_name=None, device=device(type='cuda'), do_eval=True, do_train=True, eval_all_checkpoints=False, eval_data_file='/content/test_text_trump', evaluate_during_training=False, fp16=False, fp16_opt_level='O1', gradient_accumulation_steps=1, learning_rate=5e-05, line_by_line=False, local_rank=-1, logging_steps=500, max_grad_norm=1.0, max_steps=-1, mlm=False, mlm_probability=0.15, model_name_or_path='gpt2', model_type='gpt2', n_gpu=1, no_cuda=False, num_train_epochs=1.0, output_dir='output_gpt_trump', overwrite_cache=False, overwrite_output_dir=False, per_gpu_eval_batch_size=1, per_gpu_train_batch_size=1, save_steps=500, save_total_limit=None, seed=42, server_ip='', server_port='', should_continue=False, tokenizer_name=None, train_data_file='/content/train_text_trump', warmup_steps=0, weight_decay=0.0)\n",
            "03/08/2021 21:08:04 - INFO - __main__ -   Creating features from dataset file at /content\n",
            "03/08/2021 21:08:04 - INFO - __main__ -   Saving features into cached file /content/gpt2_cached_lm_1024_train_text_trump\n",
            "2021-03-08 21:08:05.156314: I tensorflow/stream_executor/platform/default/dso_loader.cc:49] Successfully opened dynamic library libcudart.so.11.0\n",
            "03/08/2021 21:08:07 - INFO - __main__ -   ***** Running training *****\n",
            "03/08/2021 21:08:07 - INFO - __main__ -     Num examples = 116\n",
            "03/08/2021 21:08:07 - INFO - __main__ -     Num Epochs = 1\n",
            "03/08/2021 21:08:07 - INFO - __main__ -     Instantaneous batch size per GPU = 1\n",
            "03/08/2021 21:08:07 - INFO - __main__ -     Total train batch size (w. parallel, distributed & accumulation) = 1\n",
            "03/08/2021 21:08:07 - INFO - __main__ -     Gradient Accumulation steps = 1\n",
            "03/08/2021 21:08:07 - INFO - __main__ -     Total optimization steps = 116\n",
            "Epoch:   0% 0/1 [00:00<?, ?it/s]\n",
            "Iteration:   0% 0/116 [00:00<?, ?it/s]\u001b[A\n",
            "Iteration:   1% 1/116 [00:00<00:53,  2.14it/s]\u001b[A\n",
            "Iteration:   2% 2/116 [00:00<00:50,  2.26it/s]\u001b[A\n",
            "Iteration:   3% 3/116 [00:01<00:48,  2.34it/s]\u001b[A\n",
            "Iteration:   3% 4/116 [00:01<00:47,  2.38it/s]\u001b[A\n",
            "Iteration:   4% 5/116 [00:02<00:45,  2.42it/s]\u001b[A\n",
            "Iteration:   5% 6/116 [00:02<00:44,  2.44it/s]\u001b[A\n",
            "Iteration:   6% 7/116 [00:02<00:44,  2.46it/s]\u001b[A\n",
            "Iteration:   7% 8/116 [00:03<00:43,  2.48it/s]\u001b[A\n",
            "Iteration:   8% 9/116 [00:03<00:43,  2.48it/s]\u001b[A\n",
            "Iteration:   9% 10/116 [00:04<00:42,  2.49it/s]\u001b[A\n",
            "Iteration:   9% 11/116 [00:04<00:42,  2.49it/s]\u001b[A\n",
            "Iteration:  10% 12/116 [00:04<00:41,  2.50it/s]\u001b[A\n",
            "Iteration:  11% 13/116 [00:05<00:41,  2.50it/s]\u001b[A\n",
            "Iteration:  12% 14/116 [00:05<00:40,  2.49it/s]\u001b[A\n",
            "Iteration:  13% 15/116 [00:06<00:40,  2.50it/s]\u001b[A\n",
            "Iteration:  14% 16/116 [00:06<00:40,  2.50it/s]\u001b[A\n",
            "Iteration:  15% 17/116 [00:06<00:39,  2.48it/s]\u001b[A\n",
            "Iteration:  16% 18/116 [00:07<00:39,  2.48it/s]\u001b[A\n",
            "Iteration:  16% 19/116 [00:07<00:39,  2.48it/s]\u001b[A\n",
            "Iteration:  17% 20/116 [00:08<00:38,  2.48it/s]\u001b[A\n",
            "Iteration:  18% 21/116 [00:08<00:38,  2.48it/s]\u001b[A\n",
            "Iteration:  19% 22/116 [00:08<00:37,  2.48it/s]\u001b[A\n",
            "Iteration:  20% 23/116 [00:09<00:39,  2.33it/s]\u001b[A\n",
            "Iteration:  21% 24/116 [00:09<00:38,  2.38it/s]\u001b[A\n",
            "Iteration:  22% 25/116 [00:10<00:37,  2.42it/s]\u001b[A\n",
            "Iteration:  22% 26/116 [00:10<00:37,  2.41it/s]\u001b[A\n",
            "Iteration:  23% 27/116 [00:10<00:36,  2.44it/s]\u001b[A\n",
            "Iteration:  24% 28/116 [00:11<00:35,  2.44it/s]\u001b[A\n",
            "Iteration:  25% 29/116 [00:11<00:35,  2.44it/s]\u001b[A\n",
            "Iteration:  26% 30/116 [00:12<00:35,  2.46it/s]\u001b[A\n",
            "Iteration:  27% 31/116 [00:12<00:34,  2.45it/s]\u001b[A\n",
            "Iteration:  28% 32/116 [00:13<00:34,  2.44it/s]\u001b[A\n",
            "Iteration:  28% 33/116 [00:13<00:33,  2.45it/s]\u001b[A\n",
            "Iteration:  29% 34/116 [00:13<00:33,  2.44it/s]\u001b[A\n",
            "Iteration:  30% 35/116 [00:14<00:33,  2.45it/s]\u001b[A\n",
            "Iteration:  31% 36/116 [00:14<00:32,  2.45it/s]\u001b[A\n",
            "Iteration:  32% 37/116 [00:15<00:32,  2.44it/s]\u001b[A\n",
            "Iteration:  33% 38/116 [00:15<00:31,  2.45it/s]\u001b[A\n",
            "Iteration:  34% 39/116 [00:15<00:31,  2.45it/s]\u001b[A\n",
            "Iteration:  34% 40/116 [00:16<00:31,  2.44it/s]\u001b[A\n",
            "Iteration:  35% 41/116 [00:16<00:30,  2.44it/s]\u001b[A\n",
            "Iteration:  36% 42/116 [00:17<00:30,  2.44it/s]\u001b[A\n",
            "Iteration:  37% 43/116 [00:17<00:29,  2.43it/s]\u001b[A\n",
            "Iteration:  38% 44/116 [00:17<00:29,  2.43it/s]\u001b[A\n",
            "Iteration:  39% 45/116 [00:18<00:29,  2.43it/s]\u001b[A\n",
            "Iteration:  40% 46/116 [00:18<00:28,  2.43it/s]\u001b[A\n",
            "Iteration:  41% 47/116 [00:19<00:28,  2.44it/s]\u001b[A\n",
            "Iteration:  41% 48/116 [00:19<00:27,  2.43it/s]\u001b[A\n",
            "Iteration:  42% 49/116 [00:19<00:27,  2.43it/s]\u001b[A\n",
            "Iteration:  43% 50/116 [00:20<00:27,  2.43it/s]\u001b[A\n",
            "Iteration:  44% 51/116 [00:20<00:26,  2.42it/s]\u001b[A\n",
            "Iteration:  45% 52/116 [00:21<00:26,  2.42it/s]\u001b[A\n",
            "Iteration:  46% 53/116 [00:21<00:26,  2.42it/s]\u001b[A\n",
            "Iteration:  47% 54/116 [00:22<00:25,  2.41it/s]\u001b[A\n",
            "Iteration:  47% 55/116 [00:22<00:25,  2.41it/s]\u001b[A\n",
            "Iteration:  48% 56/116 [00:22<00:24,  2.40it/s]\u001b[A\n",
            "Iteration:  49% 57/116 [00:23<00:24,  2.41it/s]\u001b[A\n",
            "Iteration:  50% 58/116 [00:23<00:24,  2.41it/s]\u001b[A\n",
            "Iteration:  51% 59/116 [00:24<00:23,  2.41it/s]\u001b[A\n",
            "Iteration:  52% 60/116 [00:24<00:23,  2.41it/s]\u001b[A\n",
            "Iteration:  53% 61/116 [00:24<00:22,  2.40it/s]\u001b[A\n",
            "Iteration:  53% 62/116 [00:25<00:22,  2.40it/s]\u001b[A\n",
            "Iteration:  54% 63/116 [00:25<00:22,  2.40it/s]\u001b[A\n",
            "Iteration:  55% 64/116 [00:26<00:21,  2.40it/s]\u001b[A\n",
            "Iteration:  56% 65/116 [00:26<00:21,  2.40it/s]\u001b[A\n",
            "Iteration:  57% 66/116 [00:27<00:20,  2.39it/s]\u001b[A\n",
            "Iteration:  58% 67/116 [00:27<00:20,  2.39it/s]\u001b[A\n",
            "Iteration:  59% 68/116 [00:27<00:20,  2.39it/s]\u001b[A\n",
            "Iteration:  59% 69/116 [00:28<00:19,  2.39it/s]\u001b[A\n",
            "Iteration:  60% 70/116 [00:28<00:19,  2.39it/s]\u001b[A\n",
            "Iteration:  61% 71/116 [00:29<00:18,  2.38it/s]\u001b[A\n",
            "Iteration:  62% 72/116 [00:29<00:18,  2.38it/s]\u001b[A\n",
            "Iteration:  63% 73/116 [00:29<00:18,  2.38it/s]\u001b[A\n",
            "Iteration:  64% 74/116 [00:30<00:17,  2.38it/s]\u001b[A\n",
            "Iteration:  65% 75/116 [00:30<00:17,  2.35it/s]\u001b[A\n",
            "Iteration:  66% 76/116 [00:31<00:16,  2.37it/s]\u001b[A\n",
            "Iteration:  66% 77/116 [00:31<00:16,  2.35it/s]\u001b[A\n",
            "Iteration:  67% 78/116 [00:32<00:16,  2.36it/s]\u001b[A\n",
            "Iteration:  68% 79/116 [00:32<00:15,  2.37it/s]\u001b[A\n",
            "Iteration:  69% 80/116 [00:32<00:15,  2.34it/s]\u001b[A\n",
            "Iteration:  70% 81/116 [00:33<00:14,  2.38it/s]\u001b[A\n",
            "Iteration:  71% 82/116 [00:33<00:14,  2.36it/s]\u001b[A\n",
            "Iteration:  72% 83/116 [00:34<00:13,  2.37it/s]\u001b[A\n",
            "Iteration:  72% 84/116 [00:34<00:13,  2.36it/s]\u001b[A\n",
            "Iteration:  73% 85/116 [00:35<00:13,  2.35it/s]\u001b[A\n",
            "Iteration:  74% 86/116 [00:35<00:12,  2.36it/s]\u001b[A\n",
            "Iteration:  75% 87/116 [00:35<00:12,  2.34it/s]\u001b[A\n",
            "Iteration:  76% 88/116 [00:36<00:11,  2.35it/s]\u001b[A\n",
            "Iteration:  77% 89/116 [00:36<00:11,  2.35it/s]\u001b[A\n",
            "Iteration:  78% 90/116 [00:37<00:11,  2.34it/s]\u001b[A\n",
            "Iteration:  78% 91/116 [00:37<00:10,  2.35it/s]\u001b[A\n",
            "Iteration:  79% 92/116 [00:38<00:10,  2.34it/s]\u001b[A\n",
            "Iteration:  80% 93/116 [00:38<00:09,  2.34it/s]\u001b[A\n",
            "Iteration:  81% 94/116 [00:38<00:09,  2.34it/s]\u001b[A\n",
            "Iteration:  82% 95/116 [00:39<00:08,  2.34it/s]\u001b[A\n",
            "Iteration:  83% 96/116 [00:39<00:08,  2.33it/s]\u001b[A\n",
            "Iteration:  84% 97/116 [00:40<00:08,  2.34it/s]\u001b[A\n",
            "Iteration:  84% 98/116 [00:40<00:07,  2.34it/s]\u001b[A\n",
            "Iteration:  85% 99/116 [00:41<00:07,  2.34it/s]\u001b[A\n",
            "Iteration:  86% 100/116 [00:41<00:06,  2.35it/s]\u001b[A\n",
            "Iteration:  87% 101/116 [00:41<00:06,  2.34it/s]\u001b[A\n",
            "Iteration:  88% 102/116 [00:42<00:05,  2.35it/s]\u001b[A\n",
            "Iteration:  89% 103/116 [00:42<00:05,  2.35it/s]\u001b[A\n",
            "Iteration:  90% 104/116 [00:43<00:05,  2.35it/s]\u001b[A\n",
            "Iteration:  91% 105/116 [00:43<00:04,  2.35it/s]\u001b[A\n",
            "Iteration:  91% 106/116 [00:44<00:04,  2.35it/s]\u001b[A\n",
            "Iteration:  92% 107/116 [00:44<00:03,  2.35it/s]\u001b[A\n",
            "Iteration:  93% 108/116 [00:44<00:03,  2.35it/s]\u001b[A\n",
            "Iteration:  94% 109/116 [00:45<00:02,  2.35it/s]\u001b[A\n",
            "Iteration:  95% 110/116 [00:45<00:02,  2.36it/s]\u001b[A\n",
            "Iteration:  96% 111/116 [00:46<00:02,  2.36it/s]\u001b[A\n",
            "Iteration:  97% 112/116 [00:46<00:01,  2.36it/s]\u001b[A\n",
            "Iteration:  97% 113/116 [00:47<00:01,  2.36it/s]\u001b[A\n",
            "Iteration:  98% 114/116 [00:47<00:00,  2.37it/s]\u001b[A\n",
            "Iteration:  99% 115/116 [00:47<00:00,  2.37it/s]\u001b[A\n",
            "Iteration: 100% 116/116 [00:48<00:00,  2.40it/s]\n",
            "Epoch: 100% 1/1 [00:48<00:00, 48.28s/it]\n",
            "03/08/2021 21:08:55 - INFO - __main__ -    global_step = 116, average loss = 3.6339528725065033\n",
            "03/08/2021 21:08:55 - INFO - __main__ -   Saving model checkpoint to output_gpt_trump\n",
            "03/08/2021 21:09:01 - INFO - __main__ -   Evaluate the following checkpoints: ['output_gpt_trump']\n",
            "03/08/2021 21:09:14 - INFO - __main__ -   Creating features from dataset file at /content\n",
            "03/08/2021 21:09:14 - INFO - __main__ -   Saving features into cached file /content/gpt2_cached_lm_1024_test_text_trump\n",
            "03/08/2021 21:09:14 - INFO - __main__ -   ***** Running evaluation  *****\n",
            "03/08/2021 21:09:14 - INFO - __main__ -     Num examples = 29\n",
            "03/08/2021 21:09:14 - INFO - __main__ -     Batch size = 1\n",
            "Evaluating: 100% 29/29 [00:03<00:00,  8.27it/s]\n",
            "03/08/2021 21:09:17 - INFO - __main__ -   ***** Eval results  *****\n",
            "03/08/2021 21:09:17 - INFO - __main__ -     perplexity = tensor(29.3073)\n"
          ],
          "name": "stdout"
        }
      ]
    },
    {
      "cell_type": "code",
      "metadata": {
        "colab": {
          "base_uri": "https://localhost:8080/"
        },
        "id": "uyWme2w8q4Nq",
        "outputId": "e65bae22-e31b-4d62-e0ff-a87cfc99a922"
      },
      "source": [
        "!python run_generation.py --model_type=gpt2 --model_name_or_path=/content/output_gpt_trump"
      ],
      "execution_count": 98,
      "outputs": [
        {
          "output_type": "stream",
          "text": [
            "03/08/2021 21:09:46 - INFO - __main__ -   Namespace(device=device(type='cuda'), k=0, length=20, model_name_or_path='/content/output_gpt_trump', model_type='gpt2', n_gpu=1, no_cuda=False, num_return_sequences=1, p=0.9, padding_text='', prompt='', repetition_penalty=1.0, seed=42, stop_token=None, temperature=1.0, xlm_language='')\n",
            "Model prompt >>> gpt2\n",
            "Setting `pad_token_id` to `eos_token_id`:50256 for open-end generation.\n",
            "=== GENERATED SEQUENCE 1 ===\n",
            "2021-03-08 21:11:35.498843: I tensorflow/stream_executor/platform/default/dso_loader.cc:49] Successfully opened dynamic library libcudart.so.11.0\n",
            "gpt2k.\"\n",
            "\"\"Tomorrow night, @telemusicetta will return to Florida at 9\n"
          ],
          "name": "stdout"
        }
      ]
    },
    {
      "cell_type": "code",
      "metadata": {
        "id": "BmZXd9Ukq6xN"
      },
      "source": [
        "from transformers import AutoModelWithLMHead, AutoTokenizer\n",
        "tokenizer_trump = AutoTokenizer.from_pretrained(\"output_gpt_trump\")\n",
        "model_trump = AutoModelWithLMHead.from_pretrained(\"output_gpt_trump\")"
      ],
      "execution_count": 99,
      "outputs": []
    },
    {
      "cell_type": "code",
      "metadata": {
        "colab": {
          "base_uri": "https://localhost:8080/"
        },
        "id": "L2JJG5yBq-kK",
        "outputId": "c86535c5-a1f2-4cad-d902-8ac81f02fd51"
      },
      "source": [
        "sequence = \"president election is\"\n",
        "\n",
        "input = tokenizer_trump.encode(sequence, return_tensors=\"pt\")\n",
        "generated = model_trump.generate(input, max_length=50, bos_token_id=1, pad_token_id=1, eos_token_ids=1)\n",
        "\n",
        "resulting_string = tokenizer_trump.decode(generated.tolist()[0])\n",
        "print(resulting_string)"
      ],
      "execution_count": 100,
      "outputs": [
        {
          "output_type": "stream",
          "text": [
            "president election is a disaster for the country.\"\n",
            "\"The US is a laughing stock in the world of politics. The US is a laughing stock in the world of politics. The US is a laughing stock in the world of politics.\"\n",
            "\"The\n"
          ],
          "name": "stdout"
        }
      ]
    },
    {
      "cell_type": "code",
      "metadata": {
        "colab": {
          "base_uri": "https://localhost:8080/",
          "height": 67,
          "referenced_widgets": [
            "a24bc2d036ee42c9bbe95fba88ad9219",
            "d5ac856518b9489e8497f0c57859d2ed",
            "487ef27b25564a92b941da2ce553c3e3",
            "6d1f5d6a646d46ae83685f8c06f73e70",
            "de1196bded3c47bea5084008bd45206b",
            "71ee1e108bc64e4cafaba5960b26cf67",
            "e680fada2715462f86ac75ab4220014e",
            "209d1e5620ee4e38b0daae0e7e1bdf5b"
          ]
        },
        "id": "vhwgpu32rDd-",
        "outputId": "8d0dc8fb-74db-47cc-aa9a-ac9b7b6c9ad8"
      },
      "source": [
        "tokenizer_gpt = AutoTokenizer.from_pretrained(\"gpt2\")\n",
        "model_gpt = AutoModelWithLMHead.from_pretrained(\"gpt2\")"
      ],
      "execution_count": 101,
      "outputs": [
        {
          "output_type": "display_data",
          "data": {
            "application/vnd.jupyter.widget-view+json": {
              "model_id": "a24bc2d036ee42c9bbe95fba88ad9219",
              "version_minor": 0,
              "version_major": 2
            },
            "text/plain": [
              "HBox(children=(FloatProgress(value=0.0, description='Downloading', max=1355256.0, style=ProgressStyle(descript…"
            ]
          },
          "metadata": {
            "tags": []
          }
        },
        {
          "output_type": "stream",
          "text": [
            "\n"
          ],
          "name": "stdout"
        }
      ]
    },
    {
      "cell_type": "code",
      "metadata": {
        "colab": {
          "base_uri": "https://localhost:8080/"
        },
        "id": "E4V9lxVarFS5",
        "outputId": "5f4e7212-cd66-43bd-c5c7-d00530c07dc2"
      },
      "source": [
        "sequence = \"president election is\"\n",
        "\n",
        "input = tokenizer_gpt.encode(sequence, return_tensors=\"pt\")\n",
        "generated = model_gpt.generate(input, max_length=50, bos_token_id=1, pad_token_id=1, eos_token_ids=1)\n",
        "\n",
        "resulting_string = tokenizer_gpt.decode(generated.tolist()[0])\n",
        "print(resulting_string)"
      ],
      "execution_count": 104,
      "outputs": [
        {
          "output_type": "stream",
          "text": [
            "president election is a very important moment for the country,\" he said.\n",
            "\n",
            "\"We have to be very careful about what we say and what we say in the media. We have to be very careful about what we say and what we say in\n"
          ],
          "name": "stdout"
        }
      ]
    },
    {
      "cell_type": "markdown",
      "metadata": {
        "id": "UWUL70LHsWYz"
      },
      "source": [
        "The models generated the opposite results based on the same sequence. "
      ]
    },
    {
      "cell_type": "markdown",
      "metadata": {
        "id": "lkPfssncgqrE"
      },
      "source": [
        "## <span style=\"color:red\">*Exercise 4*</span>\n",
        "\n",
        "<span style=\"color:red\">Construct cells immediately below this that tune BERT to at least two different textual samples. These could be from different corpora, distinct time periods, separate authors, alternative publishing outlets, etc. Then compare the meaning of words, phrases and sentences to each other across the separate models. What do they reveal about the social worlds inscribed by the distinctive samples?"
      ]
    },
    {
      "cell_type": "code",
      "metadata": {
        "colab": {
          "base_uri": "https://localhost:8080/",
          "height": 204
        },
        "id": "XZ3dQKpCgtRH",
        "outputId": "f9acaaf9-62bd-464d-e53f-872c5a1c1e3c"
      },
      "source": [
        "review.head()"
      ],
      "execution_count": 105,
      "outputs": [
        {
          "output_type": "execute_result",
          "data": {
            "text/html": [
              "<div>\n",
              "<style scoped>\n",
              "    .dataframe tbody tr th:only-of-type {\n",
              "        vertical-align: middle;\n",
              "    }\n",
              "\n",
              "    .dataframe tbody tr th {\n",
              "        vertical-align: top;\n",
              "    }\n",
              "\n",
              "    .dataframe thead th {\n",
              "        text-align: right;\n",
              "    }\n",
              "</style>\n",
              "<table border=\"1\" class=\"dataframe\">\n",
              "  <thead>\n",
              "    <tr style=\"text-align: right;\">\n",
              "      <th></th>\n",
              "      <th>Review Text</th>\n",
              "      <th>Rating</th>\n",
              "      <th>Class Name</th>\n",
              "      <th>Age</th>\n",
              "    </tr>\n",
              "  </thead>\n",
              "  <tbody>\n",
              "    <tr>\n",
              "      <th>0</th>\n",
              "      <td>Absolutely wonderful - silky and sexy and comf...</td>\n",
              "      <td>4</td>\n",
              "      <td>Intimates</td>\n",
              "      <td>33</td>\n",
              "    </tr>\n",
              "    <tr>\n",
              "      <th>1</th>\n",
              "      <td>Love this dress!  it's sooo pretty.  i happene...</td>\n",
              "      <td>5</td>\n",
              "      <td>Dresses</td>\n",
              "      <td>34</td>\n",
              "    </tr>\n",
              "    <tr>\n",
              "      <th>2</th>\n",
              "      <td>I had such high hopes for this dress and reall...</td>\n",
              "      <td>3</td>\n",
              "      <td>Dresses</td>\n",
              "      <td>60</td>\n",
              "    </tr>\n",
              "    <tr>\n",
              "      <th>3</th>\n",
              "      <td>I love, love, love this jumpsuit. it's fun, fl...</td>\n",
              "      <td>5</td>\n",
              "      <td>Pants</td>\n",
              "      <td>50</td>\n",
              "    </tr>\n",
              "    <tr>\n",
              "      <th>4</th>\n",
              "      <td>This shirt is very flattering to all due to th...</td>\n",
              "      <td>5</td>\n",
              "      <td>Blouses</td>\n",
              "      <td>47</td>\n",
              "    </tr>\n",
              "  </tbody>\n",
              "</table>\n",
              "</div>"
            ],
            "text/plain": [
              "                                         Review Text  Rating Class Name  Age\n",
              "0  Absolutely wonderful - silky and sexy and comf...       4  Intimates   33\n",
              "1  Love this dress!  it's sooo pretty.  i happene...       5    Dresses   34\n",
              "2  I had such high hopes for this dress and reall...       3    Dresses   60\n",
              "3  I love, love, love this jumpsuit. it's fun, fl...       5      Pants   50\n",
              "4  This shirt is very flattering to all due to th...       5    Blouses   47"
            ]
          },
          "metadata": {
            "tags": []
          },
          "execution_count": 105
        }
      ]
    },
    {
      "cell_type": "code",
      "metadata": {
        "id": "prX5yEyes5Oh"
      },
      "source": [
        "# rating = 3 neutral\n",
        "# rating >= 4 postive\n",
        "# rating <= 2 negative\n",
        "neutral_df = review[review['Rating']==3]\n",
        "positive_df = review[review['Rating']>=4]\n",
        "negative_df = review[review['Rating']<=2]"
      ],
      "execution_count": 106,
      "outputs": []
    },
    {
      "cell_type": "code",
      "metadata": {
        "id": "-fCh3EuNtDBD"
      },
      "source": [
        "train_text1, test_text1 = train_test_split(neutral_df['Review Text'], test_size=0.2)\n",
        "train_text2, test_text2 = train_test_split(positive_df['Review Text'], test_size=0.2)\n",
        "train_text3, test_text3 = train_test_split(negative_df['Review Text'], test_size=0.2)\n",
        "train_text1.to_frame().to_csv(r'train_text_rev1', header=None, index=None, sep=' ', mode='a')\n",
        "test_text1.to_frame().to_csv(r'test_text_rev1', header=None, index=None, sep=' ', mode='a')\n",
        "train_text2.to_frame().to_csv(r'train_text_rev2', header=None, index=None, sep=' ', mode='a')\n",
        "test_text2.to_frame().to_csv(r'test_text_rev2', header=None, index=None, sep=' ', mode='a')\n",
        "train_text3.to_frame().to_csv(r'train_text_rev3', header=None, index=None, sep=' ', mode='a')\n",
        "test_text3.to_frame().to_csv(r'test_text_rev3', header=None, index=None, sep=' ', mode='a')"
      ],
      "execution_count": 107,
      "outputs": []
    },
    {
      "cell_type": "code",
      "metadata": {
        "colab": {
          "base_uri": "https://localhost:8080/"
        },
        "id": "aLl1HeK1tLHW",
        "outputId": "6bf32661-0874-4eef-a9ff-7a6030a987af"
      },
      "source": [
        "# Fine tune these three set of reviews\n",
        "!python run_language_modelling.py --output_dir=output_roberta_rev1 --model_type=roberta --model_name_or_path=roberta-base --do_train --train_data_file=train_text_rev1 --do_eval --eval_data_file=test_text_rev1 --mlm --overwrite_output_dir\n",
        "!python run_language_modelling.py --output_dir=output_roberta_rev2 --model_type=roberta --model_name_or_path=roberta-base --do_train --train_data_file=train_text_rev2 --do_eval --eval_data_file=test_text_rev2 --mlm --overwrite_output_dir\n",
        "!python run_language_modelling.py --output_dir=output_roberta_rev3 --model_type=roberta --model_name_or_path=roberta-base --do_train --train_data_file=train_text_rev3 --do_eval --eval_data_file=test_text_rev3 --mlm  --overwrite_output_dir"
      ],
      "execution_count": 108,
      "outputs": [
        {
          "output_type": "stream",
          "text": [
            "03/08/2021 21:18:52 - WARNING - __main__ -   Process rank: -1, device: cuda, n_gpu: 1, distributed training: False, 16-bits training: False\n",
            "03/08/2021 21:18:52 - INFO - filelock -   Lock 140664201012368 acquired on /root/.cache/huggingface/transformers/733bade19e5f0ce98e6531021dd5180994bb2f7b8bd7e80c7968805834ba351e.35205c6cfc956461d8515139f0f8dd5d207a2f336c0c3a83b4bc8dca3518e37b.lock\n",
            "Downloading: 100% 481/481 [00:00<00:00, 764kB/s]\n",
            "03/08/2021 21:18:52 - INFO - filelock -   Lock 140664201012368 released on /root/.cache/huggingface/transformers/733bade19e5f0ce98e6531021dd5180994bb2f7b8bd7e80c7968805834ba351e.35205c6cfc956461d8515139f0f8dd5d207a2f336c0c3a83b4bc8dca3518e37b.lock\n",
            "03/08/2021 21:18:52 - INFO - filelock -   Lock 140664201012432 acquired on /root/.cache/huggingface/transformers/d3ccdbfeb9aaa747ef20432d4976c32ee3fa69663b379deb253ccfce2bb1fdc5.d67d6b367eb24ab43b08ad55e014cf254076934f71d832bbab9ad35644a375ab.lock\n",
            "Downloading: 100% 899k/899k [00:00<00:00, 24.5MB/s]\n",
            "03/08/2021 21:18:52 - INFO - filelock -   Lock 140664201012432 released on /root/.cache/huggingface/transformers/d3ccdbfeb9aaa747ef20432d4976c32ee3fa69663b379deb253ccfce2bb1fdc5.d67d6b367eb24ab43b08ad55e014cf254076934f71d832bbab9ad35644a375ab.lock\n",
            "03/08/2021 21:18:52 - INFO - filelock -   Lock 140664245857616 acquired on /root/.cache/huggingface/transformers/cafdecc90fcab17011e12ac813dd574b4b3fea39da6dd817813efa010262ff3f.5d12962c5ee615a4c803841266e9c3be9a691a924f72d395d3a6c6c81157788b.lock\n",
            "Downloading: 100% 456k/456k [00:00<00:00, 22.8MB/s]\n",
            "03/08/2021 21:18:52 - INFO - filelock -   Lock 140664245857616 released on /root/.cache/huggingface/transformers/cafdecc90fcab17011e12ac813dd574b4b3fea39da6dd817813efa010262ff3f.5d12962c5ee615a4c803841266e9c3be9a691a924f72d395d3a6c6c81157788b.lock\n",
            "03/08/2021 21:18:52 - INFO - filelock -   Lock 140664050647248 acquired on /root/.cache/huggingface/transformers/51ba668f7ff34e7cdfa9561e8361747738113878850a7d717dbc69de8683aaad.c7efaa30a0d80b2958b876969faa180e485944a849deee4ad482332de65365a7.lock\n",
            "Downloading: 100% 501M/501M [00:07<00:00, 68.6MB/s]\n",
            "03/08/2021 21:18:59 - INFO - filelock -   Lock 140664050647248 released on /root/.cache/huggingface/transformers/51ba668f7ff34e7cdfa9561e8361747738113878850a7d717dbc69de8683aaad.c7efaa30a0d80b2958b876969faa180e485944a849deee4ad482332de65365a7.lock\n",
            "03/08/2021 21:19:07 - INFO - __main__ -   Training/evaluation parameters Namespace(adam_epsilon=1e-08, block_size=512, cache_dir=None, config_name=None, device=device(type='cuda'), do_eval=True, do_train=True, eval_all_checkpoints=False, eval_data_file='test_text_rev1', evaluate_during_training=False, fp16=False, fp16_opt_level='O1', gradient_accumulation_steps=1, learning_rate=5e-05, line_by_line=False, local_rank=-1, logging_steps=500, max_grad_norm=1.0, max_steps=-1, mlm=True, mlm_probability=0.15, model_name_or_path='roberta-base', model_type='roberta', n_gpu=1, no_cuda=False, num_train_epochs=1.0, output_dir='output_roberta_rev1', overwrite_cache=False, overwrite_output_dir=True, per_gpu_eval_batch_size=4, per_gpu_train_batch_size=4, save_steps=500, save_total_limit=None, seed=42, server_ip='', server_port='', should_continue=False, tokenizer_name=None, train_data_file='train_text_rev1', warmup_steps=0, weight_decay=0.0)\n",
            "03/08/2021 21:19:07 - INFO - __main__ -   Creating features from dataset file at \n",
            "03/08/2021 21:19:08 - INFO - __main__ -   Saving features into cached file roberta_cached_lm_510_train_text_rev1\n",
            "2021-03-08 21:19:10.032959: I tensorflow/stream_executor/platform/default/dso_loader.cc:49] Successfully opened dynamic library libcudart.so.11.0\n",
            "03/08/2021 21:19:12 - INFO - __main__ -   ***** Running training *****\n",
            "03/08/2021 21:19:12 - INFO - __main__ -     Num examples = 355\n",
            "03/08/2021 21:19:12 - INFO - __main__ -     Num Epochs = 1\n",
            "03/08/2021 21:19:12 - INFO - __main__ -     Instantaneous batch size per GPU = 4\n",
            "03/08/2021 21:19:12 - INFO - __main__ -     Total train batch size (w. parallel, distributed & accumulation) = 4\n",
            "03/08/2021 21:19:12 - INFO - __main__ -     Gradient Accumulation steps = 1\n",
            "03/08/2021 21:19:12 - INFO - __main__ -     Total optimization steps = 89\n",
            "Epoch:   0% 0/1 [00:00<?, ?it/s]\n",
            "Iteration:   0% 0/89 [00:00<?, ?it/s]\u001b[A\n",
            "Iteration:   1% 1/89 [00:00<01:00,  1.45it/s]\u001b[A\n",
            "Iteration:   2% 2/89 [00:01<00:57,  1.51it/s]\u001b[A\n",
            "Iteration:   3% 3/89 [00:01<00:55,  1.56it/s]\u001b[A\n",
            "Iteration:   4% 4/89 [00:02<00:53,  1.60it/s]\u001b[A\n",
            "Iteration:   6% 5/89 [00:03<00:52,  1.61it/s]\u001b[A\n",
            "Iteration:   7% 6/89 [00:03<00:51,  1.62it/s]\u001b[A\n",
            "Iteration:   8% 7/89 [00:04<00:50,  1.63it/s]\u001b[A\n",
            "Iteration:   9% 8/89 [00:04<00:49,  1.63it/s]\u001b[A\n",
            "Iteration:  10% 9/89 [00:05<00:48,  1.64it/s]\u001b[A\n",
            "Iteration:  11% 10/89 [00:06<00:48,  1.64it/s]\u001b[A\n",
            "Iteration:  12% 11/89 [00:06<00:47,  1.64it/s]\u001b[A\n",
            "Iteration:  13% 12/89 [00:07<00:46,  1.64it/s]\u001b[A\n",
            "Iteration:  15% 13/89 [00:07<00:46,  1.64it/s]\u001b[A\n",
            "Iteration:  16% 14/89 [00:08<00:45,  1.64it/s]\u001b[A\n",
            "Iteration:  17% 15/89 [00:09<00:45,  1.64it/s]\u001b[A\n",
            "Iteration:  18% 16/89 [00:09<00:44,  1.64it/s]\u001b[A\n",
            "Iteration:  19% 17/89 [00:10<00:44,  1.64it/s]\u001b[A\n",
            "Iteration:  20% 18/89 [00:11<00:43,  1.63it/s]\u001b[A\n",
            "Iteration:  21% 19/89 [00:11<00:43,  1.63it/s]\u001b[A\n",
            "Iteration:  22% 20/89 [00:12<00:42,  1.63it/s]\u001b[A\n",
            "Iteration:  24% 21/89 [00:12<00:42,  1.62it/s]\u001b[A\n",
            "Iteration:  25% 22/89 [00:13<00:41,  1.62it/s]\u001b[A\n",
            "Iteration:  26% 23/89 [00:14<00:40,  1.62it/s]\u001b[A\n",
            "Iteration:  27% 24/89 [00:14<00:40,  1.61it/s]\u001b[A\n",
            "Iteration:  28% 25/89 [00:15<00:39,  1.61it/s]\u001b[A\n",
            "Iteration:  29% 26/89 [00:15<00:39,  1.61it/s]\u001b[A\n",
            "Iteration:  30% 27/89 [00:16<00:38,  1.61it/s]\u001b[A\n",
            "Iteration:  31% 28/89 [00:17<00:38,  1.60it/s]\u001b[A\n",
            "Iteration:  33% 29/89 [00:17<00:37,  1.60it/s]\u001b[A\n",
            "Iteration:  34% 30/89 [00:18<00:37,  1.59it/s]\u001b[A\n",
            "Iteration:  35% 31/89 [00:19<00:36,  1.59it/s]\u001b[A\n",
            "Iteration:  36% 32/89 [00:19<00:35,  1.59it/s]\u001b[A\n",
            "Iteration:  37% 33/89 [00:20<00:35,  1.59it/s]\u001b[A\n",
            "Iteration:  38% 34/89 [00:21<00:34,  1.59it/s]\u001b[A\n",
            "Iteration:  39% 35/89 [00:21<00:34,  1.59it/s]\u001b[A\n",
            "Iteration:  40% 36/89 [00:22<00:33,  1.58it/s]\u001b[A\n",
            "Iteration:  42% 37/89 [00:22<00:32,  1.58it/s]\u001b[A\n",
            "Iteration:  43% 38/89 [00:23<00:32,  1.57it/s]\u001b[A\n",
            "Iteration:  44% 39/89 [00:24<00:31,  1.57it/s]\u001b[A\n",
            "Iteration:  45% 40/89 [00:24<00:31,  1.56it/s]\u001b[A\n",
            "Iteration:  46% 41/89 [00:25<00:30,  1.56it/s]\u001b[A\n",
            "Iteration:  47% 42/89 [00:26<00:30,  1.55it/s]\u001b[A\n",
            "Iteration:  48% 43/89 [00:26<00:29,  1.55it/s]\u001b[A\n",
            "Iteration:  49% 44/89 [00:27<00:29,  1.55it/s]\u001b[A\n",
            "Iteration:  51% 45/89 [00:28<00:28,  1.55it/s]\u001b[A\n",
            "Iteration:  52% 46/89 [00:28<00:27,  1.55it/s]\u001b[A\n",
            "Iteration:  53% 47/89 [00:29<00:27,  1.55it/s]\u001b[A\n",
            "Iteration:  54% 48/89 [00:30<00:26,  1.55it/s]\u001b[A\n",
            "Iteration:  55% 49/89 [00:30<00:25,  1.54it/s]\u001b[A\n",
            "Iteration:  56% 50/89 [00:31<00:25,  1.54it/s]\u001b[A\n",
            "Iteration:  57% 51/89 [00:31<00:24,  1.54it/s]\u001b[A\n",
            "Iteration:  58% 52/89 [00:32<00:24,  1.53it/s]\u001b[A\n",
            "Iteration:  60% 53/89 [00:33<00:23,  1.53it/s]\u001b[A\n",
            "Iteration:  61% 54/89 [00:33<00:22,  1.53it/s]\u001b[A\n",
            "Iteration:  62% 55/89 [00:34<00:22,  1.52it/s]\u001b[A\n",
            "Iteration:  63% 56/89 [00:35<00:21,  1.52it/s]\u001b[A\n",
            "Iteration:  64% 57/89 [00:35<00:21,  1.52it/s]\u001b[A\n",
            "Iteration:  65% 58/89 [00:36<00:20,  1.52it/s]\u001b[A\n",
            "Iteration:  66% 59/89 [00:37<00:19,  1.52it/s]\u001b[A\n",
            "Iteration:  67% 60/89 [00:37<00:19,  1.51it/s]\u001b[A\n",
            "Iteration:  69% 61/89 [00:38<00:18,  1.51it/s]\u001b[A\n",
            "Iteration:  70% 62/89 [00:39<00:17,  1.51it/s]\u001b[A\n",
            "Iteration:  71% 63/89 [00:39<00:17,  1.51it/s]\u001b[A\n",
            "Iteration:  72% 64/89 [00:40<00:16,  1.52it/s]\u001b[A\n",
            "Iteration:  73% 65/89 [00:41<00:15,  1.52it/s]\u001b[A\n",
            "Iteration:  74% 66/89 [00:41<00:15,  1.52it/s]\u001b[A\n",
            "Iteration:  75% 67/89 [00:42<00:14,  1.52it/s]\u001b[A\n",
            "Iteration:  76% 68/89 [00:43<00:13,  1.53it/s]\u001b[A\n",
            "Iteration:  78% 69/89 [00:43<00:13,  1.52it/s]\u001b[A\n",
            "Iteration:  79% 70/89 [00:44<00:12,  1.53it/s]\u001b[A\n",
            "Iteration:  80% 71/89 [00:45<00:11,  1.53it/s]\u001b[A\n",
            "Iteration:  81% 72/89 [00:45<00:11,  1.53it/s]\u001b[A\n",
            "Iteration:  82% 73/89 [00:46<00:10,  1.54it/s]\u001b[A\n",
            "Iteration:  83% 74/89 [00:47<00:09,  1.54it/s]\u001b[A\n",
            "Iteration:  84% 75/89 [00:47<00:09,  1.54it/s]\u001b[A\n",
            "Iteration:  85% 76/89 [00:48<00:08,  1.55it/s]\u001b[A\n",
            "Iteration:  87% 77/89 [00:49<00:07,  1.55it/s]\u001b[A\n",
            "Iteration:  88% 78/89 [00:49<00:07,  1.55it/s]\u001b[A\n",
            "Iteration:  89% 79/89 [00:50<00:06,  1.56it/s]\u001b[A\n",
            "Iteration:  90% 80/89 [00:50<00:05,  1.56it/s]\u001b[A\n",
            "Iteration:  91% 81/89 [00:51<00:05,  1.57it/s]\u001b[A\n",
            "Iteration:  92% 82/89 [00:52<00:04,  1.57it/s]\u001b[A\n",
            "Iteration:  93% 83/89 [00:52<00:03,  1.57it/s]\u001b[A\n",
            "Iteration:  94% 84/89 [00:53<00:03,  1.58it/s]\u001b[A\n",
            "Iteration:  96% 85/89 [00:54<00:02,  1.58it/s]\u001b[A\n",
            "Iteration:  97% 86/89 [00:54<00:01,  1.58it/s]\u001b[A\n",
            "Iteration:  98% 87/89 [00:55<00:01,  1.58it/s]\u001b[A\n",
            "Iteration:  99% 88/89 [00:55<00:00,  1.58it/s]\u001b[A\n",
            "Iteration: 100% 89/89 [00:56<00:00,  1.58it/s]\n",
            "Epoch: 100% 1/1 [00:56<00:00, 56.45s/it]\n",
            "03/08/2021 21:20:09 - INFO - __main__ -    global_step = 89, average loss = 1.857531110892135\n",
            "03/08/2021 21:20:09 - INFO - __main__ -   Saving model checkpoint to output_roberta_rev1\n",
            "03/08/2021 21:20:17 - INFO - __main__ -   Evaluate the following checkpoints: ['output_roberta_rev1']\n",
            "03/08/2021 21:20:26 - INFO - __main__ -   Creating features from dataset file at \n",
            "03/08/2021 21:20:26 - INFO - __main__ -   Saving features into cached file roberta_cached_lm_510_test_text_rev1\n",
            "03/08/2021 21:20:26 - INFO - __main__ -   ***** Running evaluation  *****\n",
            "03/08/2021 21:20:26 - INFO - __main__ -     Num examples = 88\n",
            "03/08/2021 21:20:26 - INFO - __main__ -     Batch size = 4\n",
            "Evaluating: 100% 22/22 [00:04<00:00,  4.73it/s]\n",
            "03/08/2021 21:20:31 - INFO - __main__ -   ***** Eval results  *****\n",
            "03/08/2021 21:20:31 - INFO - __main__ -     perplexity = tensor(5.2718)\n",
            "03/08/2021 21:20:33 - WARNING - __main__ -   Process rank: -1, device: cuda, n_gpu: 1, distributed training: False, 16-bits training: False\n",
            "03/08/2021 21:20:56 - INFO - __main__ -   Training/evaluation parameters Namespace(adam_epsilon=1e-08, block_size=512, cache_dir=None, config_name=None, device=device(type='cuda'), do_eval=True, do_train=True, eval_all_checkpoints=False, eval_data_file='test_text_rev2', evaluate_during_training=False, fp16=False, fp16_opt_level='O1', gradient_accumulation_steps=1, learning_rate=5e-05, line_by_line=False, local_rank=-1, logging_steps=500, max_grad_norm=1.0, max_steps=-1, mlm=True, mlm_probability=0.15, model_name_or_path='roberta-base', model_type='roberta', n_gpu=1, no_cuda=False, num_train_epochs=1.0, output_dir='output_roberta_rev2', overwrite_cache=False, overwrite_output_dir=True, per_gpu_eval_batch_size=4, per_gpu_train_batch_size=4, save_steps=500, save_total_limit=None, seed=42, server_ip='', server_port='', should_continue=False, tokenizer_name=None, train_data_file='train_text_rev2', warmup_steps=0, weight_decay=0.0)\n",
            "03/08/2021 21:20:56 - INFO - __main__ -   Creating features from dataset file at \n",
            "03/08/2021 21:21:00 - INFO - __main__ -   Saving features into cached file roberta_cached_lm_510_train_text_rev2\n",
            "2021-03-08 21:21:01.637979: I tensorflow/stream_executor/platform/default/dso_loader.cc:49] Successfully opened dynamic library libcudart.so.11.0\n",
            "03/08/2021 21:21:06 - INFO - __main__ -   ***** Running training *****\n",
            "03/08/2021 21:21:06 - INFO - __main__ -     Num examples = 2050\n",
            "03/08/2021 21:21:06 - INFO - __main__ -     Num Epochs = 1\n",
            "03/08/2021 21:21:06 - INFO - __main__ -     Instantaneous batch size per GPU = 4\n",
            "03/08/2021 21:21:06 - INFO - __main__ -     Total train batch size (w. parallel, distributed & accumulation) = 4\n",
            "03/08/2021 21:21:06 - INFO - __main__ -     Gradient Accumulation steps = 1\n",
            "03/08/2021 21:21:06 - INFO - __main__ -     Total optimization steps = 513\n",
            "Epoch:   0% 0/1 [00:00<?, ?it/s]\n",
            "Iteration:   0% 0/513 [00:00<?, ?it/s]\u001b[A\n",
            "Iteration:   0% 1/513 [00:00<05:32,  1.54it/s]\u001b[A\n",
            "Iteration:   0% 2/513 [00:01<05:24,  1.57it/s]\u001b[A\n",
            "Iteration:   1% 3/513 [00:01<05:19,  1.60it/s]\u001b[A\n",
            "Iteration:   1% 4/513 [00:02<05:15,  1.61it/s]\u001b[A\n",
            "Iteration:   1% 5/513 [00:03<05:13,  1.62it/s]\u001b[A\n",
            "Iteration:   1% 6/513 [00:03<05:14,  1.61it/s]\u001b[A\n",
            "Iteration:   1% 7/513 [00:04<05:12,  1.62it/s]\u001b[A\n",
            "Iteration:   2% 8/513 [00:04<05:11,  1.62it/s]\u001b[A\n",
            "Iteration:   2% 9/513 [00:05<05:09,  1.63it/s]\u001b[A\n",
            "Iteration:   2% 10/513 [00:06<05:08,  1.63it/s]\u001b[A\n",
            "Iteration:   2% 11/513 [00:06<05:07,  1.63it/s]\u001b[A\n",
            "Iteration:   2% 12/513 [00:07<05:07,  1.63it/s]\u001b[A\n",
            "Iteration:   3% 13/513 [00:07<05:08,  1.62it/s]\u001b[A\n",
            "Iteration:   3% 14/513 [00:08<05:07,  1.62it/s]\u001b[A\n",
            "Iteration:   3% 15/513 [00:09<05:07,  1.62it/s]\u001b[A\n",
            "Iteration:   3% 16/513 [00:09<05:07,  1.61it/s]\u001b[A\n",
            "Iteration:   3% 17/513 [00:10<05:08,  1.61it/s]\u001b[A\n",
            "Iteration:   4% 18/513 [00:11<05:08,  1.60it/s]\u001b[A\n",
            "Iteration:   4% 19/513 [00:11<05:08,  1.60it/s]\u001b[A\n",
            "Iteration:   4% 20/513 [00:12<05:07,  1.60it/s]\u001b[A\n",
            "Iteration:   4% 21/513 [00:12<05:07,  1.60it/s]\u001b[A\n",
            "Iteration:   4% 22/513 [00:13<05:07,  1.60it/s]\u001b[A\n",
            "Iteration:   4% 23/513 [00:14<05:07,  1.59it/s]\u001b[A\n",
            "Iteration:   5% 24/513 [00:14<05:07,  1.59it/s]\u001b[A\n",
            "Iteration:   5% 25/513 [00:15<05:07,  1.59it/s]\u001b[A\n",
            "Iteration:   5% 26/513 [00:16<05:06,  1.59it/s]\u001b[A\n",
            "Iteration:   5% 27/513 [00:16<05:06,  1.59it/s]\u001b[A\n",
            "Iteration:   5% 28/513 [00:17<05:06,  1.58it/s]\u001b[A\n",
            "Iteration:   6% 29/513 [00:18<05:06,  1.58it/s]\u001b[A\n",
            "Iteration:   6% 30/513 [00:18<05:06,  1.58it/s]\u001b[A\n",
            "Iteration:   6% 31/513 [00:19<05:06,  1.57it/s]\u001b[A\n",
            "Iteration:   6% 32/513 [00:19<05:07,  1.57it/s]\u001b[A\n",
            "Iteration:   6% 33/513 [00:20<05:06,  1.57it/s]\u001b[A\n",
            "Iteration:   7% 34/513 [00:21<05:06,  1.56it/s]\u001b[A\n",
            "Iteration:   7% 35/513 [00:21<05:06,  1.56it/s]\u001b[A\n",
            "Iteration:   7% 36/513 [00:22<05:06,  1.56it/s]\u001b[A\n",
            "Iteration:   7% 37/513 [00:23<05:06,  1.55it/s]\u001b[A\n",
            "Iteration:   7% 38/513 [00:23<05:06,  1.55it/s]\u001b[A\n",
            "Iteration:   8% 39/513 [00:24<05:06,  1.55it/s]\u001b[A\n",
            "Iteration:   8% 40/513 [00:25<05:06,  1.54it/s]\u001b[A\n",
            "Iteration:   8% 41/513 [00:25<05:06,  1.54it/s]\u001b[A\n",
            "Iteration:   8% 42/513 [00:26<05:06,  1.53it/s]\u001b[A\n",
            "Iteration:   8% 43/513 [00:27<05:06,  1.53it/s]\u001b[A\n",
            "Iteration:   9% 44/513 [00:27<05:07,  1.52it/s]\u001b[A\n",
            "Iteration:   9% 45/513 [00:28<05:06,  1.53it/s]\u001b[A\n",
            "Iteration:   9% 46/513 [00:29<05:05,  1.53it/s]\u001b[A\n",
            "Iteration:   9% 47/513 [00:29<05:04,  1.53it/s]\u001b[A\n",
            "Iteration:   9% 48/513 [00:30<05:05,  1.52it/s]\u001b[A\n",
            "Iteration:  10% 49/513 [00:31<05:03,  1.53it/s]\u001b[A\n",
            "Iteration:  10% 50/513 [00:31<05:03,  1.52it/s]\u001b[A\n",
            "Iteration:  10% 51/513 [00:32<05:03,  1.52it/s]\u001b[A\n",
            "Iteration:  10% 52/513 [00:33<05:02,  1.52it/s]\u001b[A\n",
            "Iteration:  10% 53/513 [00:33<05:02,  1.52it/s]\u001b[A\n",
            "Iteration:  11% 54/513 [00:34<05:01,  1.52it/s]\u001b[A\n",
            "Iteration:  11% 55/513 [00:34<05:00,  1.52it/s]\u001b[A\n",
            "Iteration:  11% 56/513 [00:35<05:00,  1.52it/s]\u001b[A\n",
            "Iteration:  11% 57/513 [00:36<04:59,  1.52it/s]\u001b[A\n",
            "Iteration:  11% 58/513 [00:36<04:58,  1.52it/s]\u001b[A\n",
            "Iteration:  12% 59/513 [00:37<04:58,  1.52it/s]\u001b[A\n",
            "Iteration:  12% 60/513 [00:38<04:57,  1.52it/s]\u001b[A\n",
            "Iteration:  12% 61/513 [00:38<04:55,  1.53it/s]\u001b[A\n",
            "Iteration:  12% 62/513 [00:39<04:54,  1.53it/s]\u001b[A\n",
            "Iteration:  12% 63/513 [00:40<04:52,  1.54it/s]\u001b[A\n",
            "Iteration:  12% 64/513 [00:40<04:52,  1.54it/s]\u001b[A\n",
            "Iteration:  13% 65/513 [00:41<04:50,  1.54it/s]\u001b[A\n",
            "Iteration:  13% 66/513 [00:42<04:50,  1.54it/s]\u001b[A\n",
            "Iteration:  13% 67/513 [00:42<04:48,  1.54it/s]\u001b[A\n",
            "Iteration:  13% 68/513 [00:43<04:47,  1.55it/s]\u001b[A\n",
            "Iteration:  13% 69/513 [00:44<04:46,  1.55it/s]\u001b[A\n",
            "Iteration:  14% 70/513 [00:44<04:44,  1.56it/s]\u001b[A\n",
            "Iteration:  14% 71/513 [00:45<04:43,  1.56it/s]\u001b[A\n",
            "Iteration:  14% 72/513 [00:45<04:42,  1.56it/s]\u001b[A\n",
            "Iteration:  14% 73/513 [00:46<04:41,  1.57it/s]\u001b[A\n",
            "Iteration:  14% 74/513 [00:47<04:40,  1.57it/s]\u001b[A\n",
            "Iteration:  15% 75/513 [00:47<04:39,  1.57it/s]\u001b[A\n",
            "Iteration:  15% 76/513 [00:48<04:38,  1.57it/s]\u001b[A\n",
            "Iteration:  15% 77/513 [00:49<04:37,  1.57it/s]\u001b[A\n",
            "Iteration:  15% 78/513 [00:49<04:36,  1.58it/s]\u001b[A\n",
            "Iteration:  15% 79/513 [00:50<04:35,  1.57it/s]\u001b[A\n",
            "Iteration:  16% 80/513 [00:51<04:35,  1.57it/s]\u001b[A\n",
            "Iteration:  16% 81/513 [00:51<04:34,  1.58it/s]\u001b[A\n",
            "Iteration:  16% 82/513 [00:52<04:32,  1.58it/s]\u001b[A\n",
            "Iteration:  16% 83/513 [00:52<04:31,  1.58it/s]\u001b[A\n",
            "Iteration:  16% 84/513 [00:53<04:30,  1.59it/s]\u001b[A\n",
            "Iteration:  17% 85/513 [00:54<04:29,  1.59it/s]\u001b[A\n",
            "Iteration:  17% 86/513 [00:54<04:28,  1.59it/s]\u001b[A\n",
            "Iteration:  17% 87/513 [00:55<04:28,  1.59it/s]\u001b[A\n",
            "Iteration:  17% 88/513 [00:56<04:27,  1.59it/s]\u001b[A\n",
            "Iteration:  17% 89/513 [00:56<04:26,  1.59it/s]\u001b[A\n",
            "Iteration:  18% 90/513 [00:57<04:26,  1.59it/s]\u001b[A\n",
            "Iteration:  18% 91/513 [00:57<04:25,  1.59it/s]\u001b[A\n",
            "Iteration:  18% 92/513 [00:58<04:24,  1.59it/s]\u001b[A\n",
            "Iteration:  18% 93/513 [00:59<04:22,  1.60it/s]\u001b[A\n",
            "Iteration:  18% 94/513 [00:59<04:21,  1.60it/s]\u001b[A\n",
            "Iteration:  19% 95/513 [01:00<04:21,  1.60it/s]\u001b[A\n",
            "Iteration:  19% 96/513 [01:01<04:19,  1.60it/s]\u001b[A\n",
            "Iteration:  19% 97/513 [01:01<04:19,  1.60it/s]\u001b[A\n",
            "Iteration:  19% 98/513 [01:02<04:18,  1.60it/s]\u001b[A\n",
            "Iteration:  19% 99/513 [01:02<04:19,  1.60it/s]\u001b[A\n",
            "Iteration:  19% 100/513 [01:03<04:17,  1.61it/s]\u001b[A\n",
            "Iteration:  20% 101/513 [01:04<04:16,  1.60it/s]\u001b[A\n",
            "Iteration:  20% 102/513 [01:04<04:14,  1.61it/s]\u001b[A\n",
            "Iteration:  20% 103/513 [01:05<04:14,  1.61it/s]\u001b[A\n",
            "Iteration:  20% 104/513 [01:06<04:14,  1.61it/s]\u001b[A\n",
            "Iteration:  20% 105/513 [01:06<04:13,  1.61it/s]\u001b[A\n",
            "Iteration:  21% 106/513 [01:07<04:11,  1.62it/s]\u001b[A\n",
            "Iteration:  21% 107/513 [01:07<04:11,  1.61it/s]\u001b[A\n",
            "Iteration:  21% 108/513 [01:08<04:10,  1.62it/s]\u001b[A\n",
            "Iteration:  21% 109/513 [01:09<04:10,  1.61it/s]\u001b[A\n",
            "Iteration:  21% 110/513 [01:09<04:09,  1.61it/s]\u001b[A\n",
            "Iteration:  22% 111/513 [01:10<04:08,  1.62it/s]\u001b[A\n",
            "Iteration:  22% 112/513 [01:11<04:08,  1.62it/s]\u001b[A\n",
            "Iteration:  22% 113/513 [01:11<04:06,  1.62it/s]\u001b[A\n",
            "Iteration:  22% 114/513 [01:12<04:06,  1.62it/s]\u001b[A\n",
            "Iteration:  22% 115/513 [01:12<04:06,  1.62it/s]\u001b[A\n",
            "Iteration:  23% 116/513 [01:13<04:06,  1.61it/s]\u001b[A\n",
            "Iteration:  23% 117/513 [01:14<04:04,  1.62it/s]\u001b[A\n",
            "Iteration:  23% 118/513 [01:14<04:04,  1.62it/s]\u001b[A\n",
            "Iteration:  23% 119/513 [01:15<04:03,  1.62it/s]\u001b[A\n",
            "Iteration:  23% 120/513 [01:15<04:02,  1.62it/s]\u001b[A\n",
            "Iteration:  24% 121/513 [01:16<04:01,  1.62it/s]\u001b[A\n",
            "Iteration:  24% 122/513 [01:17<04:01,  1.62it/s]\u001b[A\n",
            "Iteration:  24% 123/513 [01:17<04:00,  1.62it/s]\u001b[A\n",
            "Iteration:  24% 124/513 [01:18<03:59,  1.63it/s]\u001b[A\n",
            "Iteration:  24% 125/513 [01:19<03:59,  1.62it/s]\u001b[A\n",
            "Iteration:  25% 126/513 [01:19<03:58,  1.62it/s]\u001b[A\n",
            "Iteration:  25% 127/513 [01:20<03:57,  1.62it/s]\u001b[A\n",
            "Iteration:  25% 128/513 [01:20<03:58,  1.62it/s]\u001b[A\n",
            "Iteration:  25% 129/513 [01:21<03:58,  1.61it/s]\u001b[A\n",
            "Iteration:  25% 130/513 [01:22<03:58,  1.61it/s]\u001b[A\n",
            "Iteration:  26% 131/513 [01:22<03:56,  1.61it/s]\u001b[A\n",
            "Iteration:  26% 132/513 [01:23<03:55,  1.62it/s]\u001b[A\n",
            "Iteration:  26% 133/513 [01:24<03:55,  1.61it/s]\u001b[A\n",
            "Iteration:  26% 134/513 [01:24<03:55,  1.61it/s]\u001b[A\n",
            "Iteration:  26% 135/513 [01:25<03:54,  1.61it/s]\u001b[A\n",
            "Iteration:  27% 136/513 [01:25<03:53,  1.61it/s]\u001b[A\n",
            "Iteration:  27% 137/513 [01:26<03:52,  1.61it/s]\u001b[A\n",
            "Iteration:  27% 138/513 [01:27<03:52,  1.61it/s]\u001b[A\n",
            "Iteration:  27% 139/513 [01:27<03:51,  1.61it/s]\u001b[A\n",
            "Iteration:  27% 140/513 [01:28<03:51,  1.61it/s]\u001b[A\n",
            "Iteration:  27% 141/513 [01:28<03:51,  1.61it/s]\u001b[A\n",
            "Iteration:  28% 142/513 [01:29<03:51,  1.60it/s]\u001b[A\n",
            "Iteration:  28% 143/513 [01:30<03:50,  1.61it/s]\u001b[A\n",
            "Iteration:  28% 144/513 [01:30<03:49,  1.61it/s]\u001b[A\n",
            "Iteration:  28% 145/513 [01:31<03:49,  1.60it/s]\u001b[A\n",
            "Iteration:  28% 146/513 [01:32<03:48,  1.61it/s]\u001b[A\n",
            "Iteration:  29% 147/513 [01:32<03:47,  1.61it/s]\u001b[A\n",
            "Iteration:  29% 148/513 [01:33<03:47,  1.60it/s]\u001b[A\n",
            "Iteration:  29% 149/513 [01:33<03:46,  1.60it/s]\u001b[A\n",
            "Iteration:  29% 150/513 [01:34<03:46,  1.61it/s]\u001b[A\n",
            "Iteration:  29% 151/513 [01:35<03:46,  1.60it/s]\u001b[A\n",
            "Iteration:  30% 152/513 [01:35<03:46,  1.60it/s]\u001b[A\n",
            "Iteration:  30% 153/513 [01:36<03:45,  1.60it/s]\u001b[A\n",
            "Iteration:  30% 154/513 [01:37<03:45,  1.60it/s]\u001b[A\n",
            "Iteration:  30% 155/513 [01:37<03:44,  1.59it/s]\u001b[A\n",
            "Iteration:  30% 156/513 [01:38<03:44,  1.59it/s]\u001b[A\n",
            "Iteration:  31% 157/513 [01:38<03:43,  1.59it/s]\u001b[A\n",
            "Iteration:  31% 158/513 [01:39<03:43,  1.59it/s]\u001b[A\n",
            "Iteration:  31% 159/513 [01:40<03:42,  1.59it/s]\u001b[A\n",
            "Iteration:  31% 160/513 [01:40<03:41,  1.59it/s]\u001b[A\n",
            "Iteration:  31% 161/513 [01:41<03:41,  1.59it/s]\u001b[A\n",
            "Iteration:  32% 162/513 [01:42<03:40,  1.59it/s]\u001b[A\n",
            "Iteration:  32% 163/513 [01:42<03:40,  1.59it/s]\u001b[A\n",
            "Iteration:  32% 164/513 [01:43<03:39,  1.59it/s]\u001b[A\n",
            "Iteration:  32% 165/513 [01:44<03:39,  1.59it/s]\u001b[A\n",
            "Iteration:  32% 166/513 [01:44<03:38,  1.59it/s]\u001b[A\n",
            "Iteration:  33% 167/513 [01:45<03:37,  1.59it/s]\u001b[A\n",
            "Iteration:  33% 168/513 [01:45<03:37,  1.59it/s]\u001b[A\n",
            "Iteration:  33% 169/513 [01:46<03:36,  1.59it/s]\u001b[A\n",
            "Iteration:  33% 170/513 [01:47<03:36,  1.59it/s]\u001b[A\n",
            "Iteration:  33% 171/513 [01:47<03:35,  1.59it/s]\u001b[A\n",
            "Iteration:  34% 172/513 [01:48<03:34,  1.59it/s]\u001b[A\n",
            "Iteration:  34% 173/513 [01:49<03:34,  1.59it/s]\u001b[A\n",
            "Iteration:  34% 174/513 [01:49<03:33,  1.59it/s]\u001b[A\n",
            "Iteration:  34% 175/513 [01:50<03:32,  1.59it/s]\u001b[A\n",
            "Iteration:  34% 176/513 [01:50<03:32,  1.59it/s]\u001b[A\n",
            "Iteration:  35% 177/513 [01:51<03:31,  1.59it/s]\u001b[A\n",
            "Iteration:  35% 178/513 [01:52<03:30,  1.59it/s]\u001b[A\n",
            "Iteration:  35% 179/513 [01:52<03:30,  1.58it/s]\u001b[A\n",
            "Iteration:  35% 180/513 [01:53<03:29,  1.59it/s]\u001b[A\n",
            "Iteration:  35% 181/513 [01:54<03:29,  1.58it/s]\u001b[A\n",
            "Iteration:  35% 182/513 [01:54<03:29,  1.58it/s]\u001b[A\n",
            "Iteration:  36% 183/513 [01:55<03:28,  1.58it/s]\u001b[A\n",
            "Iteration:  36% 184/513 [01:56<03:28,  1.58it/s]\u001b[A\n",
            "Iteration:  36% 185/513 [01:56<03:27,  1.58it/s]\u001b[A\n",
            "Iteration:  36% 186/513 [01:57<03:26,  1.59it/s]\u001b[A\n",
            "Iteration:  36% 187/513 [01:57<03:26,  1.58it/s]\u001b[A\n",
            "Iteration:  37% 188/513 [01:58<03:25,  1.58it/s]\u001b[A\n",
            "Iteration:  37% 189/513 [01:59<03:25,  1.58it/s]\u001b[A\n",
            "Iteration:  37% 190/513 [01:59<03:24,  1.58it/s]\u001b[A\n",
            "Iteration:  37% 191/513 [02:00<03:23,  1.58it/s]\u001b[A\n",
            "Iteration:  37% 192/513 [02:01<03:23,  1.58it/s]\u001b[A\n",
            "Iteration:  38% 193/513 [02:01<03:22,  1.58it/s]\u001b[A\n",
            "Iteration:  38% 194/513 [02:02<03:22,  1.58it/s]\u001b[A\n",
            "Iteration:  38% 195/513 [02:02<03:21,  1.58it/s]\u001b[A\n",
            "Iteration:  38% 196/513 [02:03<03:20,  1.58it/s]\u001b[A\n",
            "Iteration:  38% 197/513 [02:04<03:19,  1.58it/s]\u001b[A\n",
            "Iteration:  39% 198/513 [02:04<03:19,  1.58it/s]\u001b[A\n",
            "Iteration:  39% 199/513 [02:05<03:18,  1.58it/s]\u001b[A\n",
            "Iteration:  39% 200/513 [02:06<03:17,  1.58it/s]\u001b[A\n",
            "Iteration:  39% 201/513 [02:06<03:16,  1.58it/s]\u001b[A\n",
            "Iteration:  39% 202/513 [02:07<03:16,  1.59it/s]\u001b[A\n",
            "Iteration:  40% 203/513 [02:08<03:15,  1.59it/s]\u001b[A\n",
            "Iteration:  40% 204/513 [02:08<03:14,  1.59it/s]\u001b[A\n",
            "Iteration:  40% 205/513 [02:09<03:13,  1.59it/s]\u001b[A\n",
            "Iteration:  40% 206/513 [02:09<03:13,  1.59it/s]\u001b[A\n",
            "Iteration:  40% 207/513 [02:10<03:12,  1.59it/s]\u001b[A\n",
            "Iteration:  41% 208/513 [02:11<03:12,  1.59it/s]\u001b[A\n",
            "Iteration:  41% 209/513 [02:11<03:11,  1.59it/s]\u001b[A\n",
            "Iteration:  41% 210/513 [02:12<03:10,  1.59it/s]\u001b[A\n",
            "Iteration:  41% 211/513 [02:13<03:09,  1.59it/s]\u001b[A\n",
            "Iteration:  41% 212/513 [02:13<03:09,  1.59it/s]\u001b[A\n",
            "Iteration:  42% 213/513 [02:14<03:08,  1.59it/s]\u001b[A\n",
            "Iteration:  42% 214/513 [02:14<03:08,  1.59it/s]\u001b[A\n",
            "Iteration:  42% 215/513 [02:15<03:07,  1.59it/s]\u001b[A\n",
            "Iteration:  42% 216/513 [02:16<03:07,  1.59it/s]\u001b[A\n",
            "Iteration:  42% 217/513 [02:16<03:06,  1.59it/s]\u001b[A\n",
            "Iteration:  42% 218/513 [02:17<03:05,  1.59it/s]\u001b[A\n",
            "Iteration:  43% 219/513 [02:18<03:05,  1.59it/s]\u001b[A\n",
            "Iteration:  43% 220/513 [02:18<03:04,  1.59it/s]\u001b[A\n",
            "Iteration:  43% 221/513 [02:19<03:03,  1.59it/s]\u001b[A\n",
            "Iteration:  43% 222/513 [02:19<03:03,  1.59it/s]\u001b[A\n",
            "Iteration:  43% 223/513 [02:20<03:02,  1.59it/s]\u001b[A\n",
            "Iteration:  44% 224/513 [02:21<03:01,  1.59it/s]\u001b[A\n",
            "Iteration:  44% 225/513 [02:21<03:01,  1.59it/s]\u001b[A\n",
            "Iteration:  44% 226/513 [02:22<03:00,  1.59it/s]\u001b[A\n",
            "Iteration:  44% 227/513 [02:23<03:00,  1.59it/s]\u001b[A\n",
            "Iteration:  44% 228/513 [02:23<02:59,  1.59it/s]\u001b[A\n",
            "Iteration:  45% 229/513 [02:24<02:58,  1.59it/s]\u001b[A\n",
            "Iteration:  45% 230/513 [02:25<02:58,  1.59it/s]\u001b[A\n",
            "Iteration:  45% 231/513 [02:25<02:57,  1.59it/s]\u001b[A\n",
            "Iteration:  45% 232/513 [02:26<02:56,  1.59it/s]\u001b[A\n",
            "Iteration:  45% 233/513 [02:26<02:56,  1.59it/s]\u001b[A\n",
            "Iteration:  46% 234/513 [02:27<02:55,  1.59it/s]\u001b[A\n",
            "Iteration:  46% 235/513 [02:28<02:54,  1.59it/s]\u001b[A\n",
            "Iteration:  46% 236/513 [02:28<02:54,  1.59it/s]\u001b[A\n",
            "Iteration:  46% 237/513 [02:29<02:53,  1.59it/s]\u001b[A\n",
            "Iteration:  46% 238/513 [02:30<02:53,  1.59it/s]\u001b[A\n",
            "Iteration:  47% 239/513 [02:30<02:52,  1.59it/s]\u001b[A\n",
            "Iteration:  47% 240/513 [02:31<02:51,  1.59it/s]\u001b[A\n",
            "Iteration:  47% 241/513 [02:31<02:51,  1.59it/s]\u001b[A\n",
            "Iteration:  47% 242/513 [02:32<02:50,  1.59it/s]\u001b[A\n",
            "Iteration:  47% 243/513 [02:33<02:49,  1.59it/s]\u001b[A\n",
            "Iteration:  48% 244/513 [02:33<02:49,  1.59it/s]\u001b[A\n",
            "Iteration:  48% 245/513 [02:34<02:48,  1.59it/s]\u001b[A\n",
            "Iteration:  48% 246/513 [02:35<02:47,  1.59it/s]\u001b[A\n",
            "Iteration:  48% 247/513 [02:35<02:47,  1.59it/s]\u001b[A\n",
            "Iteration:  48% 248/513 [02:36<02:46,  1.59it/s]\u001b[A\n",
            "Iteration:  49% 249/513 [02:36<02:46,  1.59it/s]\u001b[A\n",
            "Iteration:  49% 250/513 [02:37<02:45,  1.59it/s]\u001b[A\n",
            "Iteration:  49% 251/513 [02:38<02:44,  1.59it/s]\u001b[A\n",
            "Iteration:  49% 252/513 [02:38<02:44,  1.59it/s]\u001b[A\n",
            "Iteration:  49% 253/513 [02:39<02:43,  1.59it/s]\u001b[A\n",
            "Iteration:  50% 254/513 [02:40<02:42,  1.59it/s]\u001b[A\n",
            "Iteration:  50% 255/513 [02:40<02:42,  1.59it/s]\u001b[A\n",
            "Iteration:  50% 256/513 [02:41<02:41,  1.59it/s]\u001b[A\n",
            "Iteration:  50% 257/513 [02:42<02:40,  1.59it/s]\u001b[A\n",
            "Iteration:  50% 258/513 [02:42<02:40,  1.59it/s]\u001b[A\n",
            "Iteration:  50% 259/513 [02:43<02:39,  1.59it/s]\u001b[A\n",
            "Iteration:  51% 260/513 [02:43<02:39,  1.59it/s]\u001b[A\n",
            "Iteration:  51% 261/513 [02:44<02:38,  1.59it/s]\u001b[A\n",
            "Iteration:  51% 262/513 [02:45<02:37,  1.59it/s]\u001b[A\n",
            "Iteration:  51% 263/513 [02:45<02:37,  1.59it/s]\u001b[A\n",
            "Iteration:  51% 264/513 [02:46<02:36,  1.59it/s]\u001b[A\n",
            "Iteration:  52% 265/513 [02:47<02:35,  1.59it/s]\u001b[A\n",
            "Iteration:  52% 266/513 [02:47<02:35,  1.59it/s]\u001b[A\n",
            "Iteration:  52% 267/513 [02:48<02:34,  1.59it/s]\u001b[A\n",
            "Iteration:  52% 268/513 [02:48<02:33,  1.59it/s]\u001b[A\n",
            "Iteration:  52% 269/513 [02:49<02:33,  1.59it/s]\u001b[A\n",
            "Iteration:  53% 270/513 [02:50<02:32,  1.60it/s]\u001b[A\n",
            "Iteration:  53% 271/513 [02:50<02:31,  1.60it/s]\u001b[A\n",
            "Iteration:  53% 272/513 [02:51<02:30,  1.60it/s]\u001b[A\n",
            "Iteration:  53% 273/513 [02:52<02:30,  1.60it/s]\u001b[A\n",
            "Iteration:  53% 274/513 [02:52<02:30,  1.59it/s]\u001b[A\n",
            "Iteration:  54% 275/513 [02:53<02:29,  1.59it/s]\u001b[A\n",
            "Iteration:  54% 276/513 [02:53<02:28,  1.59it/s]\u001b[A\n",
            "Iteration:  54% 277/513 [02:54<02:28,  1.59it/s]\u001b[A\n",
            "Iteration:  54% 278/513 [02:55<02:27,  1.59it/s]\u001b[A\n",
            "Iteration:  54% 279/513 [02:55<02:27,  1.59it/s]\u001b[A\n",
            "Iteration:  55% 280/513 [02:56<02:26,  1.59it/s]\u001b[A\n",
            "Iteration:  55% 281/513 [02:57<02:25,  1.59it/s]\u001b[A\n",
            "Iteration:  55% 282/513 [02:57<02:25,  1.59it/s]\u001b[A\n",
            "Iteration:  55% 283/513 [02:58<02:24,  1.59it/s]\u001b[A\n",
            "Iteration:  55% 284/513 [02:58<02:23,  1.59it/s]\u001b[A\n",
            "Iteration:  56% 285/513 [02:59<02:23,  1.59it/s]\u001b[A\n",
            "Iteration:  56% 286/513 [03:00<02:22,  1.59it/s]\u001b[A\n",
            "Iteration:  56% 287/513 [03:00<02:22,  1.59it/s]\u001b[A\n",
            "Iteration:  56% 288/513 [03:01<02:21,  1.59it/s]\u001b[A\n",
            "Iteration:  56% 289/513 [03:02<02:20,  1.59it/s]\u001b[A\n",
            "Iteration:  57% 290/513 [03:02<02:20,  1.59it/s]\u001b[A\n",
            "Iteration:  57% 291/513 [03:03<02:19,  1.59it/s]\u001b[A\n",
            "Iteration:  57% 292/513 [03:04<02:19,  1.59it/s]\u001b[A\n",
            "Iteration:  57% 293/513 [03:04<02:18,  1.59it/s]\u001b[A\n",
            "Iteration:  57% 294/513 [03:05<02:17,  1.59it/s]\u001b[A\n",
            "Iteration:  58% 295/513 [03:05<02:17,  1.59it/s]\u001b[A\n",
            "Iteration:  58% 296/513 [03:06<02:16,  1.59it/s]\u001b[A\n",
            "Iteration:  58% 297/513 [03:07<02:15,  1.59it/s]\u001b[A\n",
            "Iteration:  58% 298/513 [03:07<02:15,  1.59it/s]\u001b[A\n",
            "Iteration:  58% 299/513 [03:08<02:14,  1.59it/s]\u001b[A\n",
            "Iteration:  58% 300/513 [03:09<02:13,  1.59it/s]\u001b[A\n",
            "Iteration:  59% 301/513 [03:09<02:13,  1.59it/s]\u001b[A\n",
            "Iteration:  59% 302/513 [03:10<02:12,  1.59it/s]\u001b[A\n",
            "Iteration:  59% 303/513 [03:10<02:12,  1.59it/s]\u001b[A\n",
            "Iteration:  59% 304/513 [03:11<02:11,  1.59it/s]\u001b[A\n",
            "Iteration:  59% 305/513 [03:12<02:10,  1.59it/s]\u001b[A\n",
            "Iteration:  60% 306/513 [03:12<02:10,  1.59it/s]\u001b[A\n",
            "Iteration:  60% 307/513 [03:13<02:09,  1.59it/s]\u001b[A\n",
            "Iteration:  60% 308/513 [03:14<02:09,  1.59it/s]\u001b[A\n",
            "Iteration:  60% 309/513 [03:14<02:08,  1.59it/s]\u001b[A\n",
            "Iteration:  60% 310/513 [03:15<02:07,  1.59it/s]\u001b[A\n",
            "Iteration:  61% 311/513 [03:15<02:07,  1.59it/s]\u001b[A\n",
            "Iteration:  61% 312/513 [03:16<02:06,  1.59it/s]\u001b[A\n",
            "Iteration:  61% 313/513 [03:17<02:05,  1.59it/s]\u001b[A\n",
            "Iteration:  61% 314/513 [03:17<02:05,  1.59it/s]\u001b[A\n",
            "Iteration:  61% 315/513 [03:18<02:04,  1.59it/s]\u001b[A\n",
            "Iteration:  62% 316/513 [03:19<02:03,  1.59it/s]\u001b[A\n",
            "Iteration:  62% 317/513 [03:19<02:03,  1.59it/s]\u001b[A\n",
            "Iteration:  62% 318/513 [03:20<02:02,  1.59it/s]\u001b[A\n",
            "Iteration:  62% 319/513 [03:20<02:01,  1.59it/s]\u001b[A\n",
            "Iteration:  62% 320/513 [03:21<02:01,  1.59it/s]\u001b[A\n",
            "Iteration:  63% 321/513 [03:22<02:00,  1.59it/s]\u001b[A\n",
            "Iteration:  63% 322/513 [03:22<02:00,  1.59it/s]\u001b[A\n",
            "Iteration:  63% 323/513 [03:23<01:59,  1.58it/s]\u001b[A\n",
            "Iteration:  63% 324/513 [03:24<01:58,  1.59it/s]\u001b[A\n",
            "Iteration:  63% 325/513 [03:24<01:58,  1.59it/s]\u001b[A\n",
            "Iteration:  64% 326/513 [03:25<01:57,  1.59it/s]\u001b[A\n",
            "Iteration:  64% 327/513 [03:26<01:56,  1.59it/s]\u001b[A\n",
            "Iteration:  64% 328/513 [03:26<01:56,  1.59it/s]\u001b[A\n",
            "Iteration:  64% 329/513 [03:27<01:55,  1.59it/s]\u001b[A\n",
            "Iteration:  64% 330/513 [03:27<01:55,  1.59it/s]\u001b[A\n",
            "Iteration:  65% 331/513 [03:28<01:54,  1.59it/s]\u001b[A\n",
            "Iteration:  65% 332/513 [03:29<01:53,  1.59it/s]\u001b[A\n",
            "Iteration:  65% 333/513 [03:29<01:53,  1.59it/s]\u001b[A\n",
            "Iteration:  65% 334/513 [03:30<01:52,  1.59it/s]\u001b[A\n",
            "Iteration:  65% 335/513 [03:31<01:52,  1.59it/s]\u001b[A\n",
            "Iteration:  65% 336/513 [03:31<01:51,  1.59it/s]\u001b[A\n",
            "Iteration:  66% 337/513 [03:32<01:51,  1.58it/s]\u001b[A\n",
            "Iteration:  66% 338/513 [03:32<01:50,  1.59it/s]\u001b[A\n",
            "Iteration:  66% 339/513 [03:33<01:49,  1.59it/s]\u001b[A\n",
            "Iteration:  66% 340/513 [03:34<01:49,  1.59it/s]\u001b[A\n",
            "Iteration:  66% 341/513 [03:34<01:48,  1.58it/s]\u001b[A\n",
            "Iteration:  67% 342/513 [03:35<01:47,  1.59it/s]\u001b[A\n",
            "Iteration:  67% 343/513 [03:36<01:47,  1.59it/s]\u001b[A\n",
            "Iteration:  67% 344/513 [03:36<01:46,  1.59it/s]\u001b[A\n",
            "Iteration:  67% 345/513 [03:37<01:45,  1.59it/s]\u001b[A\n",
            "Iteration:  67% 346/513 [03:37<01:45,  1.59it/s]\u001b[A\n",
            "Iteration:  68% 347/513 [03:38<01:44,  1.59it/s]\u001b[A\n",
            "Iteration:  68% 348/513 [03:39<01:43,  1.59it/s]\u001b[A\n",
            "Iteration:  68% 349/513 [03:39<01:43,  1.59it/s]\u001b[A\n",
            "Iteration:  68% 350/513 [03:40<01:42,  1.59it/s]\u001b[A\n",
            "Iteration:  68% 351/513 [03:41<01:41,  1.59it/s]\u001b[A\n",
            "Iteration:  69% 352/513 [03:41<01:41,  1.59it/s]\u001b[A\n",
            "Iteration:  69% 353/513 [03:42<01:40,  1.59it/s]\u001b[A\n",
            "Iteration:  69% 354/513 [03:43<01:39,  1.59it/s]\u001b[A\n",
            "Iteration:  69% 355/513 [03:43<01:39,  1.59it/s]\u001b[A\n",
            "Iteration:  69% 356/513 [03:44<01:38,  1.59it/s]\u001b[A\n",
            "Iteration:  70% 357/513 [03:44<01:38,  1.59it/s]\u001b[A\n",
            "Iteration:  70% 358/513 [03:45<01:37,  1.59it/s]\u001b[A\n",
            "Iteration:  70% 359/513 [03:46<01:36,  1.59it/s]\u001b[A\n",
            "Iteration:  70% 360/513 [03:46<01:36,  1.59it/s]\u001b[A\n",
            "Iteration:  70% 361/513 [03:47<01:35,  1.59it/s]\u001b[A\n",
            "Iteration:  71% 362/513 [03:48<01:35,  1.59it/s]\u001b[A\n",
            "Iteration:  71% 363/513 [03:48<01:34,  1.59it/s]\u001b[A\n",
            "Iteration:  71% 364/513 [03:49<01:33,  1.59it/s]\u001b[A\n",
            "Iteration:  71% 365/513 [03:49<01:33,  1.59it/s]\u001b[A\n",
            "Iteration:  71% 366/513 [03:50<01:32,  1.59it/s]\u001b[A\n",
            "Iteration:  72% 367/513 [03:51<01:31,  1.59it/s]\u001b[A\n",
            "Iteration:  72% 368/513 [03:51<01:31,  1.59it/s]\u001b[A\n",
            "Iteration:  72% 369/513 [03:52<01:30,  1.59it/s]\u001b[A\n",
            "Iteration:  72% 370/513 [03:53<01:29,  1.59it/s]\u001b[A\n",
            "Iteration:  72% 371/513 [03:53<01:29,  1.59it/s]\u001b[A\n",
            "Iteration:  73% 372/513 [03:54<01:28,  1.59it/s]\u001b[A\n",
            "Iteration:  73% 373/513 [03:54<01:27,  1.59it/s]\u001b[A\n",
            "Iteration:  73% 374/513 [03:55<01:27,  1.59it/s]\u001b[A\n",
            "Iteration:  73% 375/513 [03:56<01:26,  1.59it/s]\u001b[A\n",
            "Iteration:  73% 376/513 [03:56<01:26,  1.59it/s]\u001b[A\n",
            "Iteration:  73% 377/513 [03:57<01:25,  1.59it/s]\u001b[A\n",
            "Iteration:  74% 378/513 [03:58<01:24,  1.59it/s]\u001b[A\n",
            "Iteration:  74% 379/513 [03:58<01:24,  1.59it/s]\u001b[A\n",
            "Iteration:  74% 380/513 [03:59<01:23,  1.59it/s]\u001b[A\n",
            "Iteration:  74% 381/513 [04:00<01:23,  1.59it/s]\u001b[A\n",
            "Iteration:  74% 382/513 [04:00<01:22,  1.59it/s]\u001b[A\n",
            "Iteration:  75% 383/513 [04:01<01:21,  1.59it/s]\u001b[A\n",
            "Iteration:  75% 384/513 [04:01<01:21,  1.59it/s]\u001b[A\n",
            "Iteration:  75% 385/513 [04:02<01:20,  1.59it/s]\u001b[A\n",
            "Iteration:  75% 386/513 [04:03<01:19,  1.59it/s]\u001b[A\n",
            "Iteration:  75% 387/513 [04:03<01:19,  1.59it/s]\u001b[A\n",
            "Iteration:  76% 388/513 [04:04<01:18,  1.59it/s]\u001b[A\n",
            "Iteration:  76% 389/513 [04:05<01:17,  1.59it/s]\u001b[A\n",
            "Iteration:  76% 390/513 [04:05<01:17,  1.59it/s]\u001b[A\n",
            "Iteration:  76% 391/513 [04:06<01:16,  1.59it/s]\u001b[A\n",
            "Iteration:  76% 392/513 [04:06<01:16,  1.59it/s]\u001b[A\n",
            "Iteration:  77% 393/513 [04:07<01:15,  1.59it/s]\u001b[A\n",
            "Iteration:  77% 394/513 [04:08<01:14,  1.59it/s]\u001b[A\n",
            "Iteration:  77% 395/513 [04:08<01:14,  1.59it/s]\u001b[A\n",
            "Iteration:  77% 396/513 [04:09<01:13,  1.59it/s]\u001b[A\n",
            "Iteration:  77% 397/513 [04:10<01:12,  1.59it/s]\u001b[A\n",
            "Iteration:  78% 398/513 [04:10<01:12,  1.59it/s]\u001b[A\n",
            "Iteration:  78% 399/513 [04:11<01:11,  1.59it/s]\u001b[A\n",
            "Iteration:  78% 400/513 [04:11<01:11,  1.59it/s]\u001b[A\n",
            "Iteration:  78% 401/513 [04:12<01:10,  1.59it/s]\u001b[A\n",
            "Iteration:  78% 402/513 [04:13<01:09,  1.59it/s]\u001b[A\n",
            "Iteration:  79% 403/513 [04:13<01:09,  1.59it/s]\u001b[A\n",
            "Iteration:  79% 404/513 [04:14<01:08,  1.59it/s]\u001b[A\n",
            "Iteration:  79% 405/513 [04:15<01:07,  1.59it/s]\u001b[A\n",
            "Iteration:  79% 406/513 [04:15<01:07,  1.59it/s]\u001b[A\n",
            "Iteration:  79% 407/513 [04:16<01:06,  1.59it/s]\u001b[A\n",
            "Iteration:  80% 408/513 [04:16<01:06,  1.59it/s]\u001b[A\n",
            "Iteration:  80% 409/513 [04:17<01:05,  1.59it/s]\u001b[A\n",
            "Iteration:  80% 410/513 [04:18<01:04,  1.59it/s]\u001b[A\n",
            "Iteration:  80% 411/513 [04:18<01:04,  1.59it/s]\u001b[A\n",
            "Iteration:  80% 412/513 [04:19<01:03,  1.58it/s]\u001b[A\n",
            "Iteration:  81% 413/513 [04:20<01:03,  1.58it/s]\u001b[A\n",
            "Iteration:  81% 414/513 [04:20<01:02,  1.58it/s]\u001b[A\n",
            "Iteration:  81% 415/513 [04:21<01:02,  1.58it/s]\u001b[A\n",
            "Iteration:  81% 416/513 [04:22<01:01,  1.58it/s]\u001b[A\n",
            "Iteration:  81% 417/513 [04:22<01:00,  1.58it/s]\u001b[A\n",
            "Iteration:  81% 418/513 [04:23<00:59,  1.59it/s]\u001b[A\n",
            "Iteration:  82% 419/513 [04:23<00:59,  1.59it/s]\u001b[A\n",
            "Iteration:  82% 420/513 [04:24<00:58,  1.59it/s]\u001b[A\n",
            "Iteration:  82% 421/513 [04:25<00:57,  1.59it/s]\u001b[A\n",
            "Iteration:  82% 422/513 [04:25<00:57,  1.59it/s]\u001b[A\n",
            "Iteration:  82% 423/513 [04:26<00:56,  1.59it/s]\u001b[A\n",
            "Iteration:  83% 424/513 [04:27<00:56,  1.59it/s]\u001b[A\n",
            "Iteration:  83% 425/513 [04:27<00:55,  1.59it/s]\u001b[A\n",
            "Iteration:  83% 426/513 [04:28<00:54,  1.58it/s]\u001b[A\n",
            "Iteration:  83% 427/513 [04:28<00:54,  1.59it/s]\u001b[A\n",
            "Iteration:  83% 428/513 [04:29<00:53,  1.59it/s]\u001b[A\n",
            "Iteration:  84% 429/513 [04:30<00:52,  1.59it/s]\u001b[A\n",
            "Iteration:  84% 430/513 [04:30<00:52,  1.59it/s]\u001b[A\n",
            "Iteration:  84% 431/513 [04:31<00:51,  1.59it/s]\u001b[A\n",
            "Iteration:  84% 432/513 [04:32<00:51,  1.59it/s]\u001b[A\n",
            "Iteration:  84% 433/513 [04:32<00:50,  1.59it/s]\u001b[A\n",
            "Iteration:  85% 434/513 [04:33<00:49,  1.59it/s]\u001b[A\n",
            "Iteration:  85% 435/513 [04:34<00:49,  1.59it/s]\u001b[A\n",
            "Iteration:  85% 436/513 [04:34<00:48,  1.59it/s]\u001b[A\n",
            "Iteration:  85% 437/513 [04:35<00:47,  1.59it/s]\u001b[A\n",
            "Iteration:  85% 438/513 [04:35<00:47,  1.59it/s]\u001b[A\n",
            "Iteration:  86% 439/513 [04:36<00:46,  1.59it/s]\u001b[A\n",
            "Iteration:  86% 440/513 [04:37<00:45,  1.59it/s]\u001b[A\n",
            "Iteration:  86% 441/513 [04:37<00:45,  1.59it/s]\u001b[A\n",
            "Iteration:  86% 442/513 [04:38<00:44,  1.59it/s]\u001b[A\n",
            "Iteration:  86% 443/513 [04:39<00:44,  1.59it/s]\u001b[A\n",
            "Iteration:  87% 444/513 [04:39<00:43,  1.59it/s]\u001b[A\n",
            "Iteration:  87% 445/513 [04:40<00:42,  1.59it/s]\u001b[A\n",
            "Iteration:  87% 446/513 [04:40<00:42,  1.59it/s]\u001b[A\n",
            "Iteration:  87% 447/513 [04:41<00:41,  1.59it/s]\u001b[A\n",
            "Iteration:  87% 448/513 [04:42<00:40,  1.59it/s]\u001b[A\n",
            "Iteration:  88% 449/513 [04:42<00:40,  1.59it/s]\u001b[A\n",
            "Iteration:  88% 450/513 [04:43<00:39,  1.59it/s]\u001b[A\n",
            "Iteration:  88% 451/513 [04:44<00:39,  1.59it/s]\u001b[A\n",
            "Iteration:  88% 452/513 [04:44<00:38,  1.59it/s]\u001b[A\n",
            "Iteration:  88% 453/513 [04:45<00:37,  1.59it/s]\u001b[A\n",
            "Iteration:  88% 454/513 [04:45<00:37,  1.59it/s]\u001b[A\n",
            "Iteration:  89% 455/513 [04:46<00:36,  1.59it/s]\u001b[A\n",
            "Iteration:  89% 456/513 [04:47<00:35,  1.59it/s]\u001b[A\n",
            "Iteration:  89% 457/513 [04:47<00:35,  1.59it/s]\u001b[A\n",
            "Iteration:  89% 458/513 [04:48<00:34,  1.59it/s]\u001b[A\n",
            "Iteration:  89% 459/513 [04:49<00:33,  1.59it/s]\u001b[A\n",
            "Iteration:  90% 460/513 [04:49<00:33,  1.59it/s]\u001b[A\n",
            "Iteration:  90% 461/513 [04:50<00:32,  1.59it/s]\u001b[A\n",
            "Iteration:  90% 462/513 [04:51<00:32,  1.59it/s]\u001b[A\n",
            "Iteration:  90% 463/513 [04:51<00:31,  1.59it/s]\u001b[A\n",
            "Iteration:  90% 464/513 [04:52<00:30,  1.59it/s]\u001b[A\n",
            "Iteration:  91% 465/513 [04:52<00:30,  1.59it/s]\u001b[A\n",
            "Iteration:  91% 466/513 [04:53<00:29,  1.59it/s]\u001b[A\n",
            "Iteration:  91% 467/513 [04:54<00:28,  1.59it/s]\u001b[A\n",
            "Iteration:  91% 468/513 [04:54<00:28,  1.59it/s]\u001b[A\n",
            "Iteration:  91% 469/513 [04:55<00:27,  1.59it/s]\u001b[A\n",
            "Iteration:  92% 470/513 [04:56<00:27,  1.59it/s]\u001b[A\n",
            "Iteration:  92% 471/513 [04:56<00:26,  1.59it/s]\u001b[A\n",
            "Iteration:  92% 472/513 [04:57<00:25,  1.59it/s]\u001b[A\n",
            "Iteration:  92% 473/513 [04:57<00:25,  1.59it/s]\u001b[A\n",
            "Iteration:  92% 474/513 [04:58<00:24,  1.59it/s]\u001b[A\n",
            "Iteration:  93% 475/513 [04:59<00:23,  1.59it/s]\u001b[A\n",
            "Iteration:  93% 476/513 [04:59<00:23,  1.59it/s]\u001b[A\n",
            "Iteration:  93% 477/513 [05:00<00:22,  1.58it/s]\u001b[A\n",
            "Iteration:  93% 478/513 [05:01<00:22,  1.58it/s]\u001b[A\n",
            "Iteration:  93% 479/513 [05:01<00:21,  1.59it/s]\u001b[A\n",
            "Iteration:  94% 480/513 [05:02<00:20,  1.59it/s]\u001b[A\n",
            "Iteration:  94% 481/513 [05:02<00:20,  1.59it/s]\u001b[A\n",
            "Iteration:  94% 482/513 [05:03<00:19,  1.59it/s]\u001b[A\n",
            "Iteration:  94% 483/513 [05:04<00:18,  1.59it/s]\u001b[A\n",
            "Iteration:  94% 484/513 [05:04<00:18,  1.59it/s]\u001b[A\n",
            "Iteration:  95% 485/513 [05:05<00:17,  1.59it/s]\u001b[A\n",
            "Iteration:  95% 486/513 [05:06<00:16,  1.59it/s]\u001b[A\n",
            "Iteration:  95% 487/513 [05:06<00:16,  1.59it/s]\u001b[A\n",
            "Iteration:  95% 488/513 [05:07<00:15,  1.59it/s]\u001b[A\n",
            "Iteration:  95% 489/513 [05:08<00:15,  1.59it/s]\u001b[A\n",
            "Iteration:  96% 490/513 [05:08<00:14,  1.59it/s]\u001b[A\n",
            "Iteration:  96% 491/513 [05:09<00:13,  1.58it/s]\u001b[A\n",
            "Iteration:  96% 492/513 [05:09<00:13,  1.59it/s]\u001b[A\n",
            "Iteration:  96% 493/513 [05:10<00:12,  1.59it/s]\u001b[A\n",
            "Iteration:  96% 494/513 [05:11<00:11,  1.59it/s]\u001b[A\n",
            "Iteration:  96% 495/513 [05:11<00:11,  1.59it/s]\u001b[A\n",
            "Iteration:  97% 496/513 [05:12<00:10,  1.59it/s]\u001b[A\n",
            "Iteration:  97% 497/513 [05:13<00:10,  1.59it/s]\u001b[A\n",
            "Iteration:  97% 498/513 [05:13<00:09,  1.59it/s]\u001b[A\n",
            "Iteration:  97% 499/513 [05:14<00:08,  1.59it/s]\u001b[A/usr/local/lib/python3.7/dist-packages/torch/optim/lr_scheduler.py:247: UserWarning: To get the last learning rate computed by the scheduler, please use `get_last_lr()`.\n",
            "  warnings.warn(\"To get the last learning rate computed by the scheduler, \"\n",
            "03/08/2021 21:26:23 - INFO - __main__ -   Saving model checkpoint to output_roberta_rev2/checkpoint-500\n",
            "03/08/2021 21:26:28 - INFO - __main__ -   Saving optimizer and scheduler states to output_roberta_rev2/checkpoint-500\n",
            "\n",
            "Iteration:  97% 500/513 [05:22<00:37,  2.86s/it]\u001b[A\n",
            "Iteration:  98% 501/513 [05:23<00:27,  2.28s/it]\u001b[A\n",
            "Iteration:  98% 502/513 [05:23<00:19,  1.78s/it]\u001b[A\n",
            "Iteration:  98% 503/513 [05:24<00:14,  1.43s/it]\u001b[A\n",
            "Iteration:  98% 504/513 [05:25<00:10,  1.19s/it]\u001b[A\n",
            "Iteration:  98% 505/513 [05:25<00:08,  1.02s/it]\u001b[A\n",
            "Iteration:  99% 506/513 [05:26<00:06,  1.11it/s]\u001b[A\n",
            "Iteration:  99% 507/513 [05:27<00:04,  1.23it/s]\u001b[A\n",
            "Iteration:  99% 508/513 [05:27<00:03,  1.32it/s]\u001b[A\n",
            "Iteration:  99% 509/513 [05:28<00:02,  1.40it/s]\u001b[A\n",
            "Iteration:  99% 510/513 [05:28<00:02,  1.46it/s]\u001b[A\n",
            "Iteration: 100% 511/513 [05:29<00:01,  1.50it/s]\u001b[A\n",
            "Iteration: 100% 512/513 [05:30<00:00,  1.53it/s]\u001b[A\n",
            "Iteration: 100% 513/513 [05:30<00:00,  1.55it/s]\n",
            "Epoch: 100% 1/1 [05:30<00:00, 330.47s/it]\n",
            "03/08/2021 21:26:36 - INFO - __main__ -    global_step = 513, average loss = 1.6794985158634\n",
            "03/08/2021 21:26:36 - INFO - __main__ -   Saving model checkpoint to output_roberta_rev2\n",
            "03/08/2021 21:26:49 - INFO - __main__ -   Evaluate the following checkpoints: ['output_roberta_rev2']\n",
            "03/08/2021 21:27:06 - INFO - __main__ -   Creating features from dataset file at \n",
            "03/08/2021 21:27:07 - INFO - __main__ -   Saving features into cached file roberta_cached_lm_510_test_text_rev2\n",
            "03/08/2021 21:27:07 - INFO - __main__ -   ***** Running evaluation  *****\n",
            "03/08/2021 21:27:07 - INFO - __main__ -     Num examples = 514\n",
            "03/08/2021 21:27:07 - INFO - __main__ -     Batch size = 4\n",
            "Evaluating: 100% 129/129 [00:29<00:00,  4.39it/s]\n",
            "03/08/2021 21:27:36 - INFO - __main__ -   ***** Eval results  *****\n",
            "03/08/2021 21:27:36 - INFO - __main__ -     perplexity = tensor(4.3553)\n",
            "03/08/2021 21:27:46 - WARNING - __main__ -   Process rank: -1, device: cuda, n_gpu: 1, distributed training: False, 16-bits training: False\n",
            "03/08/2021 21:28:13 - INFO - __main__ -   Training/evaluation parameters Namespace(adam_epsilon=1e-08, block_size=512, cache_dir=None, config_name=None, device=device(type='cuda'), do_eval=True, do_train=True, eval_all_checkpoints=False, eval_data_file='test_text_rev3', evaluate_during_training=False, fp16=False, fp16_opt_level='O1', gradient_accumulation_steps=1, learning_rate=5e-05, line_by_line=False, local_rank=-1, logging_steps=500, max_grad_norm=1.0, max_steps=-1, mlm=True, mlm_probability=0.15, model_name_or_path='roberta-base', model_type='roberta', n_gpu=1, no_cuda=False, num_train_epochs=1.0, output_dir='output_roberta_rev3', overwrite_cache=False, overwrite_output_dir=True, per_gpu_eval_batch_size=4, per_gpu_train_batch_size=4, save_steps=500, save_total_limit=None, seed=42, server_ip='', server_port='', should_continue=False, tokenizer_name=None, train_data_file='train_text_rev3', warmup_steps=0, weight_decay=0.0)\n",
            "03/08/2021 21:28:13 - INFO - __main__ -   Creating features from dataset file at \n",
            "03/08/2021 21:28:14 - INFO - __main__ -   Saving features into cached file roberta_cached_lm_510_train_text_rev3\n",
            "2021-03-08 21:28:16.503664: I tensorflow/stream_executor/platform/default/dso_loader.cc:49] Successfully opened dynamic library libcudart.so.11.0\n",
            "03/08/2021 21:28:20 - INFO - __main__ -   ***** Running training *****\n",
            "03/08/2021 21:28:20 - INFO - __main__ -     Num examples = 282\n",
            "03/08/2021 21:28:20 - INFO - __main__ -     Num Epochs = 1\n",
            "03/08/2021 21:28:20 - INFO - __main__ -     Instantaneous batch size per GPU = 4\n",
            "03/08/2021 21:28:20 - INFO - __main__ -     Total train batch size (w. parallel, distributed & accumulation) = 4\n",
            "03/08/2021 21:28:20 - INFO - __main__ -     Gradient Accumulation steps = 1\n",
            "03/08/2021 21:28:20 - INFO - __main__ -     Total optimization steps = 71\n",
            "Epoch:   0% 0/1 [00:00<?, ?it/s]\n",
            "Iteration:   0% 0/71 [00:00<?, ?it/s]\u001b[A\n",
            "Iteration:   1% 1/71 [00:00<00:49,  1.41it/s]\u001b[A\n",
            "Iteration:   3% 2/71 [00:01<00:46,  1.47it/s]\u001b[A\n",
            "Iteration:   4% 3/71 [00:01<00:44,  1.51it/s]\u001b[A\n",
            "Iteration:   6% 4/71 [00:02<00:43,  1.55it/s]\u001b[A\n",
            "Iteration:   7% 5/71 [00:03<00:42,  1.57it/s]\u001b[A\n",
            "Iteration:   8% 6/71 [00:03<00:41,  1.58it/s]\u001b[A\n",
            "Iteration:  10% 7/71 [00:04<00:40,  1.59it/s]\u001b[A\n",
            "Iteration:  11% 8/71 [00:05<00:39,  1.59it/s]\u001b[A\n",
            "Iteration:  13% 9/71 [00:05<00:38,  1.60it/s]\u001b[A\n",
            "Iteration:  14% 10/71 [00:06<00:38,  1.60it/s]\u001b[A\n",
            "Iteration:  15% 11/71 [00:06<00:37,  1.60it/s]\u001b[A\n",
            "Iteration:  17% 12/71 [00:07<00:36,  1.60it/s]\u001b[A\n",
            "Iteration:  18% 13/71 [00:08<00:36,  1.60it/s]\u001b[A\n",
            "Iteration:  20% 14/71 [00:08<00:35,  1.59it/s]\u001b[A\n",
            "Iteration:  21% 15/71 [00:09<00:35,  1.59it/s]\u001b[A\n",
            "Iteration:  23% 16/71 [00:10<00:34,  1.59it/s]\u001b[A\n",
            "Iteration:  24% 17/71 [00:10<00:33,  1.59it/s]\u001b[A\n",
            "Iteration:  25% 18/71 [00:11<00:33,  1.58it/s]\u001b[A\n",
            "Iteration:  27% 19/71 [00:11<00:33,  1.57it/s]\u001b[A\n",
            "Iteration:  28% 20/71 [00:12<00:32,  1.57it/s]\u001b[A\n",
            "Iteration:  30% 21/71 [00:13<00:31,  1.56it/s]\u001b[A\n",
            "Iteration:  31% 22/71 [00:13<00:31,  1.56it/s]\u001b[A\n",
            "Iteration:  32% 23/71 [00:14<00:30,  1.56it/s]\u001b[A\n",
            "Iteration:  34% 24/71 [00:15<00:30,  1.56it/s]\u001b[A\n",
            "Iteration:  35% 25/71 [00:15<00:29,  1.55it/s]\u001b[A\n",
            "Iteration:  37% 26/71 [00:16<00:28,  1.55it/s]\u001b[A\n",
            "Iteration:  38% 27/71 [00:17<00:28,  1.55it/s]\u001b[A\n",
            "Iteration:  39% 28/71 [00:17<00:27,  1.54it/s]\u001b[A\n",
            "Iteration:  41% 29/71 [00:18<00:27,  1.53it/s]\u001b[A\n",
            "Iteration:  42% 30/71 [00:19<00:26,  1.53it/s]\u001b[A\n",
            "Iteration:  44% 31/71 [00:19<00:26,  1.54it/s]\u001b[A\n",
            "Iteration:  45% 32/71 [00:20<00:25,  1.53it/s]\u001b[A\n",
            "Iteration:  46% 33/71 [00:21<00:24,  1.52it/s]\u001b[A\n",
            "Iteration:  48% 34/71 [00:21<00:24,  1.52it/s]\u001b[A\n",
            "Iteration:  49% 35/71 [00:22<00:23,  1.51it/s]\u001b[A\n",
            "Iteration:  51% 36/71 [00:23<00:23,  1.51it/s]\u001b[A\n",
            "Iteration:  52% 37/71 [00:23<00:22,  1.51it/s]\u001b[A\n",
            "Iteration:  54% 38/71 [00:24<00:21,  1.50it/s]\u001b[A\n",
            "Iteration:  55% 39/71 [00:25<00:21,  1.50it/s]\u001b[A\n",
            "Iteration:  56% 40/71 [00:25<00:20,  1.50it/s]\u001b[A\n",
            "Iteration:  58% 41/71 [00:26<00:20,  1.50it/s]\u001b[A\n",
            "Iteration:  59% 42/71 [00:27<00:19,  1.50it/s]\u001b[A\n",
            "Iteration:  61% 43/71 [00:27<00:18,  1.50it/s]\u001b[A\n",
            "Iteration:  62% 44/71 [00:28<00:18,  1.49it/s]\u001b[A\n",
            "Iteration:  63% 45/71 [00:29<00:17,  1.49it/s]\u001b[A\n",
            "Iteration:  65% 46/71 [00:29<00:16,  1.49it/s]\u001b[A\n",
            "Iteration:  66% 47/71 [00:30<00:16,  1.50it/s]\u001b[A\n",
            "Iteration:  68% 48/71 [00:31<00:15,  1.50it/s]\u001b[A\n",
            "Iteration:  69% 49/71 [00:31<00:14,  1.50it/s]\u001b[A\n",
            "Iteration:  70% 50/71 [00:32<00:13,  1.50it/s]\u001b[A\n",
            "Iteration:  72% 51/71 [00:33<00:13,  1.51it/s]\u001b[A\n",
            "Iteration:  73% 52/71 [00:33<00:12,  1.51it/s]\u001b[A\n",
            "Iteration:  75% 53/71 [00:34<00:11,  1.52it/s]\u001b[A\n",
            "Iteration:  76% 54/71 [00:35<00:11,  1.53it/s]\u001b[A\n",
            "Iteration:  77% 55/71 [00:35<00:10,  1.53it/s]\u001b[A\n",
            "Iteration:  79% 56/71 [00:36<00:09,  1.53it/s]\u001b[A\n",
            "Iteration:  80% 57/71 [00:36<00:09,  1.53it/s]\u001b[A\n",
            "Iteration:  82% 58/71 [00:37<00:08,  1.54it/s]\u001b[A\n",
            "Iteration:  83% 59/71 [00:38<00:07,  1.54it/s]\u001b[A\n",
            "Iteration:  85% 60/71 [00:38<00:07,  1.55it/s]\u001b[A\n",
            "Iteration:  86% 61/71 [00:39<00:06,  1.55it/s]\u001b[A\n",
            "Iteration:  87% 62/71 [00:40<00:05,  1.56it/s]\u001b[A\n",
            "Iteration:  89% 63/71 [00:40<00:05,  1.56it/s]\u001b[A\n",
            "Iteration:  90% 64/71 [00:41<00:04,  1.56it/s]\u001b[A\n",
            "Iteration:  92% 65/71 [00:42<00:03,  1.56it/s]\u001b[A\n",
            "Iteration:  93% 66/71 [00:42<00:03,  1.56it/s]\u001b[A\n",
            "Iteration:  94% 67/71 [00:43<00:02,  1.56it/s]\u001b[A\n",
            "Iteration:  96% 68/71 [00:44<00:01,  1.57it/s]\u001b[A\n",
            "Iteration:  97% 69/71 [00:44<00:01,  1.57it/s]\u001b[A\n",
            "Iteration:  99% 70/71 [00:45<00:00,  1.58it/s]\u001b[A\n",
            "Iteration: 100% 71/71 [00:45<00:00,  1.56it/s]\n",
            "Epoch: 100% 1/1 [00:45<00:00, 45.63s/it]\n",
            "03/08/2021 21:29:05 - INFO - __main__ -    global_step = 71, average loss = 1.8362395461176482\n",
            "03/08/2021 21:29:05 - INFO - __main__ -   Saving model checkpoint to output_roberta_rev3\n",
            "03/08/2021 21:29:13 - INFO - __main__ -   Evaluate the following checkpoints: ['output_roberta_rev3']\n",
            "03/08/2021 21:29:28 - INFO - __main__ -   Creating features from dataset file at \n",
            "03/08/2021 21:29:29 - INFO - __main__ -   Saving features into cached file roberta_cached_lm_510_test_text_rev3\n",
            "03/08/2021 21:29:29 - INFO - __main__ -   ***** Running evaluation  *****\n",
            "03/08/2021 21:29:29 - INFO - __main__ -     Num examples = 70\n",
            "03/08/2021 21:29:29 - INFO - __main__ -     Batch size = 4\n",
            "Evaluating: 100% 18/18 [00:03<00:00,  4.89it/s]\n",
            "03/08/2021 21:29:32 - INFO - __main__ -   ***** Eval results  *****\n",
            "03/08/2021 21:29:32 - INFO - __main__ -     perplexity = tensor(5.3788)\n"
          ],
          "name": "stdout"
        }
      ]
    },
    {
      "cell_type": "code",
      "metadata": {
        "colab": {
          "base_uri": "https://localhost:8080/"
        },
        "id": "F2qhFTBAtPga",
        "outputId": "3882827a-7b02-41b3-99b3-6fad34c293f0"
      },
      "source": [
        "from transformers import RobertaConfig, RobertaModel, RobertaTokenizer\n",
        "\n",
        "roberta_1_model_embedding = RobertaModel.from_pretrained('output_roberta_rev1')\n",
        "roberta_1_tokenizer = RobertaTokenizer.from_pretrained('output_roberta_rev1')\n",
        "roberta_2_model_embedding = RobertaModel.from_pretrained('output_roberta_rev2')\n",
        "roberta_2_tokenizer = RobertaTokenizer.from_pretrained('output_roberta_rev2')\n",
        "roberta_3_model_embedding = RobertaModel.from_pretrained('output_roberta_rev3')\n",
        "roberta_3_tokenizer = RobertaTokenizer.from_pretrained('output_roberta_rev3')"
      ],
      "execution_count": 110,
      "outputs": [
        {
          "output_type": "stream",
          "text": [
            "Some weights of RobertaModel were not initialized from the model checkpoint at output_roberta_rev1 and are newly initialized: ['roberta.pooler.dense.weight', 'roberta.pooler.dense.bias']\n",
            "You should probably TRAIN this model on a down-stream task to be able to use it for predictions and inference.\n",
            "Some weights of RobertaModel were not initialized from the model checkpoint at output_roberta_rev2 and are newly initialized: ['roberta.pooler.dense.weight', 'roberta.pooler.dense.bias']\n",
            "You should probably TRAIN this model on a down-stream task to be able to use it for predictions and inference.\n",
            "Some weights of RobertaModel were not initialized from the model checkpoint at output_roberta_rev3 and are newly initialized: ['roberta.pooler.dense.weight', 'roberta.pooler.dense.bias']\n",
            "You should probably TRAIN this model on a down-stream task to be able to use it for predictions and inference.\n"
          ],
          "name": "stderr"
        }
      ]
    },
    {
      "cell_type": "code",
      "metadata": {
        "colab": {
          "base_uri": "https://localhost:8080/",
          "height": 1000
        },
        "id": "4H0RBCLAtWr7",
        "outputId": "d8dfa750-b494-4651-e000-924ceb72d316"
      },
      "source": [
        "text = \"amazing beautiful high great recommend\"\n",
        "print(\"amazing beautiful high great recommend\")\n",
        "import seaborn as sns\n",
        "from scipy.spatial.distance import cosine\n",
        "\n",
        "def word_vector(text, word_id, model, tokenizer):\n",
        "    marked_text = \"[CLS] \" + text + \" [SEP]\"\n",
        "    tokenized_text = tokenizer.tokenize(marked_text)\n",
        "    indexed_tokens = tokenizer.convert_tokens_to_ids(tokenized_text)\n",
        "    tokens_tensor = torch.tensor([indexed_tokens])\n",
        "    output = model(tokens_tensor)\n",
        "    word_embeddings, sentence_embeddings = output[0], output[1]   \n",
        "    vector = word_embeddings[0][word_id].detach().numpy()\n",
        "    return vector\n",
        "def visualise_diffs(text, model, tokenizer):\n",
        "    word_vecs = []\n",
        "    for i in range(0, len(text.split())):\n",
        "        word_vecs.append(word_vector(text, i, model, tokenizer))\n",
        "    L = []\n",
        "    for p in word_vecs:\n",
        "        l = []\n",
        "        for q in word_vecs:\n",
        "            l.append(1 - cosine(p, q))\n",
        "        L.append(l)\n",
        "    M = np.array(L)\n",
        "    fig = plt.figure()\n",
        "    div = pd.DataFrame(M, columns = list(text.split()), index = list(text.split()))\n",
        "    ax = sns.heatmap(div, cmap=\"YlGnBu\")\n",
        "    plt.show()\n",
        "\n",
        "print(\" \")\n",
        "print(\"For neutral reviews: \")\n",
        "visualise_diffs(text, roberta_1_model_embedding, roberta_1_tokenizer)\n",
        "print(\"For postive reviews: \")\n",
        "visualise_diffs(text, roberta_2_model_embedding, roberta_2_tokenizer)\n",
        "print(\"For negative reviews: \")\n",
        "visualise_diffs(text, roberta_3_model_embedding, roberta_3_tokenizer)"
      ],
      "execution_count": 115,
      "outputs": [
        {
          "output_type": "stream",
          "text": [
            "amazing beautiful high great recommend\n",
            " \n",
            "For neutral reviews: \n"
          ],
          "name": "stdout"
        },
        {
          "output_type": "display_data",
          "data": {
            "image/png": "[encoded data removed]",
            "text/plain": [
              "<Figure size 864x432 with 2 Axes>"
            ]
          },
          "metadata": {
            "tags": []
          }
        },
        {
          "output_type": "stream",
          "text": [
            "For postive reviews: \n"
          ],
          "name": "stdout"
        },
        {
          "output_type": "display_data",
          "data": {
            "image/png": "[encoded data removed]",
            "text/plain": [
              "<Figure size 864x432 with 2 Axes>"
            ]
          },
          "metadata": {
            "tags": []
          }
        },
        {
          "output_type": "stream",
          "text": [
            "For negative reviews: \n"
          ],
          "name": "stdout"
        },
        {
          "output_type": "display_data",
          "data": {
            "image/png": "[encoded data removed]",
            "text/plain": [
              "<Figure size 864x432 with 2 Axes>"
            ]
          },
          "metadata": {
            "tags": []
          }
        }
      ]
    },
    {
      "cell_type": "code",
      "metadata": {
        "colab": {
          "base_uri": "https://localhost:8080/",
          "height": 1000
        },
        "id": "WNR77_8vtr2X",
        "outputId": "8c6f9c2f-6042-47e9-d464-667216793b6e"
      },
      "source": [
        "text = \"ugly uncomfortable worst poor avoid\"\n",
        "print(\"ugly uncomfortable worst poor avoid\")\n",
        "\n",
        "print(\" \")\n",
        "print(\"For neutral reviews: \")\n",
        "visualise_diffs(text, roberta_1_model_embedding, roberta_1_tokenizer)\n",
        "print(\"For postive reviews: \")\n",
        "visualise_diffs(text, roberta_2_model_embedding, roberta_2_tokenizer)\n",
        "print(\"For negative reviews: \")\n",
        "visualise_diffs(text, roberta_3_model_embedding, roberta_3_tokenizer)"
      ],
      "execution_count": 116,
      "outputs": [
        {
          "output_type": "stream",
          "text": [
            "ugly uncomfortable worst poor avoid\n",
            " \n",
            "For neutral reviews: \n"
          ],
          "name": "stdout"
        },
        {
          "output_type": "display_data",
          "data": {
            "image/png": "[encoded data removed]",
            "text/plain": [
              "<Figure size 864x432 with 2 Axes>"
            ]
          },
          "metadata": {
            "tags": []
          }
        },
        {
          "output_type": "stream",
          "text": [
            "For postive reviews: \n"
          ],
          "name": "stdout"
        },
        {
          "output_type": "display_data",
          "data": {
            "image/png": "[encoded data removed]",
            "text/plain": [
              "<Figure size 864x432 with 2 Axes>"
            ]
          },
          "metadata": {
            "tags": []
          }
        },
        {
          "output_type": "stream",
          "text": [
            "For negative reviews: \n"
          ],
          "name": "stdout"
        },
        {
          "output_type": "display_data",
          "data": {
            "image/png": "[encoded data removed]",
            "text/plain": [
              "<Figure size 864x432 with 2 Axes>"
            ]
          },
          "metadata": {
            "tags": []
          }
        }
      ]
    },
    {
      "cell_type": "code",
      "metadata": {
        "colab": {
          "base_uri": "https://localhost:8080/",
          "height": 1000
        },
        "id": "jPExenA3t_bT",
        "outputId": "6f6676d7-d7a1-4654-a7c6-ac259a637c80"
      },
      "source": [
        "text = \"ok plain common usual general ecumenical\"\n",
        "print(\"ok plain common usual general ecumenical\")\n",
        "\n",
        "print(\" \")\n",
        "print(\"For neutral reviews: \")\n",
        "visualise_diffs(text, roberta_1_model_embedding, roberta_1_tokenizer)\n",
        "print(\"For postive reviews: \")\n",
        "visualise_diffs(text, roberta_2_model_embedding, roberta_2_tokenizer)\n",
        "print(\"For negative reviews: \")\n",
        "visualise_diffs(text, roberta_3_model_embedding, roberta_3_tokenizer)"
      ],
      "execution_count": 117,
      "outputs": [
        {
          "output_type": "stream",
          "text": [
            "ok plain common usual general ecumenical\n",
            " \n",
            "For neutral reviews: \n"
          ],
          "name": "stdout"
        },
        {
          "output_type": "display_data",
          "data": {
            "image/png": "[encoded data removed]",
            "text/plain": [
              "<Figure size 864x432 with 2 Axes>"
            ]
          },
          "metadata": {
            "tags": []
          }
        },
        {
          "output_type": "stream",
          "text": [
            "For postive reviews: \n"
          ],
          "name": "stdout"
        },
        {
          "output_type": "display_data",
          "data": {
            "image/png": "[encoded data removed]",
            "text/plain": [
              "<Figure size 864x432 with 2 Axes>"
            ]
          },
          "metadata": {
            "tags": []
          }
        },
        {
          "output_type": "stream",
          "text": [
            "For negative reviews: \n"
          ],
          "name": "stdout"
        },
        {
          "output_type": "display_data",
          "data": {
            "image/png": "[encoded data removed]",
            "text/plain": [
              "<Figure size 864x432 with 2 Axes>"
            ]
          },
          "metadata": {
            "tags": []
          }
        }
      ]
    },
    {
      "cell_type": "markdown",
      "metadata": {
        "id": "Px4lLS__u-XN"
      },
      "source": [
        "The three models are respectively trained from reviews that received neutral (=3), positive (>=4), and negative (<=2) ratings. According to the heatmaps generated, we cannot tell the differences between the similarities between these keywords in the all three dataset. In addition, the similarities between keywords are relatively high - the similarity rate being around 0.8. This suggests that these words occur frequently in reviews with all ratings and the model cannot distinguish between these words trained from different datasets. "
      ]
    },
    {
      "cell_type": "code",
      "metadata": {
        "id": "hYEwUapKwzFq"
      },
      "source": [
        ""
      ],
      "execution_count": null,
      "outputs": []
    }
  ]
}